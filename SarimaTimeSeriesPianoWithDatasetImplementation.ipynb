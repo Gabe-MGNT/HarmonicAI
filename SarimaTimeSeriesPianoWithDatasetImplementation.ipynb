{
  "nbformat": 4,
  "nbformat_minor": 0,
  "metadata": {
    "colab": {
      "provenance": [],
      "gpuType": "T4"
    },
    "kernelspec": {
      "name": "python3",
      "display_name": "Python 3"
    },
    "language_info": {
      "name": "python"
    },
    "accelerator": "GPU"
  },
  "cells": [
    {
      "cell_type": "code",
      "execution_count": null,
      "metadata": {
        "id": "wLez1Slaaydy"
      },
      "outputs": [],
      "source": [
        "from music21 import converter, instrument, note, chord, stream\n",
        "import numpy\n",
        "from matplotlib import pyplot as plt\n",
        "import keras\n",
        "from sklearn.preprocessing import OneHotEncoder\n",
        "from keras import Sequential, Model\n",
        "from keras.layers import LSTM, Dropout, Dense, Activation, Input, concatenate\n",
        "import pandas as pd\n",
        "from tensorflow.keras.layers import Input, Dense, Dropout\n",
        "import os\n",
        "from tensorflow.keras.models import Model\n",
        "from tensorflow.keras.layers import MultiHeadAttention, LayerNormalization, Embedding\n",
        "import tensorflow as tf\n",
        "from tqdm import tqdm\n",
        "import numpy as np"
      ]
    },
    {
      "cell_type": "code",
      "source": [
        "!unzip dataset.zip"
      ],
      "metadata": {
        "id": "jMOiwvUEduhe",
        "colab": {
          "base_uri": "https://localhost:8080/"
        },
        "outputId": "62614b90-ad85-4b2a-ba75-b2d44b65ee0f"
      },
      "execution_count": null,
      "outputs": [
        {
          "output_type": "stream",
          "name": "stdout",
          "text": [
            "Archive:  dataset.zip\n",
            "   creating: dataset/\n",
            "   creating: dataset/chopin/\n",
            "  inflating: dataset/chopin/chpn-p12.mid  \n",
            "  inflating: dataset/chopin/chpn-p15.mid  \n",
            "  inflating: dataset/chopin/chpn-p16.mid  \n",
            "  inflating: dataset/chopin/chpn-p17.mid  \n",
            "  inflating: dataset/chopin/chpn-p18.mid  \n",
            "  inflating: dataset/chopin/chpn-p19.mid  \n",
            "  inflating: dataset/chopin/chpn-p20.mid  \n",
            "  inflating: dataset/chopin/chpn-p21.mid  \n",
            "  inflating: dataset/chopin/chpn-p22.mid  \n",
            "  inflating: dataset/chopin/chpn-p23.mid  \n",
            "  inflating: dataset/chopin/chpn-p24.mid  \n",
            "  inflating: dataset/chopin/chpn-p7.mid  \n",
            "  inflating: dataset/chopin/chpn_op10_e01.mid  \n",
            "  inflating: dataset/chopin/chpn_op10_e05.mid  \n",
            "  inflating: dataset/chopin/chpn_op10_e12.mid  \n",
            "  inflating: dataset/chopin/chpn_op23.mid  \n",
            "  inflating: dataset/chopin/chpn_op25_e1.mid  \n",
            "  inflating: dataset/chopin/chpn_op25_e2.mid  \n",
            "  inflating: dataset/chopin/chpn_op25_e3.mid  \n",
            "  inflating: dataset/chopin/chpn_op25_e4.mid  \n",
            "  inflating: dataset/chopin/chpn_op27_1.mid  \n",
            "  inflating: dataset/chopin/chpn_op33_2.mid  \n",
            "  inflating: dataset/chopin/chpn_op35_1.mid  \n",
            "  inflating: dataset/chopin/chpn_op7_1 (1).mid  \n",
            "  inflating: dataset/chopin/chp_op18.mid  \n",
            "  inflating: dataset/chopin/chp_op31.mid  \n",
            "   creating: dataset/schubert/\n",
            "  inflating: dataset/schubert/schubert_D850_1.mid  \n",
            "  inflating: dataset/schubert/schubert_D850_2.mid  \n",
            "  inflating: dataset/schubert/schubert_D850_3.mid  \n",
            "  inflating: dataset/schubert/schubert_D850_4.mid  \n",
            "  inflating: dataset/schubert/schubert_D935_1.mid  \n",
            "  inflating: dataset/schubert/schubert_D935_2.mid  \n",
            "  inflating: dataset/schubert/schubert_D935_3.mid  \n",
            "  inflating: dataset/schubert/schub_d760_1.mid  \n",
            "  inflating: dataset/schubert/schub_d760_2.mid  \n",
            "  inflating: dataset/schubert/schub_d760_3.mid  \n",
            "  inflating: dataset/schubert/schub_d760_4.mid  \n",
            "  inflating: dataset/schubert/schuim-1.mid  \n",
            "  inflating: dataset/schubert/schuim-2.mid  \n",
            "  inflating: dataset/schubert/schuim-3.mid  \n",
            "  inflating: dataset/schubert/schuim-4.mid  \n",
            "  inflating: dataset/schubert/schumm-1.mid  \n",
            "  inflating: dataset/schubert/schumm-2.mid  \n",
            "  inflating: dataset/schubert/schumm-3.mid  \n",
            "  inflating: dataset/schubert/schumm-4.mid  \n",
            "  inflating: dataset/schubert/schumm-5.mid  \n",
            "  inflating: dataset/schubert/schumm-6.mid  \n",
            "  inflating: dataset/schubert/schu_143_1.mid  \n",
            "  inflating: dataset/schubert/schu_143_2.mid  \n",
            "  inflating: dataset/schubert/schu_143_3.mid  \n"
          ]
        }
      ]
    },
    {
      "cell_type": "code",
      "source": [
        "def get_notes(midi):\n",
        "  notes = []\n",
        "  for element in midi.flatten().notesAndRests:\n",
        "    if isinstance(element , note.Note):\n",
        "      notes.append((float(element.offset), float(element.volume.velocity),float(element.seconds), str(element.pitch)))\n",
        "    elif isinstance(element, chord.Chord):\n",
        "      notes.append((float(element.offset), float(element.volume.velocity), float(element.seconds), '+'.join(str(n) for n in element.normalOrder)))\n",
        "    elif isinstance(element, note.Rest):\n",
        "        # Bizarre car main gauche et droite flatten (réunie)\n",
        "        # Voir autre implémentation\n",
        "        #notes.append((float(element.offset), 0,float(element.seconds), \"REST\"))\n",
        "        pass\n",
        "  return notes\n",
        "\n"
      ],
      "metadata": {
        "id": "ltEonII2gWg0"
      },
      "execution_count": null,
      "outputs": []
    },
    {
      "cell_type": "code",
      "source": [
        "midi = converter.parse(\"/content/dataset/chopin/chp_op18.mid\")"
      ],
      "metadata": {
        "colab": {
          "base_uri": "https://localhost:8080/"
        },
        "id": "zMx3zqEUB6jX",
        "outputId": "86ea8bfd-7e53-40a2-887f-1d8493e35bc9"
      },
      "execution_count": null,
      "outputs": [
        {
          "output_type": "stream",
          "name": "stderr",
          "text": [
            "/usr/local/lib/python3.10/dist-packages/music21/midi/translate.py:874: TranslateWarning: Unable to determine instrument from <music21.midi.MidiEvent SEQUENCE_TRACK_NAME, track=4, channel=None, data=b'Copyright \\xa9 1997 by Bernd Kr\\xfcger'>; getting generic Instrument\n",
            "  warnings.warn(\n"
          ]
        }
      ]
    },
    {
      "cell_type": "code",
      "source": [
        "for element in midi.parts:\n",
        "    if \"left\" in element.partName:\n",
        "      notes = get_notes(element)"
      ],
      "metadata": {
        "id": "fgwu03CKB_k3"
      },
      "execution_count": null,
      "outputs": []
    },
    {
      "cell_type": "code",
      "source": [
        "input_note, output_note = [], []\n",
        "input_offset, output_offset = [], []\n",
        "input_volume, output_volume = [], []\n",
        "input_duration, output_duration = [], []\n",
        "\n",
        "\n",
        "\n",
        "sequence_length = 50\n",
        "note_all_songs = []\n",
        "for folder in tqdm(os.walk(\"dataset\")):\n",
        "    if len(folder) != 3:\n",
        "      continue\n",
        "    else:\n",
        "      for file in folder[2][:5]:\n",
        "        file_path = str(folder[0])+\"/\"+file\n",
        "\n",
        "        # convertit la piste midi\n",
        "        midi = converter.parse(file_path)\n",
        "\n",
        "\n",
        "        # récupère les notes, volume, dureées...\n",
        "        notes = get_notes(midi)\n",
        "\n",
        "        # ajoute à une liste globale\n",
        "        note_all_songs.append(notes)"
      ],
      "metadata": {
        "id": "nUvY0NWPd79V",
        "colab": {
          "base_uri": "https://localhost:8080/"
        },
        "outputId": "f32e3648-ff9d-4a03-bd7e-6d928171c03d"
      },
      "execution_count": null,
      "outputs": [
        {
          "output_type": "stream",
          "name": "stderr",
          "text": [
            "\r0it [00:00, ?it/s]/usr/local/lib/python3.10/dist-packages/music21/midi/translate.py:874: TranslateWarning: Unable to determine instrument from <music21.midi.MidiEvent SEQUENCE_TRACK_NAME, track=5, channel=None, data=b'Copyright \\xa9 2010 by Bernd Krueger'>; getting generic Instrument\n",
            "  warnings.warn(\n",
            "/usr/local/lib/python3.10/dist-packages/music21/midi/translate.py:874: TranslateWarning: Unable to determine instrument from <music21.midi.MidiEvent SEQUENCE_TRACK_NAME, track=5, channel=None, data=b'Copyright \\xa9 2007 by Bernd Krueger'>; getting generic Instrument\n",
            "  warnings.warn(\n",
            "/usr/local/lib/python3.10/dist-packages/music21/midi/translate.py:874: TranslateWarning: Unable to determine instrument from <music21.midi.MidiEvent SEQUENCE_TRACK_NAME, track=4, channel=None, data=b'Copyright \\xa9 1997 by Bernd Krueger'>; getting generic Instrument\n",
            "  warnings.warn(\n",
            "2it [01:07, 33.62s/it]/usr/local/lib/python3.10/dist-packages/music21/midi/translate.py:874: TranslateWarning: Unable to determine instrument from <music21.midi.MidiEvent SEQUENCE_TRACK_NAME, track=4, channel=None, data=b'Copyright \\xa9 2002 by Bernd Krueger'>; getting generic Instrument\n",
            "  warnings.warn(\n",
            "/usr/local/lib/python3.10/dist-packages/music21/midi/translate.py:874: TranslateWarning: Unable to determine instrument from <music21.midi.MidiEvent SEQUENCE_TRACK_NAME, track=0, channel=None, data=b'Et\\xfcde Nr. 12'>; getting generic Instrument\n",
            "  warnings.warn(\n",
            "/usr/local/lib/python3.10/dist-packages/music21/midi/translate.py:874: TranslateWarning: Unable to determine instrument from <music21.midi.MidiEvent SEQUENCE_TRACK_NAME, track=5, channel=None, data=b'Copyright \\xa9 1999 by Bernd Kr\\xfcger'>; getting generic Instrument\n",
            "  warnings.warn(\n",
            "/usr/local/lib/python3.10/dist-packages/music21/midi/translate.py:874: TranslateWarning: Unable to determine instrument from <music21.midi.MidiEvent SEQUENCE_TRACK_NAME, track=0, channel=None, data=b'Et\\xfcde Opus 10 No. 5'>; getting generic Instrument\n",
            "  warnings.warn(\n",
            "/usr/local/lib/python3.10/dist-packages/music21/midi/translate.py:874: TranslateWarning: Unable to determine instrument from <music21.midi.MidiEvent SEQUENCE_TRACK_NAME, track=4, channel=None, data=b'Copyright \\xa9 1999 by Bernd Kr\\xfcger'>; getting generic Instrument\n",
            "  warnings.warn(\n",
            "3it [01:24, 28.02s/it]\n"
          ]
        }
      ]
    },
    {
      "cell_type": "code",
      "source": [
        "# fais un dataframe à partir de toutes les notes (sans distinctions)\n",
        "df = pd.DataFrame([], columns=['debut_note','volume','durée(s)', 'pitch/chord'])\n",
        "df = df.reset_index(drop=True)\n",
        "for elem in note_all_songs:\n",
        "    df2 = pd.DataFrame(elem, columns=['debut_note','volume','durée(s)', 'pitch/chord'])\n",
        "    df2 = df2.reset_index(drop=True)\n",
        "    df =pd.concat([df,df2])\n",
        "    df = df.reset_index(drop=True)"
      ],
      "metadata": {
        "id": "_bRdnkH6OdJA"
      },
      "execution_count": null,
      "outputs": []
    },
    {
      "cell_type": "code",
      "source": [
        "\n",
        "def check_pitch(x):\n",
        "  if ('+' in x) or x.isdigit():\n",
        "        notes_in_chord = x.split('+')\n",
        "        notes = []\n",
        "        for current_note in notes_in_chord:\n",
        "            new_note = note.Note(int(current_note))\n",
        "            new_note.storedInstrument = instrument.Piano()\n",
        "            notes.append(new_note)\n",
        "        new_chord =chord.Chord(notes).pitches[0].midi\n",
        "        return new_chord\n",
        "    # pattern is a note\n",
        "  elif (\"REST\" in x):\n",
        "    return 0\n",
        "  else:\n",
        "        new_note = note.Note(x).pitch.midi\n",
        "        return new_note\n",
        "df['MIDI Pitch'] = df['pitch/chord'].apply(lambda x: check_pitch(x))\n"
      ],
      "metadata": {
        "id": "NTu-UpaAALzf"
      },
      "execution_count": null,
      "outputs": []
    },
    {
      "cell_type": "code",
      "source": [
        "notes"
      ],
      "metadata": {
        "id": "4Gcsb84HDCLG"
      },
      "execution_count": null,
      "outputs": []
    },
    {
      "cell_type": "code",
      "source": [
        "import statsmodels.api as sm\n",
        "\n",
        "df = pd.DataFrame(notes, columns=['debut_note','volume','durée(s)', 'pitch/chord'])\n",
        "df['MIDI Pitch'] = df['pitch/chord'].apply(lambda x: check_pitch(x))\n",
        "\n",
        "note_model = sm.tsa.ARIMA(df['MIDI Pitch'])\n",
        "\n",
        "note_results = note_model.fit()"
      ],
      "metadata": {
        "colab": {
          "base_uri": "https://localhost:8080/",
          "height": 245
        },
        "id": "u5kNUkXk_zw6",
        "outputId": "d20b4ce1-f894-4de5-9984-51d468278b3b"
      },
      "execution_count": null,
      "outputs": [
        {
          "output_type": "error",
          "ename": "NameError",
          "evalue": "ignored",
          "traceback": [
            "\u001b[0;31m---------------------------------------------------------------------------\u001b[0m",
            "\u001b[0;31mNameError\u001b[0m                                 Traceback (most recent call last)",
            "\u001b[0;32m<ipython-input-51-919b8405a6b7>\u001b[0m in \u001b[0;36m<cell line: 6>\u001b[0;34m()\u001b[0m\n\u001b[1;32m      4\u001b[0m \u001b[0mdf\u001b[0m\u001b[0;34m[\u001b[0m\u001b[0;34m'MIDI Pitch'\u001b[0m\u001b[0;34m]\u001b[0m \u001b[0;34m=\u001b[0m \u001b[0mdf\u001b[0m\u001b[0;34m[\u001b[0m\u001b[0;34m'pitch/chord'\u001b[0m\u001b[0;34m]\u001b[0m\u001b[0;34m.\u001b[0m\u001b[0mapply\u001b[0m\u001b[0;34m(\u001b[0m\u001b[0;32mlambda\u001b[0m \u001b[0mx\u001b[0m\u001b[0;34m:\u001b[0m \u001b[0mcheck_pitch\u001b[0m\u001b[0;34m(\u001b[0m\u001b[0mx\u001b[0m\u001b[0;34m)\u001b[0m\u001b[0;34m)\u001b[0m\u001b[0;34m\u001b[0m\u001b[0;34m\u001b[0m\u001b[0m\n\u001b[1;32m      5\u001b[0m \u001b[0;34m\u001b[0m\u001b[0m\n\u001b[0;32m----> 6\u001b[0;31m \u001b[0mnote_model\u001b[0m \u001b[0;34m=\u001b[0m \u001b[0msm\u001b[0m\u001b[0;34m.\u001b[0m\u001b[0mtsa\u001b[0m\u001b[0;34m.\u001b[0m\u001b[0mARIMA\u001b[0m\u001b[0;34m(\u001b[0m\u001b[0mdf\u001b[0m\u001b[0;34m[\u001b[0m\u001b[0;34m'MIDI Pitch'\u001b[0m\u001b[0;34m]\u001b[0m\u001b[0;34m,\u001b[0m \u001b[0morder\u001b[0m\u001b[0;34m=\u001b[0m\u001b[0;34m(\u001b[0m\u001b[0mp\u001b[0m\u001b[0;34m,\u001b[0m \u001b[0md\u001b[0m\u001b[0;34m,\u001b[0m \u001b[0mq\u001b[0m\u001b[0;34m)\u001b[0m\u001b[0;34m)\u001b[0m\u001b[0;34m\u001b[0m\u001b[0;34m\u001b[0m\u001b[0m\n\u001b[0m\u001b[1;32m      7\u001b[0m \u001b[0;34m\u001b[0m\u001b[0m\n\u001b[1;32m      8\u001b[0m \u001b[0mnote_results\u001b[0m \u001b[0;34m=\u001b[0m \u001b[0mnote_model\u001b[0m\u001b[0;34m.\u001b[0m\u001b[0mfit\u001b[0m\u001b[0;34m(\u001b[0m\u001b[0;34m)\u001b[0m\u001b[0;34m\u001b[0m\u001b[0;34m\u001b[0m\u001b[0m\n",
            "\u001b[0;31mNameError\u001b[0m: name 'p' is not defined"
          ]
        }
      ]
    },
    {
      "cell_type": "code",
      "source": [
        "for p in range(0,10):\n",
        "    for q in range(0,10):\n",
        "        for d in range(0,10):\n",
        "            mod = sm.tsa.ARIMA(df['MIDI Pitch'], order=(p,d,q))\n",
        "            res = mod.fit()\n",
        "            print(\"p={}, d={}, q={} --> AICc = {}\".format(p,d,q, res.aicc))\n"
      ],
      "metadata": {
        "id": "EzkjPR7ZEGTJ"
      },
      "execution_count": null,
      "outputs": []
    },
    {
      "cell_type": "code",
      "source": [
        "n_periods = 10\n",
        "note_results = sm.tsa.ARIMA(df['MIDI Pitch'], order=(0,6,5)).fit()\n",
        "note_forecast = note_results.forecast(steps=n_periods)\n",
        "\n",
        "plt.scatter(x=range(0, len(df)), y=df['MIDI Pitch'],  label='Note')\n",
        "plt.scatter(x=range(len(df),len(df)+10), y=note_forecast,  label='Note prédite')\n",
        "plt.legend()\n",
        "plt.show()"
      ],
      "metadata": {
        "colab": {
          "base_uri": "https://localhost:8080/",
          "height": 500
        },
        "id": "ttc2G5jnAare",
        "outputId": "46b7bec0-cb96-43b1-fa38-fb73ead247a6"
      },
      "execution_count": null,
      "outputs": [
        {
          "output_type": "stream",
          "name": "stderr",
          "text": [
            "/usr/local/lib/python3.10/dist-packages/statsmodels/base/model.py:607: ConvergenceWarning: Maximum Likelihood optimization failed to converge. Check mle_retvals\n",
            "  warnings.warn(\"Maximum Likelihood optimization failed to \"\n"
          ]
        },
        {
          "output_type": "display_data",
          "data": {
            "text/plain": [
              "<Figure size 640x480 with 1 Axes>"
            ],
            "image/png": "[encoded data removed]"
          },
          "metadata": {
            "image/png": {
              "width": 534,
              "height": 428
            }
          }
        }
      ]
    },
    {
      "cell_type": "code",
      "source": [
        "#train les encoders pour les notes, volumes et durées en catégorielles (one hot)\n",
        "# sur intégralité des données (obligé)\n",
        "oh_notes =  OneHotEncoder().fit(df[['pitch/chord']])\n",
        "\n",
        "\n",
        "# seuil/catégories modifiable\n",
        "df[\"volume_class\"] = pd.cut(df[\"volume\"], bins=[0,10,30,50,70,90,127], labels=[\"very low\", \"low\", \"low medium\", \"medium\", \"high\", \"very high\"])\n",
        "oh_volume =  OneHotEncoder().fit(df[['volume_class']])\n",
        "\n",
        "df[\"duration_class\"] = pd.cut(df[\"durée(s)\"], bins=[0, 0.1, 0.25, 0.5, 0.75, 1, 1.5,df[\"durée(s)\"].max()], labels=[\"very short\", \"short\", \"medium\", \"medium-long\", \"long\", \"very long\", \"super mega long\"])\n",
        "oh_duration =  OneHotEncoder().fit(df[['duration_class']])\n"
      ],
      "metadata": {
        "id": "sJ6s6EG-UTLz"
      },
      "execution_count": null,
      "outputs": []
    },
    {
      "cell_type": "code",
      "source": [
        "def prepare_sequence(data, sequence_length, network_input, network_output):\n",
        "  # create input sequences and the corresponding outputs\n",
        "  for i in range(0, len(data) - sequence_length, 1):\n",
        "      sequence_in = data[i:i + sequence_length]\n",
        "      sequence_out = data[i + sequence_length]\n",
        "      network_input.append(sequence_in)\n",
        "      network_output.append(sequence_out)\n",
        "  return (network_input, network_output)\n",
        "\n",
        "def reshape_array_input(array_tensor, sequence_length):\n",
        "  n_patterns = len(array_tensor)\n",
        "  array_reshaped = numpy.reshape(array_tensor, (n_patterns, sequence_length, -1))\n",
        "  return array_reshaped\n",
        "\n",
        "def reshape_array_output(array_tensor, sequence_length):\n",
        "  n_patterns = len(array_tensor)\n",
        "  array_reshaped = numpy.reshape(array_tensor, (len(array_tensor), -1))\n",
        "  return array_reshaped\n"
      ],
      "metadata": {
        "id": "2Z_CqsKBicHH"
      },
      "execution_count": null,
      "outputs": []
    },
    {
      "cell_type": "code",
      "source": [
        "sequence_length = 100"
      ],
      "metadata": {
        "id": "tqK33V-UjsOn"
      },
      "execution_count": null,
      "outputs": []
    },
    {
      "cell_type": "code",
      "source": [
        "input_note, output_note = [], []\n",
        "input_volume, output_volume = [], []\n",
        "input_duration, output_duration = [], []\n",
        "\n",
        "# pour chaque music, on la transforme en dataframe, transforme les notes, durées et volumes\n",
        "for music in note_all_songs:\n",
        "  df_music = pd.DataFrame(music, columns=['debut_note','volume','durée(s)', 'pitch/chord'])\n",
        "\n",
        "  # encode le volume et la durée\n",
        "  df_music[\"duration_class\"] = pd.cut(df_music[\"durée(s)\"], bins=[0, 0.1, 0.25, 0.5, 0.75, 1, 1.5,10], labels=[\"very short\", \"short\", \"medium\", \"medium-long\", \"long\", \"very long\", \"super mega long\"])\n",
        "  df_music[\"volume_class\"] = pd.cut(df_music[\"volume\"], bins=[0,10,30,50,70,90,127], labels=[\"very low\", \"low\", \"low medium\", \"medium\", \"high\", \"very high\"])\n",
        "\n",
        "  # transform en one hot à partir des modèles entrainés\n",
        "  notes_encoded = oh_notes.transform(df_music[['pitch/chord']]).toarray()\n",
        "  volume_encoded = oh_volume.transform(df_music[['volume_class']]).toarray()\n",
        "  duration_encoded = oh_duration.transform(df_music[['duration_class']]).toarray()\n",
        "\n",
        "  # prépare les input (longeur = sequence_length) pour chaque morceau\n",
        "  # garde certaine cohérence au morceau même\n",
        "  input_note, output_note = prepare_sequence(notes_encoded, sequence_length, input_note, output_note)\n",
        "  input_volume, output_volume = prepare_sequence(volume_encoded, sequence_length, input_volume, output_volume)\n",
        "  input_duration, output_duration = prepare_sequence(duration_encoded, sequence_length, input_duration, output_duration)"
      ],
      "metadata": {
        "id": "1lpnB-spixTZ"
      },
      "execution_count": null,
      "outputs": []
    },
    {
      "cell_type": "code",
      "source": [
        "# on reshape tout\n",
        "input_note_reshaped= reshape_array_input(input_note, sequence_length)\n",
        "output_note_reshaped = reshape_array_output(output_note, sequence_length)\n",
        "\n",
        "input_volume_reshaped= reshape_array_input(input_volume, sequence_length)\n",
        "output_volume_reshaped = reshape_array_output(output_volume, sequence_length)\n",
        "\n",
        "input_duration_reshaped= reshape_array_input(input_duration, sequence_length)\n",
        "output_duration_reshaped = reshape_array_output(output_duration, sequence_length)\n"
      ],
      "metadata": {
        "id": "AzX_ofZZj1vY"
      },
      "execution_count": null,
      "outputs": []
    },
    {
      "cell_type": "code",
      "source": [
        "#création du modèle (à alléger si overfitting)\n",
        "inputNotes_layer = Input(shape=(input_note_reshaped.shape[1], input_note_reshaped.shape[2]))\n",
        "inputNotes = LSTM(\n",
        "        128,\n",
        "        input_shape=(input_note_reshaped.shape[1], input_note_reshaped.shape[2]),\n",
        "        return_sequences=True\n",
        "    )(inputNotes_layer)\n",
        "\n",
        "inputVolume_layer = Input(shape=(input_volume_reshaped.shape[1], input_volume_reshaped.shape[2]))\n",
        "inputVolume = LSTM(\n",
        "        128,\n",
        "        input_shape=(input_volume_reshaped.shape[1], input_volume_reshaped.shape[2]),\n",
        "        return_sequences=True\n",
        "    )(inputVolume_layer)\n",
        "\n",
        "inputDuration_layer = Input(shape=(input_duration_reshaped.shape[1], input_duration_reshaped.shape[2]))\n",
        "inputDuration = LSTM(\n",
        "        128,\n",
        "        input_shape=(input_duration_reshaped.shape[1], input_duration_reshaped.shape[2]),\n",
        "        return_sequences=True\n",
        "    )(inputDuration_layer)\n",
        "\n",
        "inputs = concatenate([inputNotes, inputVolume, inputDuration])\n",
        "x = LSTM(256, return_sequences=True)(inputs)\n",
        "x = Dropout(0.3)(x)\n",
        "x = LSTM(256)(inputs)\n",
        "x = Dropout(0.3)(x)\n",
        "x = Dense(256, activation='relu')(x)\n",
        "\n",
        "outputNotes = Dense(256, activation='relu')(x)\n",
        "outputNotes = Dense(output_note_reshaped.shape[1], activation='softmax', name=\"Note\")(outputNotes)\n",
        "\n",
        "outputVolume = Dense(256, activation='relu')(x)\n",
        "outputVolume = Dense(output_volume_reshaped.shape[1], activation='softmax', name=\"Volume\")(outputVolume)\n",
        "\n",
        "outputDuration = Dense(256, activation='relu')(x)\n",
        "outputDuration = Dense(output_duration_reshaped.shape[1], activation='softmax', name=\"Duration\")(outputDuration)\n",
        "\n",
        "\n",
        "\n",
        "\n",
        "model = Model(inputs=[inputNotes_layer, inputVolume_layer, inputDuration_layer], outputs=[outputNotes, outputVolume, outputDuration])\n",
        "\n",
        "#Adam seems to be faster than RMSProp and learns better too\n",
        "model.compile(loss=['categorical_crossentropy', \"mean_squared_error\", \"categorical_crossentropy\", \"categorical_crossentropy\"], optimizer='adam')"
      ],
      "metadata": {
        "id": "NyzHblQ7kfw0"
      },
      "execution_count": null,
      "outputs": []
    },
    {
      "cell_type": "code",
      "source": [
        "model.summary()"
      ],
      "metadata": {
        "id": "q_4pFN5EihPj",
        "colab": {
          "base_uri": "https://localhost:8080/"
        },
        "outputId": "7360cdaa-673d-4358-bd4c-919bd7fa6037"
      },
      "execution_count": null,
      "outputs": [
        {
          "output_type": "stream",
          "name": "stdout",
          "text": [
            "Model: \"model\"\n",
            "__________________________________________________________________________________________________\n",
            " Layer (type)                Output Shape                 Param #   Connected to                  \n",
            "==================================================================================================\n",
            " input_1 (InputLayer)        [(None, 100, 295)]           0         []                            \n",
            "                                                                                                  \n",
            " input_2 (InputLayer)        [(None, 100, 6)]             0         []                            \n",
            "                                                                                                  \n",
            " input_3 (InputLayer)        [(None, 100, 7)]             0         []                            \n",
            "                                                                                                  \n",
            " lstm (LSTM)                 (None, 100, 128)             217088    ['input_1[0][0]']             \n",
            "                                                                                                  \n",
            " lstm_1 (LSTM)               (None, 100, 128)             69120     ['input_2[0][0]']             \n",
            "                                                                                                  \n",
            " lstm_2 (LSTM)               (None, 100, 128)             69632     ['input_3[0][0]']             \n",
            "                                                                                                  \n",
            " concatenate (Concatenate)   (None, 100, 384)             0         ['lstm[0][0]',                \n",
            "                                                                     'lstm_1[0][0]',              \n",
            "                                                                     'lstm_2[0][0]']              \n",
            "                                                                                                  \n",
            " lstm_4 (LSTM)               (None, 256)                  656384    ['concatenate[0][0]']         \n",
            "                                                                                                  \n",
            " dropout_1 (Dropout)         (None, 256)                  0         ['lstm_4[0][0]']              \n",
            "                                                                                                  \n",
            " dense (Dense)               (None, 256)                  65792     ['dropout_1[0][0]']           \n",
            "                                                                                                  \n",
            " dense_1 (Dense)             (None, 256)                  65792     ['dense[0][0]']               \n",
            "                                                                                                  \n",
            " dense_2 (Dense)             (None, 256)                  65792     ['dense[0][0]']               \n",
            "                                                                                                  \n",
            " dense_3 (Dense)             (None, 256)                  65792     ['dense[0][0]']               \n",
            "                                                                                                  \n",
            " Note (Dense)                (None, 295)                  75815     ['dense_1[0][0]']             \n",
            "                                                                                                  \n",
            " Volume (Dense)              (None, 6)                    1542      ['dense_2[0][0]']             \n",
            "                                                                                                  \n",
            " Duration (Dense)            (None, 7)                    1799      ['dense_3[0][0]']             \n",
            "                                                                                                  \n",
            "==================================================================================================\n",
            "Total params: 1354548 (5.17 MB)\n",
            "Trainable params: 1354548 (5.17 MB)\n",
            "Non-trainable params: 0 (0.00 Byte)\n",
            "__________________________________________________________________________________________________\n"
          ]
        }
      ]
    },
    {
      "cell_type": "code",
      "source": [
        "import os\n",
        "\n",
        "cp_callback = keras.callbacks.ModelCheckpoint(\n",
        "    'model_weights_epoch.h5',  # Nom du fichier de sauvegarde avec un espace réservé pour le numéro de l'époque\n",
        "    save_best_only=True,  # Sauvegarder à chaque époque, pas seulement les meilleurs modèles\n",
        "    save_weights_only=True,  # Sauvegarder uniquement les poids, pas l'ensemble du modèle\n",
        "    verbose=1  # Afficher un message lors de la sauvegarde\n",
        "    )"
      ],
      "metadata": {
        "id": "YB2DV7zy3om5"
      },
      "execution_count": null,
      "outputs": []
    },
    {
      "cell_type": "code",
      "source": [
        "model.fit([input_note_reshaped, input_volume_reshaped, input_duration_reshaped], [output_note_reshaped, output_volume_reshaped, output_duration_reshaped], epochs=400, callbacks=[cp_callback], validation_split=0.2, batch_size=128)"
      ],
      "metadata": {
        "id": "d7w5ODUnf8B8"
      },
      "execution_count": null,
      "outputs": []
    },
    {
      "cell_type": "code",
      "source": [
        "#prend une séquence de notes, volume, durées\n",
        "pattern_note = input_note[-1]\n",
        "pattern_volume = input_volume[-1]\n",
        "pattern_duration = input_duration[-1]"
      ],
      "metadata": {
        "id": "S7L6Fyy1pFBa"
      },
      "execution_count": null,
      "outputs": []
    },
    {
      "cell_type": "code",
      "source": [
        "# prediction time\n",
        "prediction_output = []\n",
        "\n",
        "for i in tqdm(range(200)):\n",
        "\n",
        "    #on reshape les input à prédire\n",
        "    note_prediction_input = numpy.reshape(pattern_note, (1, len(pattern_note), -1))\n",
        "    volume_prediction_input = numpy.reshape(pattern_volume, (1, len(pattern_volume), -1))\n",
        "    duration_prediction_input = numpy.reshape(pattern_duration, (1, len(pattern_duration), -1))\n",
        "\n",
        "    #prédit ici\n",
        "    prediction = model.predict([note_prediction_input, volume_prediction_input, duration_prediction_input], verbose=0)\n",
        "\n",
        "    # prédis la note en récupérant l'index max du softmax et en faisant la transofr inverse\n",
        "    # à partir du one hot train sur les notes\n",
        "    notes_pred = np.zeros(len(pattern_note[0]))\n",
        "    notes_pred[np.argmax(prediction[0])] = 1\n",
        "    result_note = oh_notes.inverse_transform(notes_pred.reshape(1, -1))\n",
        "    pattern_note = numpy.concatenate([pattern_note, prediction[0]])\n",
        "    pattern_note = pattern_note[1:]\n",
        "\n",
        "    # la même avec le volume\n",
        "    volume_pred = np.zeros(len(pattern_volume[1]))\n",
        "    volume_pred[np.argmax(prediction[1])] = 1\n",
        "    result_volume = oh_volume.inverse_transform(volume_pred.reshape(1, -1))\n",
        "    pattern_volume = numpy.concatenate([pattern_volume, prediction[1]])\n",
        "    pattern_volume = pattern_volume[1:]\n",
        "\n",
        "    # la même avec la durée\n",
        "    duration_pred = np.zeros(len(pattern_duration[0]))\n",
        "    duration_pred[np.argmax(prediction[2])] = 1\n",
        "    result_duration = oh_duration.inverse_transform(duration_pred.reshape(1, -1))\n",
        "    pattern_duration = numpy.concatenate([pattern_duration, prediction[2]])\n",
        "    pattern_duration = pattern_duration[1:]\n",
        "\n",
        "    # comme on prédit un mot associé au volume, on associe au mot une valeur/intensité\n",
        "    #(manque des catégories)\n",
        "    volume_encoded = result_volume[0][0]\n",
        "    volume_decoded = 0\n",
        "    if volume_encoded == \"low\":\n",
        "      volume_decoded = 30\n",
        "    if volume_encoded == \"medium\":\n",
        "      volume_decoded = 60\n",
        "    if volume_encoded == \"high\":\n",
        "      volume_decoded = 90\n",
        "\n",
        "    # la même avec la durée\n",
        "    #(manque des catégories)\n",
        "    duration_encoded = result_duration[0][0]\n",
        "    duration_encoded = 0\n",
        "    if volume_encoded == \"short\":\n",
        "      duration_encoded = 0.25\n",
        "    if volume_encoded == \"medium\":\n",
        "      duration_encoded = 0.5\n",
        "    if volume_encoded == \"high\":\n",
        "      duration_encoded = 0.75\n",
        "\n",
        "    #on ajoute la note, le volyme et la durée\n",
        "    prediction_output.append([result_note[0][0], volume_decoded, duration_encoded])\n"
      ],
      "metadata": {
        "colab": {
          "base_uri": "https://localhost:8080/"
        },
        "id": "1C2Vt-MH0nm_",
        "outputId": "28359c66-670b-4c53-baa0-30fa3c0fd67f"
      },
      "execution_count": null,
      "outputs": [
        {
          "output_type": "stream",
          "name": "stderr",
          "text": [
            "100%|██████████| 200/200 [00:15<00:00, 12.57it/s]\n"
          ]
        }
      ]
    },
    {
      "cell_type": "code",
      "source": [
        "from music21.duration import Duration\n"
      ],
      "metadata": {
        "id": "91w43lwl5urg"
      },
      "execution_count": null,
      "outputs": []
    },
    {
      "cell_type": "code",
      "source": [
        "offset = 0\n",
        "output_notes = []\n",
        "# on passes des prédicitons à un format écoutable à l'oreille\n",
        "\n",
        "# pour chaque note prédite\n",
        "for note_p in prediction_output:\n",
        "    pattern = note_p[0]\n",
        "    # si note = chord\n",
        "    if ('+' in pattern) or pattern.isdigit():\n",
        "        notes_in_chord = pattern.split('+')\n",
        "        notes = []\n",
        "        for current_note in notes_in_chord:\n",
        "            new_note = note.Note(int(current_note))\n",
        "            new_note.storedInstrument = instrument.Piano()\n",
        "            notes.append(new_note)\n",
        "        new_chord = chord.Chord(notes)\n",
        "        new_chord.offset = offset\n",
        "        # met le volume associé\n",
        "        new_chord.volume.velocity = note_p[1]\n",
        "        # met la durée associée\n",
        "        new_chord.duration = Duration(note_p[2])\n",
        "        output_notes.append(new_chord)\n",
        "    # si note est un rest\n",
        "    elif('REST'in pattern):\n",
        "      note_rest = note.Rest()\n",
        "      note_rest.offset = offset\n",
        "      # durée associée (pas de volume car silencieux)\n",
        "      note_rest.duration = Duration(note_p[2])\n",
        "      output_notes.append(note_rest)\n",
        "    else:\n",
        "        new_note = note.Note(pattern)\n",
        "        new_note.offset = offset\n",
        "        new_note.volume.velocity = note_p[1]\n",
        "        new_note.duration = Duration(note_p[2])\n",
        "        new_note.storedInstrument = instrument.Piano()\n",
        "        output_notes.append(new_note)\n",
        "\n",
        "    # increase offset each iteration so that notes do not stack\n",
        "    offset += 0.5"
      ],
      "metadata": {
        "id": "BxktumUV0H22"
      },
      "execution_count": null,
      "outputs": []
    },
    {
      "cell_type": "code",
      "source": [
        "#into midi\n",
        "midi_stream = stream.Stream(output_notes)\n",
        "midi_stream.write('midi', fp='test_outputminecraft.mid')"
      ],
      "metadata": {
        "colab": {
          "base_uri": "https://localhost:8080/",
          "height": 36
        },
        "id": "I5W_QMyyn7BA",
        "outputId": "57dbdcf5-b78b-44f2-ffe6-66ef0745cd39"
      },
      "execution_count": null,
      "outputs": [
        {
          "output_type": "execute_result",
          "data": {
            "text/plain": [
              "'test_outputminecraft.mid'"
            ],
            "application/vnd.google.colaboratory.intrinsic+json": {
              "type": "string"
            }
          },
          "metadata": {},
          "execution_count": 54
        }
      ]
    }
  ]
}