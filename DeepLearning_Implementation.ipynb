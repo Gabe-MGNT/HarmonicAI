{
  "cells": [
    {
      "cell_type": "markdown",
      "metadata": {},
      "source": [
        "# Mise en place du réseau de neurones"
      ]
    },
    {
      "cell_type": "code",
      "execution_count": 52,
      "metadata": {
        "id": "wLez1Slaaydy"
      },
      "outputs": [],
      "source": [
        "from music21 import converter, instrument, note, chord, stream\n",
        "import numpy\n",
        "from matplotlib import pyplot as plt\n",
        "import keras\n",
        "from sklearn.preprocessing import OneHotEncoder\n",
        "from keras import Sequential, Model, regularizers\n",
        "from keras.layers import LSTM, Dropout, Dense, Activation, Input, concatenate\n",
        "import pandas as pd\n",
        "from tensorflow.keras.layers import Input, Dense, Dropout, BatchNormalization, Flatten, Attention, Bidirectional\n",
        "import os\n",
        "from music21.duration import Duration\n",
        "import seaborn as sns\n",
        "from tensorflow.keras.models import Model\n",
        "from tensorflow.keras.layers import MultiHeadAttention, LayerNormalization, Embedding\n",
        "from keras.utils import plot_model\n",
        "import tensorflow as tf\n",
        "from tqdm import tqdm\n",
        "from sktime.performance_metrics.forecasting import mean_absolute_percentage_error as smape_loss\n",
        "import numpy as np\n",
        "from keras.callbacks import ModelCheckpoint\n"
      ]
    },
    {
      "cell_type": "code",
      "execution_count": null,
      "metadata": {
        "colab": {
          "base_uri": "https://localhost:8080/"
        },
        "id": "jMOiwvUEduhe",
        "outputId": "3eed7cc8-d2ad-4da4-aae2-df8a7830b435"
      },
      "outputs": [
        {
          "name": "stdout",
          "output_type": "stream",
          "text": [
            "unzip:  cannot find or open dataset.zip, dataset.zip.zip or dataset.zip.ZIP.\n"
          ]
        }
      ],
      "source": [
        "!unzip dataset.zip"
      ]
    },
    {
      "cell_type": "markdown",
      "metadata": {},
      "source": [
        "## Useful Functions"
      ]
    },
    {
      "cell_type": "code",
      "execution_count": 2,
      "metadata": {
        "id": "ltEonII2gWg0"
      },
      "outputs": [],
      "source": [
        "def get_notes(midi):\n",
        "  notes = []\n",
        "\n",
        "  notes_from_midi = midi.flatten().notesAndRests\n",
        "  notes_sorted = sorted(notes_from_midi, key=lambda note: note.offset)\n",
        "\n",
        "  prev_start = notes_sorted[0].offset\n",
        "\n",
        "  for element in notes_sorted:\n",
        "    if isinstance(element , note.Note):\n",
        "      notes.append((float(element.offset), float(element.volume.velocity),float(element.seconds), str(element.pitch), float(element.offset-prev_start)))\n",
        "    elif isinstance(element, chord.Chord):\n",
        "      #notes.append((float(element.offset), float(element.volume.velocity), float(element.seconds), '+'.join(str(n) for n in element.normalOrder)))\n",
        "      for noteChord in element.pitches:\n",
        "        notes.append((float(element.offset),float(element.volume.velocity), float(element.seconds), str(noteChord), float(element.offset-prev_start)))\n",
        "\n",
        "    elif isinstance(element, note.Rest):\n",
        "        # Bizarre car main gauche et droite flatten (réunie)\n",
        "        # Voir autre implémentation\n",
        "        notes.append((float(element.offset), 0,float(element.seconds), \"REST\", float(element.offset-prev_start)))\n",
        "\n",
        "    prev_start = element.offset\n",
        "  return notes\n",
        "\n",
        "def check_pitch(x):\n",
        "  if ('+' in x) or x.isdigit():\n",
        "        notes_in_chord = x.split('+')\n",
        "        notes = []\n",
        "        for current_note in notes_in_chord:\n",
        "            new_note = note.Note(int(current_note))\n",
        "            new_note.storedInstrument = instrument.Piano()\n",
        "            notes.append(new_note)\n",
        "        new_chord =chord.Chord(notes).pitches[0].midi\n",
        "        return new_chord\n",
        "    # pattern is a note\n",
        "  elif 'REST' in x:\n",
        "    return 0\n",
        "  else:\n",
        "        new_note = note.Note(x).pitch.midi\n",
        "        return new_note\n"
      ]
    },
    {
      "cell_type": "code",
      "execution_count": 3,
      "metadata": {},
      "outputs": [],
      "source": [
        "def prepare_sequence(data, sequence_length, network_input, network_output):\n",
        "  # create input sequences and the corresponding outputs\n",
        "  for i in range(0, len(data) - sequence_length, 1):\n",
        "      sequence_in = data[i:i + sequence_length]\n",
        "      sequence_out = data[i + sequence_length]\n",
        "      network_input.append(sequence_in)\n",
        "      network_output.append(sequence_out)\n",
        "  return (network_input, network_output)\n",
        "\n",
        "def reshape_array_input(array_tensor, sequence_length):\n",
        "  n_patterns = len(array_tensor)\n",
        "  array_reshaped = numpy.reshape(array_tensor, (n_patterns, sequence_length, -1))\n",
        "  return array_reshaped\n",
        "\n",
        "def reshape_array_output(array_tensor, sequence_length):\n",
        "  n_patterns = len(array_tensor)\n",
        "  array_reshaped = numpy.reshape(array_tensor, (len(array_tensor), -1))\n",
        "  return array_reshaped"
      ]
    },
    {
      "cell_type": "markdown",
      "metadata": {},
      "source": [
        "## Extracting songs informations"
      ]
    },
    {
      "cell_type": "code",
      "execution_count": 4,
      "metadata": {
        "colab": {
          "base_uri": "https://localhost:8080/"
        },
        "id": "nUvY0NWPd79V",
        "outputId": "5b4a792d-755d-4eff-aac3-2007e302cafb"
      },
      "outputs": [
        {
          "name": "stderr",
          "output_type": "stream",
          "text": [
            "3it [00:58, 19.60s/it]\n"
          ]
        }
      ],
      "source": [
        "note_all_songs = []\n",
        "for folder in tqdm(os.walk(\"dataset\")):\n",
        "    if len(folder) != 3:\n",
        "      continue\n",
        "    else:\n",
        "      for file in folder[2]:\n",
        "        file_path = str(folder[0])+\"/\"+file\n",
        "\n",
        "        # convertit la piste midi\n",
        "        midi = converter.parse(file_path)\n",
        "\n",
        "        # récupère les notes, volume, dureées...\n",
        "        notes = get_notes(midi)\n",
        "\n",
        "        # ajoute à une liste globale\n",
        "        note_all_songs.append(notes)"
      ]
    },
    {
      "cell_type": "code",
      "execution_count": 8,
      "metadata": {
        "id": "_bRdnkH6OdJA"
      },
      "outputs": [],
      "source": [
        "# fais un dataframe à partir de toutes les notes (sans distinctions)\n",
        "df = pd.DataFrame([], columns=['offset','volume','duration', 'note_str', 'step'])\n",
        "df = df.reset_index(drop=True)\n",
        "for elem in note_all_songs:\n",
        "    df2 = pd.DataFrame(elem, columns=['offset','volume','duration', 'note_str', 'step'])\n",
        "    df2 = df2.reset_index(drop=True)\n",
        "    df =pd.concat([df,df2])\n",
        "    df = df.reset_index(drop=True)\n",
        "df['note_int'] = df['note_str'].apply(check_pitch)"
      ]
    },
    {
      "cell_type": "code",
      "execution_count": 10,
      "metadata": {
        "colab": {
          "base_uri": "https://localhost:8080/",
          "height": 423
        },
        "id": "IanSVBghtAEQ",
        "outputId": "7bb305e9-2f09-4342-d99e-0e5515416c14"
      },
      "outputs": [
        {
          "data": {
            "text/html": [
              "<div>\n",
              "<style scoped>\n",
              "    .dataframe tbody tr th:only-of-type {\n",
              "        vertical-align: middle;\n",
              "    }\n",
              "\n",
              "    .dataframe tbody tr th {\n",
              "        vertical-align: top;\n",
              "    }\n",
              "\n",
              "    .dataframe thead th {\n",
              "        text-align: right;\n",
              "    }\n",
              "</style>\n",
              "<table border=\"1\" class=\"dataframe\">\n",
              "  <thead>\n",
              "    <tr style=\"text-align: right;\">\n",
              "      <th></th>\n",
              "      <th>offset</th>\n",
              "      <th>volume</th>\n",
              "      <th>duration</th>\n",
              "      <th>note_str</th>\n",
              "      <th>step</th>\n",
              "      <th>note_int</th>\n",
              "    </tr>\n",
              "  </thead>\n",
              "  <tbody>\n",
              "    <tr>\n",
              "      <th>0</th>\n",
              "      <td>0.0</td>\n",
              "      <td>49.0</td>\n",
              "      <td>0.115794</td>\n",
              "      <td>E-4</td>\n",
              "      <td>0.0</td>\n",
              "      <td>63</td>\n",
              "    </tr>\n",
              "    <tr>\n",
              "      <th>1</th>\n",
              "      <td>0.0</td>\n",
              "      <td>49.0</td>\n",
              "      <td>0.115794</td>\n",
              "      <td>B3</td>\n",
              "      <td>0.0</td>\n",
              "      <td>59</td>\n",
              "    </tr>\n",
              "    <tr>\n",
              "      <th>2</th>\n",
              "      <td>0.0</td>\n",
              "      <td>49.0</td>\n",
              "      <td>0.115794</td>\n",
              "      <td>E4</td>\n",
              "      <td>0.0</td>\n",
              "      <td>64</td>\n",
              "    </tr>\n",
              "    <tr>\n",
              "      <th>3</th>\n",
              "      <td>0.0</td>\n",
              "      <td>48.0</td>\n",
              "      <td>0.115794</td>\n",
              "      <td>G#3</td>\n",
              "      <td>0.0</td>\n",
              "      <td>56</td>\n",
              "    </tr>\n",
              "    <tr>\n",
              "      <th>4</th>\n",
              "      <td>0.0</td>\n",
              "      <td>48.0</td>\n",
              "      <td>0.115794</td>\n",
              "      <td>E-3</td>\n",
              "      <td>0.0</td>\n",
              "      <td>51</td>\n",
              "    </tr>\n",
              "  </tbody>\n",
              "</table>\n",
              "</div>"
            ],
            "text/plain": [
              "   offset  volume  duration note_str  step  note_int\n",
              "0     0.0    49.0  0.115794      E-4   0.0        63\n",
              "1     0.0    49.0  0.115794       B3   0.0        59\n",
              "2     0.0    49.0  0.115794       E4   0.0        64\n",
              "3     0.0    48.0  0.115794      G#3   0.0        56\n",
              "4     0.0    48.0  0.115794      E-3   0.0        51"
            ]
          },
          "execution_count": 10,
          "metadata": {},
          "output_type": "execute_result"
        }
      ],
      "source": [
        "df.head()"
      ]
    },
    {
      "cell_type": "markdown",
      "metadata": {},
      "source": [
        "## Préparation des données"
      ]
    },
    {
      "cell_type": "markdown",
      "metadata": {},
      "source": [
        "Si dans la partie de la mise en place des modèles statistiques et naïfs on avait pas forcément beaucoup traité les données mis à part transformer les notes en entier ici cela est autre.\n",
        "En effet, les réseaux de neurones permettent une plus grande liberté quant à la manière d'intégrer les données, en plus de ses capacités bien plus complètes.\n",
        "Dans un premier temps, on va transformer nos notes (str) en classes one-hot encodées pour les classifier par la suite ; on peut faire de même pour le volume et la durée en leur attribuant des intervalles que l'on convertit ensuite en classe one-hot encodées. Dans cette partie pour que l'encodage soit effectif il est nécessaire d'avoir toutes les données, c'est pourquoi elles sont toutes rassemblées dans un dataframe, c'est pour que l'encodage one-hot des notes se fassent sur toutes les notes possibles (il en va de soit pour la durée des notes et leur volume).\n",
        "\n",
        "\n",
        "A ce niveau, on ne fait qu'netraîner les modèles d'encodage, la transformation se fera plus tard lors de la création de séquence pour l'entraînement et la prédiction."
      ]
    },
    {
      "cell_type": "markdown",
      "metadata": {},
      "source": [
        "### Création de l'encodage"
      ]
    },
    {
      "cell_type": "code",
      "execution_count": 12,
      "metadata": {},
      "outputs": [],
      "source": [
        "oh_notes =  OneHotEncoder().fit(df[['note_str']])"
      ]
    },
    {
      "cell_type": "code",
      "execution_count": 13,
      "metadata": {},
      "outputs": [],
      "source": [
        "dict_volume_class = {\n",
        "    \"very low\":10,\n",
        "    \"low\":30,\n",
        "    \"low medium\":50,\n",
        "    \"medium\":70,\n",
        "    \"high\": 90,\n",
        "    \"very high\":128\n",
        "}\n",
        "bins_volume = list(dict_volume_class.values())\n",
        "bins_volume.insert(0,-0.1)\n",
        "values_volume = list(dict_volume_class.keys())\n",
        "df[\"volume_class\"] = pd.cut(df[\"volume\"], bins=bins_volume, labels=values_volume)\n",
        "oh_volume =  OneHotEncoder().fit(df[['volume_class']])"
      ]
    },
    {
      "cell_type": "code",
      "execution_count": 15,
      "metadata": {
        "id": "sJ6s6EG-UTLz"
      },
      "outputs": [],
      "source": [
        "dict_duration_class = {\n",
        "\"very short\" : 0.1,\n",
        "\"short\" :0.25,\n",
        "\"medium\":0.5,\n",
        "\"medium-long\":0.75,\n",
        "\"long\":1.0,\n",
        "\"very long\": 1.5,\n",
        "\"kilometer long\":2.0,\n",
        "\"yearlight distance\":3.0,\n",
        "\"super mega long\":df['duration'].max() if df['duration'].max()>3.0 else 4.0\n",
        "}\n",
        "bins_duration = list(dict_duration_class.values())\n",
        "bins_duration.insert(0,-0.1)\n",
        "values_duration = list(dict_duration_class.keys())\n",
        "df[\"duration_class\"] = pd.cut(df[\"duration\"], bins=bins_duration, labels=values_duration)\n",
        "\n",
        "oh_duration =  OneHotEncoder().fit(df[['duration_class']])"
      ]
    },
    {
      "cell_type": "markdown",
      "metadata": {},
      "source": [
        "#### Etudes des classes encodées"
      ]
    },
    {
      "cell_type": "markdown",
      "metadata": {},
      "source": [
        "##### Volume"
      ]
    },
    {
      "cell_type": "markdown",
      "metadata": {},
      "source": [
        "L'encodage du volume n'est pas forcément utile, car comme le montre le graphique les classes ne sont pas équilibrés du tout, il y a énormément de note au volume moyens et très peu avec des volumes élevés.\n",
        "L'information n'ayant pas un impact fondamental dans ce que l'on souhaite prédire, cela n'a que peu d'importance, par contre si l'on souhaite prédire le volume de manière sérieuse, il faudra song à un autre moyen. Le déséquilibre de ces classes va forcément biaiser les prédictions."
      ]
    },
    {
      "cell_type": "code",
      "execution_count": 19,
      "metadata": {
        "colab": {
          "base_uri": "https://localhost:8080/"
        },
        "id": "8D2yYivuXE6u",
        "outputId": "bce90d91-9c4d-4441-b35a-0c2f01470f0a"
      },
      "outputs": [
        {
          "data": {
            "image/png": "[encoded data removed]",
            "text/plain": [
              "<Figure size 640x480 with 1 Axes>"
            ]
          },
          "metadata": {
            "image/png": {
              "height": 438,
              "width": 589
            }
          },
          "output_type": "display_data"
        }
      ],
      "source": [
        "sns.countplot(data=df, x=\"volume_class\");"
      ]
    },
    {
      "cell_type": "markdown",
      "metadata": {},
      "source": [
        "##### Durée"
      ]
    },
    {
      "cell_type": "markdown",
      "metadata": {},
      "source": [
        "L'observation pour les volumes s'appliquent aussi pour la durée des notes, les classes sont encore plus déséquilibrées. Comme ici la durée est une donnée importante, on ne va pas garder son encodage sous forme de classe, mais la garder sous sa forme entière afin de faciliter les choses."
      ]
    },
    {
      "cell_type": "code",
      "execution_count": 21,
      "metadata": {},
      "outputs": [
        {
          "data": {
            "image/png": "[encoded data removed]",
            "text/plain": [
              "<Figure size 640x480 with 1 Axes>"
            ]
          },
          "metadata": {
            "image/png": {
              "height": 544,
              "width": 589
            }
          },
          "output_type": "display_data"
        }
      ],
      "source": [
        "sns.countplot(data=df, x=\"duration_class\");\n",
        "plt.xticks(rotation=90);"
      ]
    },
    {
      "cell_type": "markdown",
      "metadata": {},
      "source": [
        "##### Notes"
      ]
    },
    {
      "cell_type": "markdown",
      "metadata": {},
      "source": [
        "L'encodage des notes en one-hot est un choix. Un autre choix aurait pu être de prendre leur forme entière et de faire de la régression dessus.\n",
        "Ce choix se fait avec les expérimentations que l'on a fait, le modèle semble mieux prédire lorsque les notes sont encodées sous forme de classes plutôt que d'entier."
      ]
    },
    {
      "cell_type": "code",
      "execution_count": 22,
      "metadata": {},
      "outputs": [
        {
          "data": {
            "text/plain": [
              "[array(['A1', 'A2', 'A3', 'A4', 'A5', 'A6', 'B-1', 'B-2', 'B-3', 'B-4',\n",
              "        'B-5', 'B-6', 'B1', 'B2', 'B3', 'B4', 'B5', 'B6', 'C#1', 'C#2',\n",
              "        'C#3', 'C#4', 'C#5', 'C#6', 'C#7', 'C1', 'C2', 'C3', 'C4', 'C5',\n",
              "        'C6', 'C7', 'D1', 'D2', 'D3', 'D4', 'D5', 'D6', 'D7', 'E-1', 'E-2',\n",
              "        'E-3', 'E-4', 'E-5', 'E-6', 'E-7', 'E1', 'E2', 'E3', 'E4', 'E5',\n",
              "        'E6', 'E7', 'F#1', 'F#2', 'F#3', 'F#4', 'F#5', 'F#6', 'F1', 'F2',\n",
              "        'F3', 'F4', 'F5', 'F6', 'F7', 'G#1', 'G#2', 'G#3', 'G#4', 'G#5',\n",
              "        'G#6', 'G1', 'G2', 'G3', 'G4', 'G5', 'G6', 'REST'], dtype=object)]"
            ]
          },
          "execution_count": 22,
          "metadata": {},
          "output_type": "execute_result"
        }
      ],
      "source": [
        "oh_notes.categories_"
      ]
    },
    {
      "cell_type": "code",
      "execution_count": 25,
      "metadata": {},
      "outputs": [
        {
          "data": {
            "text/plain": [
              "79"
            ]
          },
          "execution_count": 25,
          "metadata": {},
          "output_type": "execute_result"
        }
      ],
      "source": [
        "len(oh_notes.categories_[0])"
      ]
    },
    {
      "cell_type": "markdown",
      "metadata": {},
      "source": [
        "Il y a donc 79 notes différentes, ce qui veut dire que nos données en entrée contiendront des array de 79 0 dont un 1 pour l'encodage one-hot."
      ]
    },
    {
      "cell_type": "markdown",
      "metadata": {},
      "source": [
        "### Mise en place sous forme de séquences"
      ]
    },
    {
      "cell_type": "markdown",
      "metadata": {},
      "source": [
        "Maintenant que les données sont prêtes à être traitées, il faut créer nos séquences de notes.\n",
        "En effet, il faut garder à l'esprit que les notes de pianos sont une série temporelle et qu'on ne peut pas directement les fournir en l'état au modèle au peine de perdre cette corrélation dans l'ordre des notes.\n",
        "A la manière d'une série temporelle classique, nous allons créer des séquences d'une certaine longueur ce qui formera une entrée, et on prendra la note suivant cette séquence ce qui formera une sortie. En faisant ca pour chaque morceaux de musique, on constituera petit à petit notre jeu de données.\n",
        "\n",
        "Pour des raisons de temps de calcul et de complexité, nous choisissons des séquences d'une longeur de 25.\n",
        "Autrement dit, pour chaque morceau de musique on prend un enchaînement de 25 notes et celle d'après représente la sortie à prédire."
      ]
    },
    {
      "cell_type": "code",
      "execution_count": 26,
      "metadata": {
        "id": "tqK33V-UjsOn"
      },
      "outputs": [],
      "source": [
        "sequence_length = 25"
      ]
    },
    {
      "cell_type": "markdown",
      "metadata": {},
      "source": [
        "Pour garder une cohérence dans les données, pour chaque morceau indépendamment des autres : \n",
        "- On récupère ses informations\n",
        "- Encodons ses notes, la durée des notes et leur volume\n",
        "- Créons des séquences de longueur donnée en récupérant la note suivante et les ajoutent à des array"
      ]
    },
    {
      "cell_type": "code",
      "execution_count": 27,
      "metadata": {
        "id": "1lpnB-spixTZ"
      },
      "outputs": [],
      "source": [
        "input_note, output_note = [], []\n",
        "input_offset, output_offset = [], []\n",
        "input_volume, output_volume = [], []\n",
        "input_duration, output_duration = [], []\n",
        "input_step, output_step = [], []\n",
        "input_simul, output_simult = [],[]"
      ]
    },
    {
      "cell_type": "code",
      "execution_count": 28,
      "metadata": {},
      "outputs": [],
      "source": [
        "# pour chaque music, on la transforme en dataframe, transforme les notes, durées et volumes\n",
        "for music in note_all_songs:\n",
        "  df_music = pd.DataFrame(music, columns=['offset','volume','duration', 'note_str', 'step'])\n",
        "\n",
        "  # encode le volume et la durée\n",
        "  df_music[\"volume_class\"] = pd.cut(df_music[\"volume\"], bins=bins_volume, labels=values_volume)\n",
        "  df_music[\"duration_class\"] = pd.cut(df_music[\"duration\"], bins=bins_duration, labels=values_duration)\n",
        "\n",
        "\n",
        "  # transform en one hot à partir des modèles entrainés\n",
        "  notes_encoded = oh_notes.transform(df_music[['note_str']]).toarray()\n",
        "  volume_encoded = oh_volume.transform(df_music[['volume_class']]).toarray()\n",
        "  duration_encoded = oh_duration.transform(df_music[['duration_class']]).toarray()\n",
        "\n",
        "  # prépare les input (longeur = sequence_length) pour chaque morceau\n",
        "  input_offset, output_offset = prepare_sequence(df_music['offset'].values, sequence_length, input_offset, output_offset)\n",
        "  input_note, output_note = prepare_sequence(notes_encoded, sequence_length, input_note, output_note)\n",
        "  input_volume, output_volume = prepare_sequence(volume_encoded, sequence_length, input_volume, output_volume)\n",
        "  input_duration, output_duration = prepare_sequence(df_music[\"duration\"].values, sequence_length, input_duration, output_duration)\n",
        "  input_step, output_step = prepare_sequence(df_music['step'].values, sequence_length, input_step, output_step)"
      ]
    },
    {
      "cell_type": "code",
      "execution_count": 31,
      "metadata": {},
      "outputs": [
        {
          "data": {
            "text/plain": [
              "[array([[0., 0., 0., ..., 0., 0., 0.],\n",
              "        [0., 0., 0., ..., 0., 0., 0.],\n",
              "        [0., 0., 0., ..., 0., 0., 0.],\n",
              "        ...,\n",
              "        [0., 0., 0., ..., 0., 0., 0.],\n",
              "        [0., 0., 0., ..., 0., 0., 0.],\n",
              "        [0., 0., 0., ..., 0., 0., 0.]]),\n",
              " array([[0., 0., 0., ..., 0., 0., 0.],\n",
              "        [0., 0., 0., ..., 0., 0., 0.],\n",
              "        [0., 0., 0., ..., 0., 0., 0.],\n",
              "        ...,\n",
              "        [0., 0., 0., ..., 0., 0., 0.],\n",
              "        [0., 0., 0., ..., 0., 0., 0.],\n",
              "        [0., 0., 0., ..., 0., 0., 0.]])]"
            ]
          },
          "execution_count": 31,
          "metadata": {},
          "output_type": "execute_result"
        }
      ],
      "source": [
        "input_note[0:2]"
      ]
    },
    {
      "cell_type": "markdown",
      "metadata": {},
      "source": [
        "Maintenant que l'on a toutes nos séquences ainsi que la note suivante, il est nécessaire de remettre en forme (reshape) ces array contenant les données d'entraînement.\n",
        "\n",
        "Par exemple, les données d'entrée pour les notes est une array contenant des sous array (séquences de notes), qui elle-même contient 25 array de note one-hot encodées. En l'état c'est inutilisable pour un réseau de neurones, il est nécessaire de reshape ces données sous la forme :  (nombre de séquences, longeur des séquences, longueur d'un one-hot). Ainsi on aura : \n",
        "- Note : (nombre de séquences totales, 25, 79) (séquences de 25 notes, notes one-hot encodées sur 79 classes)\n",
        "- Step, Durée : (nombre de séquences totales, 25, 1) (séquence de 25 step/durée, en entier donc 1)\n",
        "- Volume : (nombre de séquences totales, 25, 6) (séquences de 25 volume, volume one-hot encodés sur 6 classes)\n",
        "\n",
        "Et il en va de même pour les sorties à qui on remplace le 25 par un 1, car on possède une note avec ses 25 précédentes."
      ]
    },
    {
      "cell_type": "code",
      "execution_count": 32,
      "metadata": {
        "colab": {
          "base_uri": "https://localhost:8080/",
          "height": 36
        },
        "id": "AzX_ofZZj1vY",
        "outputId": "a1f8828b-98e8-46e1-d754-e6d887da1648"
      },
      "outputs": [],
      "source": [
        "# on reshape tout\n",
        "input_note_reshaped= reshape_array_input(input_note, sequence_length)\n",
        "output_note_reshaped = reshape_array_output(output_note, sequence_length)\n",
        "\n",
        "input_offset_reshaped = reshape_array_input(input_offset, sequence_length)\n",
        "output_offset_reshaped = reshape_array_output(output_offset, sequence_length)\n",
        "\n",
        "input_volume_reshaped= reshape_array_input(input_volume, sequence_length)\n",
        "output_volume_reshaped = reshape_array_output(output_volume, sequence_length)\n",
        "\n",
        "input_duration_reshaped= reshape_array_input(input_duration, sequence_length)\n",
        "output_duration_reshaped = reshape_array_output(output_duration, sequence_length)\n",
        "\n",
        "input_step_reshaped= reshape_array_input(input_step, sequence_length)\n",
        "output_step_reshaped = reshape_array_output(output_step, sequence_length)"
      ]
    },
    {
      "cell_type": "code",
      "execution_count": 34,
      "metadata": {},
      "outputs": [
        {
          "name": "stdout",
          "output_type": "stream",
          "text": [
            "Shape input note :  (169392, 25, 79)\n",
            "Shape input duration :  (169392, 25, 1)\n",
            "Shape input step :  (169392, 25, 1)\n",
            "Shape input volume :  (169392, 25, 6)\n"
          ]
        }
      ],
      "source": [
        "print(\"Shape input note : \",input_note_reshaped.shape)\n",
        "print(\"Shape input duration : \",input_duration_reshaped.shape)\n",
        "print(\"Shape input step : \",input_step_reshaped.shape)\n",
        "print(\"Shape input volume : \",input_volume_reshaped.shape)"
      ]
    },
    {
      "cell_type": "markdown",
      "metadata": {},
      "source": [
        "## Création du modèle"
      ]
    },
    {
      "cell_type": "markdown",
      "metadata": {},
      "source": [
        "Maintenant que les données sont enfin prêtes on peut créer le modèle. Ce qui n'a pas été dit c'est que pour mettre les données sous la forme que l'on veut il faut avoir une idée du modèle que l'on va faire et de sa structure.\n",
        "Comme on peut le voir nos données sont toutes séparées, nous avons fait en sorte d'avoir un jeu de données pour les notes, un pour la durée...\n",
        "\n",
        "Pour la prédiction 2 choix pouvait se faire sur les données en entrée :\n",
        "- Soit, on souhaite prédire la note sous sa forme complète en se disant qu'une note est consitutuée de son pitch, d'une durée, d'un volume et d'un step (un block) et qu'on va donc fournir en entrée ce bloc indivisible de donnée (les 4 d'un coup). Cette approche à l'avantage d'être moins complexe et plus rapide, mais on peut tout de suite manquer de nuances puisqu'il sera possible d'avoir certaine avec très peu de variation de durée par exemple.\n",
        "- Soit, on part du principe que certes une notes dans sa forme complète peut avoir de l'influence, et qu'en dehors de ça, le pitch à lui-même une influence, autant que la durée, le volume et le step chaucn indépendamment. Autremment, le pitch a un caractère temporel, autant que la volume, la durée et le step. Ce n'est plus uniquement la note dans sa globalité, mais la note et ses composantes qui ont un caractère temporel. Pour\n",
        "\n",
        "Nous sommes donc partis sur la deuxième approche ce qui justifie donc l'utilisation de 4 entrées séparées, une pour chaque composante de la note, d'où la consitution de données d'entrées séparées."
      ]
    },
    {
      "cell_type": "markdown",
      "metadata": {},
      "source": [
        "Il en va de même pour la sortie (la prédiction) :\n",
        "- Soit on veut prédire la note dans sa globalité, ce qui a l'avantage d'être plus rapide moins complexe\n",
        "- Soit on prédit indépendamment les composantes de la notes pour avoir plus de nuances.\n",
        "\n",
        "Nous sommes donc parti encore une fois sur la deuxième option, ce qui jsutifiera l'utilisation de 4 sorties, une pour chaque composante de la note, ce qui explique aussi la consitution de jeu de sorties différents."
      ]
    },
    {
      "cell_type": "markdown",
      "metadata": {},
      "source": [
        "**Le modèle**\n",
        "A partir des réfléxions antérieures, notre modèle aura donc 4 entrées et 4 sorties. Comme chaque entrée est considérée avoir son propre caractère temporelle, ce sera un LSTM à chaque entrée. Ensuite, on concatène les 4 entrées puisque même si chaque composante d'une note a un caractère temporelle, c'est aussi l'ensemble qui compte, l'association de toutes ces composantes qui forment une note, d'où la concaténation. Cet unique chemin est lui aussi soumis à des LSTM, pour enfin avoir 4 sorties distinctes.\n",
        "\n",
        "- Pour les notes : la sortie n'aura pas d'activation, on va souhaite utiliser les logits de la couche pour appliquer de la température. La loss sera une categorical crossentropy prenant des logits\n",
        "- Pour les step et les durées : la sortie aura une activation linéaire car c'est une tâche de régression. La loss sera une mean squared error avec pression positive, en somme cela influence le modèle lorsque celui-ci prend des bonnes décisions.\n",
        "- Pour le volume : la sortie sera un softmax, on ne va pas souhaiter appliquer de température. La loss est une categorical_crossentropy\n"
      ]
    },
    {
      "cell_type": "code",
      "execution_count": 35,
      "metadata": {
        "id": "NyzHblQ7kfw0"
      },
      "outputs": [],
      "source": [
        "inputNotes_layer = Input(shape=(input_note_reshaped.shape[1], input_note_reshaped.shape[2]))\n",
        "inputNotes = (LSTM(\n",
        "        256,\n",
        "        input_shape=(input_note_reshaped.shape[1], input_note_reshaped.shape[2]),\n",
        "        dropout=0.3,\n",
        "        return_sequences=True\n",
        "    ))(inputNotes_layer)\n",
        "\n",
        "inputVolume_layer = Input(shape=(input_volume_reshaped.shape[1], input_volume_reshaped.shape[2]))\n",
        "inputVolume = (LSTM(\n",
        "        256,\n",
        "        input_shape=(input_volume_reshaped.shape[1], input_volume_reshaped.shape[2]),\n",
        "        dropout=0.3,\n",
        "        return_sequences=True\n",
        "    ))(inputVolume_layer)\n",
        "\n",
        "inputDuration_layer = Input(shape=(input_duration_reshaped.shape[1], input_duration_reshaped.shape[2]))\n",
        "inputDuration = BatchNormalization()(inputDuration_layer)\n",
        "inputDuration =(LSTM(\n",
        "        256,\n",
        "        input_shape=(input_duration_reshaped.shape[1], input_duration_reshaped.shape[2]),\n",
        "        dropout=0.3,\n",
        "        return_sequences=True,\n",
        "    ))(inputDuration_layer)\n",
        "\n",
        "inputStep_layer = Input(shape=(input_step_reshaped.shape[1], input_step_reshaped.shape[2]))\n",
        "inputStep = BatchNormalization()(inputStep_layer)\n",
        "inputStep = (LSTM(\n",
        "        256,\n",
        "        dropout=0.3,\n",
        "        input_shape=(input_step_reshaped.shape[1], input_step_reshaped.shape[2]),\n",
        "        return_sequences=True\n",
        "    ))(inputStep_layer)\n",
        "\n",
        "\n",
        "\n",
        "attention_notes = Attention()([inputNotes, inputStep, inputDuration])\n",
        "\n",
        "inputs = concatenate([inputNotes, inputVolume, inputDuration, inputStep, attention_notes])\n",
        "\n",
        "x = LSTM(512, return_sequences=True, dropout=0.3)(inputs)\n",
        "x = LSTM(512)(inputs)\n",
        "x = BatchNormalization()(x)\n",
        "x = Dropout(0.3)(x)\n",
        "x = Dense(512)(x)\n",
        "\n",
        "outputNotes = Dense(256)(x)\n",
        "outputNotes = Dropout(0.3)(outputNotes)\n",
        "outputNotes = Dense(output_note_reshaped.shape[1], activation=None, name=\"Note\")(outputNotes)\n",
        "\n",
        "outputVolume = Dense(256)(x)\n",
        "outputVolume = BatchNormalization()(outputVolume)\n",
        "outputVolume = Dropout(0.3)(outputVolume)\n",
        "outputVolume = Dense(output_volume_reshaped.shape[1], activation='softmax', name=\"Volume\")(outputVolume)\n",
        "\n",
        "outputDuration = Dense(512)(x)\n",
        "outputDuration = BatchNormalization()(outputDuration)\n",
        "outputDuration = Dropout(0.1)(outputDuration)\n",
        "outputDuration = Dense(output_duration_reshaped.shape[1], activation=\"linear\", name=\"Duration\")(outputDuration)\n",
        "\n",
        "outputOffset =  Dense(512)(x)\n",
        "outputOffset = BatchNormalization()(outputOffset)\n",
        "outputOffset = Dropout(0.1)(outputOffset)\n",
        "outputOffset = Dense(output_step_reshaped.shape[1], activation=\"linear\", name=\"Offset\")(outputOffset)\n",
        "\n",
        "\n",
        "\n",
        "model = Model(inputs=[inputNotes_layer,inputStep_layer,  inputVolume_layer, inputDuration_layer], outputs=[outputNotes, outputOffset, outputVolume, outputDuration])"
      ]
    },
    {
      "cell_type": "code",
      "execution_count": 36,
      "metadata": {
        "colab": {
          "base_uri": "https://localhost:8080/",
          "height": 986
        },
        "id": "NpnlBaVAw7p0",
        "outputId": "37b04603-35e0-46d8-862e-7f9d2dc0e61f"
      },
      "outputs": [
        {
          "name": "stdout",
          "output_type": "stream",
          "text": [
            "You must install pydot (`pip install pydot`) and install graphviz (see instructions at https://graphviz.gitlab.io/download/) for plot_model to work.\n"
          ]
        }
      ],
      "source": [
        "plot_model(model, to_file='model_plot.png', show_shapes=True, show_layer_names=True,dpi=100,)"
      ]
    },
    {
      "cell_type": "markdown",
      "metadata": {},
      "source": [
        "Comme chaque sortie est indépendante, il est possible de jouer sur l'apprentissage du modèle en modifiant les poids de la perte des sorties. En augmentant le facteur de certains poids, on pourra dire au modèle de centrer l'apprentissage autour d'une composante. \n",
        "Après avoir essayé plusieurs fois, l'effet étant très important sur les prédictions nous avons préféré les laisser à un."
      ]
    },
    {
      "cell_type": "code",
      "execution_count": 37,
      "metadata": {
        "id": "o8hd-g32_0sz"
      },
      "outputs": [],
      "source": [
        "loss_weights = [1,1,1,1]"
      ]
    },
    {
      "cell_type": "code",
      "execution_count": 38,
      "metadata": {
        "id": "qfvW6aOhivSG"
      },
      "outputs": [],
      "source": [
        "metrics = {\n",
        "    \"Note\" : 'accuracy',\n",
        "    \"Volume\" : 'accuracy',\n",
        "    \"Offset\": \"mean_absolute_error\",\n",
        "    \"Duration\": \"mean_absolute_error\"\n",
        "}"
      ]
    },
    {
      "cell_type": "code",
      "execution_count": 39,
      "metadata": {},
      "outputs": [],
      "source": [
        "optimizer = tf.keras.optimizers.Adam(learning_rate=0.0005)\n",
        "\n",
        "def mse_with_positive_pressure(y_true: tf.Tensor, y_pred: tf.Tensor):\n",
        "  mse = (y_true - y_pred) ** 2\n",
        "  positive_pressure = 10 * tf.maximum(-y_pred, 0.0)\n",
        "  return tf.reduce_mean(mse + positive_pressure)\n"
      ]
    },
    {
      "cell_type": "code",
      "execution_count": 40,
      "metadata": {
        "id": "8etf9EVP_zNY"
      },
      "outputs": [],
      "source": [
        "model.compile(metrics=metrics,loss=[tf.keras.losses.CategoricalCrossentropy(from_logits=True), mse_with_positive_pressure, \"categorical_crossentropy\", mse_with_positive_pressure], optimizer=optimizer, loss_weights=loss_weights)"
      ]
    },
    {
      "cell_type": "code",
      "execution_count": 41,
      "metadata": {
        "colab": {
          "base_uri": "https://localhost:8080/"
        },
        "id": "q_4pFN5EihPj",
        "outputId": "075bcd0f-3790-42d6-d81f-899393fa8de3"
      },
      "outputs": [
        {
          "name": "stdout",
          "output_type": "stream",
          "text": [
            "Model: \"model\"\n",
            "__________________________________________________________________________________________________\n",
            " Layer (type)                Output Shape                 Param #   Connected to                  \n",
            "==================================================================================================\n",
            " input_1 (InputLayer)        [(None, 25, 79)]             0         []                            \n",
            "                                                                                                  \n",
            " input_3 (InputLayer)        [(None, 25, 1)]              0         []                            \n",
            "                                                                                                  \n",
            " input_4 (InputLayer)        [(None, 25, 1)]              0         []                            \n",
            "                                                                                                  \n",
            " lstm (LSTM)                 (None, 25, 256)              344064    ['input_1[0][0]']             \n",
            "                                                                                                  \n",
            " input_2 (InputLayer)        [(None, 25, 6)]              0         []                            \n",
            "                                                                                                  \n",
            " lstm_2 (LSTM)               (None, 25, 256)              264192    ['input_3[0][0]']             \n",
            "                                                                                                  \n",
            " lstm_3 (LSTM)               (None, 25, 256)              264192    ['input_4[0][0]']             \n",
            "                                                                                                  \n",
            " lstm_1 (LSTM)               (None, 25, 256)              269312    ['input_2[0][0]']             \n",
            "                                                                                                  \n",
            " attention (Attention)       (None, 25, 256)              0         ['lstm[0][0]',                \n",
            "                                                                     'lstm_3[0][0]',              \n",
            "                                                                     'lstm_2[0][0]']              \n",
            "                                                                                                  \n",
            " concatenate (Concatenate)   (None, 25, 1280)             0         ['lstm[0][0]',                \n",
            "                                                                     'lstm_1[0][0]',              \n",
            "                                                                     'lstm_2[0][0]',              \n",
            "                                                                     'lstm_3[0][0]',              \n",
            "                                                                     'attention[0][0]']           \n",
            "                                                                                                  \n",
            " lstm_5 (LSTM)               (None, 512)                  3672064   ['concatenate[0][0]']         \n",
            "                                                                                                  \n",
            " batch_normalization_2 (Bat  (None, 512)                  2048      ['lstm_5[0][0]']              \n",
            " chNormalization)                                                                                 \n",
            "                                                                                                  \n",
            " dropout (Dropout)           (None, 512)                  0         ['batch_normalization_2[0][0]'\n",
            "                                                                    ]                             \n",
            "                                                                                                  \n",
            " dense (Dense)               (None, 512)                  262656    ['dropout[0][0]']             \n",
            "                                                                                                  \n",
            " dense_4 (Dense)             (None, 512)                  262656    ['dense[0][0]']               \n",
            "                                                                                                  \n",
            " dense_2 (Dense)             (None, 256)                  131328    ['dense[0][0]']               \n",
            "                                                                                                  \n",
            " dense_3 (Dense)             (None, 512)                  262656    ['dense[0][0]']               \n",
            "                                                                                                  \n",
            " dense_1 (Dense)             (None, 256)                  131328    ['dense[0][0]']               \n",
            "                                                                                                  \n",
            " batch_normalization_5 (Bat  (None, 512)                  2048      ['dense_4[0][0]']             \n",
            " chNormalization)                                                                                 \n",
            "                                                                                                  \n",
            " batch_normalization_3 (Bat  (None, 256)                  1024      ['dense_2[0][0]']             \n",
            " chNormalization)                                                                                 \n",
            "                                                                                                  \n",
            " batch_normalization_4 (Bat  (None, 512)                  2048      ['dense_3[0][0]']             \n",
            " chNormalization)                                                                                 \n",
            "                                                                                                  \n",
            " dropout_1 (Dropout)         (None, 256)                  0         ['dense_1[0][0]']             \n",
            "                                                                                                  \n",
            " dropout_4 (Dropout)         (None, 512)                  0         ['batch_normalization_5[0][0]'\n",
            "                                                                    ]                             \n",
            "                                                                                                  \n",
            " dropout_2 (Dropout)         (None, 256)                  0         ['batch_normalization_3[0][0]'\n",
            "                                                                    ]                             \n",
            "                                                                                                  \n",
            " dropout_3 (Dropout)         (None, 512)                  0         ['batch_normalization_4[0][0]'\n",
            "                                                                    ]                             \n",
            "                                                                                                  \n",
            " Note (Dense)                (None, 79)                   20303     ['dropout_1[0][0]']           \n",
            "                                                                                                  \n",
            " Offset (Dense)              (None, 1)                    513       ['dropout_4[0][0]']           \n",
            "                                                                                                  \n",
            " Volume (Dense)              (None, 6)                    1542      ['dropout_2[0][0]']           \n",
            "                                                                                                  \n",
            " Duration (Dense)            (None, 1)                    513       ['dropout_3[0][0]']           \n",
            "                                                                                                  \n",
            "==================================================================================================\n",
            "Total params: 5894487 (22.49 MB)\n",
            "Trainable params: 5890903 (22.47 MB)\n",
            "Non-trainable params: 3584 (14.00 KB)\n",
            "__________________________________________________________________________________________________\n"
          ]
        }
      ],
      "source": [
        "model.summary()"
      ]
    },
    {
      "cell_type": "code",
      "execution_count": 42,
      "metadata": {
        "id": "YB2DV7zy3om5"
      },
      "outputs": [],
      "source": [
        "import os\n",
        "\n",
        "cp_callback = keras.callbacks.ModelCheckpoint(\n",
        "    'model_weights_epoch3.h5',  # Nom du fichier de sauvegarde avec un espace réservé pour le numéro de l'époque\n",
        "    save_weights_only=True,  # Sauvegarder uniquement les poids, pas l'ensemble du modèle\n",
        "    verbose=1  # Afficher un message lors de la sauvegarde\n",
        "    )\n",
        "\n",
        "checkpoint = ModelCheckpoint('weights1/weights.{epoch:02d}.h5',  # Nom du fichier de poids\n",
        "                             save_weights_only=True,       # Ne sauvegarder que les poids\n",
        "                             save_best_only=False,         # Sauvegarder à chaque époque\n",
        "                             period=1)"
      ]
    },
    {
      "cell_type": "markdown",
      "metadata": {},
      "source": [
        "## Entraînement du modèle"
      ]
    },
    {
      "cell_type": "code",
      "execution_count": 43,
      "metadata": {
        "colab": {
          "base_uri": "https://localhost:8080/"
        },
        "id": "d7w5ODUnf8B8",
        "outputId": "8cfc983a-9611-4b20-ea8e-714c7043cbb2"
      },
      "outputs": [
        {
          "name": "stdout",
          "output_type": "stream",
          "text": [
            "Epoch 1/400\n",
            "  15/5294 [..............................] - ETA: 1:09:58 - loss: 23.4977 - Note_loss: 4.8445 - Offset_loss: 8.4308 - Volume_loss: 1.9081 - Duration_loss: 8.3143 - Note_accuracy: 0.0250 - Offset_mean_absolute_error: 1.1925 - Volume_accuracy: 0.4083 - Duration_mean_absolute_error: 1.1504"
          ]
        },
        {
          "ename": "KeyboardInterrupt",
          "evalue": "",
          "output_type": "error",
          "traceback": [
            "\u001b[1;31m---------------------------------------------------------------------------\u001b[0m",
            "\u001b[1;31mKeyboardInterrupt\u001b[0m                         Traceback (most recent call last)",
            "\u001b[1;32mc:\\Users\\gabriel\\Documents\\ESIEE E5\\Time Series\\HarmonicAI\\DeepLearning_Implementation.ipynb Cell 52\u001b[0m line \u001b[0;36m1\n\u001b[1;32m----> <a href='vscode-notebook-cell:/c%3A/Users/gabriel/Documents/ESIEE%20E5/Time%20Series/HarmonicAI/DeepLearning_Implementation.ipynb#X33sZmlsZQ%3D%3D?line=0'>1</a>\u001b[0m history \u001b[39m=\u001b[39m model\u001b[39m.\u001b[39;49mfit([input_note_reshaped, input_step_reshaped,  input_volume_reshaped, input_duration_reshaped], [output_note_reshaped, output_step_reshaped, output_volume_reshaped, output_duration_reshaped], epochs\u001b[39m=\u001b[39;49m\u001b[39m400\u001b[39;49m, callbacks\u001b[39m=\u001b[39;49m[cp_callback])\n",
            "File \u001b[1;32m~\\AppData\\Roaming\\Python\\Python311\\site-packages\\keras\\src\\utils\\traceback_utils.py:65\u001b[0m, in \u001b[0;36mfilter_traceback.<locals>.error_handler\u001b[1;34m(*args, **kwargs)\u001b[0m\n\u001b[0;32m     63\u001b[0m filtered_tb \u001b[39m=\u001b[39m \u001b[39mNone\u001b[39;00m\n\u001b[0;32m     64\u001b[0m \u001b[39mtry\u001b[39;00m:\n\u001b[1;32m---> 65\u001b[0m     \u001b[39mreturn\u001b[39;00m fn(\u001b[39m*\u001b[39;49margs, \u001b[39m*\u001b[39;49m\u001b[39m*\u001b[39;49mkwargs)\n\u001b[0;32m     66\u001b[0m \u001b[39mexcept\u001b[39;00m \u001b[39mException\u001b[39;00m \u001b[39mas\u001b[39;00m e:\n\u001b[0;32m     67\u001b[0m     filtered_tb \u001b[39m=\u001b[39m _process_traceback_frames(e\u001b[39m.\u001b[39m__traceback__)\n",
            "File \u001b[1;32m~\\AppData\\Roaming\\Python\\Python311\\site-packages\\keras\\src\\engine\\training.py:1782\u001b[0m, in \u001b[0;36mModel.fit\u001b[1;34m(self, x, y, batch_size, epochs, verbose, callbacks, validation_split, validation_data, shuffle, class_weight, sample_weight, initial_epoch, steps_per_epoch, validation_steps, validation_batch_size, validation_freq, max_queue_size, workers, use_multiprocessing)\u001b[0m\n\u001b[0;32m   1774\u001b[0m \u001b[39mwith\u001b[39;00m tf\u001b[39m.\u001b[39mprofiler\u001b[39m.\u001b[39mexperimental\u001b[39m.\u001b[39mTrace(\n\u001b[0;32m   1775\u001b[0m     \u001b[39m\"\u001b[39m\u001b[39mtrain\u001b[39m\u001b[39m\"\u001b[39m,\n\u001b[0;32m   1776\u001b[0m     epoch_num\u001b[39m=\u001b[39mepoch,\n\u001b[1;32m   (...)\u001b[0m\n\u001b[0;32m   1779\u001b[0m     _r\u001b[39m=\u001b[39m\u001b[39m1\u001b[39m,\n\u001b[0;32m   1780\u001b[0m ):\n\u001b[0;32m   1781\u001b[0m     callbacks\u001b[39m.\u001b[39mon_train_batch_begin(step)\n\u001b[1;32m-> 1782\u001b[0m     tmp_logs \u001b[39m=\u001b[39m \u001b[39mself\u001b[39;49m\u001b[39m.\u001b[39;49mtrain_function(iterator)\n\u001b[0;32m   1783\u001b[0m     \u001b[39mif\u001b[39;00m data_handler\u001b[39m.\u001b[39mshould_sync:\n\u001b[0;32m   1784\u001b[0m         context\u001b[39m.\u001b[39masync_wait()\n",
            "File \u001b[1;32m~\\AppData\\Roaming\\Python\\Python311\\site-packages\\tensorflow\\python\\util\\traceback_utils.py:150\u001b[0m, in \u001b[0;36mfilter_traceback.<locals>.error_handler\u001b[1;34m(*args, **kwargs)\u001b[0m\n\u001b[0;32m    148\u001b[0m filtered_tb \u001b[39m=\u001b[39m \u001b[39mNone\u001b[39;00m\n\u001b[0;32m    149\u001b[0m \u001b[39mtry\u001b[39;00m:\n\u001b[1;32m--> 150\u001b[0m   \u001b[39mreturn\u001b[39;00m fn(\u001b[39m*\u001b[39;49margs, \u001b[39m*\u001b[39;49m\u001b[39m*\u001b[39;49mkwargs)\n\u001b[0;32m    151\u001b[0m \u001b[39mexcept\u001b[39;00m \u001b[39mException\u001b[39;00m \u001b[39mas\u001b[39;00m e:\n\u001b[0;32m    152\u001b[0m   filtered_tb \u001b[39m=\u001b[39m _process_traceback_frames(e\u001b[39m.\u001b[39m__traceback__)\n",
            "File \u001b[1;32m~\\AppData\\Roaming\\Python\\Python311\\site-packages\\tensorflow\\python\\eager\\polymorphic_function\\polymorphic_function.py:825\u001b[0m, in \u001b[0;36mFunction.__call__\u001b[1;34m(self, *args, **kwds)\u001b[0m\n\u001b[0;32m    822\u001b[0m compiler \u001b[39m=\u001b[39m \u001b[39m\"\u001b[39m\u001b[39mxla\u001b[39m\u001b[39m\"\u001b[39m \u001b[39mif\u001b[39;00m \u001b[39mself\u001b[39m\u001b[39m.\u001b[39m_jit_compile \u001b[39melse\u001b[39;00m \u001b[39m\"\u001b[39m\u001b[39mnonXla\u001b[39m\u001b[39m\"\u001b[39m\n\u001b[0;32m    824\u001b[0m \u001b[39mwith\u001b[39;00m OptionalXlaContext(\u001b[39mself\u001b[39m\u001b[39m.\u001b[39m_jit_compile):\n\u001b[1;32m--> 825\u001b[0m   result \u001b[39m=\u001b[39m \u001b[39mself\u001b[39;49m\u001b[39m.\u001b[39;49m_call(\u001b[39m*\u001b[39;49margs, \u001b[39m*\u001b[39;49m\u001b[39m*\u001b[39;49mkwds)\n\u001b[0;32m    827\u001b[0m new_tracing_count \u001b[39m=\u001b[39m \u001b[39mself\u001b[39m\u001b[39m.\u001b[39mexperimental_get_tracing_count()\n\u001b[0;32m    828\u001b[0m without_tracing \u001b[39m=\u001b[39m (tracing_count \u001b[39m==\u001b[39m new_tracing_count)\n",
            "File \u001b[1;32m~\\AppData\\Roaming\\Python\\Python311\\site-packages\\tensorflow\\python\\eager\\polymorphic_function\\polymorphic_function.py:857\u001b[0m, in \u001b[0;36mFunction._call\u001b[1;34m(self, *args, **kwds)\u001b[0m\n\u001b[0;32m    854\u001b[0m   \u001b[39mself\u001b[39m\u001b[39m.\u001b[39m_lock\u001b[39m.\u001b[39mrelease()\n\u001b[0;32m    855\u001b[0m   \u001b[39m# In this case we have created variables on the first call, so we run the\u001b[39;00m\n\u001b[0;32m    856\u001b[0m   \u001b[39m# defunned version which is guaranteed to never create variables.\u001b[39;00m\n\u001b[1;32m--> 857\u001b[0m   \u001b[39mreturn\u001b[39;00m \u001b[39mself\u001b[39;49m\u001b[39m.\u001b[39;49m_no_variable_creation_fn(\u001b[39m*\u001b[39;49margs, \u001b[39m*\u001b[39;49m\u001b[39m*\u001b[39;49mkwds)  \u001b[39m# pylint: disable=not-callable\u001b[39;00m\n\u001b[0;32m    858\u001b[0m \u001b[39melif\u001b[39;00m \u001b[39mself\u001b[39m\u001b[39m.\u001b[39m_variable_creation_fn \u001b[39mis\u001b[39;00m \u001b[39mnot\u001b[39;00m \u001b[39mNone\u001b[39;00m:\n\u001b[0;32m    859\u001b[0m   \u001b[39m# Release the lock early so that multiple threads can perform the call\u001b[39;00m\n\u001b[0;32m    860\u001b[0m   \u001b[39m# in parallel.\u001b[39;00m\n\u001b[0;32m    861\u001b[0m   \u001b[39mself\u001b[39m\u001b[39m.\u001b[39m_lock\u001b[39m.\u001b[39mrelease()\n",
            "File \u001b[1;32m~\\AppData\\Roaming\\Python\\Python311\\site-packages\\tensorflow\\python\\eager\\polymorphic_function\\tracing_compiler.py:148\u001b[0m, in \u001b[0;36mTracingCompiler.__call__\u001b[1;34m(self, *args, **kwargs)\u001b[0m\n\u001b[0;32m    145\u001b[0m \u001b[39mwith\u001b[39;00m \u001b[39mself\u001b[39m\u001b[39m.\u001b[39m_lock:\n\u001b[0;32m    146\u001b[0m   (concrete_function,\n\u001b[0;32m    147\u001b[0m    filtered_flat_args) \u001b[39m=\u001b[39m \u001b[39mself\u001b[39m\u001b[39m.\u001b[39m_maybe_define_function(args, kwargs)\n\u001b[1;32m--> 148\u001b[0m \u001b[39mreturn\u001b[39;00m concrete_function\u001b[39m.\u001b[39;49m_call_flat(\n\u001b[0;32m    149\u001b[0m     filtered_flat_args, captured_inputs\u001b[39m=\u001b[39;49mconcrete_function\u001b[39m.\u001b[39;49mcaptured_inputs)\n",
            "File \u001b[1;32m~\\AppData\\Roaming\\Python\\Python311\\site-packages\\tensorflow\\python\\eager\\polymorphic_function\\monomorphic_function.py:1349\u001b[0m, in \u001b[0;36mConcreteFunction._call_flat\u001b[1;34m(self, args, captured_inputs)\u001b[0m\n\u001b[0;32m   1345\u001b[0m possible_gradient_type \u001b[39m=\u001b[39m gradients_util\u001b[39m.\u001b[39mPossibleTapeGradientTypes(args)\n\u001b[0;32m   1346\u001b[0m \u001b[39mif\u001b[39;00m (possible_gradient_type \u001b[39m==\u001b[39m gradients_util\u001b[39m.\u001b[39mPOSSIBLE_GRADIENT_TYPES_NONE\n\u001b[0;32m   1347\u001b[0m     \u001b[39mand\u001b[39;00m executing_eagerly):\n\u001b[0;32m   1348\u001b[0m   \u001b[39m# No tape is watching; skip to running the function.\u001b[39;00m\n\u001b[1;32m-> 1349\u001b[0m   \u001b[39mreturn\u001b[39;00m \u001b[39mself\u001b[39m\u001b[39m.\u001b[39m_build_call_outputs(\u001b[39mself\u001b[39;49m\u001b[39m.\u001b[39;49m_inference_function(\u001b[39m*\u001b[39;49margs))\n\u001b[0;32m   1350\u001b[0m forward_backward \u001b[39m=\u001b[39m \u001b[39mself\u001b[39m\u001b[39m.\u001b[39m_select_forward_and_backward_functions(\n\u001b[0;32m   1351\u001b[0m     args,\n\u001b[0;32m   1352\u001b[0m     possible_gradient_type,\n\u001b[0;32m   1353\u001b[0m     executing_eagerly)\n\u001b[0;32m   1354\u001b[0m forward_function, args_with_tangents \u001b[39m=\u001b[39m forward_backward\u001b[39m.\u001b[39mforward()\n",
            "File \u001b[1;32m~\\AppData\\Roaming\\Python\\Python311\\site-packages\\tensorflow\\python\\eager\\polymorphic_function\\atomic_function.py:196\u001b[0m, in \u001b[0;36mAtomicFunction.__call__\u001b[1;34m(self, *args)\u001b[0m\n\u001b[0;32m    194\u001b[0m \u001b[39mwith\u001b[39;00m record\u001b[39m.\u001b[39mstop_recording():\n\u001b[0;32m    195\u001b[0m   \u001b[39mif\u001b[39;00m \u001b[39mself\u001b[39m\u001b[39m.\u001b[39m_bound_context\u001b[39m.\u001b[39mexecuting_eagerly():\n\u001b[1;32m--> 196\u001b[0m     outputs \u001b[39m=\u001b[39m \u001b[39mself\u001b[39;49m\u001b[39m.\u001b[39;49m_bound_context\u001b[39m.\u001b[39;49mcall_function(\n\u001b[0;32m    197\u001b[0m         \u001b[39mself\u001b[39;49m\u001b[39m.\u001b[39;49mname,\n\u001b[0;32m    198\u001b[0m         \u001b[39mlist\u001b[39;49m(args),\n\u001b[0;32m    199\u001b[0m         \u001b[39mlen\u001b[39;49m(\u001b[39mself\u001b[39;49m\u001b[39m.\u001b[39;49mfunction_type\u001b[39m.\u001b[39;49mflat_outputs),\n\u001b[0;32m    200\u001b[0m     )\n\u001b[0;32m    201\u001b[0m   \u001b[39melse\u001b[39;00m:\n\u001b[0;32m    202\u001b[0m     outputs \u001b[39m=\u001b[39m make_call_op_in_graph(\u001b[39mself\u001b[39m, \u001b[39mlist\u001b[39m(args))\n",
            "File \u001b[1;32m~\\AppData\\Roaming\\Python\\Python311\\site-packages\\tensorflow\\python\\eager\\context.py:1457\u001b[0m, in \u001b[0;36mContext.call_function\u001b[1;34m(self, name, tensor_inputs, num_outputs)\u001b[0m\n\u001b[0;32m   1455\u001b[0m cancellation_context \u001b[39m=\u001b[39m cancellation\u001b[39m.\u001b[39mcontext()\n\u001b[0;32m   1456\u001b[0m \u001b[39mif\u001b[39;00m cancellation_context \u001b[39mis\u001b[39;00m \u001b[39mNone\u001b[39;00m:\n\u001b[1;32m-> 1457\u001b[0m   outputs \u001b[39m=\u001b[39m execute\u001b[39m.\u001b[39;49mexecute(\n\u001b[0;32m   1458\u001b[0m       name\u001b[39m.\u001b[39;49mdecode(\u001b[39m\"\u001b[39;49m\u001b[39mutf-8\u001b[39;49m\u001b[39m\"\u001b[39;49m),\n\u001b[0;32m   1459\u001b[0m       num_outputs\u001b[39m=\u001b[39;49mnum_outputs,\n\u001b[0;32m   1460\u001b[0m       inputs\u001b[39m=\u001b[39;49mtensor_inputs,\n\u001b[0;32m   1461\u001b[0m       attrs\u001b[39m=\u001b[39;49mattrs,\n\u001b[0;32m   1462\u001b[0m       ctx\u001b[39m=\u001b[39;49m\u001b[39mself\u001b[39;49m,\n\u001b[0;32m   1463\u001b[0m   )\n\u001b[0;32m   1464\u001b[0m \u001b[39melse\u001b[39;00m:\n\u001b[0;32m   1465\u001b[0m   outputs \u001b[39m=\u001b[39m execute\u001b[39m.\u001b[39mexecute_with_cancellation(\n\u001b[0;32m   1466\u001b[0m       name\u001b[39m.\u001b[39mdecode(\u001b[39m\"\u001b[39m\u001b[39mutf-8\u001b[39m\u001b[39m\"\u001b[39m),\n\u001b[0;32m   1467\u001b[0m       num_outputs\u001b[39m=\u001b[39mnum_outputs,\n\u001b[1;32m   (...)\u001b[0m\n\u001b[0;32m   1471\u001b[0m       cancellation_manager\u001b[39m=\u001b[39mcancellation_context,\n\u001b[0;32m   1472\u001b[0m   )\n",
            "File \u001b[1;32m~\\AppData\\Roaming\\Python\\Python311\\site-packages\\tensorflow\\python\\eager\\execute.py:53\u001b[0m, in \u001b[0;36mquick_execute\u001b[1;34m(op_name, num_outputs, inputs, attrs, ctx, name)\u001b[0m\n\u001b[0;32m     51\u001b[0m \u001b[39mtry\u001b[39;00m:\n\u001b[0;32m     52\u001b[0m   ctx\u001b[39m.\u001b[39mensure_initialized()\n\u001b[1;32m---> 53\u001b[0m   tensors \u001b[39m=\u001b[39m pywrap_tfe\u001b[39m.\u001b[39;49mTFE_Py_Execute(ctx\u001b[39m.\u001b[39;49m_handle, device_name, op_name,\n\u001b[0;32m     54\u001b[0m                                       inputs, attrs, num_outputs)\n\u001b[0;32m     55\u001b[0m \u001b[39mexcept\u001b[39;00m core\u001b[39m.\u001b[39m_NotOkStatusException \u001b[39mas\u001b[39;00m e:\n\u001b[0;32m     56\u001b[0m   \u001b[39mif\u001b[39;00m name \u001b[39mis\u001b[39;00m \u001b[39mnot\u001b[39;00m \u001b[39mNone\u001b[39;00m:\n",
            "\u001b[1;31mKeyboardInterrupt\u001b[0m: "
          ]
        }
      ],
      "source": [
        "history = model.fit([input_note_reshaped, input_step_reshaped,  input_volume_reshaped, input_duration_reshaped], [output_note_reshaped, output_step_reshaped, output_volume_reshaped, output_duration_reshaped], epochs=400, batch_size=128, callbacks=[cp_callback])"
      ]
    },
    {
      "cell_type": "markdown",
      "metadata": {},
      "source": [
        "## Prédiction"
      ]
    },
    {
      "cell_type": "markdown",
      "metadata": {},
      "source": [
        "### Ouverture du morceau à prédire"
      ]
    },
    {
      "cell_type": "markdown",
      "metadata": {},
      "source": [
        "Le modèle est entraîné (logiquement), on peut passer à l'étape de prédiction.\n",
        "Pour prédire, on commence par choisir un morceau que l'on veut un '.mid' auquel on va appliquer les mêmes transformations que pour les données en entrée (transformation one-hot)"
      ]
    },
    {
      "cell_type": "code",
      "execution_count": 46,
      "metadata": {
        "id": "4WJMK0GMUCUF"
      },
      "outputs": [],
      "source": [
        "midi = converter.parse(\"dataset/chopin/chp_op18.mid\")\n",
        "notes = get_notes(midi)\n",
        "\n",
        "df_input_predict = pd.DataFrame(notes, columns=['offset','volume','duration', 'note_str', 'step'])"
      ]
    },
    {
      "cell_type": "code",
      "execution_count": 47,
      "metadata": {
        "colab": {
          "base_uri": "https://localhost:8080/",
          "height": 423
        },
        "id": "Lbf3GfuRVZeP",
        "outputId": "a7a07153-b4dd-44a2-b9b0-e950551f42ac"
      },
      "outputs": [
        {
          "data": {
            "text/html": [
              "<div>\n",
              "<style scoped>\n",
              "    .dataframe tbody tr th:only-of-type {\n",
              "        vertical-align: middle;\n",
              "    }\n",
              "\n",
              "    .dataframe tbody tr th {\n",
              "        vertical-align: top;\n",
              "    }\n",
              "\n",
              "    .dataframe thead th {\n",
              "        text-align: right;\n",
              "    }\n",
              "</style>\n",
              "<table border=\"1\" class=\"dataframe\">\n",
              "  <thead>\n",
              "    <tr style=\"text-align: right;\">\n",
              "      <th></th>\n",
              "      <th>offset</th>\n",
              "      <th>volume</th>\n",
              "      <th>duration</th>\n",
              "      <th>note_str</th>\n",
              "      <th>step</th>\n",
              "    </tr>\n",
              "  </thead>\n",
              "  <tbody>\n",
              "    <tr>\n",
              "      <th>0</th>\n",
              "      <td>0.00</td>\n",
              "      <td>80.0</td>\n",
              "      <td>0.576729</td>\n",
              "      <td>B-4</td>\n",
              "      <td>0.00</td>\n",
              "    </tr>\n",
              "    <tr>\n",
              "      <th>1</th>\n",
              "      <td>0.00</td>\n",
              "      <td>0.0</td>\n",
              "      <td>0.576729</td>\n",
              "      <td>REST</td>\n",
              "      <td>0.00</td>\n",
              "    </tr>\n",
              "    <tr>\n",
              "      <th>2</th>\n",
              "      <td>2.00</td>\n",
              "      <td>74.0</td>\n",
              "      <td>0.071077</td>\n",
              "      <td>B-4</td>\n",
              "      <td>2.00</td>\n",
              "    </tr>\n",
              "    <tr>\n",
              "      <th>3</th>\n",
              "      <td>2.00</td>\n",
              "      <td>0.0</td>\n",
              "      <td>0.284306</td>\n",
              "      <td>REST</td>\n",
              "      <td>0.00</td>\n",
              "    </tr>\n",
              "    <tr>\n",
              "      <th>4</th>\n",
              "      <td>2.25</td>\n",
              "      <td>0.0</td>\n",
              "      <td>0.071077</td>\n",
              "      <td>REST</td>\n",
              "      <td>0.25</td>\n",
              "    </tr>\n",
              "    <tr>\n",
              "      <th>...</th>\n",
              "      <td>...</td>\n",
              "      <td>...</td>\n",
              "      <td>...</td>\n",
              "      <td>...</td>\n",
              "      <td>...</td>\n",
              "    </tr>\n",
              "    <tr>\n",
              "      <th>6077</th>\n",
              "      <td>1073.75</td>\n",
              "      <td>0.0</td>\n",
              "      <td>0.212766</td>\n",
              "      <td>REST</td>\n",
              "      <td>0.25</td>\n",
              "    </tr>\n",
              "    <tr>\n",
              "      <th>6078</th>\n",
              "      <td>1073.75</td>\n",
              "      <td>0.0</td>\n",
              "      <td>0.212766</td>\n",
              "      <td>REST</td>\n",
              "      <td>0.00</td>\n",
              "    </tr>\n",
              "    <tr>\n",
              "      <th>6079</th>\n",
              "      <td>1074.00</td>\n",
              "      <td>113.0</td>\n",
              "      <td>1.607143</td>\n",
              "      <td>E-3</td>\n",
              "      <td>0.25</td>\n",
              "    </tr>\n",
              "    <tr>\n",
              "      <th>6080</th>\n",
              "      <td>1074.00</td>\n",
              "      <td>96.0</td>\n",
              "      <td>1.607143</td>\n",
              "      <td>E-1</td>\n",
              "      <td>0.00</td>\n",
              "    </tr>\n",
              "    <tr>\n",
              "      <th>6081</th>\n",
              "      <td>1074.00</td>\n",
              "      <td>96.0</td>\n",
              "      <td>1.607143</td>\n",
              "      <td>E-2</td>\n",
              "      <td>0.00</td>\n",
              "    </tr>\n",
              "  </tbody>\n",
              "</table>\n",
              "<p>6082 rows × 5 columns</p>\n",
              "</div>"
            ],
            "text/plain": [
              "       offset  volume  duration note_str  step\n",
              "0        0.00    80.0  0.576729      B-4  0.00\n",
              "1        0.00     0.0  0.576729     REST  0.00\n",
              "2        2.00    74.0  0.071077      B-4  2.00\n",
              "3        2.00     0.0  0.284306     REST  0.00\n",
              "4        2.25     0.0  0.071077     REST  0.25\n",
              "...       ...     ...       ...      ...   ...\n",
              "6077  1073.75     0.0  0.212766     REST  0.25\n",
              "6078  1073.75     0.0  0.212766     REST  0.00\n",
              "6079  1074.00   113.0  1.607143      E-3  0.25\n",
              "6080  1074.00    96.0  1.607143      E-1  0.00\n",
              "6081  1074.00    96.0  1.607143      E-2  0.00\n",
              "\n",
              "[6082 rows x 5 columns]"
            ]
          },
          "execution_count": 47,
          "metadata": {},
          "output_type": "execute_result"
        }
      ],
      "source": [
        "df_input_predict"
      ]
    },
    {
      "cell_type": "markdown",
      "metadata": {},
      "source": [
        "### Création des données"
      ]
    },
    {
      "cell_type": "markdown",
      "metadata": {},
      "source": [
        "Maintenant que le morceau est ouvert, par soucis de détails on va lui appliquer exactement les mêmes transformations qu'au début. De cette manière on aura des jeu d'entraînement basés sur le morceau que l'on veut prédire, ce qui facilitera la prédiction ultérieure.\n",
        "Cela peut paraître laborieu pour si peu, mais au vue du temps que cela prend (très court), on se le permet.\n",
        "\n",
        "On encode les données en utilisant les mêmes encodeurs qu'avant, et les mêmes intervalles lors de la création de classes."
      ]
    },
    {
      "cell_type": "code",
      "execution_count": 48,
      "metadata": {
        "id": "W9xsGGTnaCB8"
      },
      "outputs": [],
      "source": [
        "input_note_input_predict, output_note_input_predict = [], []\n",
        "input_offset_input_predict, output_offset_input_predict = [], []\n",
        "input_volume_input_predict, output_volume_input_predict = [], []\n",
        "input_duration_input_predict, output_duration_input_predict = [], []\n",
        "input_step_input_predict, output_step_input_predict = [], []"
      ]
    },
    {
      "cell_type": "code",
      "execution_count": 49,
      "metadata": {
        "id": "oXaRkVSIVQJB"
      },
      "outputs": [],
      "source": [
        "\n",
        "# encode le volume et la durée\n",
        "df_input_predict[\"volume_class\"] = pd.cut(df_input_predict[\"volume\"], bins=bins_volume, labels=values_volume)\n",
        "df_input_predict[\"duration_class\"] = pd.cut(df_input_predict[\"duration\"], bins=bins_duration, labels=values_duration)\n",
        "\n",
        "\n",
        "# transform en one hot à partir des modèles entrainés\n",
        "notes_encoded = oh_notes.transform(df_input_predict[['note_str']]).toarray()\n",
        "volume_encoded = oh_volume.transform(df_input_predict[['volume_class']]).toarray()\n",
        "duration_encoded = oh_duration.transform(df_input_predict[['duration_class']]).toarray()\n",
        "\n",
        "# prépare les input (longeur = sequence_length) pour chaque morceau\n",
        "# garde certaine cohérence au morceau même\n",
        "input_offset_input_predict, output_offset_input_predict = prepare_sequence(df_input_predict['offset'].values, sequence_length, input_offset_input_predict, output_offset_input_predict)\n",
        "input_note_input_predict, output_note_input_predict = prepare_sequence(notes_encoded, sequence_length, input_note_input_predict, output_note_input_predict)\n",
        "input_volume_input_predict, output_volume_input_predict = prepare_sequence(volume_encoded, sequence_length, input_volume_input_predict, output_volume_input_predict)\n",
        "input_duration_input_predict, output_duration_input_predict = prepare_sequence(df_input_predict[\"duration\"].values, sequence_length, input_duration_input_predict, output_duration_input_predict)\n",
        "input_step_input_predict, output_step_input_predict = prepare_sequence(df_input_predict['step'].values, sequence_length, input_step_input_predict, output_step_input_predict)"
      ]
    },
    {
      "cell_type": "markdown",
      "metadata": {},
      "source": [
        "### Prédiction de la suite ou d'un quelconque passage"
      ]
    },
    {
      "cell_type": "markdown",
      "metadata": {},
      "source": [
        "#### Chargement des poids (s'ils existent)"
      ]
    },
    {
      "cell_type": "code",
      "execution_count": null,
      "metadata": {},
      "outputs": [],
      "source": [
        "model.load_weights('/content/model_weights_epoch1.h5')"
      ]
    },
    {
      "cell_type": "markdown",
      "metadata": {},
      "source": [
        " #### Prédire les n prochaines notes"
      ]
    },
    {
      "cell_type": "markdown",
      "metadata": {},
      "source": [
        "Les données du morceau à prédire sont maintenant prêtes, il faut maintenant prédire le morceau à partir d'où on veut. En gardant en tête que ce sont des séquences de 25, on peut commencer à prédire un morceau à partir de sa 26ème note ou à partir de la dernière.\n",
        "Les données en entrée seront 4 tensor d'une longeur de 25 chacun contenant une composante d'une note, une fois donnée en entrée du modèle, le modèle donnera 4 sorties, une pour chaque composante avec un traitement qui lui sera propre."
      ]
    },
    {
      "cell_type": "code",
      "execution_count": 50,
      "metadata": {},
      "outputs": [],
      "source": [
        "predict_from = 100"
      ]
    },
    {
      "cell_type": "code",
      "execution_count": 51,
      "metadata": {
        "id": "S7L6Fyy1pFBa"
      },
      "outputs": [],
      "source": [
        "pattern_note = input_note_input_predict[predict_from]\n",
        "pattern_offset = input_offset_input_predict[predict_from]\n",
        "pattern_volume = input_volume_input_predict[predict_from]\n",
        "pattern_duration = input_duration_input_predict[predict_from]\n",
        "pattern_step = input_step_input_predict[predict_from]"
      ]
    },
    {
      "cell_type": "markdown",
      "metadata": {},
      "source": [
        "Maintenant que tout est bon, on peut prédire.\n",
        "Bien sûr il reste nécessaire de reshape les données pour leur données le bon format (1, 25, ...).\n",
        "Une fois cela fait, on peut prédire et récupérer les sorties prédites.\n",
        "\n",
        "Comme mentionné dans la description du modèle, si pour la sortie de la durée et du step ce sont des entiers car régressions, il n'y a pas forcément de traitement précis à adopter car la sortie peut être directement exploitée. Le volume sort d'un softmax, ainsi en récupérant l'indice où la probabilité est la plus élevée on peut reconsituer une array one-hot correspondant et utiliser l'encodeur du volume pour avoir la classe correspondante et ainsi le volume associé.\n",
        "Pour les notes c'est autre chose, il a été mentionné qu'on utiliserait les logits. En somme, la sortie des notes sera une array comme si c'était un softmax mais avant l'application du softmax. On aura donc des chiffres plus ou moins élevées n'étant PAS des probabilités. On les garde dans cet état pour appliquer de la température (moyen de faire varier les résultats), car le modèle peut très vite rencontrer une boucle et ne prédire que la même chose. Donc, on récupère les logits en sortie, les divisons par le température et appliquons le calcul d'un softmax pour obtenir les probabilités, et prenons la classe selon une loi multinomial respectant les probabilités calculées et indiquées.\n",
        "\n",
        "Bien évidemment pour respecter la forme des données en entrée, à chaque prédiction, on prend les données prédites que l'on ajoute aux données utilisées pour prédire en gardant une taille de 25. De cette manière si au départ pour prédire les première notes on utilisent les données du vrai morceau, petit à petit on utilisera les anciennes prédicitions pour faire les nouvelles.\n",
        "\n",
        "En possession de toutes ces prédictions de chacunes des composantes, on les ajoutent dans une array pour après les transformer en indicateur auditif. "
      ]
    },
    {
      "cell_type": "code",
      "execution_count": null,
      "metadata": {
        "colab": {
          "base_uri": "https://localhost:8080/"
        },
        "id": "1C2Vt-MH0nm_",
        "outputId": "38e0ef3e-cbfc-4feb-c3ba-c005cf162a6a"
      },
      "outputs": [
        {
          "name": "stderr",
          "output_type": "stream",
          "text": [
            "100%|██████████| 200/200 [00:15<00:00, 12.69it/s]\n"
          ]
        }
      ],
      "source": [
        "# prediction time\n",
        "prediction_output = []\n",
        "\n",
        "\n",
        "prev_start = pattern_offset[-1]\n",
        "for i in tqdm(range(200)):\n",
        "\n",
        "    note_prediction_input = numpy.reshape(pattern_note, (1, len(pattern_note), -1))\n",
        "    volume_prediction_input = numpy.reshape(pattern_volume, (1, len(pattern_volume), -1))\n",
        "    duration_prediction_input = numpy.reshape(pattern_duration, (1, len(pattern_duration), -1))\n",
        "    offset_prediction_input = numpy.reshape(pattern_offset, (1, len(pattern_offset), 1))\n",
        "    step_prediction_input = numpy.reshape(pattern_step, (1, len(pattern_step), 1))\n",
        "\n",
        "    prediction = model.predict([note_prediction_input, step_prediction_input, volume_prediction_input, duration_prediction_input], verbose=0)\n",
        "\n",
        "    note_softmax = prediction[0]\n",
        "\n",
        "    notes_pred = np.zeros(len(pattern_note[0]))\n",
        "    notes_pred[np.argmax(prediction[0])] = 1\n",
        "\n",
        "    a = note_softmax[0] / 1.0\n",
        "    a = np.array(a, dtype=np.float64)\n",
        "    max_logit = np.max(a)\n",
        "    a = np.exp(a) / np.sum(np.exp(a))\n",
        "    sample = np.random.multinomial(1, a)\n",
        "\n",
        "\n",
        "    result_note = oh_notes.inverse_transform(sample.reshape(1, -1))\n",
        "    pattern_note = numpy.concatenate([pattern_note, [sample]])\n",
        "    pattern_note = pattern_note[1:]\n",
        "\n",
        "    step_predict = prediction[1][0][0]\n",
        "    pattern_step = numpy.concatenate([pattern_step, prediction[1][0]])\n",
        "    prev_start += step_predict\n",
        "    pattern_offset = numpy.concatenate([pattern_offset, [prev_start]])\n",
        "\n",
        "    pattern_step = pattern_step[1:]\n",
        "    pattern_offset = pattern_offset[1:]\n",
        "\n",
        "    # la même avec le volume\n",
        "    volume_pred = np.zeros(len(pattern_volume[1]))\n",
        "    volume_pred[np.argmax(prediction[2])] = 1\n",
        "    result_volume = oh_volume.inverse_transform(volume_pred.reshape(1, -1))\n",
        "    pattern_volume = numpy.concatenate([pattern_volume, [volume_pred]])\n",
        "    pattern_volume = pattern_volume[1:]\n",
        "\n",
        "    duration_pred = prediction[3][0][0]\n",
        "    duration_pred_rounded = round(duration_pred,3)\n",
        "    pattern_duration = numpy.concatenate([pattern_duration, [duration_pred]])\n",
        "    pattern_duration = pattern_duration[1:]\n",
        "\n",
        "    volume_encoded = result_volume[0][0]\n",
        "    volume_decoded = dict_volume_class[volume_encoded]\n",
        "    \n",
        "    prediction_output.append([result_note[0][0], step_predict, volume_decoded, duration_pred_rounded])\n"
      ]
    },
    {
      "cell_type": "markdown",
      "metadata": {},
      "source": [
        "#### Etudes des résultats"
      ]
    },
    {
      "cell_type": "code",
      "execution_count": null,
      "metadata": {},
      "outputs": [],
      "source": [
        "df_predicted = pd.DataFrame(prediction_output, columns=['note_str','step','volume', 'duration'])"
      ]
    },
    {
      "cell_type": "code",
      "execution_count": null,
      "metadata": {},
      "outputs": [],
      "source": [
        "df_input_predict['note_int'] = df_input_predict['note_str'].apply(check_pitch)\n",
        "df_predicted['note_int'] = df_predicted['note_str'].apply(check_pitch)"
      ]
    },
    {
      "cell_type": "code",
      "execution_count": null,
      "metadata": {},
      "outputs": [],
      "source": [
        "true_output = df_input_predict[predict_from+25:predict_from+25+200]\n",
        "predicted_output = df_predicted"
      ]
    },
    {
      "cell_type": "markdown",
      "metadata": {},
      "source": [
        "##### Note prédites"
      ]
    },
    {
      "cell_type": "code",
      "execution_count": null,
      "metadata": {},
      "outputs": [],
      "source": [
        "true_output_note = true_output.note_int.array\n",
        "predicted_output_note = predicted_output.note_int.array"
      ]
    },
    {
      "cell_type": "code",
      "execution_count": null,
      "metadata": {},
      "outputs": [],
      "source": [
        "plt.plot(true_output_note)\n",
        "plt.plot(predicted_output_note)\n",
        "plt.legend(['true', 'predicted'])"
      ]
    },
    {
      "cell_type": "code",
      "execution_count": null,
      "metadata": {},
      "outputs": [],
      "source": [
        "smape_loss(predicted_output_note, true_output_note)"
      ]
    },
    {
      "cell_type": "markdown",
      "metadata": {},
      "source": [
        "Pour ce qui est de la prédiction des notes, la loss semble quand même assez élevé même si graphiquement on ne constate pas de grandes différences notables. Cela constitue quand même la plus grosse loss parmi tous les modèles (statistiques et deep learning)."
      ]
    },
    {
      "cell_type": "markdown",
      "metadata": {},
      "source": [
        "##### Step prédits"
      ]
    },
    {
      "cell_type": "code",
      "execution_count": null,
      "metadata": {},
      "outputs": [],
      "source": [
        "true_output_step = true_output.step.array\n",
        "predicted_output_step = predicted_output.step.array"
      ]
    },
    {
      "cell_type": "code",
      "execution_count": null,
      "metadata": {},
      "outputs": [],
      "source": [
        "plt.plot(true_output_step)\n",
        "plt.plot(predicted_output_step)\n",
        "plt.legend(['true', 'predicted'])"
      ]
    },
    {
      "cell_type": "code",
      "execution_count": null,
      "metadata": {},
      "outputs": [],
      "source": [
        "smape_loss(predicted_output_step, true_output_step)"
      ]
    },
    {
      "cell_type": "markdown",
      "metadata": {},
      "source": [
        "La prédiction des step est plutôt proche est correcte puisque la loss est finalement assez basse"
      ]
    },
    {
      "cell_type": "markdown",
      "metadata": {},
      "source": [
        "##### Durée prédites"
      ]
    },
    {
      "cell_type": "code",
      "execution_count": null,
      "metadata": {},
      "outputs": [],
      "source": [
        "true_output_duration = true_output.duration.array\n",
        "predicted_output_duration = predicted_output.duration.array"
      ]
    },
    {
      "cell_type": "code",
      "execution_count": null,
      "metadata": {},
      "outputs": [],
      "source": [
        "plt.plot(true_output_duration)\n",
        "plt.plot(predicted_output_duration)\n",
        "plt.legend(['true', 'predicted'])"
      ]
    },
    {
      "cell_type": "code",
      "execution_count": null,
      "metadata": {},
      "outputs": [],
      "source": [
        "smape_loss(predicted_output_duration, true_output_duration)"
      ]
    },
    {
      "cell_type": "markdown",
      "metadata": {},
      "source": [
        "Pour finir, la prédiction de la durée des notes est elle aussi assez basses."
      ]
    },
    {
      "cell_type": "markdown",
      "metadata": {},
      "source": [
        "#### Ecouter le résultat"
      ]
    },
    {
      "cell_type": "markdown",
      "metadata": {},
      "source": [
        "Avec les prédictions, on va maintenant les transformer dans le sens inverse pour avoir non plus un résultats numérique mais audio."
      ]
    },
    {
      "cell_type": "code",
      "execution_count": null,
      "metadata": {
        "id": "BxktumUV0H22"
      },
      "outputs": [],
      "source": [
        "offset = 0\n",
        "output_notes = []\n",
        "# on passes des prédicitons à un format écoutable à l'oreille\n",
        "\n",
        "prev_start = 0\n",
        "resolution = 480\n",
        "# pour chaque note prédite\n",
        "for note_p in prediction_output:\n",
        "    pattern = note_p[0]\n",
        "    # si note = chord\n",
        "    if ('+' in pattern) or pattern.isdigit():\n",
        "        notes_in_chord = pattern.split('+')\n",
        "        notes = []\n",
        "        for current_note in notes_in_chord:\n",
        "            new_note = note.Note(int(current_note))\n",
        "            new_note.storedInstrument = instrument.Piano()\n",
        "            notes.append(new_note)\n",
        "        new_chord = chord.Chord(notes)\n",
        "        new_chord.offset = prev_start + note_p[1]\n",
        "        #new_chord.offset = note_p[1]\n",
        "        # met le volume associé\n",
        "        new_chord.volume.velocity = note_p[2]\n",
        "        # met la durée associée\n",
        "        new_chord.duration = Duration(note_p[3])\n",
        "        output_notes.append(new_chord)\n",
        "    # si note est un rest\n",
        "    elif('REST'in pattern):\n",
        "      note_rest = note.Rest()\n",
        "      note_rest.offset = prev_start + note_p[1]\n",
        "      #note_rest.offset = note_p[1]\n",
        "      # durée associée (pas de volume car silencieux)\n",
        "      note_rest.duration = Duration(quarterLength = note_p[3] * resolution / 60)\n",
        "      output_notes.append(note_rest)\n",
        "    else:\n",
        "        new_note = note.Note(pattern)\n",
        "        new_note.offset = prev_start + note_p[1]\n",
        "        #new_note.offset = note_p[1]\n",
        "        new_note.volume.velocity = note_p[2]\n",
        "        new_note.duration = Duration(quarterLength = note_p[3] * resolution / 60)\n",
        "        new_note.storedInstrument = instrument.Piano()\n",
        "        output_notes.append(new_note)\n",
        "    prev_start = prev_start + note_p[1]\n",
        "    # increase offset each iteration so that notes do not stack\n",
        "    #offset += 0.5"
      ]
    },
    {
      "cell_type": "code",
      "execution_count": null,
      "metadata": {
        "colab": {
          "base_uri": "https://localhost:8080/",
          "height": 36
        },
        "id": "I5W_QMyyn7BA",
        "outputId": "a6512cf9-0390-47f2-c96e-2514e1eb8837"
      },
      "outputs": [
        {
          "data": {
            "application/vnd.google.colaboratory.intrinsic+json": {
              "type": "string"
            },
            "text/plain": [
              "'test_outputNoteOneHot13SwedenT1.mid'"
            ]
          },
          "execution_count": 175,
          "metadata": {},
          "output_type": "execute_result"
        }
      ],
      "source": [
        "#into midi\n",
        "midi_stream = stream.Stream(output_notes)\n",
        "midi_stream.write('midi', fp='test_output.mid')"
      ]
    }
  ],
  "metadata": {
    "accelerator": "GPU",
    "colab": {
      "gpuType": "T4",
      "provenance": []
    },
    "kernelspec": {
      "display_name": "Python 3",
      "name": "python3"
    },
    "language_info": {
      "codemirror_mode": {
        "name": "ipython",
        "version": 3
      },
      "file_extension": ".py",
      "mimetype": "text/x-python",
      "name": "python",
      "nbconvert_exporter": "python",
      "pygments_lexer": "ipython3",
      "version": "3.11.0"
    }
  },
  "nbformat": 4,
  "nbformat_minor": 0
}
