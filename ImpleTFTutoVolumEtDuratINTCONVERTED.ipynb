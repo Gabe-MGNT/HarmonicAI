{
  "nbformat": 4,
  "nbformat_minor": 0,
  "metadata": {
    "colab": {
      "provenance": [],
      "gpuType": "T4"
    },
    "kernelspec": {
      "name": "python3",
      "display_name": "Python 3"
    },
    "language_info": {
      "name": "python"
    },
    "accelerator": "GPU"
  },
  "cells": [
    {
      "cell_type": "code",
      "execution_count": 1,
      "metadata": {
        "id": "wLez1Slaaydy"
      },
      "outputs": [],
      "source": [
        "from music21 import converter, instrument, note, chord, stream\n",
        "import numpy\n",
        "from matplotlib import pyplot as plt\n",
        "import keras\n",
        "from sklearn.preprocessing import OneHotEncoder, MinMaxScaler\n",
        "from keras import Sequential, Model\n",
        "from keras.layers import LSTM, Dropout, Dense, Activation, Input, concatenate\n",
        "import pandas as pd\n",
        "from tensorflow.keras.layers import Input, Dense, Dropout, BatchNormalization, Flatten\n",
        "import os\n",
        "from tensorflow.keras.models import Model\n",
        "from tensorflow.keras.layers import MultiHeadAttention, LayerNormalization, Embedding\n",
        "import tensorflow as tf\n",
        "from tqdm import tqdm\n",
        "import numpy as np"
      ]
    },
    {
      "cell_type": "code",
      "source": [
        "!unzip dataset.zip"
      ],
      "metadata": {
        "id": "jMOiwvUEduhe",
        "colab": {
          "base_uri": "https://localhost:8080/"
        },
        "outputId": "71dc76c9-bd8d-40a6-97b5-96a6209a48e2"
      },
      "execution_count": 2,
      "outputs": [
        {
          "output_type": "stream",
          "name": "stdout",
          "text": [
            "Archive:  dataset.zip\n",
            "replace dataset/chopin/chpn-p12.mid? [y]es, [n]o, [A]ll, [N]one, [r]ename: a\n",
            "error:  invalid response [a]\n",
            "replace dataset/chopin/chpn-p12.mid? [y]es, [n]o, [A]ll, [N]one, [r]ename: A\n",
            "  inflating: dataset/chopin/chpn-p12.mid  \n",
            "  inflating: dataset/chopin/chpn-p15.mid  \n",
            "  inflating: dataset/chopin/chpn-p16.mid  \n",
            "  inflating: dataset/chopin/chpn-p17.mid  \n",
            "  inflating: dataset/chopin/chpn-p18.mid  \n",
            "  inflating: dataset/chopin/chpn-p19.mid  \n",
            "  inflating: dataset/chopin/chpn-p20.mid  \n",
            "  inflating: dataset/chopin/chpn-p21.mid  \n",
            "  inflating: dataset/chopin/chpn-p22.mid  \n",
            "  inflating: dataset/chopin/chpn-p23.mid  \n",
            "  inflating: dataset/chopin/chpn-p24.mid  \n",
            "  inflating: dataset/chopin/chpn-p7.mid  \n",
            "  inflating: dataset/chopin/chpn_op10_e01.mid  \n",
            "  inflating: dataset/chopin/chpn_op10_e05.mid  \n",
            "  inflating: dataset/chopin/chpn_op10_e12.mid  \n",
            "  inflating: dataset/chopin/chpn_op23.mid  \n",
            "  inflating: dataset/chopin/chpn_op25_e1.mid  \n",
            "  inflating: dataset/chopin/chpn_op25_e2.mid  \n",
            "  inflating: dataset/chopin/chpn_op25_e3.mid  \n",
            "  inflating: dataset/chopin/chpn_op25_e4.mid  \n",
            "  inflating: dataset/chopin/chpn_op27_1.mid  \n",
            "  inflating: dataset/chopin/chpn_op33_2.mid  \n",
            "  inflating: dataset/chopin/chpn_op35_1.mid  \n",
            "  inflating: dataset/chopin/chpn_op7_1 (1).mid  \n",
            "  inflating: dataset/chopin/chp_op18.mid  \n",
            "  inflating: dataset/chopin/chp_op31.mid  \n",
            "  inflating: dataset/schubert/schubert_D850_1.mid  \n",
            "  inflating: dataset/schubert/schubert_D850_2.mid  \n",
            "  inflating: dataset/schubert/schubert_D850_3.mid  \n",
            "  inflating: dataset/schubert/schubert_D850_4.mid  \n",
            "  inflating: dataset/schubert/schubert_D935_1.mid  \n",
            "  inflating: dataset/schubert/schubert_D935_2.mid  \n",
            "  inflating: dataset/schubert/schubert_D935_3.mid  \n",
            "  inflating: dataset/schubert/schub_d760_1.mid  \n",
            "  inflating: dataset/schubert/schub_d760_2.mid  \n",
            "  inflating: dataset/schubert/schub_d760_3.mid  \n",
            "  inflating: dataset/schubert/schub_d760_4.mid  \n",
            "  inflating: dataset/schubert/schuim-1.mid  \n",
            "  inflating: dataset/schubert/schuim-2.mid  \n",
            "  inflating: dataset/schubert/schuim-3.mid  \n",
            "  inflating: dataset/schubert/schuim-4.mid  \n",
            "  inflating: dataset/schubert/schumm-1.mid  \n",
            "  inflating: dataset/schubert/schumm-2.mid  \n",
            "  inflating: dataset/schubert/schumm-3.mid  \n",
            "  inflating: dataset/schubert/schumm-4.mid  \n",
            "  inflating: dataset/schubert/schumm-5.mid  \n",
            "  inflating: dataset/schubert/schumm-6.mid  \n",
            "  inflating: dataset/schubert/schu_143_1.mid  \n",
            "  inflating: dataset/schubert/schu_143_2.mid  \n",
            "  inflating: dataset/schubert/schu_143_3.mid  \n"
          ]
        }
      ]
    },
    {
      "cell_type": "code",
      "source": [
        "def get_notes(midi):\n",
        "  notes = []\n",
        "\n",
        "  notes_from_midi = midi.flatten().notesAndRests\n",
        "  notes_sorted = sorted(notes_from_midi, key=lambda note: note.offset)\n",
        "\n",
        "  prev_start = notes_sorted[0].offset\n",
        "\n",
        "  for element in notes_sorted:\n",
        "    if isinstance(element , note.Note):\n",
        "      notes.append((float(element.offset), float(element.volume.velocity),float(element.seconds), str(element.pitch), float(element.offset-prev_start)))\n",
        "    elif isinstance(element, chord.Chord):\n",
        "      #notes.append((float(element.offset), float(element.volume.velocity), float(element.seconds), '+'.join(str(n) for n in element.normalOrder)))\n",
        "      for noteChord in element.pitches:\n",
        "        notes.append((float(element.offset),float(element.volume.velocity), float(element.seconds), str(noteChord), float(element.offset-prev_start)))\n",
        "\n",
        "    elif isinstance(element, note.Rest):\n",
        "        # Bizarre car main gauche et droite flatten (réunie)\n",
        "        # Voir autre implémentation\n",
        "        notes.append((float(element.offset), 0,float(element.seconds), \"REST\", float(element.offset-prev_start)))\n",
        "\n",
        "    prev_start = element.offset\n",
        "  return notes\n",
        "\n"
      ],
      "metadata": {
        "id": "ltEonII2gWg0"
      },
      "execution_count": 3,
      "outputs": []
    },
    {
      "cell_type": "code",
      "source": [
        "input_note, output_note = [], []\n",
        "input_offset, output_offset = [], []\n",
        "input_volume, output_volume = [], []\n",
        "input_duration, output_duration = [], []\n",
        "\n",
        "note_all_songs = []\n",
        "for folder in tqdm(os.walk(\"dataset\")):\n",
        "    if len(folder) != 3:\n",
        "      continue\n",
        "    else:\n",
        "      for file in folder[2][:1]:\n",
        "        file_path = str(folder[0])+\"/\"+file\n",
        "\n",
        "        # convertit la piste midi\n",
        "        midi = converter.parse(file_path)\n",
        "\n",
        "        # récupère les notes, volume, dureées...\n",
        "        notes = get_notes(midi)\n",
        "\n",
        "        # ajoute à une liste globale\n",
        "        note_all_songs.append(notes)"
      ],
      "metadata": {
        "id": "nUvY0NWPd79V",
        "colab": {
          "base_uri": "https://localhost:8080/"
        },
        "outputId": "656a6a98-f5f4-497b-fe6f-a6be65db911e"
      },
      "execution_count": 17,
      "outputs": [
        {
          "output_type": "stream",
          "name": "stderr",
          "text": [
            "3it [00:06,  2.10s/it]\n"
          ]
        }
      ]
    },
    {
      "cell_type": "code",
      "source": [
        "# fais un dataframe à partir de toutes les notes (sans distinctions)\n",
        "df = pd.DataFrame([], columns=['debut_note','volume','durée(s)', 'pitch/chord', 'offset'])\n",
        "df = df.reset_index(drop=True)\n",
        "for elem in note_all_songs:\n",
        "    df2 = pd.DataFrame(elem, columns=['debut_note','volume','durée(s)', 'pitch/chord', 'offset'])\n",
        "    df2 = df2.reset_index(drop=True)\n",
        "    df =pd.concat([df,df2])\n",
        "    df = df.reset_index(drop=True)"
      ],
      "metadata": {
        "id": "_bRdnkH6OdJA"
      },
      "execution_count": 18,
      "outputs": []
    },
    {
      "cell_type": "code",
      "source": [
        "df"
      ],
      "metadata": {
        "id": "FsqRZiQCm3MV",
        "colab": {
          "base_uri": "https://localhost:8080/",
          "height": 423
        },
        "outputId": "3680b802-7668-4aab-8b92-da7f885969b2"
      },
      "execution_count": 19,
      "outputs": [
        {
          "output_type": "execute_result",
          "data": {
            "text/plain": [
              "      debut_note  volume  durée(s) pitch/chord  offset\n",
              "0           0.00    90.0  2.278481          G4    0.00\n",
              "1           0.00    90.0  2.278481          G5    0.00\n",
              "2           0.00    65.0  2.278481          G2    0.00\n",
              "3           0.00    65.0  2.278481          G1    0.00\n",
              "4           3.00    44.0  0.413755          B4    3.00\n",
              "...          ...     ...       ...         ...     ...\n",
              "6163       81.00    68.0  2.326258          F1    0.00\n",
              "6164       85.00     0.0  1.543354        REST    4.00\n",
              "6165       85.00     0.0  1.543354        REST    0.00\n",
              "6166       87.75     0.0  0.681818        REST    2.75\n",
              "6167       87.75     0.0  0.681818        REST    0.00\n",
              "\n",
              "[6168 rows x 5 columns]"
            ],
            "text/html": [
              "\n",
              "  <div id=\"df-7f335f3a-a86e-4c8d-b15c-3058c30c5eae\" class=\"colab-df-container\">\n",
              "    <div>\n",
              "<style scoped>\n",
              "    .dataframe tbody tr th:only-of-type {\n",
              "        vertical-align: middle;\n",
              "    }\n",
              "\n",
              "    .dataframe tbody tr th {\n",
              "        vertical-align: top;\n",
              "    }\n",
              "\n",
              "    .dataframe thead th {\n",
              "        text-align: right;\n",
              "    }\n",
              "</style>\n",
              "<table border=\"1\" class=\"dataframe\">\n",
              "  <thead>\n",
              "    <tr style=\"text-align: right;\">\n",
              "      <th></th>\n",
              "      <th>debut_note</th>\n",
              "      <th>volume</th>\n",
              "      <th>durée(s)</th>\n",
              "      <th>pitch/chord</th>\n",
              "      <th>offset</th>\n",
              "    </tr>\n",
              "  </thead>\n",
              "  <tbody>\n",
              "    <tr>\n",
              "      <th>0</th>\n",
              "      <td>0.00</td>\n",
              "      <td>90.0</td>\n",
              "      <td>2.278481</td>\n",
              "      <td>G4</td>\n",
              "      <td>0.00</td>\n",
              "    </tr>\n",
              "    <tr>\n",
              "      <th>1</th>\n",
              "      <td>0.00</td>\n",
              "      <td>90.0</td>\n",
              "      <td>2.278481</td>\n",
              "      <td>G5</td>\n",
              "      <td>0.00</td>\n",
              "    </tr>\n",
              "    <tr>\n",
              "      <th>2</th>\n",
              "      <td>0.00</td>\n",
              "      <td>65.0</td>\n",
              "      <td>2.278481</td>\n",
              "      <td>G2</td>\n",
              "      <td>0.00</td>\n",
              "    </tr>\n",
              "    <tr>\n",
              "      <th>3</th>\n",
              "      <td>0.00</td>\n",
              "      <td>65.0</td>\n",
              "      <td>2.278481</td>\n",
              "      <td>G1</td>\n",
              "      <td>0.00</td>\n",
              "    </tr>\n",
              "    <tr>\n",
              "      <th>4</th>\n",
              "      <td>3.00</td>\n",
              "      <td>44.0</td>\n",
              "      <td>0.413755</td>\n",
              "      <td>B4</td>\n",
              "      <td>3.00</td>\n",
              "    </tr>\n",
              "    <tr>\n",
              "      <th>...</th>\n",
              "      <td>...</td>\n",
              "      <td>...</td>\n",
              "      <td>...</td>\n",
              "      <td>...</td>\n",
              "      <td>...</td>\n",
              "    </tr>\n",
              "    <tr>\n",
              "      <th>6163</th>\n",
              "      <td>81.00</td>\n",
              "      <td>68.0</td>\n",
              "      <td>2.326258</td>\n",
              "      <td>F1</td>\n",
              "      <td>0.00</td>\n",
              "    </tr>\n",
              "    <tr>\n",
              "      <th>6164</th>\n",
              "      <td>85.00</td>\n",
              "      <td>0.0</td>\n",
              "      <td>1.543354</td>\n",
              "      <td>REST</td>\n",
              "      <td>4.00</td>\n",
              "    </tr>\n",
              "    <tr>\n",
              "      <th>6165</th>\n",
              "      <td>85.00</td>\n",
              "      <td>0.0</td>\n",
              "      <td>1.543354</td>\n",
              "      <td>REST</td>\n",
              "      <td>0.00</td>\n",
              "    </tr>\n",
              "    <tr>\n",
              "      <th>6166</th>\n",
              "      <td>87.75</td>\n",
              "      <td>0.0</td>\n",
              "      <td>0.681818</td>\n",
              "      <td>REST</td>\n",
              "      <td>2.75</td>\n",
              "    </tr>\n",
              "    <tr>\n",
              "      <th>6167</th>\n",
              "      <td>87.75</td>\n",
              "      <td>0.0</td>\n",
              "      <td>0.681818</td>\n",
              "      <td>REST</td>\n",
              "      <td>0.00</td>\n",
              "    </tr>\n",
              "  </tbody>\n",
              "</table>\n",
              "<p>6168 rows × 5 columns</p>\n",
              "</div>\n",
              "    <div class=\"colab-df-buttons\">\n",
              "\n",
              "  <div class=\"colab-df-container\">\n",
              "    <button class=\"colab-df-convert\" onclick=\"convertToInteractive('df-7f335f3a-a86e-4c8d-b15c-3058c30c5eae')\"\n",
              "            title=\"Convert this dataframe to an interactive table.\"\n",
              "            style=\"display:none;\">\n",
              "\n",
              "  <svg xmlns=\"http://www.w3.org/2000/svg\" height=\"24px\" viewBox=\"0 -960 960 960\">\n",
              "    <path d=\"M120-120v-720h720v720H120Zm60-500h600v-160H180v160Zm220 220h160v-160H400v160Zm0 220h160v-160H400v160ZM180-400h160v-160H180v160Zm440 0h160v-160H620v160ZM180-180h160v-160H180v160Zm440 0h160v-160H620v160Z\"/>\n",
              "  </svg>\n",
              "    </button>\n",
              "\n",
              "  <style>\n",
              "    .colab-df-container {\n",
              "      display:flex;\n",
              "      gap: 12px;\n",
              "    }\n",
              "\n",
              "    .colab-df-convert {\n",
              "      background-color: #E8F0FE;\n",
              "      border: none;\n",
              "      border-radius: 50%;\n",
              "      cursor: pointer;\n",
              "      display: none;\n",
              "      fill: #1967D2;\n",
              "      height: 32px;\n",
              "      padding: 0 0 0 0;\n",
              "      width: 32px;\n",
              "    }\n",
              "\n",
              "    .colab-df-convert:hover {\n",
              "      background-color: #E2EBFA;\n",
              "      box-shadow: 0px 1px 2px rgba(60, 64, 67, 0.3), 0px 1px 3px 1px rgba(60, 64, 67, 0.15);\n",
              "      fill: #174EA6;\n",
              "    }\n",
              "\n",
              "    .colab-df-buttons div {\n",
              "      margin-bottom: 4px;\n",
              "    }\n",
              "\n",
              "    [theme=dark] .colab-df-convert {\n",
              "      background-color: #3B4455;\n",
              "      fill: #D2E3FC;\n",
              "    }\n",
              "\n",
              "    [theme=dark] .colab-df-convert:hover {\n",
              "      background-color: #434B5C;\n",
              "      box-shadow: 0px 1px 3px 1px rgba(0, 0, 0, 0.15);\n",
              "      filter: drop-shadow(0px 1px 2px rgba(0, 0, 0, 0.3));\n",
              "      fill: #FFFFFF;\n",
              "    }\n",
              "  </style>\n",
              "\n",
              "    <script>\n",
              "      const buttonEl =\n",
              "        document.querySelector('#df-7f335f3a-a86e-4c8d-b15c-3058c30c5eae button.colab-df-convert');\n",
              "      buttonEl.style.display =\n",
              "        google.colab.kernel.accessAllowed ? 'block' : 'none';\n",
              "\n",
              "      async function convertToInteractive(key) {\n",
              "        const element = document.querySelector('#df-7f335f3a-a86e-4c8d-b15c-3058c30c5eae');\n",
              "        const dataTable =\n",
              "          await google.colab.kernel.invokeFunction('convertToInteractive',\n",
              "                                                    [key], {});\n",
              "        if (!dataTable) return;\n",
              "\n",
              "        const docLinkHtml = 'Like what you see? Visit the ' +\n",
              "          '<a target=\"_blank\" href=https://colab.research.google.com/notebooks/data_table.ipynb>data table notebook</a>'\n",
              "          + ' to learn more about interactive tables.';\n",
              "        element.innerHTML = '';\n",
              "        dataTable['output_type'] = 'display_data';\n",
              "        await google.colab.output.renderOutput(dataTable, element);\n",
              "        const docLink = document.createElement('div');\n",
              "        docLink.innerHTML = docLinkHtml;\n",
              "        element.appendChild(docLink);\n",
              "      }\n",
              "    </script>\n",
              "  </div>\n",
              "\n",
              "\n",
              "<div id=\"df-3b59351e-5f1a-4377-a538-b96d24947a1f\">\n",
              "  <button class=\"colab-df-quickchart\" onclick=\"quickchart('df-3b59351e-5f1a-4377-a538-b96d24947a1f')\"\n",
              "            title=\"Suggest charts.\"\n",
              "            style=\"display:none;\">\n",
              "\n",
              "<svg xmlns=\"http://www.w3.org/2000/svg\" height=\"24px\"viewBox=\"0 0 24 24\"\n",
              "     width=\"24px\">\n",
              "    <g>\n",
              "        <path d=\"M19 3H5c-1.1 0-2 .9-2 2v14c0 1.1.9 2 2 2h14c1.1 0 2-.9 2-2V5c0-1.1-.9-2-2-2zM9 17H7v-7h2v7zm4 0h-2V7h2v10zm4 0h-2v-4h2v4z\"/>\n",
              "    </g>\n",
              "</svg>\n",
              "  </button>\n",
              "\n",
              "<style>\n",
              "  .colab-df-quickchart {\n",
              "      --bg-color: #E8F0FE;\n",
              "      --fill-color: #1967D2;\n",
              "      --hover-bg-color: #E2EBFA;\n",
              "      --hover-fill-color: #174EA6;\n",
              "      --disabled-fill-color: #AAA;\n",
              "      --disabled-bg-color: #DDD;\n",
              "  }\n",
              "\n",
              "  [theme=dark] .colab-df-quickchart {\n",
              "      --bg-color: #3B4455;\n",
              "      --fill-color: #D2E3FC;\n",
              "      --hover-bg-color: #434B5C;\n",
              "      --hover-fill-color: #FFFFFF;\n",
              "      --disabled-bg-color: #3B4455;\n",
              "      --disabled-fill-color: #666;\n",
              "  }\n",
              "\n",
              "  .colab-df-quickchart {\n",
              "    background-color: var(--bg-color);\n",
              "    border: none;\n",
              "    border-radius: 50%;\n",
              "    cursor: pointer;\n",
              "    display: none;\n",
              "    fill: var(--fill-color);\n",
              "    height: 32px;\n",
              "    padding: 0;\n",
              "    width: 32px;\n",
              "  }\n",
              "\n",
              "  .colab-df-quickchart:hover {\n",
              "    background-color: var(--hover-bg-color);\n",
              "    box-shadow: 0 1px 2px rgba(60, 64, 67, 0.3), 0 1px 3px 1px rgba(60, 64, 67, 0.15);\n",
              "    fill: var(--button-hover-fill-color);\n",
              "  }\n",
              "\n",
              "  .colab-df-quickchart-complete:disabled,\n",
              "  .colab-df-quickchart-complete:disabled:hover {\n",
              "    background-color: var(--disabled-bg-color);\n",
              "    fill: var(--disabled-fill-color);\n",
              "    box-shadow: none;\n",
              "  }\n",
              "\n",
              "  .colab-df-spinner {\n",
              "    border: 2px solid var(--fill-color);\n",
              "    border-color: transparent;\n",
              "    border-bottom-color: var(--fill-color);\n",
              "    animation:\n",
              "      spin 1s steps(1) infinite;\n",
              "  }\n",
              "\n",
              "  @keyframes spin {\n",
              "    0% {\n",
              "      border-color: transparent;\n",
              "      border-bottom-color: var(--fill-color);\n",
              "      border-left-color: var(--fill-color);\n",
              "    }\n",
              "    20% {\n",
              "      border-color: transparent;\n",
              "      border-left-color: var(--fill-color);\n",
              "      border-top-color: var(--fill-color);\n",
              "    }\n",
              "    30% {\n",
              "      border-color: transparent;\n",
              "      border-left-color: var(--fill-color);\n",
              "      border-top-color: var(--fill-color);\n",
              "      border-right-color: var(--fill-color);\n",
              "    }\n",
              "    40% {\n",
              "      border-color: transparent;\n",
              "      border-right-color: var(--fill-color);\n",
              "      border-top-color: var(--fill-color);\n",
              "    }\n",
              "    60% {\n",
              "      border-color: transparent;\n",
              "      border-right-color: var(--fill-color);\n",
              "    }\n",
              "    80% {\n",
              "      border-color: transparent;\n",
              "      border-right-color: var(--fill-color);\n",
              "      border-bottom-color: var(--fill-color);\n",
              "    }\n",
              "    90% {\n",
              "      border-color: transparent;\n",
              "      border-bottom-color: var(--fill-color);\n",
              "    }\n",
              "  }\n",
              "</style>\n",
              "\n",
              "  <script>\n",
              "    async function quickchart(key) {\n",
              "      const quickchartButtonEl =\n",
              "        document.querySelector('#' + key + ' button');\n",
              "      quickchartButtonEl.disabled = true;  // To prevent multiple clicks.\n",
              "      quickchartButtonEl.classList.add('colab-df-spinner');\n",
              "      try {\n",
              "        const charts = await google.colab.kernel.invokeFunction(\n",
              "            'suggestCharts', [key], {});\n",
              "      } catch (error) {\n",
              "        console.error('Error during call to suggestCharts:', error);\n",
              "      }\n",
              "      quickchartButtonEl.classList.remove('colab-df-spinner');\n",
              "      quickchartButtonEl.classList.add('colab-df-quickchart-complete');\n",
              "    }\n",
              "    (() => {\n",
              "      let quickchartButtonEl =\n",
              "        document.querySelector('#df-3b59351e-5f1a-4377-a538-b96d24947a1f button');\n",
              "      quickchartButtonEl.style.display =\n",
              "        google.colab.kernel.accessAllowed ? 'block' : 'none';\n",
              "    })();\n",
              "  </script>\n",
              "</div>\n",
              "    </div>\n",
              "  </div>\n"
            ]
          },
          "metadata": {},
          "execution_count": 19
        }
      ]
    },
    {
      "cell_type": "code",
      "source": [
        "#train les encoders pour les notes, volumes et durées en catégorielles (one hot)\n",
        "# sur intégralité des données (obligé)\n",
        "# Voir si on peut pas enregistré le transformateur\n",
        "oh_notes =  OneHotEncoder().fit(df[['pitch/chord']])\n",
        "\n",
        "\n",
        "# seuil/catégories modifiable\n",
        "dict_volume_class = {\n",
        "    \"very low\":10,\n",
        "    \"low\":30,\n",
        "    \"low medium\":50,\n",
        "    \"medium\":70,\n",
        "    \"high\": 90,\n",
        "    \"very high\":128\n",
        "}\n",
        "bins_volume = list(dict_volume_class.values())\n",
        "bins_volume.insert(0,-0.1)\n",
        "values_volume = list(dict_volume_class.keys())\n",
        "df[\"volume_class\"] = pd.cut(df[\"volume\"], bins=bins_volume, labels=values_volume)\n",
        "\"\"\"df[\"volume_class_interval\"] = pd.cut(df[\"volume\"], bins=20)\n",
        "intervals = df[\"volume_class_interval\"]\n",
        "median_values = [(interval.left + interval.right) / 2 for interval in intervals]\n",
        "df[\"volume_class\"] = median_values\"\"\"\n",
        "oh_volume =  OneHotEncoder().fit(df[['volume_class']])\n",
        "\n",
        "\n",
        "MinMaxScaler\n",
        "\n",
        "\n",
        "dict_duration_class = {\n",
        "\"very short\" : 0.1,\n",
        "\"short\" :0.25,\n",
        "\"medium\":0.5,\n",
        "\"medium-long\":0.75,\n",
        "\"long\":1.0,\n",
        "\"very long\": 1.5,\n",
        "\"kilometer long\":2.0,\n",
        "\"yearlight distance\":3.0,\n",
        "\"super mega long\":df['durée(s)'].max()\n",
        "}\n",
        "bins_duration = list(dict_duration_class.values())\n",
        "bins_duration.insert(0,-0.1)\n",
        "values_duration = list(dict_duration_class.keys())\n",
        "df[\"duration_class\"] = pd.cut(df[\"durée(s)\"], bins=bins_duration, labels=values_duration)\n",
        "\"\"\"df[\"duration_class_interval\"] = pd.cut(df[\"durée(s)\"], bins=20)\n",
        "intervals = df[\"duration_class_interval\"]\n",
        "median_values = [(interval.left + interval.right) / 2 for interval in intervals]\n",
        "df[\"duration_class\"] = median_values\"\"\"\n",
        "oh_duration =  OneHotEncoder().fit(df[['duration_class']])\n"
      ],
      "metadata": {
        "id": "sJ6s6EG-UTLz"
      },
      "execution_count": 20,
      "outputs": []
    },
    {
      "cell_type": "code",
      "source": [
        "def prepare_sequence(data, sequence_length, network_input, network_output):\n",
        "  # create input sequences and the corresponding outputs\n",
        "  for i in range(0, len(data) - sequence_length, 1):\n",
        "      sequence_in = data[i:i + sequence_length]\n",
        "      sequence_out = data[i + sequence_length]\n",
        "      network_input.append(sequence_in)\n",
        "      network_output.append(sequence_out)\n",
        "  return (network_input, network_output)\n",
        "\n",
        "def reshape_array_input(array_tensor, sequence_length):\n",
        "  n_patterns = len(array_tensor)\n",
        "  array_reshaped = numpy.reshape(array_tensor, (n_patterns, sequence_length, -1))\n",
        "  return array_reshaped\n",
        "\n",
        "def reshape_array_output(array_tensor, sequence_length):\n",
        "  n_patterns = len(array_tensor)\n",
        "  array_reshaped = numpy.reshape(array_tensor, (len(array_tensor), -1))\n",
        "  return array_reshaped\n"
      ],
      "metadata": {
        "id": "2Z_CqsKBicHH"
      },
      "execution_count": 21,
      "outputs": []
    },
    {
      "cell_type": "code",
      "source": [
        "sequence_length = 100"
      ],
      "metadata": {
        "id": "tqK33V-UjsOn"
      },
      "execution_count": 22,
      "outputs": []
    },
    {
      "cell_type": "code",
      "source": [
        "def check_pitch(x):\n",
        "  if ('+' in x) or x.isdigit():\n",
        "        notes_in_chord = x.split('+')\n",
        "        notes = []\n",
        "        for current_note in notes_in_chord:\n",
        "            new_note = note.Note(int(current_note))\n",
        "            new_note.storedInstrument = instrument.Piano()\n",
        "            notes.append(new_note)\n",
        "        new_chord =chord.Chord(notes).pitches[0].midi\n",
        "        return new_chord\n",
        "    # pattern is a note\n",
        "  elif (\"REST\" in x):\n",
        "    return 0\n",
        "  else:\n",
        "        new_note = note.Note(x).pitch.midi\n",
        "        return new_note"
      ],
      "metadata": {
        "id": "P_sybvnjsWRs"
      },
      "execution_count": 23,
      "outputs": []
    },
    {
      "cell_type": "code",
      "source": [
        "input_note, output_note = [], []\n",
        "input_offset, output_offset = [], []\n",
        "input_volume, output_volume = [], []\n",
        "input_duration, output_duration = [], []\n",
        "input_step, output_step = [], []\n",
        "input_pitch_n, output_pitch_n = [], []\n",
        "\n",
        "# pour chaque music, on la transforme en dataframe, transforme les notes, durées et volumes\n",
        "for music in note_all_songs:\n",
        "  df_music = pd.DataFrame(music, columns=['debut_note','volume','durée(s)', 'pitch/chord', 'step'])\n",
        "\n",
        "  # encode le volume et la durée\n",
        "  df_music[\"volume_class\"] = pd.cut(df_music[\"volume\"], bins=bins_volume, labels=values_volume)\n",
        "  df_music[\"duration_class\"] = pd.cut(df_music[\"durée(s)\"], bins=bins_duration, labels=values_duration)\n",
        "\n",
        "  df_music['pitch_n'] = df_music['pitch/chord'].apply(check_pitch)\n",
        "\n",
        "\n",
        "  # transform en one hot à partir des modèles entrainés\n",
        "  notes_encoded = oh_notes.transform(df_music[['pitch/chord']]).toarray()\n",
        "  volume_encoded = oh_volume.transform(df_music[['volume_class']]).toarray()\n",
        "  duration_encoded = oh_duration.transform(df_music[['duration_class']]).toarray()\n",
        "\n",
        "  # prépare les input (longeur = sequence_length) pour chaque morceau\n",
        "  # garde certaine cohérence au morceau même\n",
        "  input_offset, output_offset = prepare_sequence(df_music['debut_note'].values, sequence_length, input_offset, output_offset)\n",
        "  input_note, output_note = prepare_sequence(notes_encoded, sequence_length, input_note, output_note)\n",
        "  #input_volume, output_volume = prepare_sequence(volume_encoded, sequence_length, input_volume, output_volume)\n",
        "  input_volume, output_volume = prepare_sequence(df_music[\"volume\"].values, sequence_length, input_volume, output_volume)\n",
        "\n",
        "\n",
        "  #input_duration, output_duration = prepare_sequence(duration_encoded, sequence_length, input_duration, output_duration)\n",
        "  input_duration, output_duration = prepare_sequence(df_music[\"durée(s)\"].values, sequence_length, input_duration, output_duration)\n",
        "\n",
        "  input_step, output_step = prepare_sequence(df_music['step'].values, sequence_length, input_step, output_step)\n",
        "  input_pitch_n, output_pitch_n = prepare_sequence(df_music['pitch_n'].values, sequence_length, input_pitch_n, output_pitch_n)"
      ],
      "metadata": {
        "id": "1lpnB-spixTZ"
      },
      "execution_count": 24,
      "outputs": []
    },
    {
      "cell_type": "code",
      "source": [
        "# on reshape tout\n",
        "input_note_reshaped= reshape_array_input(input_note, sequence_length)\n",
        "output_note_reshaped = reshape_array_output(output_note, sequence_length)\n",
        "\n",
        "input_offset_reshaped = reshape_array_input(input_offset, sequence_length)\n",
        "output_offset_reshaped = reshape_array_output(output_offset, sequence_length)\n",
        "\n",
        "input_volume_reshaped= reshape_array_input(input_volume, sequence_length)\n",
        "output_volume_reshaped = reshape_array_output(output_volume, sequence_length)\n",
        "\n",
        "input_volume_reshaped = input_volume_reshaped/127.0\n",
        "output_volume_reshaped = output_volume_reshaped/127.0\n",
        "\n",
        "input_duration_reshaped= reshape_array_input(input_duration, sequence_length)\n",
        "output_duration_reshaped = reshape_array_output(output_duration, sequence_length)\n",
        "\n",
        "\n",
        "input_step_reshaped= reshape_array_input(input_step, sequence_length)\n",
        "output_step_reshaped = reshape_array_output(output_step, sequence_length)\n",
        "\n",
        "input_pitch_n_reshaped = np.reshape(input_pitch_n, (len(input_pitch_n),sequence_length, -1))\n",
        "output_pitch_n_reshaped = np.reshape(output_pitch_n, (len(output_pitch_n),1))\n"
      ],
      "metadata": {
        "id": "AzX_ofZZj1vY"
      },
      "execution_count": 25,
      "outputs": []
    },
    {
      "cell_type": "code",
      "source": [
        "#création du modèle (à alléger si overfitting)\n",
        "inputNotes_layer = Input(shape=(input_note_reshaped.shape[1], input_note_reshaped.shape[2]))\n",
        "inputNotes = LSTM(\n",
        "        32,\n",
        "        input_shape=(input_note_reshaped.shape[1], input_note_reshaped.shape[2]),\n",
        "        return_sequences=True\n",
        "    )(inputNotes_layer)\n",
        "\n",
        "inputVolume_layer = Input(shape=(input_volume_reshaped.shape[1], input_volume_reshaped.shape[2]))\n",
        "inputVolume = LSTM(\n",
        "        32,\n",
        "        input_shape=(input_volume_reshaped.shape[1], input_volume_reshaped.shape[2]),\n",
        "        return_sequences=True\n",
        "    )(inputVolume_layer)\n",
        "\n",
        "inputDuration_layer = Input(shape=(input_duration_reshaped.shape[1], input_duration_reshaped.shape[2]))\n",
        "inputDuration = LSTM(\n",
        "        32,\n",
        "        input_shape=(input_duration_reshaped.shape[1], input_duration_reshaped.shape[2]),\n",
        "        return_sequences=True\n",
        "    )(inputDuration_layer)\n",
        "\n",
        "inputOffset_layer = Input(shape=(input_offset_reshaped.shape[1], input_offset_reshaped.shape[2]))\n",
        "inputOffset = LSTM(\n",
        "        32,\n",
        "        input_shape=(input_offset_reshaped.shape[1], input_offset_reshaped.shape[2]),\n",
        "        return_sequences=True\n",
        "    )(inputOffset_layer)\n",
        "\n",
        "\n",
        "inputs = concatenate([inputNotes, inputVolume, inputDuration, inputOffset])\n",
        "x = LSTM(128, return_sequences=True)(inputs)\n",
        "#x = Dropout(0.3)(x)\n",
        "x = LSTM(128)(inputs)\n",
        "x = Dropout(0.3)(x)\n",
        "x = Dense(128, activation='relu')(x)\n",
        "\n",
        "outputNotes = Dense(32, activation='relu')(x)\n",
        "outputNotes = Dropout(0.3)(outputNotes)\n",
        "outputNotes = Dense(output_note_reshaped.shape[1], activation='softmax', name=\"Note\")(outputNotes)\n",
        "\n",
        "\"\"\"outputNotes = Dense(32, activation='relu')(x)\n",
        "outputNotes = Dropout(0.3)(outputNotes)\n",
        "outputNotes = Dense(101, activation='softmax', name=\"Note\")(outputNotes)\"\"\"\n",
        "\n",
        "outputVolume = Dense(32, activation='relu')(x)\n",
        "outputVolume = Dropout(0.3)(outputVolume)\n",
        "outputVolume = BatchNormalization()(outputVolume)\n",
        "outputVolume = Dense(output_volume_reshaped.shape[1], activation='softmax', name=\"Volume\")(outputVolume)\n",
        "\n",
        "outputDuration = Dense(32, activation='relu')(x)\n",
        "outputDuration = Dropout(0.3)(outputDuration)\n",
        "outputDuration = BatchNormalization()(outputDuration)\n",
        "outputDuration = Dense(output_duration_reshaped.shape[1], activation='softmax', name=\"Duration\")(outputDuration)\n",
        "\n",
        "outputOffset =  Dense(32, activation='relu')(x)\n",
        "outputOffset = Dropout(0.3)(outputOffset)\n",
        "outputOffset = BatchNormalization()(outputOffset)\n",
        "outputOffset = Dense(output_offset_reshaped.shape[1], name=\"Offset\")(outputOffset)\n",
        "\n",
        "\n",
        "\n",
        "model = Model(inputs=[inputNotes_layer,inputOffset_layer,  inputVolume_layer, inputDuration_layer], outputs=[outputNotes, outputOffset, outputVolume, outputDuration])\n",
        "\n",
        "optimizer = tf.keras.optimizers.Adam(learning_rate=0.005)\n",
        "\n",
        "def mse_with_positive_pressure(y_true: tf.Tensor, y_pred: tf.Tensor):\n",
        "  mse = (y_true - y_pred) ** 2\n",
        "  positive_pressure = 10 * tf.maximum(-y_pred, 0.0)\n",
        "  return tf.reduce_mean(mse + positive_pressure)\n",
        "\n",
        "#Adam seems to be faster than RMSProp and learns better too\n",
        "model.compile(loss=[\"categorical_crossentropy\", mse_with_positive_pressure, mse_with_positive_pressure, mse_with_positive_pressure], optimizer=optimizer)"
      ],
      "metadata": {
        "id": "NyzHblQ7kfw0"
      },
      "execution_count": 28,
      "outputs": []
    },
    {
      "cell_type": "code",
      "source": [
        "model.summary()"
      ],
      "metadata": {
        "id": "q_4pFN5EihPj"
      },
      "execution_count": null,
      "outputs": []
    },
    {
      "cell_type": "code",
      "source": [
        "import os\n",
        "\n",
        "cp_callback = keras.callbacks.ModelCheckpoint(\n",
        "    'model_weights_epoch.h5',  # Nom du fichier de sauvegarde avec un espace réservé pour le numéro de l'époque\n",
        "    save_best_only=True,  # Sauvegarder à chaque époque, pas seulement les meilleurs modèles\n",
        "    save_weights_only=True,  # Sauvegarder uniquement les poids, pas l'ensemble du modèle\n",
        "    verbose=1  # Afficher un message lors de la sauvegarde\n",
        "    )"
      ],
      "metadata": {
        "id": "YB2DV7zy3om5"
      },
      "execution_count": 15,
      "outputs": []
    },
    {
      "cell_type": "code",
      "source": [
        "model.fit([input_note_reshaped, input_step_reshaped, input_volume_reshaped, input_duration_reshaped], [output_note_reshaped, output_step_reshaped, output_volume_reshaped, output_duration_reshaped], epochs=400, callbacks=[cp_callback], batch_size=128)"
      ],
      "metadata": {
        "id": "d7w5ODUnf8B8",
        "colab": {
          "base_uri": "https://localhost:8080/",
          "height": 1000
        },
        "outputId": "0eb38e0d-7e68-4056-d939-bddb749d32e1"
      },
      "execution_count": 29,
      "outputs": [
        {
          "output_type": "stream",
          "name": "stdout",
          "text": [
            "Epoch 1/400\n",
            "46/47 [============================>.] - ETA: 0s - loss: 5.1624 - Note_loss: 3.7759 - Offset_loss: 0.3213 - Volume_loss: 0.4726 - Duration_loss: 0.5925"
          ]
        },
        {
          "output_type": "stream",
          "name": "stderr",
          "text": [
            "WARNING:tensorflow:Can save best model only with val_loss available, skipping.\n"
          ]
        },
        {
          "output_type": "stream",
          "name": "stdout",
          "text": [
            "\b\b\b\b\b\b\b\b\b\b\b\b\b\b\b\b\b\b\b\b\b\b\b\b\b\b\b\b\b\b\b\b\b\b\b\b\b\b\b\b\b\b\b\b\b\b\b\b\b\b\b\b\b\b\b\b\b\b\b\b\b\b\b\b\b\b\b\b\b\b\b\b\b\b\b\b\b\b\b\b\b\b\b\b\b\b\b\b\b\b\b\b\b\b\b\b\b\b\b\b\b\b\b\b\b\b\b\b\b\b\b\b\b\b\b\b\b\b\b\b\b\b\b\b\b\b\b\b\b\b\b\b\b\b\b\b\b\b\b\b\b\b\b\b\b\b\b\b\b\b\b\r47/47 [==============================] - 14s 33ms/step - loss: 5.1568 - Note_loss: 3.7737 - Offset_loss: 0.3177 - Volume_loss: 0.4728 - Duration_loss: 0.5926\n",
            "Epoch 2/400\n",
            "47/47 [==============================] - ETA: 0s - loss: 4.6227 - Note_loss: 3.4896 - Offset_loss: 0.0678 - Volume_loss: 0.4728 - Duration_loss: 0.5926"
          ]
        },
        {
          "output_type": "stream",
          "name": "stderr",
          "text": [
            "WARNING:tensorflow:Can save best model only with val_loss available, skipping.\n"
          ]
        },
        {
          "output_type": "stream",
          "name": "stdout",
          "text": [
            "\b\b\b\b\b\b\b\b\b\b\b\b\b\b\b\b\b\b\b\b\b\b\b\b\b\b\b\b\b\b\b\b\b\b\b\b\b\b\b\b\b\b\b\b\b\b\b\b\b\b\b\b\b\b\b\b\b\b\b\b\b\b\b\b\b\b\b\b\b\b\b\b\b\b\b\b\b\b\b\b\b\b\b\b\b\b\b\b\b\b\b\b\b\b\b\b\b\b\b\b\b\b\b\b\b\b\b\b\b\b\b\b\b\b\b\b\b\b\b\b\b\b\b\b\b\b\b\b\b\b\b\b\b\b\b\b\b\b\b\b\b\b\b\b\b\b\b\b\b\b\b\r47/47 [==============================] - 2s 33ms/step - loss: 4.6227 - Note_loss: 3.4896 - Offset_loss: 0.0678 - Volume_loss: 0.4728 - Duration_loss: 0.5926\n",
            "Epoch 3/400\n",
            "47/47 [==============================] - ETA: 0s - loss: 4.4965 - Note_loss: 3.3629 - Offset_loss: 0.0682 - Volume_loss: 0.4728 - Duration_loss: 0.5926"
          ]
        },
        {
          "output_type": "stream",
          "name": "stderr",
          "text": [
            "WARNING:tensorflow:Can save best model only with val_loss available, skipping.\n"
          ]
        },
        {
          "output_type": "stream",
          "name": "stdout",
          "text": [
            "\b\b\b\b\b\b\b\b\b\b\b\b\b\b\b\b\b\b\b\b\b\b\b\b\b\b\b\b\b\b\b\b\b\b\b\b\b\b\b\b\b\b\b\b\b\b\b\b\b\b\b\b\b\b\b\b\b\b\b\b\b\b\b\b\b\b\b\b\b\b\b\b\b\b\b\b\b\b\b\b\b\b\b\b\b\b\b\b\b\b\b\b\b\b\b\b\b\b\b\b\b\b\b\b\b\b\b\b\b\b\b\b\b\b\b\b\b\b\b\b\b\b\b\b\b\b\b\b\b\b\b\b\b\b\b\b\b\b\b\b\b\b\b\b\b\b\b\b\b\b\b\r47/47 [==============================] - 1s 31ms/step - loss: 4.4965 - Note_loss: 3.3629 - Offset_loss: 0.0682 - Volume_loss: 0.4728 - Duration_loss: 0.5926\n",
            "Epoch 4/400\n",
            "47/47 [==============================] - ETA: 0s - loss: 4.4208 - Note_loss: 3.2877 - Offset_loss: 0.0676 - Volume_loss: 0.4728 - Duration_loss: 0.5926"
          ]
        },
        {
          "output_type": "stream",
          "name": "stderr",
          "text": [
            "WARNING:tensorflow:Can save best model only with val_loss available, skipping.\n"
          ]
        },
        {
          "output_type": "stream",
          "name": "stdout",
          "text": [
            "\b\b\b\b\b\b\b\b\b\b\b\b\b\b\b\b\b\b\b\b\b\b\b\b\b\b\b\b\b\b\b\b\b\b\b\b\b\b\b\b\b\b\b\b\b\b\b\b\b\b\b\b\b\b\b\b\b\b\b\b\b\b\b\b\b\b\b\b\b\b\b\b\b\b\b\b\b\b\b\b\b\b\b\b\b\b\b\b\b\b\b\b\b\b\b\b\b\b\b\b\b\b\b\b\b\b\b\b\b\b\b\b\b\b\b\b\b\b\b\b\b\b\b\b\b\b\b\b\b\b\b\b\b\b\b\b\b\b\b\b\b\b\b\b\b\b\b\b\b\b\b\r47/47 [==============================] - 1s 30ms/step - loss: 4.4208 - Note_loss: 3.2877 - Offset_loss: 0.0676 - Volume_loss: 0.4728 - Duration_loss: 0.5926\n",
            "Epoch 5/400\n",
            "47/47 [==============================] - ETA: 0s - loss: 4.3882 - Note_loss: 3.2554 - Offset_loss: 0.0674 - Volume_loss: 0.4728 - Duration_loss: 0.5926"
          ]
        },
        {
          "output_type": "stream",
          "name": "stderr",
          "text": [
            "WARNING:tensorflow:Can save best model only with val_loss available, skipping.\n"
          ]
        },
        {
          "output_type": "stream",
          "name": "stdout",
          "text": [
            "\b\b\b\b\b\b\b\b\b\b\b\b\b\b\b\b\b\b\b\b\b\b\b\b\b\b\b\b\b\b\b\b\b\b\b\b\b\b\b\b\b\b\b\b\b\b\b\b\b\b\b\b\b\b\b\b\b\b\b\b\b\b\b\b\b\b\b\b\b\b\b\b\b\b\b\b\b\b\b\b\b\b\b\b\b\b\b\b\b\b\b\b\b\b\b\b\b\b\b\b\b\b\b\b\b\b\b\b\b\b\b\b\b\b\b\b\b\b\b\b\b\b\b\b\b\b\b\b\b\b\b\b\b\b\b\b\b\b\b\b\b\b\b\b\b\b\b\b\b\b\b\r47/47 [==============================] - 2s 33ms/step - loss: 4.3882 - Note_loss: 3.2554 - Offset_loss: 0.0674 - Volume_loss: 0.4728 - Duration_loss: 0.5926\n",
            "Epoch 6/400\n",
            "46/47 [============================>.] - ETA: 0s - loss: 4.3654 - Note_loss: 3.2330 - Offset_loss: 0.0672 - Volume_loss: 0.4726 - Duration_loss: 0.5926"
          ]
        },
        {
          "output_type": "stream",
          "name": "stderr",
          "text": [
            "WARNING:tensorflow:Can save best model only with val_loss available, skipping.\n"
          ]
        },
        {
          "output_type": "stream",
          "name": "stdout",
          "text": [
            "\b\b\b\b\b\b\b\b\b\b\b\b\b\b\b\b\b\b\b\b\b\b\b\b\b\b\b\b\b\b\b\b\b\b\b\b\b\b\b\b\b\b\b\b\b\b\b\b\b\b\b\b\b\b\b\b\b\b\b\b\b\b\b\b\b\b\b\b\b\b\b\b\b\b\b\b\b\b\b\b\b\b\b\b\b\b\b\b\b\b\b\b\b\b\b\b\b\b\b\b\b\b\b\b\b\b\b\b\b\b\b\b\b\b\b\b\b\b\b\b\b\b\b\b\b\b\b\b\b\b\b\b\b\b\b\b\b\b\b\b\b\b\b\b\b\b\b\b\b\b\b\r47/47 [==============================] - 2s 44ms/step - loss: 4.3651 - Note_loss: 3.2328 - Offset_loss: 0.0669 - Volume_loss: 0.4728 - Duration_loss: 0.5926\n",
            "Epoch 7/400\n",
            "47/47 [==============================] - ETA: 0s - loss: 4.3052 - Note_loss: 3.1725 - Offset_loss: 0.0672 - Volume_loss: 0.4728 - Duration_loss: 0.5926"
          ]
        },
        {
          "output_type": "stream",
          "name": "stderr",
          "text": [
            "WARNING:tensorflow:Can save best model only with val_loss available, skipping.\n"
          ]
        },
        {
          "output_type": "stream",
          "name": "stdout",
          "text": [
            "\b\b\b\b\b\b\b\b\b\b\b\b\b\b\b\b\b\b\b\b\b\b\b\b\b\b\b\b\b\b\b\b\b\b\b\b\b\b\b\b\b\b\b\b\b\b\b\b\b\b\b\b\b\b\b\b\b\b\b\b\b\b\b\b\b\b\b\b\b\b\b\b\b\b\b\b\b\b\b\b\b\b\b\b\b\b\b\b\b\b\b\b\b\b\b\b\b\b\b\b\b\b\b\b\b\b\b\b\b\b\b\b\b\b\b\b\b\b\b\b\b\b\b\b\b\b\b\b\b\b\b\b\b\b\b\b\b\b\b\b\b\b\b\b\b\b\b\b\b\b\b\r47/47 [==============================] - 1s 29ms/step - loss: 4.3052 - Note_loss: 3.1725 - Offset_loss: 0.0672 - Volume_loss: 0.4728 - Duration_loss: 0.5926\n",
            "Epoch 8/400\n",
            "47/47 [==============================] - ETA: 0s - loss: 4.2646 - Note_loss: 3.1342 - Offset_loss: 0.0650 - Volume_loss: 0.4728 - Duration_loss: 0.5926"
          ]
        },
        {
          "output_type": "stream",
          "name": "stderr",
          "text": [
            "WARNING:tensorflow:Can save best model only with val_loss available, skipping.\n"
          ]
        },
        {
          "output_type": "stream",
          "name": "stdout",
          "text": [
            "\b\b\b\b\b\b\b\b\b\b\b\b\b\b\b\b\b\b\b\b\b\b\b\b\b\b\b\b\b\b\b\b\b\b\b\b\b\b\b\b\b\b\b\b\b\b\b\b\b\b\b\b\b\b\b\b\b\b\b\b\b\b\b\b\b\b\b\b\b\b\b\b\b\b\b\b\b\b\b\b\b\b\b\b\b\b\b\b\b\b\b\b\b\b\b\b\b\b\b\b\b\b\b\b\b\b\b\b\b\b\b\b\b\b\b\b\b\b\b\b\b\b\b\b\b\b\b\b\b\b\b\b\b\b\b\b\b\b\b\b\b\b\b\b\b\b\b\b\b\b\b\r47/47 [==============================] - 1s 30ms/step - loss: 4.2646 - Note_loss: 3.1342 - Offset_loss: 0.0650 - Volume_loss: 0.4728 - Duration_loss: 0.5926\n",
            "Epoch 9/400\n",
            "47/47 [==============================] - ETA: 0s - loss: 4.2165 - Note_loss: 3.0846 - Offset_loss: 0.0665 - Volume_loss: 0.4728 - Duration_loss: 0.5926"
          ]
        },
        {
          "output_type": "stream",
          "name": "stderr",
          "text": [
            "WARNING:tensorflow:Can save best model only with val_loss available, skipping.\n"
          ]
        },
        {
          "output_type": "stream",
          "name": "stdout",
          "text": [
            "\b\b\b\b\b\b\b\b\b\b\b\b\b\b\b\b\b\b\b\b\b\b\b\b\b\b\b\b\b\b\b\b\b\b\b\b\b\b\b\b\b\b\b\b\b\b\b\b\b\b\b\b\b\b\b\b\b\b\b\b\b\b\b\b\b\b\b\b\b\b\b\b\b\b\b\b\b\b\b\b\b\b\b\b\b\b\b\b\b\b\b\b\b\b\b\b\b\b\b\b\b\b\b\b\b\b\b\b\b\b\b\b\b\b\b\b\b\b\b\b\b\b\b\b\b\b\b\b\b\b\b\b\b\b\b\b\b\b\b\b\b\b\b\b\b\b\b\b\b\b\b\r47/47 [==============================] - 1s 30ms/step - loss: 4.2165 - Note_loss: 3.0846 - Offset_loss: 0.0665 - Volume_loss: 0.4728 - Duration_loss: 0.5926\n",
            "Epoch 10/400\n",
            "47/47 [==============================] - ETA: 0s - loss: 4.1759 - Note_loss: 3.0468 - Offset_loss: 0.0637 - Volume_loss: 0.4728 - Duration_loss: 0.5926"
          ]
        },
        {
          "output_type": "stream",
          "name": "stderr",
          "text": [
            "WARNING:tensorflow:Can save best model only with val_loss available, skipping.\n"
          ]
        },
        {
          "output_type": "stream",
          "name": "stdout",
          "text": [
            "\b\b\b\b\b\b\b\b\b\b\b\b\b\b\b\b\b\b\b\b\b\b\b\b\b\b\b\b\b\b\b\b\b\b\b\b\b\b\b\b\b\b\b\b\b\b\b\b\b\b\b\b\b\b\b\b\b\b\b\b\b\b\b\b\b\b\b\b\b\b\b\b\b\b\b\b\b\b\b\b\b\b\b\b\b\b\b\b\b\b\b\b\b\b\b\b\b\b\b\b\b\b\b\b\b\b\b\b\b\b\b\b\b\b\b\b\b\b\b\b\b\b\b\b\b\b\b\b\b\b\b\b\b\b\b\b\b\b\b\b\b\b\b\b\b\b\b\b\b\b\b\r47/47 [==============================] - 2s 32ms/step - loss: 4.1759 - Note_loss: 3.0468 - Offset_loss: 0.0637 - Volume_loss: 0.4728 - Duration_loss: 0.5926\n",
            "Epoch 11/400\n",
            "47/47 [==============================] - ETA: 0s - loss: 4.1330 - Note_loss: 3.0030 - Offset_loss: 0.0647 - Volume_loss: 0.4728 - Duration_loss: 0.5926"
          ]
        },
        {
          "output_type": "stream",
          "name": "stderr",
          "text": [
            "WARNING:tensorflow:Can save best model only with val_loss available, skipping.\n"
          ]
        },
        {
          "output_type": "stream",
          "name": "stdout",
          "text": [
            "\b\b\b\b\b\b\b\b\b\b\b\b\b\b\b\b\b\b\b\b\b\b\b\b\b\b\b\b\b\b\b\b\b\b\b\b\b\b\b\b\b\b\b\b\b\b\b\b\b\b\b\b\b\b\b\b\b\b\b\b\b\b\b\b\b\b\b\b\b\b\b\b\b\b\b\b\b\b\b\b\b\b\b\b\b\b\b\b\b\b\b\b\b\b\b\b\b\b\b\b\b\b\b\b\b\b\b\b\b\b\b\b\b\b\b\b\b\b\b\b\b\b\b\b\b\b\b\b\b\b\b\b\b\b\b\b\b\b\b\b\b\b\b\b\b\b\b\b\b\b\b\r47/47 [==============================] - 1s 31ms/step - loss: 4.1330 - Note_loss: 3.0030 - Offset_loss: 0.0647 - Volume_loss: 0.4728 - Duration_loss: 0.5926\n",
            "Epoch 12/400\n",
            "47/47 [==============================] - ETA: 0s - loss: 4.0853 - Note_loss: 2.9547 - Offset_loss: 0.0652 - Volume_loss: 0.4728 - Duration_loss: 0.5926"
          ]
        },
        {
          "output_type": "stream",
          "name": "stderr",
          "text": [
            "WARNING:tensorflow:Can save best model only with val_loss available, skipping.\n"
          ]
        },
        {
          "output_type": "stream",
          "name": "stdout",
          "text": [
            "\b\b\b\b\b\b\b\b\b\b\b\b\b\b\b\b\b\b\b\b\b\b\b\b\b\b\b\b\b\b\b\b\b\b\b\b\b\b\b\b\b\b\b\b\b\b\b\b\b\b\b\b\b\b\b\b\b\b\b\b\b\b\b\b\b\b\b\b\b\b\b\b\b\b\b\b\b\b\b\b\b\b\b\b\b\b\b\b\b\b\b\b\b\b\b\b\b\b\b\b\b\b\b\b\b\b\b\b\b\b\b\b\b\b\b\b\b\b\b\b\b\b\b\b\b\b\b\b\b\b\b\b\b\b\b\b\b\b\b\b\b\b\b\b\b\b\b\b\b\b\b\r47/47 [==============================] - 1s 31ms/step - loss: 4.0853 - Note_loss: 2.9547 - Offset_loss: 0.0652 - Volume_loss: 0.4728 - Duration_loss: 0.5926\n",
            "Epoch 13/400\n",
            "47/47 [==============================] - ETA: 0s - loss: 4.0404 - Note_loss: 2.9098 - Offset_loss: 0.0652 - Volume_loss: 0.4728 - Duration_loss: 0.5926"
          ]
        },
        {
          "output_type": "stream",
          "name": "stderr",
          "text": [
            "WARNING:tensorflow:Can save best model only with val_loss available, skipping.\n"
          ]
        },
        {
          "output_type": "stream",
          "name": "stdout",
          "text": [
            "\b\b\b\b\b\b\b\b\b\b\b\b\b\b\b\b\b\b\b\b\b\b\b\b\b\b\b\b\b\b\b\b\b\b\b\b\b\b\b\b\b\b\b\b\b\b\b\b\b\b\b\b\b\b\b\b\b\b\b\b\b\b\b\b\b\b\b\b\b\b\b\b\b\b\b\b\b\b\b\b\b\b\b\b\b\b\b\b\b\b\b\b\b\b\b\b\b\b\b\b\b\b\b\b\b\b\b\b\b\b\b\b\b\b\b\b\b\b\b\b\b\b\b\b\b\b\b\b\b\b\b\b\b\b\b\b\b\b\b\b\b\b\b\b\b\b\b\b\b\b\b\r47/47 [==============================] - 2s 33ms/step - loss: 4.0404 - Note_loss: 2.9098 - Offset_loss: 0.0652 - Volume_loss: 0.4728 - Duration_loss: 0.5926\n",
            "Epoch 14/400\n",
            "46/47 [============================>.] - ETA: 0s - loss: 4.0130 - Note_loss: 2.8871 - Offset_loss: 0.0618 - Volume_loss: 0.4728 - Duration_loss: 0.5912"
          ]
        },
        {
          "output_type": "stream",
          "name": "stderr",
          "text": [
            "WARNING:tensorflow:Can save best model only with val_loss available, skipping.\n"
          ]
        },
        {
          "output_type": "stream",
          "name": "stdout",
          "text": [
            "\b\b\b\b\b\b\b\b\b\b\b\b\b\b\b\b\b\b\b\b\b\b\b\b\b\b\b\b\b\b\b\b\b\b\b\b\b\b\b\b\b\b\b\b\b\b\b\b\b\b\b\b\b\b\b\b\b\b\b\b\b\b\b\b\b\b\b\b\b\b\b\b\b\b\b\b\b\b\b\b\b\b\b\b\b\b\b\b\b\b\b\b\b\b\b\b\b\b\b\b\b\b\b\b\b\b\b\b\b\b\b\b\b\b\b\b\b\b\b\b\b\b\b\b\b\b\b\b\b\b\b\b\b\b\b\b\b\b\b\b\b\b\b\b\b\b\b\b\b\b\b\r47/47 [==============================] - 2s 50ms/step - loss: 4.0134 - Note_loss: 2.8850 - Offset_loss: 0.0630 - Volume_loss: 0.4728 - Duration_loss: 0.5926\n",
            "Epoch 15/400\n",
            "47/47 [==============================] - ETA: 0s - loss: 3.9523 - Note_loss: 2.8248 - Offset_loss: 0.0621 - Volume_loss: 0.4728 - Duration_loss: 0.5926"
          ]
        },
        {
          "output_type": "stream",
          "name": "stderr",
          "text": [
            "WARNING:tensorflow:Can save best model only with val_loss available, skipping.\n"
          ]
        },
        {
          "output_type": "stream",
          "name": "stdout",
          "text": [
            "\b\b\b\b\b\b\b\b\b\b\b\b\b\b\b\b\b\b\b\b\b\b\b\b\b\b\b\b\b\b\b\b\b\b\b\b\b\b\b\b\b\b\b\b\b\b\b\b\b\b\b\b\b\b\b\b\b\b\b\b\b\b\b\b\b\b\b\b\b\b\b\b\b\b\b\b\b\b\b\b\b\b\b\b\b\b\b\b\b\b\b\b\b\b\b\b\b\b\b\b\b\b\b\b\b\b\b\b\b\b\b\b\b\b\b\b\b\b\b\b\b\b\b\b\b\b\b\b\b\b\b\b\b\b\b\b\b\b\b\b\b\b\b\b\b\b\b\b\b\b\b\r47/47 [==============================] - 2s 34ms/step - loss: 3.9523 - Note_loss: 2.8248 - Offset_loss: 0.0621 - Volume_loss: 0.4728 - Duration_loss: 0.5926\n",
            "Epoch 16/400\n",
            "47/47 [==============================] - ETA: 0s - loss: 3.9387 - Note_loss: 2.8123 - Offset_loss: 0.0610 - Volume_loss: 0.4728 - Duration_loss: 0.5926"
          ]
        },
        {
          "output_type": "stream",
          "name": "stderr",
          "text": [
            "WARNING:tensorflow:Can save best model only with val_loss available, skipping.\n"
          ]
        },
        {
          "output_type": "stream",
          "name": "stdout",
          "text": [
            "\b\b\b\b\b\b\b\b\b\b\b\b\b\b\b\b\b\b\b\b\b\b\b\b\b\b\b\b\b\b\b\b\b\b\b\b\b\b\b\b\b\b\b\b\b\b\b\b\b\b\b\b\b\b\b\b\b\b\b\b\b\b\b\b\b\b\b\b\b\b\b\b\b\b\b\b\b\b\b\b\b\b\b\b\b\b\b\b\b\b\b\b\b\b\b\b\b\b\b\b\b\b\b\b\b\b\b\b\b\b\b\b\b\b\b\b\b\b\b\b\b\b\b\b\b\b\b\b\b\b\b\b\b\b\b\b\b\b\b\b\b\b\b\b\b\b\b\b\b\b\b\r47/47 [==============================] - 1s 31ms/step - loss: 3.9387 - Note_loss: 2.8123 - Offset_loss: 0.0610 - Volume_loss: 0.4728 - Duration_loss: 0.5926\n",
            "Epoch 17/400\n",
            "47/47 [==============================] - ETA: 0s - loss: 3.8706 - Note_loss: 2.7468 - Offset_loss: 0.0583 - Volume_loss: 0.4728 - Duration_loss: 0.5926"
          ]
        },
        {
          "output_type": "stream",
          "name": "stderr",
          "text": [
            "WARNING:tensorflow:Can save best model only with val_loss available, skipping.\n"
          ]
        },
        {
          "output_type": "stream",
          "name": "stdout",
          "text": [
            "\b\b\b\b\b\b\b\b\b\b\b\b\b\b\b\b\b\b\b\b\b\b\b\b\b\b\b\b\b\b\b\b\b\b\b\b\b\b\b\b\b\b\b\b\b\b\b\b\b\b\b\b\b\b\b\b\b\b\b\b\b\b\b\b\b\b\b\b\b\b\b\b\b\b\b\b\b\b\b\b\b\b\b\b\b\b\b\b\b\b\b\b\b\b\b\b\b\b\b\b\b\b\b\b\b\b\b\b\b\b\b\b\b\b\b\b\b\b\b\b\b\b\b\b\b\b\b\b\b\b\b\b\b\b\b\b\b\b\b\b\b\b\b\b\b\b\b\b\b\b\b\r47/47 [==============================] - 1s 32ms/step - loss: 3.8706 - Note_loss: 2.7468 - Offset_loss: 0.0583 - Volume_loss: 0.4728 - Duration_loss: 0.5926\n",
            "Epoch 18/400\n",
            "47/47 [==============================] - ETA: 0s - loss: 3.8414 - Note_loss: 2.7178 - Offset_loss: 0.0582 - Volume_loss: 0.4728 - Duration_loss: 0.5926"
          ]
        },
        {
          "output_type": "stream",
          "name": "stderr",
          "text": [
            "WARNING:tensorflow:Can save best model only with val_loss available, skipping.\n"
          ]
        },
        {
          "output_type": "stream",
          "name": "stdout",
          "text": [
            "\b\b\b\b\b\b\b\b\b\b\b\b\b\b\b\b\b\b\b\b\b\b\b\b\b\b\b\b\b\b\b\b\b\b\b\b\b\b\b\b\b\b\b\b\b\b\b\b\b\b\b\b\b\b\b\b\b\b\b\b\b\b\b\b\b\b\b\b\b\b\b\b\b\b\b\b\b\b\b\b\b\b\b\b\b\b\b\b\b\b\b\b\b\b\b\b\b\b\b\b\b\b\b\b\b\b\b\b\b\b\b\b\b\b\b\b\b\b\b\b\b\b\b\b\b\b\b\b\b\b\b\b\b\b\b\b\b\b\b\b\b\b\b\b\b\b\b\b\b\b\b\r47/47 [==============================] - 1s 32ms/step - loss: 3.8414 - Note_loss: 2.7178 - Offset_loss: 0.0582 - Volume_loss: 0.4728 - Duration_loss: 0.5926\n",
            "Epoch 19/400\n",
            "47/47 [==============================] - ETA: 0s - loss: 3.7706 - Note_loss: 2.6496 - Offset_loss: 0.0556 - Volume_loss: 0.4728 - Duration_loss: 0.5926"
          ]
        },
        {
          "output_type": "stream",
          "name": "stderr",
          "text": [
            "WARNING:tensorflow:Can save best model only with val_loss available, skipping.\n"
          ]
        },
        {
          "output_type": "stream",
          "name": "stdout",
          "text": [
            "\b\b\b\b\b\b\b\b\b\b\b\b\b\b\b\b\b\b\b\b\b\b\b\b\b\b\b\b\b\b\b\b\b\b\b\b\b\b\b\b\b\b\b\b\b\b\b\b\b\b\b\b\b\b\b\b\b\b\b\b\b\b\b\b\b\b\b\b\b\b\b\b\b\b\b\b\b\b\b\b\b\b\b\b\b\b\b\b\b\b\b\b\b\b\b\b\b\b\b\b\b\b\b\b\b\b\b\b\b\b\b\b\b\b\b\b\b\b\b\b\b\b\b\b\b\b\b\b\b\b\b\b\b\b\b\b\b\b\b\b\b\b\b\b\b\b\b\b\b\b\b\r47/47 [==============================] - 1s 31ms/step - loss: 3.7706 - Note_loss: 2.6496 - Offset_loss: 0.0556 - Volume_loss: 0.4728 - Duration_loss: 0.5926\n",
            "Epoch 20/400\n",
            "47/47 [==============================] - ETA: 0s - loss: 3.7253 - Note_loss: 2.6044 - Offset_loss: 0.0554 - Volume_loss: 0.4728 - Duration_loss: 0.5926"
          ]
        },
        {
          "output_type": "stream",
          "name": "stderr",
          "text": [
            "WARNING:tensorflow:Can save best model only with val_loss available, skipping.\n"
          ]
        },
        {
          "output_type": "stream",
          "name": "stdout",
          "text": [
            "\b\b\b\b\b\b\b\b\b\b\b\b\b\b\b\b\b\b\b\b\b\b\b\b\b\b\b\b\b\b\b\b\b\b\b\b\b\b\b\b\b\b\b\b\b\b\b\b\b\b\b\b\b\b\b\b\b\b\b\b\b\b\b\b\b\b\b\b\b\b\b\b\b\b\b\b\b\b\b\b\b\b\b\b\b\b\b\b\b\b\b\b\b\b\b\b\b\b\b\b\b\b\b\b\b\b\b\b\b\b\b\b\b\b\b\b\b\b\b\b\b\b\b\b\b\b\b\b\b\b\b\b\b\b\b\b\b\b\b\b\b\b\b\b\b\b\b\b\b\b\b\r47/47 [==============================] - 1s 30ms/step - loss: 3.7253 - Note_loss: 2.6044 - Offset_loss: 0.0554 - Volume_loss: 0.4728 - Duration_loss: 0.5926\n",
            "Epoch 21/400\n",
            "47/47 [==============================] - ETA: 0s - loss: 3.6909 - Note_loss: 2.5672 - Offset_loss: 0.0582 - Volume_loss: 0.4728 - Duration_loss: 0.5926"
          ]
        },
        {
          "output_type": "stream",
          "name": "stderr",
          "text": [
            "WARNING:tensorflow:Can save best model only with val_loss available, skipping.\n"
          ]
        },
        {
          "output_type": "stream",
          "name": "stdout",
          "text": [
            "\b\b\b\b\b\b\b\b\b\b\b\b\b\b\b\b\b\b\b\b\b\b\b\b\b\b\b\b\b\b\b\b\b\b\b\b\b\b\b\b\b\b\b\b\b\b\b\b\b\b\b\b\b\b\b\b\b\b\b\b\b\b\b\b\b\b\b\b\b\b\b\b\b\b\b\b\b\b\b\b\b\b\b\b\b\b\b\b\b\b\b\b\b\b\b\b\b\b\b\b\b\b\b\b\b\b\b\b\b\b\b\b\b\b\b\b\b\b\b\b\b\b\b\b\b\b\b\b\b\b\b\b\b\b\b\b\b\b\b\b\b\b\b\b\b\b\b\b\b\b\b\r47/47 [==============================] - 1s 31ms/step - loss: 3.6909 - Note_loss: 2.5672 - Offset_loss: 0.0582 - Volume_loss: 0.4728 - Duration_loss: 0.5926\n",
            "Epoch 22/400\n",
            "47/47 [==============================] - ETA: 0s - loss: 3.6593 - Note_loss: 2.5372 - Offset_loss: 0.0566 - Volume_loss: 0.4728 - Duration_loss: 0.5926"
          ]
        },
        {
          "output_type": "stream",
          "name": "stderr",
          "text": [
            "WARNING:tensorflow:Can save best model only with val_loss available, skipping.\n"
          ]
        },
        {
          "output_type": "stream",
          "name": "stdout",
          "text": [
            "\b\b\b\b\b\b\b\b\b\b\b\b\b\b\b\b\b\b\b\b\b\b\b\b\b\b\b\b\b\b\b\b\b\b\b\b\b\b\b\b\b\b\b\b\b\b\b\b\b\b\b\b\b\b\b\b\b\b\b\b\b\b\b\b\b\b\b\b\b\b\b\b\b\b\b\b\b\b\b\b\b\b\b\b\b\b\b\b\b\b\b\b\b\b\b\b\b\b\b\b\b\b\b\b\b\b\b\b\b\b\b\b\b\b\b\b\b\b\b\b\b\b\b\b\b\b\b\b\b\b\b\b\b\b\b\b\b\b\b\b\b\b\b\b\b\b\b\b\b\b\b\r47/47 [==============================] - 2s 44ms/step - loss: 3.6593 - Note_loss: 2.5372 - Offset_loss: 0.0566 - Volume_loss: 0.4728 - Duration_loss: 0.5926\n",
            "Epoch 23/400\n",
            "46/47 [============================>.] - ETA: 0s - loss: 3.5937 - Note_loss: 2.4741 - Offset_loss: 0.0540 - Volume_loss: 0.4728 - Duration_loss: 0.5927"
          ]
        },
        {
          "output_type": "stream",
          "name": "stderr",
          "text": [
            "WARNING:tensorflow:Can save best model only with val_loss available, skipping.\n"
          ]
        },
        {
          "output_type": "stream",
          "name": "stdout",
          "text": [
            "\b\b\b\b\b\b\b\b\b\b\b\b\b\b\b\b\b\b\b\b\b\b\b\b\b\b\b\b\b\b\b\b\b\b\b\b\b\b\b\b\b\b\b\b\b\b\b\b\b\b\b\b\b\b\b\b\b\b\b\b\b\b\b\b\b\b\b\b\b\b\b\b\b\b\b\b\b\b\b\b\b\b\b\b\b\b\b\b\b\b\b\b\b\b\b\b\b\b\b\b\b\b\b\b\b\b\b\b\b\b\b\b\b\b\b\b\b\b\b\b\b\b\b\b\b\b\b\b\b\b\b\b\b\b\b\b\b\b\b\b\b\b\b\b\b\b\b\b\b\b\b\r47/47 [==============================] - 2s 33ms/step - loss: 3.5933 - Note_loss: 2.4727 - Offset_loss: 0.0552 - Volume_loss: 0.4728 - Duration_loss: 0.5926\n",
            "Epoch 24/400\n",
            "47/47 [==============================] - ETA: 0s - loss: 3.5242 - Note_loss: 2.4019 - Offset_loss: 0.0569 - Volume_loss: 0.4728 - Duration_loss: 0.5926"
          ]
        },
        {
          "output_type": "stream",
          "name": "stderr",
          "text": [
            "WARNING:tensorflow:Can save best model only with val_loss available, skipping.\n"
          ]
        },
        {
          "output_type": "stream",
          "name": "stdout",
          "text": [
            "\b\b\b\b\b\b\b\b\b\b\b\b\b\b\b\b\b\b\b\b\b\b\b\b\b\b\b\b\b\b\b\b\b\b\b\b\b\b\b\b\b\b\b\b\b\b\b\b\b\b\b\b\b\b\b\b\b\b\b\b\b\b\b\b\b\b\b\b\b\b\b\b\b\b\b\b\b\b\b\b\b\b\b\b\b\b\b\b\b\b\b\b\b\b\b\b\b\b\b\b\b\b\b\b\b\b\b\b\b\b\b\b\b\b\b\b\b\b\b\b\b\b\b\b\b\b\b\b\b\b\b\b\b\b\b\b\b\b\b\b\b\b\b\b\b\b\b\b\b\b\b\r47/47 [==============================] - 1s 30ms/step - loss: 3.5242 - Note_loss: 2.4019 - Offset_loss: 0.0569 - Volume_loss: 0.4728 - Duration_loss: 0.5926\n",
            "Epoch 25/400\n",
            "47/47 [==============================] - ETA: 0s - loss: 3.4797 - Note_loss: 2.3634 - Offset_loss: 0.0509 - Volume_loss: 0.4728 - Duration_loss: 0.5926"
          ]
        },
        {
          "output_type": "stream",
          "name": "stderr",
          "text": [
            "WARNING:tensorflow:Can save best model only with val_loss available, skipping.\n"
          ]
        },
        {
          "output_type": "stream",
          "name": "stdout",
          "text": [
            "\b\b\b\b\b\b\b\b\b\b\b\b\b\b\b\b\b\b\b\b\b\b\b\b\b\b\b\b\b\b\b\b\b\b\b\b\b\b\b\b\b\b\b\b\b\b\b\b\b\b\b\b\b\b\b\b\b\b\b\b\b\b\b\b\b\b\b\b\b\b\b\b\b\b\b\b\b\b\b\b\b\b\b\b\b\b\b\b\b\b\b\b\b\b\b\b\b\b\b\b\b\b\b\b\b\b\b\b\b\b\b\b\b\b\b\b\b\b\b\b\b\b\b\b\b\b\b\b\b\b\b\b\b\b\b\b\b\b\b\b\b\b\b\b\b\b\b\b\b\b\b\r47/47 [==============================] - 1s 31ms/step - loss: 3.4797 - Note_loss: 2.3634 - Offset_loss: 0.0509 - Volume_loss: 0.4728 - Duration_loss: 0.5926\n",
            "Epoch 26/400\n",
            "47/47 [==============================] - ETA: 0s - loss: 3.4429 - Note_loss: 2.3299 - Offset_loss: 0.0476 - Volume_loss: 0.4728 - Duration_loss: 0.5926"
          ]
        },
        {
          "output_type": "stream",
          "name": "stderr",
          "text": [
            "WARNING:tensorflow:Can save best model only with val_loss available, skipping.\n"
          ]
        },
        {
          "output_type": "stream",
          "name": "stdout",
          "text": [
            "\b\b\b\b\b\b\b\b\b\b\b\b\b\b\b\b\b\b\b\b\b\b\b\b\b\b\b\b\b\b\b\b\b\b\b\b\b\b\b\b\b\b\b\b\b\b\b\b\b\b\b\b\b\b\b\b\b\b\b\b\b\b\b\b\b\b\b\b\b\b\b\b\b\b\b\b\b\b\b\b\b\b\b\b\b\b\b\b\b\b\b\b\b\b\b\b\b\b\b\b\b\b\b\b\b\b\b\b\b\b\b\b\b\b\b\b\b\b\b\b\b\b\b\b\b\b\b\b\b\b\b\b\b\b\b\b\b\b\b\b\b\b\b\b\b\b\b\b\b\b\b\r47/47 [==============================] - 1s 31ms/step - loss: 3.4429 - Note_loss: 2.3299 - Offset_loss: 0.0476 - Volume_loss: 0.4728 - Duration_loss: 0.5926\n",
            "Epoch 27/400\n",
            "47/47 [==============================] - ETA: 0s - loss: 3.4171 - Note_loss: 2.3022 - Offset_loss: 0.0495 - Volume_loss: 0.4728 - Duration_loss: 0.5926"
          ]
        },
        {
          "output_type": "stream",
          "name": "stderr",
          "text": [
            "WARNING:tensorflow:Can save best model only with val_loss available, skipping.\n"
          ]
        },
        {
          "output_type": "stream",
          "name": "stdout",
          "text": [
            "\b\b\b\b\b\b\b\b\b\b\b\b\b\b\b\b\b\b\b\b\b\b\b\b\b\b\b\b\b\b\b\b\b\b\b\b\b\b\b\b\b\b\b\b\b\b\b\b\b\b\b\b\b\b\b\b\b\b\b\b\b\b\b\b\b\b\b\b\b\b\b\b\b\b\b\b\b\b\b\b\b\b\b\b\b\b\b\b\b\b\b\b\b\b\b\b\b\b\b\b\b\b\b\b\b\b\b\b\b\b\b\b\b\b\b\b\b\b\b\b\b\b\b\b\b\b\b\b\b\b\b\b\b\b\b\b\b\b\b\b\b\b\b\b\b\b\b\b\b\b\b\r47/47 [==============================] - 1s 31ms/step - loss: 3.4171 - Note_loss: 2.3022 - Offset_loss: 0.0495 - Volume_loss: 0.4728 - Duration_loss: 0.5926\n",
            "Epoch 28/400\n",
            "47/47 [==============================] - ETA: 0s - loss: 3.3579 - Note_loss: 2.2460 - Offset_loss: 0.0464 - Volume_loss: 0.4728 - Duration_loss: 0.5926"
          ]
        },
        {
          "output_type": "stream",
          "name": "stderr",
          "text": [
            "WARNING:tensorflow:Can save best model only with val_loss available, skipping.\n"
          ]
        },
        {
          "output_type": "stream",
          "name": "stdout",
          "text": [
            "\b\b\b\b\b\b\b\b\b\b\b\b\b\b\b\b\b\b\b\b\b\b\b\b\b\b\b\b\b\b\b\b\b\b\b\b\b\b\b\b\b\b\b\b\b\b\b\b\b\b\b\b\b\b\b\b\b\b\b\b\b\b\b\b\b\b\b\b\b\b\b\b\b\b\b\b\b\b\b\b\b\b\b\b\b\b\b\b\b\b\b\b\b\b\b\b\b\b\b\b\b\b\b\b\b\b\b\b\b\b\b\b\b\b\b\b\b\b\b\b\b\b\b\b\b\b\b\b\b\b\b\b\b\b\b\b\b\b\b\b\b\b\b\b\b\b\b\b\b\b\b\r47/47 [==============================] - 1s 30ms/step - loss: 3.3579 - Note_loss: 2.2460 - Offset_loss: 0.0464 - Volume_loss: 0.4728 - Duration_loss: 0.5926\n",
            "Epoch 29/400\n",
            "47/47 [==============================] - ETA: 0s - loss: 3.3125 - Note_loss: 2.2008 - Offset_loss: 0.0464 - Volume_loss: 0.4728 - Duration_loss: 0.5926"
          ]
        },
        {
          "output_type": "stream",
          "name": "stderr",
          "text": [
            "WARNING:tensorflow:Can save best model only with val_loss available, skipping.\n"
          ]
        },
        {
          "output_type": "stream",
          "name": "stdout",
          "text": [
            "\b\b\b\b\b\b\b\b\b\b\b\b\b\b\b\b\b\b\b\b\b\b\b\b\b\b\b\b\b\b\b\b\b\b\b\b\b\b\b\b\b\b\b\b\b\b\b\b\b\b\b\b\b\b\b\b\b\b\b\b\b\b\b\b\b\b\b\b\b\b\b\b\b\b\b\b\b\b\b\b\b\b\b\b\b\b\b\b\b\b\b\b\b\b\b\b\b\b\b\b\b\b\b\b\b\b\b\b\b\b\b\b\b\b\b\b\b\b\b\b\b\b\b\b\b\b\b\b\b\b\b\b\b\b\b\b\b\b\b\b\b\b\b\b\b\b\b\b\b\b\b\r47/47 [==============================] - 1s 30ms/step - loss: 3.3125 - Note_loss: 2.2008 - Offset_loss: 0.0464 - Volume_loss: 0.4728 - Duration_loss: 0.5926\n",
            "Epoch 30/400\n",
            "47/47 [==============================] - ETA: 0s - loss: 3.2587 - Note_loss: 2.1490 - Offset_loss: 0.0443 - Volume_loss: 0.4728 - Duration_loss: 0.5926"
          ]
        },
        {
          "output_type": "stream",
          "name": "stderr",
          "text": [
            "WARNING:tensorflow:Can save best model only with val_loss available, skipping.\n"
          ]
        },
        {
          "output_type": "stream",
          "name": "stdout",
          "text": [
            "\b\b\b\b\b\b\b\b\b\b\b\b\b\b\b\b\b\b\b\b\b\b\b\b\b\b\b\b\b\b\b\b\b\b\b\b\b\b\b\b\b\b\b\b\b\b\b\b\b\b\b\b\b\b\b\b\b\b\b\b\b\b\b\b\b\b\b\b\b\b\b\b\b\b\b\b\b\b\b\b\b\b\b\b\b\b\b\b\b\b\b\b\b\b\b\b\b\b\b\b\b\b\b\b\b\b\b\b\b\b\b\b\b\b\b\b\b\b\b\b\b\b\b\b\b\b\b\b\b\b\b\b\b\b\b\b\b\b\b\b\b\b\b\b\b\b\b\b\b\b\b\r47/47 [==============================] - 2s 43ms/step - loss: 3.2587 - Note_loss: 2.1490 - Offset_loss: 0.0443 - Volume_loss: 0.4728 - Duration_loss: 0.5926\n",
            "Epoch 31/400\n",
            "47/47 [==============================] - ETA: 0s - loss: 3.1984 - Note_loss: 2.0919 - Offset_loss: 0.0412 - Volume_loss: 0.4728 - Duration_loss: 0.5926"
          ]
        },
        {
          "output_type": "stream",
          "name": "stderr",
          "text": [
            "WARNING:tensorflow:Can save best model only with val_loss available, skipping.\n"
          ]
        },
        {
          "output_type": "stream",
          "name": "stdout",
          "text": [
            "\b\b\b\b\b\b\b\b\b\b\b\b\b\b\b\b\b\b\b\b\b\b\b\b\b\b\b\b\b\b\b\b\b\b\b\b\b\b\b\b\b\b\b\b\b\b\b\b\b\b\b\b\b\b\b\b\b\b\b\b\b\b\b\b\b\b\b\b\b\b\b\b\b\b\b\b\b\b\b\b\b\b\b\b\b\b\b\b\b\b\b\b\b\b\b\b\b\b\b\b\b\b\b\b\b\b\b\b\b\b\b\b\b\b\b\b\b\b\b\b\b\b\b\b\b\b\b\b\b\b\b\b\b\b\b\b\b\b\b\b\b\b\b\b\b\b\b\b\b\b\b\r47/47 [==============================] - 2s 35ms/step - loss: 3.1984 - Note_loss: 2.0919 - Offset_loss: 0.0412 - Volume_loss: 0.4728 - Duration_loss: 0.5926\n",
            "Epoch 32/400\n",
            "47/47 [==============================] - ETA: 0s - loss: 3.1704 - Note_loss: 2.0605 - Offset_loss: 0.0445 - Volume_loss: 0.4728 - Duration_loss: 0.5926"
          ]
        },
        {
          "output_type": "stream",
          "name": "stderr",
          "text": [
            "WARNING:tensorflow:Can save best model only with val_loss available, skipping.\n"
          ]
        },
        {
          "output_type": "stream",
          "name": "stdout",
          "text": [
            "\b\b\b\b\b\b\b\b\b\b\b\b\b\b\b\b\b\b\b\b\b\b\b\b\b\b\b\b\b\b\b\b\b\b\b\b\b\b\b\b\b\b\b\b\b\b\b\b\b\b\b\b\b\b\b\b\b\b\b\b\b\b\b\b\b\b\b\b\b\b\b\b\b\b\b\b\b\b\b\b\b\b\b\b\b\b\b\b\b\b\b\b\b\b\b\b\b\b\b\b\b\b\b\b\b\b\b\b\b\b\b\b\b\b\b\b\b\b\b\b\b\b\b\b\b\b\b\b\b\b\b\b\b\b\b\b\b\b\b\b\b\b\b\b\b\b\b\b\b\b\b\r47/47 [==============================] - 1s 32ms/step - loss: 3.1704 - Note_loss: 2.0605 - Offset_loss: 0.0445 - Volume_loss: 0.4728 - Duration_loss: 0.5926\n",
            "Epoch 33/400\n",
            "47/47 [==============================] - ETA: 0s - loss: 3.1145 - Note_loss: 2.0022 - Offset_loss: 0.0470 - Volume_loss: 0.4728 - Duration_loss: 0.5926"
          ]
        },
        {
          "output_type": "stream",
          "name": "stderr",
          "text": [
            "WARNING:tensorflow:Can save best model only with val_loss available, skipping.\n"
          ]
        },
        {
          "output_type": "stream",
          "name": "stdout",
          "text": [
            "\b\b\b\b\b\b\b\b\b\b\b\b\b\b\b\b\b\b\b\b\b\b\b\b\b\b\b\b\b\b\b\b\b\b\b\b\b\b\b\b\b\b\b\b\b\b\b\b\b\b\b\b\b\b\b\b\b\b\b\b\b\b\b\b\b\b\b\b\b\b\b\b\b\b\b\b\b\b\b\b\b\b\b\b\b\b\b\b\b\b\b\b\b\b\b\b\b\b\b\b\b\b\b\b\b\b\b\b\b\b\b\b\b\b\b\b\b\b\b\b\b\b\b\b\b\b\b\b\b\b\b\b\b\b\b\b\b\b\b\b\b\b\b\b\b\b\b\b\b\b\b\r47/47 [==============================] - 1s 30ms/step - loss: 3.1145 - Note_loss: 2.0022 - Offset_loss: 0.0470 - Volume_loss: 0.4728 - Duration_loss: 0.5926\n",
            "Epoch 34/400\n",
            "47/47 [==============================] - ETA: 0s - loss: 3.0778 - Note_loss: 1.9706 - Offset_loss: 0.0418 - Volume_loss: 0.4728 - Duration_loss: 0.5926"
          ]
        },
        {
          "output_type": "stream",
          "name": "stderr",
          "text": [
            "WARNING:tensorflow:Can save best model only with val_loss available, skipping.\n"
          ]
        },
        {
          "output_type": "stream",
          "name": "stdout",
          "text": [
            "\b\b\b\b\b\b\b\b\b\b\b\b\b\b\b\b\b\b\b\b\b\b\b\b\b\b\b\b\b\b\b\b\b\b\b\b\b\b\b\b\b\b\b\b\b\b\b\b\b\b\b\b\b\b\b\b\b\b\b\b\b\b\b\b\b\b\b\b\b\b\b\b\b\b\b\b\b\b\b\b\b\b\b\b\b\b\b\b\b\b\b\b\b\b\b\b\b\b\b\b\b\b\b\b\b\b\b\b\b\b\b\b\b\b\b\b\b\b\b\b\b\b\b\b\b\b\b\b\b\b\b\b\b\b\b\b\b\b\b\b\b\b\b\b\b\b\b\b\b\b\b\r47/47 [==============================] - 1s 30ms/step - loss: 3.0778 - Note_loss: 1.9706 - Offset_loss: 0.0418 - Volume_loss: 0.4728 - Duration_loss: 0.5926\n",
            "Epoch 35/400\n",
            "47/47 [==============================] - ETA: 0s - loss: 3.0246 - Note_loss: 1.9156 - Offset_loss: 0.0436 - Volume_loss: 0.4728 - Duration_loss: 0.5926"
          ]
        },
        {
          "output_type": "stream",
          "name": "stderr",
          "text": [
            "WARNING:tensorflow:Can save best model only with val_loss available, skipping.\n"
          ]
        },
        {
          "output_type": "stream",
          "name": "stdout",
          "text": [
            "\b\b\b\b\b\b\b\b\b\b\b\b\b\b\b\b\b\b\b\b\b\b\b\b\b\b\b\b\b\b\b\b\b\b\b\b\b\b\b\b\b\b\b\b\b\b\b\b\b\b\b\b\b\b\b\b\b\b\b\b\b\b\b\b\b\b\b\b\b\b\b\b\b\b\b\b\b\b\b\b\b\b\b\b\b\b\b\b\b\b\b\b\b\b\b\b\b\b\b\b\b\b\b\b\b\b\b\b\b\b\b\b\b\b\b\b\b\b\b\b\b\b\b\b\b\b\b\b\b\b\b\b\b\b\b\b\b\b\b\b\b\b\b\b\b\b\b\b\b\b\b\r47/47 [==============================] - 1s 30ms/step - loss: 3.0246 - Note_loss: 1.9156 - Offset_loss: 0.0436 - Volume_loss: 0.4728 - Duration_loss: 0.5926\n",
            "Epoch 36/400\n",
            "47/47 [==============================] - ETA: 0s - loss: 2.9904 - Note_loss: 1.8871 - Offset_loss: 0.0379 - Volume_loss: 0.4728 - Duration_loss: 0.5926"
          ]
        },
        {
          "output_type": "stream",
          "name": "stderr",
          "text": [
            "WARNING:tensorflow:Can save best model only with val_loss available, skipping.\n"
          ]
        },
        {
          "output_type": "stream",
          "name": "stdout",
          "text": [
            "\b\b\b\b\b\b\b\b\b\b\b\b\b\b\b\b\b\b\b\b\b\b\b\b\b\b\b\b\b\b\b\b\b\b\b\b\b\b\b\b\b\b\b\b\b\b\b\b\b\b\b\b\b\b\b\b\b\b\b\b\b\b\b\b\b\b\b\b\b\b\b\b\b\b\b\b\b\b\b\b\b\b\b\b\b\b\b\b\b\b\b\b\b\b\b\b\b\b\b\b\b\b\b\b\b\b\b\b\b\b\b\b\b\b\b\b\b\b\b\b\b\b\b\b\b\b\b\b\b\b\b\b\b\b\b\b\b\b\b\b\b\b\b\b\b\b\b\b\b\b\b\r47/47 [==============================] - 1s 30ms/step - loss: 2.9904 - Note_loss: 1.8871 - Offset_loss: 0.0379 - Volume_loss: 0.4728 - Duration_loss: 0.5926\n",
            "Epoch 37/400\n",
            "47/47 [==============================] - ETA: 0s - loss: 2.9514 - Note_loss: 1.8471 - Offset_loss: 0.0389 - Volume_loss: 0.4728 - Duration_loss: 0.5926"
          ]
        },
        {
          "output_type": "stream",
          "name": "stderr",
          "text": [
            "WARNING:tensorflow:Can save best model only with val_loss available, skipping.\n"
          ]
        },
        {
          "output_type": "stream",
          "name": "stdout",
          "text": [
            "\b\b\b\b\b\b\b\b\b\b\b\b\b\b\b\b\b\b\b\b\b\b\b\b\b\b\b\b\b\b\b\b\b\b\b\b\b\b\b\b\b\b\b\b\b\b\b\b\b\b\b\b\b\b\b\b\b\b\b\b\b\b\b\b\b\b\b\b\b\b\b\b\b\b\b\b\b\b\b\b\b\b\b\b\b\b\b\b\b\b\b\b\b\b\b\b\b\b\b\b\b\b\b\b\b\b\b\b\b\b\b\b\b\b\b\b\b\b\b\b\b\b\b\b\b\b\b\b\b\b\b\b\b\b\b\b\b\b\b\b\b\b\b\b\b\b\b\b\b\b\b\r47/47 [==============================] - 1s 30ms/step - loss: 2.9514 - Note_loss: 1.8471 - Offset_loss: 0.0389 - Volume_loss: 0.4728 - Duration_loss: 0.5926\n",
            "Epoch 38/400\n",
            "46/47 [============================>.] - ETA: 0s - loss: 2.9125 - Note_loss: 1.8095 - Offset_loss: 0.0380 - Volume_loss: 0.4725 - Duration_loss: 0.5926"
          ]
        },
        {
          "output_type": "stream",
          "name": "stderr",
          "text": [
            "WARNING:tensorflow:Can save best model only with val_loss available, skipping.\n"
          ]
        },
        {
          "output_type": "stream",
          "name": "stdout",
          "text": [
            "\b\b\b\b\b\b\b\b\b\b\b\b\b\b\b\b\b\b\b\b\b\b\b\b\b\b\b\b\b\b\b\b\b\b\b\b\b\b\b\b\b\b\b\b\b\b\b\b\b\b\b\b\b\b\b\b\b\b\b\b\b\b\b\b\b\b\b\b\b\b\b\b\b\b\b\b\b\b\b\b\b\b\b\b\b\b\b\b\b\b\b\b\b\b\b\b\b\b\b\b\b\b\b\b\b\b\b\b\b\b\b\b\b\b\b\b\b\b\b\b\b\b\b\b\b\b\b\b\b\b\b\b\b\b\b\b\b\b\b\b\b\b\b\b\b\b\b\b\b\b\b\r47/47 [==============================] - 2s 41ms/step - loss: 2.9143 - Note_loss: 1.8108 - Offset_loss: 0.0381 - Volume_loss: 0.4728 - Duration_loss: 0.5926\n",
            "Epoch 39/400\n",
            "47/47 [==============================] - ETA: 0s - loss: 2.8894 - Note_loss: 1.7866 - Offset_loss: 0.0374 - Volume_loss: 0.4728 - Duration_loss: 0.5926"
          ]
        },
        {
          "output_type": "stream",
          "name": "stderr",
          "text": [
            "WARNING:tensorflow:Can save best model only with val_loss available, skipping.\n"
          ]
        },
        {
          "output_type": "stream",
          "name": "stdout",
          "text": [
            "\b\b\b\b\b\b\b\b\b\b\b\b\b\b\b\b\b\b\b\b\b\b\b\b\b\b\b\b\b\b\b\b\b\b\b\b\b\b\b\b\b\b\b\b\b\b\b\b\b\b\b\b\b\b\b\b\b\b\b\b\b\b\b\b\b\b\b\b\b\b\b\b\b\b\b\b\b\b\b\b\b\b\b\b\b\b\b\b\b\b\b\b\b\b\b\b\b\b\b\b\b\b\b\b\b\b\b\b\b\b\b\b\b\b\b\b\b\b\b\b\b\b\b\b\b\b\b\b\b\b\b\b\b\b\b\b\b\b\b\b\b\b\b\b\b\b\b\b\b\b\b\r47/47 [==============================] - 2s 38ms/step - loss: 2.8894 - Note_loss: 1.7866 - Offset_loss: 0.0374 - Volume_loss: 0.4728 - Duration_loss: 0.5926\n",
            "Epoch 40/400\n",
            "46/47 [============================>.] - ETA: 0s - loss: 2.8611 - Note_loss: 1.7566 - Offset_loss: 0.0398 - Volume_loss: 0.4731 - Duration_loss: 0.5916"
          ]
        },
        {
          "output_type": "stream",
          "name": "stderr",
          "text": [
            "WARNING:tensorflow:Can save best model only with val_loss available, skipping.\n"
          ]
        },
        {
          "output_type": "stream",
          "name": "stdout",
          "text": [
            "\b\b\b\b\b\b\b\b\b\b\b\b\b\b\b\b\b\b\b\b\b\b\b\b\b\b\b\b\b\b\b\b\b\b\b\b\b\b\b\b\b\b\b\b\b\b\b\b\b\b\b\b\b\b\b\b\b\b\b\b\b\b\b\b\b\b\b\b\b\b\b\b\b\b\b\b\b\b\b\b\b\b\b\b\b\b\b\b\b\b\b\b\b\b\b\b\b\b\b\b\b\b\b\b\b\b\b\b\b\b\b\b\b\b\b\b\b\b\b\b\b\b\b\b\b\b\b\b\b\b\b\b\b\b\b\b\b\b\b\b\b\b\b\b\b\b\b\b\b\b\b\r47/47 [==============================] - 2s 32ms/step - loss: 2.8643 - Note_loss: 1.7585 - Offset_loss: 0.0404 - Volume_loss: 0.4728 - Duration_loss: 0.5926\n",
            "Epoch 41/400\n",
            "47/47 [==============================] - ETA: 0s - loss: 2.8103 - Note_loss: 1.7056 - Offset_loss: 0.0393 - Volume_loss: 0.4728 - Duration_loss: 0.5926"
          ]
        },
        {
          "output_type": "stream",
          "name": "stderr",
          "text": [
            "WARNING:tensorflow:Can save best model only with val_loss available, skipping.\n"
          ]
        },
        {
          "output_type": "stream",
          "name": "stdout",
          "text": [
            "\b\b\b\b\b\b\b\b\b\b\b\b\b\b\b\b\b\b\b\b\b\b\b\b\b\b\b\b\b\b\b\b\b\b\b\b\b\b\b\b\b\b\b\b\b\b\b\b\b\b\b\b\b\b\b\b\b\b\b\b\b\b\b\b\b\b\b\b\b\b\b\b\b\b\b\b\b\b\b\b\b\b\b\b\b\b\b\b\b\b\b\b\b\b\b\b\b\b\b\b\b\b\b\b\b\b\b\b\b\b\b\b\b\b\b\b\b\b\b\b\b\b\b\b\b\b\b\b\b\b\b\b\b\b\b\b\b\b\b\b\b\b\b\b\b\b\b\b\b\b\b\r47/47 [==============================] - 2s 32ms/step - loss: 2.8103 - Note_loss: 1.7056 - Offset_loss: 0.0393 - Volume_loss: 0.4728 - Duration_loss: 0.5926\n",
            "Epoch 42/400\n",
            "47/47 [==============================] - ETA: 0s - loss: 2.7614 - Note_loss: 1.6561 - Offset_loss: 0.0399 - Volume_loss: 0.4728 - Duration_loss: 0.5926"
          ]
        },
        {
          "output_type": "stream",
          "name": "stderr",
          "text": [
            "WARNING:tensorflow:Can save best model only with val_loss available, skipping.\n"
          ]
        },
        {
          "output_type": "stream",
          "name": "stdout",
          "text": [
            "\b\b\b\b\b\b\b\b\b\b\b\b\b\b\b\b\b\b\b\b\b\b\b\b\b\b\b\b\b\b\b\b\b\b\b\b\b\b\b\b\b\b\b\b\b\b\b\b\b\b\b\b\b\b\b\b\b\b\b\b\b\b\b\b\b\b\b\b\b\b\b\b\b\b\b\b\b\b\b\b\b\b\b\b\b\b\b\b\b\b\b\b\b\b\b\b\b\b\b\b\b\b\b\b\b\b\b\b\b\b\b\b\b\b\b\b\b\b\b\b\b\b\b\b\b\b\b\b\b\b\b\b\b\b\b\b\b\b\b\b\b\b\b\b\b\b\b\b\b\b\b\r47/47 [==============================] - 2s 32ms/step - loss: 2.7614 - Note_loss: 1.6561 - Offset_loss: 0.0399 - Volume_loss: 0.4728 - Duration_loss: 0.5926\n",
            "Epoch 43/400\n",
            "47/47 [==============================] - ETA: 0s - loss: 2.7391 - Note_loss: 1.6364 - Offset_loss: 0.0373 - Volume_loss: 0.4728 - Duration_loss: 0.5926"
          ]
        },
        {
          "output_type": "stream",
          "name": "stderr",
          "text": [
            "WARNING:tensorflow:Can save best model only with val_loss available, skipping.\n"
          ]
        },
        {
          "output_type": "stream",
          "name": "stdout",
          "text": [
            "\b\b\b\b\b\b\b\b\b\b\b\b\b\b\b\b\b\b\b\b\b\b\b\b\b\b\b\b\b\b\b\b\b\b\b\b\b\b\b\b\b\b\b\b\b\b\b\b\b\b\b\b\b\b\b\b\b\b\b\b\b\b\b\b\b\b\b\b\b\b\b\b\b\b\b\b\b\b\b\b\b\b\b\b\b\b\b\b\b\b\b\b\b\b\b\b\b\b\b\b\b\b\b\b\b\b\b\b\b\b\b\b\b\b\b\b\b\b\b\b\b\b\b\b\b\b\b\b\b\b\b\b\b\b\b\b\b\b\b\b\b\b\b\b\b\b\b\b\b\b\b\r47/47 [==============================] - 1s 32ms/step - loss: 2.7391 - Note_loss: 1.6364 - Offset_loss: 0.0373 - Volume_loss: 0.4728 - Duration_loss: 0.5926\n",
            "Epoch 44/400\n",
            "47/47 [==============================] - ETA: 0s - loss: 2.7120 - Note_loss: 1.6039 - Offset_loss: 0.0427 - Volume_loss: 0.4728 - Duration_loss: 0.5926"
          ]
        },
        {
          "output_type": "stream",
          "name": "stderr",
          "text": [
            "WARNING:tensorflow:Can save best model only with val_loss available, skipping.\n"
          ]
        },
        {
          "output_type": "stream",
          "name": "stdout",
          "text": [
            "\b\b\b\b\b\b\b\b\b\b\b\b\b\b\b\b\b\b\b\b\b\b\b\b\b\b\b\b\b\b\b\b\b\b\b\b\b\b\b\b\b\b\b\b\b\b\b\b\b\b\b\b\b\b\b\b\b\b\b\b\b\b\b\b\b\b\b\b\b\b\b\b\b\b\b\b\b\b\b\b\b\b\b\b\b\b\b\b\b\b\b\b\b\b\b\b\b\b\b\b\b\b\b\b\b\b\b\b\b\b\b\b\b\b\b\b\b\b\b\b\b\b\b\b\b\b\b\b\b\b\b\b\b\b\b\b\b\b\b\b\b\b\b\b\b\b\b\b\b\b\b\r47/47 [==============================] - 1s 30ms/step - loss: 2.7120 - Note_loss: 1.6039 - Offset_loss: 0.0427 - Volume_loss: 0.4728 - Duration_loss: 0.5926\n",
            "Epoch 45/400\n",
            "47/47 [==============================] - ETA: 0s - loss: 2.6689 - Note_loss: 1.5609 - Offset_loss: 0.0426 - Volume_loss: 0.4728 - Duration_loss: 0.5926"
          ]
        },
        {
          "output_type": "stream",
          "name": "stderr",
          "text": [
            "WARNING:tensorflow:Can save best model only with val_loss available, skipping.\n"
          ]
        },
        {
          "output_type": "stream",
          "name": "stdout",
          "text": [
            "\b\b\b\b\b\b\b\b\b\b\b\b\b\b\b\b\b\b\b\b\b\b\b\b\b\b\b\b\b\b\b\b\b\b\b\b\b\b\b\b\b\b\b\b\b\b\b\b\b\b\b\b\b\b\b\b\b\b\b\b\b\b\b\b\b\b\b\b\b\b\b\b\b\b\b\b\b\b\b\b\b\b\b\b\b\b\b\b\b\b\b\b\b\b\b\b\b\b\b\b\b\b\b\b\b\b\b\b\b\b\b\b\b\b\b\b\b\b\b\b\b\b\b\b\b\b\b\b\b\b\b\b\b\b\b\b\b\b\b\b\b\b\b\b\b\b\b\b\b\b\b\r47/47 [==============================] - 2s 33ms/step - loss: 2.6689 - Note_loss: 1.5609 - Offset_loss: 0.0426 - Volume_loss: 0.4728 - Duration_loss: 0.5926\n",
            "Epoch 46/400\n",
            "47/47 [==============================] - ETA: 0s - loss: 2.6263 - Note_loss: 1.5249 - Offset_loss: 0.0359 - Volume_loss: 0.4728 - Duration_loss: 0.5926"
          ]
        },
        {
          "output_type": "stream",
          "name": "stderr",
          "text": [
            "WARNING:tensorflow:Can save best model only with val_loss available, skipping.\n"
          ]
        },
        {
          "output_type": "stream",
          "name": "stdout",
          "text": [
            "\b\b\b\b\b\b\b\b\b\b\b\b\b\b\b\b\b\b\b\b\b\b\b\b\b\b\b\b\b\b\b\b\b\b\b\b\b\b\b\b\b\b\b\b\b\b\b\b\b\b\b\b\b\b\b\b\b\b\b\b\b\b\b\b\b\b\b\b\b\b\b\b\b\b\b\b\b\b\b\b\b\b\b\b\b\b\b\b\b\b\b\b\b\b\b\b\b\b\b\b\b\b\b\b\b\b\b\b\b\b\b\b\b\b\b\b\b\b\b\b\b\b\b\b\b\b\b\b\b\b\b\b\b\b\b\b\b\b\b\b\b\b\b\b\b\b\b\b\b\b\b\r47/47 [==============================] - 2s 46ms/step - loss: 2.6263 - Note_loss: 1.5249 - Offset_loss: 0.0359 - Volume_loss: 0.4728 - Duration_loss: 0.5926\n",
            "Epoch 47/400\n",
            "46/47 [============================>.] - ETA: 0s - loss: 2.6318 - Note_loss: 1.5225 - Offset_loss: 0.0436 - Volume_loss: 0.4728 - Duration_loss: 0.5930"
          ]
        },
        {
          "output_type": "stream",
          "name": "stderr",
          "text": [
            "WARNING:tensorflow:Can save best model only with val_loss available, skipping.\n"
          ]
        },
        {
          "output_type": "stream",
          "name": "stdout",
          "text": [
            "\b\b\b\b\b\b\b\b\b\b\b\b\b\b\b\b\b\b\b\b\b\b\b\b\b\b\b\b\b\b\b\b\b\b\b\b\b\b\b\b\b\b\b\b\b\b\b\b\b\b\b\b\b\b\b\b\b\b\b\b\b\b\b\b\b\b\b\b\b\b\b\b\b\b\b\b\b\b\b\b\b\b\b\b\b\b\b\b\b\b\b\b\b\b\b\b\b\b\b\b\b\b\b\b\b\b\b\b\b\b\b\b\b\b\b\b\b\b\b\b\b\b\b\b\b\b\b\b\b\b\b\b\b\b\b\b\b\b\b\b\b\b\b\b\b\b\b\b\b\b\b\r47/47 [==============================] - 2s 35ms/step - loss: 2.6316 - Note_loss: 1.5219 - Offset_loss: 0.0442 - Volume_loss: 0.4728 - Duration_loss: 0.5926\n",
            "Epoch 48/400\n",
            "46/47 [============================>.] - ETA: 0s - loss: 2.5799 - Note_loss: 1.4765 - Offset_loss: 0.0381 - Volume_loss: 0.4724 - Duration_loss: 0.5929"
          ]
        },
        {
          "output_type": "stream",
          "name": "stderr",
          "text": [
            "WARNING:tensorflow:Can save best model only with val_loss available, skipping.\n"
          ]
        },
        {
          "output_type": "stream",
          "name": "stdout",
          "text": [
            "\b\b\b\b\b\b\b\b\b\b\b\b\b\b\b\b\b\b\b\b\b\b\b\b\b\b\b\b\b\b\b\b\b\b\b\b\b\b\b\b\b\b\b\b\b\b\b\b\b\b\b\b\b\b\b\b\b\b\b\b\b\b\b\b\b\b\b\b\b\b\b\b\b\b\b\b\b\b\b\b\b\b\b\b\b\b\b\b\b\b\b\b\b\b\b\b\b\b\b\b\b\b\b\b\b\b\b\b\b\b\b\b\b\b\b\b\b\b\b\b\b\b\b\b\b\b\b\b\b\b\b\b\b\b\b\b\b\b\b\b\b\b\b\b\b\b\b\b\b\b\b\r47/47 [==============================] - 2s 40ms/step - loss: 2.5817 - Note_loss: 1.4782 - Offset_loss: 0.0381 - Volume_loss: 0.4728 - Duration_loss: 0.5926\n",
            "Epoch 49/400\n",
            "47/47 [==============================] - ETA: 0s - loss: 2.5361 - Note_loss: 1.4353 - Offset_loss: 0.0354 - Volume_loss: 0.4728 - Duration_loss: 0.5926"
          ]
        },
        {
          "output_type": "stream",
          "name": "stderr",
          "text": [
            "WARNING:tensorflow:Can save best model only with val_loss available, skipping.\n"
          ]
        },
        {
          "output_type": "stream",
          "name": "stdout",
          "text": [
            "\b\b\b\b\b\b\b\b\b\b\b\b\b\b\b\b\b\b\b\b\b\b\b\b\b\b\b\b\b\b\b\b\b\b\b\b\b\b\b\b\b\b\b\b\b\b\b\b\b\b\b\b\b\b\b\b\b\b\b\b\b\b\b\b\b\b\b\b\b\b\b\b\b\b\b\b\b\b\b\b\b\b\b\b\b\b\b\b\b\b\b\b\b\b\b\b\b\b\b\b\b\b\b\b\b\b\b\b\b\b\b\b\b\b\b\b\b\b\b\b\b\b\b\b\b\b\b\b\b\b\b\b\b\b\b\b\b\b\b\b\b\b\b\b\b\b\b\b\b\b\b\r47/47 [==============================] - 2s 32ms/step - loss: 2.5361 - Note_loss: 1.4353 - Offset_loss: 0.0354 - Volume_loss: 0.4728 - Duration_loss: 0.5926\n",
            "Epoch 50/400\n",
            "47/47 [==============================] - ETA: 0s - loss: 2.5285 - Note_loss: 1.4252 - Offset_loss: 0.0379 - Volume_loss: 0.4728 - Duration_loss: 0.5926"
          ]
        },
        {
          "output_type": "stream",
          "name": "stderr",
          "text": [
            "WARNING:tensorflow:Can save best model only with val_loss available, skipping.\n"
          ]
        },
        {
          "output_type": "stream",
          "name": "stdout",
          "text": [
            "\b\b\b\b\b\b\b\b\b\b\b\b\b\b\b\b\b\b\b\b\b\b\b\b\b\b\b\b\b\b\b\b\b\b\b\b\b\b\b\b\b\b\b\b\b\b\b\b\b\b\b\b\b\b\b\b\b\b\b\b\b\b\b\b\b\b\b\b\b\b\b\b\b\b\b\b\b\b\b\b\b\b\b\b\b\b\b\b\b\b\b\b\b\b\b\b\b\b\b\b\b\b\b\b\b\b\b\b\b\b\b\b\b\b\b\b\b\b\b\b\b\b\b\b\b\b\b\b\b\b\b\b\b\b\b\b\b\b\b\b\b\b\b\b\b\b\b\b\b\b\b\r47/47 [==============================] - 1s 30ms/step - loss: 2.5285 - Note_loss: 1.4252 - Offset_loss: 0.0379 - Volume_loss: 0.4728 - Duration_loss: 0.5926\n",
            "Epoch 51/400\n",
            "47/47 [==============================] - ETA: 0s - loss: 2.4862 - Note_loss: 1.3833 - Offset_loss: 0.0375 - Volume_loss: 0.4728 - Duration_loss: 0.5926"
          ]
        },
        {
          "output_type": "stream",
          "name": "stderr",
          "text": [
            "WARNING:tensorflow:Can save best model only with val_loss available, skipping.\n"
          ]
        },
        {
          "output_type": "stream",
          "name": "stdout",
          "text": [
            "\b\b\b\b\b\b\b\b\b\b\b\b\b\b\b\b\b\b\b\b\b\b\b\b\b\b\b\b\b\b\b\b\b\b\b\b\b\b\b\b\b\b\b\b\b\b\b\b\b\b\b\b\b\b\b\b\b\b\b\b\b\b\b\b\b\b\b\b\b\b\b\b\b\b\b\b\b\b\b\b\b\b\b\b\b\b\b\b\b\b\b\b\b\b\b\b\b\b\b\b\b\b\b\b\b\b\b\b\b\b\b\b\b\b\b\b\b\b\b\b\b\b\b\b\b\b\b\b\b\b\b\b\b\b\b\b\b\b\b\b\b\b\b\b\b\b\b\b\b\b\b\r47/47 [==============================] - 1s 30ms/step - loss: 2.4862 - Note_loss: 1.3833 - Offset_loss: 0.0375 - Volume_loss: 0.4728 - Duration_loss: 0.5926\n",
            "Epoch 52/400\n",
            "47/47 [==============================] - ETA: 0s - loss: 2.4587 - Note_loss: 1.3543 - Offset_loss: 0.0390 - Volume_loss: 0.4728 - Duration_loss: 0.5926"
          ]
        },
        {
          "output_type": "stream",
          "name": "stderr",
          "text": [
            "WARNING:tensorflow:Can save best model only with val_loss available, skipping.\n"
          ]
        },
        {
          "output_type": "stream",
          "name": "stdout",
          "text": [
            "\b\b\b\b\b\b\b\b\b\b\b\b\b\b\b\b\b\b\b\b\b\b\b\b\b\b\b\b\b\b\b\b\b\b\b\b\b\b\b\b\b\b\b\b\b\b\b\b\b\b\b\b\b\b\b\b\b\b\b\b\b\b\b\b\b\b\b\b\b\b\b\b\b\b\b\b\b\b\b\b\b\b\b\b\b\b\b\b\b\b\b\b\b\b\b\b\b\b\b\b\b\b\b\b\b\b\b\b\b\b\b\b\b\b\b\b\b\b\b\b\b\b\b\b\b\b\b\b\b\b\b\b\b\b\b\b\b\b\b\b\b\b\b\b\b\b\b\b\b\b\b\r47/47 [==============================] - 1s 30ms/step - loss: 2.4587 - Note_loss: 1.3543 - Offset_loss: 0.0390 - Volume_loss: 0.4728 - Duration_loss: 0.5926\n",
            "Epoch 53/400\n",
            "46/47 [============================>.] - ETA: 0s - loss: 2.4418 - Note_loss: 1.3406 - Offset_loss: 0.0364 - Volume_loss: 0.4723 - Duration_loss: 0.5925"
          ]
        },
        {
          "output_type": "stream",
          "name": "stderr",
          "text": [
            "WARNING:tensorflow:Can save best model only with val_loss available, skipping.\n"
          ]
        },
        {
          "output_type": "stream",
          "name": "stdout",
          "text": [
            "\b\b\b\b\b\b\b\b\b\b\b\b\b\b\b\b\b\b\b\b\b\b\b\b\b\b\b\b\b\b\b\b\b\b\b\b\b\b\b\b\b\b\b\b\b\b\b\b\b\b\b\b\b\b\b\b\b\b\b\b\b\b\b\b\b\b\b\b\b\b\b\b\b\b\b\b\b\b\b\b\b\b\b\b\b\b\b\b\b\b\b\b\b\b\b\b\b\b\b\b\b\b\b\b\b\b\b\b\b\b\b\b\b\b\b\b\b\b\b\b\b\b\b\b\b\b\b\b\b\b\b\b\b\b\b\b\b\b\b\b\b\b\b\b\b\b\b\b\b\b\b\r47/47 [==============================] - 2s 34ms/step - loss: 2.4412 - Note_loss: 1.3395 - Offset_loss: 0.0363 - Volume_loss: 0.4728 - Duration_loss: 0.5926\n",
            "Epoch 54/400\n",
            "46/47 [============================>.] - ETA: 0s - loss: 2.4113 - Note_loss: 1.3115 - Offset_loss: 0.0340 - Volume_loss: 0.4731 - Duration_loss: 0.5926"
          ]
        },
        {
          "output_type": "stream",
          "name": "stderr",
          "text": [
            "WARNING:tensorflow:Can save best model only with val_loss available, skipping.\n"
          ]
        },
        {
          "output_type": "stream",
          "name": "stdout",
          "text": [
            "\b\b\b\b\b\b\b\b\b\b\b\b\b\b\b\b\b\b\b\b\b\b\b\b\b\b\b\b\b\b\b\b\b\b\b\b\b\b\b\b\b\b\b\b\b\b\b\b\b\b\b\b\b\b\b\b\b\b\b\b\b\b\b\b\b\b\b\b\b\b\b\b\b\b\b\b\b\b\b\b\b\b\b\b\b\b\b\b\b\b\b\b\b\b\b\b\b\b\b\b\b\b\b\b\b\b\b\b\b\b\b\b\b\b\b\b\b\b\b\b\b\b\b\b\b\b\b\b\b\b\b\b\b\b\b\b\b\b\b\b\b\b\b\b\b\b\b\b\b\b\b\r47/47 [==============================] - 2s 42ms/step - loss: 2.4075 - Note_loss: 1.3069 - Offset_loss: 0.0353 - Volume_loss: 0.4728 - Duration_loss: 0.5926\n",
            "Epoch 55/400\n",
            "47/47 [==============================] - ETA: 0s - loss: 2.3894 - Note_loss: 1.2892 - Offset_loss: 0.0348 - Volume_loss: 0.4728 - Duration_loss: 0.5926"
          ]
        },
        {
          "output_type": "stream",
          "name": "stderr",
          "text": [
            "WARNING:tensorflow:Can save best model only with val_loss available, skipping.\n"
          ]
        },
        {
          "output_type": "stream",
          "name": "stdout",
          "text": [
            "\b\b\b\b\b\b\b\b\b\b\b\b\b\b\b\b\b\b\b\b\b\b\b\b\b\b\b\b\b\b\b\b\b\b\b\b\b\b\b\b\b\b\b\b\b\b\b\b\b\b\b\b\b\b\b\b\b\b\b\b\b\b\b\b\b\b\b\b\b\b\b\b\b\b\b\b\b\b\b\b\b\b\b\b\b\b\b\b\b\b\b\b\b\b\b\b\b\b\b\b\b\b\b\b\b\b\b\b\b\b\b\b\b\b\b\b\b\b\b\b\b\b\b\b\b\b\b\b\b\b\b\b\b\b\b\b\b\b\b\b\b\b\b\b\b\b\b\b\b\b\b\r47/47 [==============================] - 1s 30ms/step - loss: 2.3894 - Note_loss: 1.2892 - Offset_loss: 0.0348 - Volume_loss: 0.4728 - Duration_loss: 0.5926\n",
            "Epoch 56/400\n",
            "47/47 [==============================] - ETA: 0s - loss: 2.3510 - Note_loss: 1.2512 - Offset_loss: 0.0344 - Volume_loss: 0.4728 - Duration_loss: 0.5926"
          ]
        },
        {
          "output_type": "stream",
          "name": "stderr",
          "text": [
            "WARNING:tensorflow:Can save best model only with val_loss available, skipping.\n"
          ]
        },
        {
          "output_type": "stream",
          "name": "stdout",
          "text": [
            "\b\b\b\b\b\b\b\b\b\b\b\b\b\b\b\b\b\b\b\b\b\b\b\b\b\b\b\b\b\b\b\b\b\b\b\b\b\b\b\b\b\b\b\b\b\b\b\b\b\b\b\b\b\b\b\b\b\b\b\b\b\b\b\b\b\b\b\b\b\b\b\b\b\b\b\b\b\b\b\b\b\b\b\b\b\b\b\b\b\b\b\b\b\b\b\b\b\b\b\b\b\b\b\b\b\b\b\b\b\b\b\b\b\b\b\b\b\b\b\b\b\b\b\b\b\b\b\b\b\b\b\b\b\b\b\b\b\b\b\b\b\b\b\b\b\b\b\b\b\b\b\r47/47 [==============================] - 1s 31ms/step - loss: 2.3510 - Note_loss: 1.2512 - Offset_loss: 0.0344 - Volume_loss: 0.4728 - Duration_loss: 0.5926\n",
            "Epoch 57/400\n",
            "47/47 [==============================] - ETA: 0s - loss: 2.4911 - Note_loss: 1.3916 - Offset_loss: 0.0341 - Volume_loss: 0.4728 - Duration_loss: 0.5926"
          ]
        },
        {
          "output_type": "stream",
          "name": "stderr",
          "text": [
            "WARNING:tensorflow:Can save best model only with val_loss available, skipping.\n"
          ]
        },
        {
          "output_type": "stream",
          "name": "stdout",
          "text": [
            "\b\b\b\b\b\b\b\b\b\b\b\b\b\b\b\b\b\b\b\b\b\b\b\b\b\b\b\b\b\b\b\b\b\b\b\b\b\b\b\b\b\b\b\b\b\b\b\b\b\b\b\b\b\b\b\b\b\b\b\b\b\b\b\b\b\b\b\b\b\b\b\b\b\b\b\b\b\b\b\b\b\b\b\b\b\b\b\b\b\b\b\b\b\b\b\b\b\b\b\b\b\b\b\b\b\b\b\b\b\b\b\b\b\b\b\b\b\b\b\b\b\b\b\b\b\b\b\b\b\b\b\b\b\b\b\b\b\b\b\b\b\b\b\b\b\b\b\b\b\b\b\r47/47 [==============================] - 1s 30ms/step - loss: 2.4911 - Note_loss: 1.3916 - Offset_loss: 0.0341 - Volume_loss: 0.4728 - Duration_loss: 0.5926\n",
            "Epoch 58/400\n",
            "47/47 [==============================] - ETA: 0s - loss: 2.3629 - Note_loss: 1.2632 - Offset_loss: 0.0343 - Volume_loss: 0.4728 - Duration_loss: 0.5926"
          ]
        },
        {
          "output_type": "stream",
          "name": "stderr",
          "text": [
            "WARNING:tensorflow:Can save best model only with val_loss available, skipping.\n"
          ]
        },
        {
          "output_type": "stream",
          "name": "stdout",
          "text": [
            "\b\b\b\b\b\b\b\b\b\b\b\b\b\b\b\b\b\b\b\b\b\b\b\b\b\b\b\b\b\b\b\b\b\b\b\b\b\b\b\b\b\b\b\b\b\b\b\b\b\b\b\b\b\b\b\b\b\b\b\b\b\b\b\b\b\b\b\b\b\b\b\b\b\b\b\b\b\b\b\b\b\b\b\b\b\b\b\b\b\b\b\b\b\b\b\b\b\b\b\b\b\b\b\b\b\b\b\b\b\b\b\b\b\b\b\b\b\b\b\b\b\b\b\b\b\b\b\b\b\b\b\b\b\b\b\b\b\b\b\b\b\b\b\b\b\b\b\b\b\b\b\r47/47 [==============================] - 1s 30ms/step - loss: 2.3629 - Note_loss: 1.2632 - Offset_loss: 0.0343 - Volume_loss: 0.4728 - Duration_loss: 0.5926\n",
            "Epoch 59/400\n",
            "47/47 [==============================] - ETA: 0s - loss: 2.2876 - Note_loss: 1.1875 - Offset_loss: 0.0347 - Volume_loss: 0.4728 - Duration_loss: 0.5926"
          ]
        },
        {
          "output_type": "stream",
          "name": "stderr",
          "text": [
            "WARNING:tensorflow:Can save best model only with val_loss available, skipping.\n"
          ]
        },
        {
          "output_type": "stream",
          "name": "stdout",
          "text": [
            "\b\b\b\b\b\b\b\b\b\b\b\b\b\b\b\b\b\b\b\b\b\b\b\b\b\b\b\b\b\b\b\b\b\b\b\b\b\b\b\b\b\b\b\b\b\b\b\b\b\b\b\b\b\b\b\b\b\b\b\b\b\b\b\b\b\b\b\b\b\b\b\b\b\b\b\b\b\b\b\b\b\b\b\b\b\b\b\b\b\b\b\b\b\b\b\b\b\b\b\b\b\b\b\b\b\b\b\b\b\b\b\b\b\b\b\b\b\b\b\b\b\b\b\b\b\b\b\b\b\b\b\b\b\b\b\b\b\b\b\b\b\b\b\b\b\b\b\b\b\b\b\r47/47 [==============================] - 1s 31ms/step - loss: 2.2876 - Note_loss: 1.1875 - Offset_loss: 0.0347 - Volume_loss: 0.4728 - Duration_loss: 0.5926\n",
            "Epoch 60/400\n",
            "47/47 [==============================] - ETA: 0s - loss: 2.2502 - Note_loss: 1.1487 - Offset_loss: 0.0361 - Volume_loss: 0.4728 - Duration_loss: 0.5926"
          ]
        },
        {
          "output_type": "stream",
          "name": "stderr",
          "text": [
            "WARNING:tensorflow:Can save best model only with val_loss available, skipping.\n"
          ]
        },
        {
          "output_type": "stream",
          "name": "stdout",
          "text": [
            "\b\b\b\b\b\b\b\b\b\b\b\b\b\b\b\b\b\b\b\b\b\b\b\b\b\b\b\b\b\b\b\b\b\b\b\b\b\b\b\b\b\b\b\b\b\b\b\b\b\b\b\b\b\b\b\b\b\b\b\b\b\b\b\b\b\b\b\b\b\b\b\b\b\b\b\b\b\b\b\b\b\b\b\b\b\b\b\b\b\b\b\b\b\b\b\b\b\b\b\b\b\b\b\b\b\b\b\b\b\b\b\b\b\b\b\b\b\b\b\b\b\b\b\b\b\b\b\b\b\b\b\b\b\b\b\b\b\b\b\b\b\b\b\b\b\b\b\b\b\b\b\r47/47 [==============================] - 2s 36ms/step - loss: 2.2502 - Note_loss: 1.1487 - Offset_loss: 0.0361 - Volume_loss: 0.4728 - Duration_loss: 0.5926\n",
            "Epoch 61/400\n",
            "46/47 [============================>.] - ETA: 0s - loss: 2.2281 - Note_loss: 1.1284 - Offset_loss: 0.0342 - Volume_loss: 0.4729 - Duration_loss: 0.5927"
          ]
        },
        {
          "output_type": "stream",
          "name": "stderr",
          "text": [
            "WARNING:tensorflow:Can save best model only with val_loss available, skipping.\n"
          ]
        },
        {
          "output_type": "stream",
          "name": "stdout",
          "text": [
            "\b\b\b\b\b\b\b\b\b\b\b\b\b\b\b\b\b\b\b\b\b\b\b\b\b\b\b\b\b\b\b\b\b\b\b\b\b\b\b\b\b\b\b\b\b\b\b\b\b\b\b\b\b\b\b\b\b\b\b\b\b\b\b\b\b\b\b\b\b\b\b\b\b\b\b\b\b\b\b\b\b\b\b\b\b\b\b\b\b\b\b\b\b\b\b\b\b\b\b\b\b\b\b\b\b\b\b\b\b\b\b\b\b\b\b\b\b\b\b\b\b\b\b\b\b\b\b\b\b\b\b\b\b\b\b\b\b\b\b\b\b\b\b\b\b\b\b\b\b\b\b\r47/47 [==============================] - 2s 37ms/step - loss: 2.2283 - Note_loss: 1.1290 - Offset_loss: 0.0340 - Volume_loss: 0.4728 - Duration_loss: 0.5926\n",
            "Epoch 62/400\n",
            "46/47 [============================>.] - ETA: 0s - loss: 2.2113 - Note_loss: 1.1101 - Offset_loss: 0.0363 - Volume_loss: 0.4731 - Duration_loss: 0.5918"
          ]
        },
        {
          "output_type": "stream",
          "name": "stderr",
          "text": [
            "WARNING:tensorflow:Can save best model only with val_loss available, skipping.\n"
          ]
        },
        {
          "output_type": "stream",
          "name": "stdout",
          "text": [
            "\b\b\b\b\b\b\b\b\b\b\b\b\b\b\b\b\b\b\b\b\b\b\b\b\b\b\b\b\b\b\b\b\b\b\b\b\b\b\b\b\b\b\b\b\b\b\b\b\b\b\b\b\b\b\b\b\b\b\b\b\b\b\b\b\b\b\b\b\b\b\b\b\b\b\b\b\b\b\b\b\b\b\b\b\b\b\b\b\b\b\b\b\b\b\b\b\b\b\b\b\b\b\b\b\b\b\b\b\b\b\b\b\b\b\b\b\b\b\b\b\b\b\b\b\b\b\b\b\b\b\b\b\b\b\b\b\b\b\b\b\b\b\b\b\b\b\b\b\b\b\b\r47/47 [==============================] - 2s 42ms/step - loss: 2.2116 - Note_loss: 1.1100 - Offset_loss: 0.0362 - Volume_loss: 0.4728 - Duration_loss: 0.5926\n",
            "Epoch 63/400\n",
            "47/47 [==============================] - ETA: 0s - loss: 2.2230 - Note_loss: 1.1229 - Offset_loss: 0.0347 - Volume_loss: 0.4728 - Duration_loss: 0.5926"
          ]
        },
        {
          "output_type": "stream",
          "name": "stderr",
          "text": [
            "WARNING:tensorflow:Can save best model only with val_loss available, skipping.\n"
          ]
        },
        {
          "output_type": "stream",
          "name": "stdout",
          "text": [
            "\b\b\b\b\b\b\b\b\b\b\b\b\b\b\b\b\b\b\b\b\b\b\b\b\b\b\b\b\b\b\b\b\b\b\b\b\b\b\b\b\b\b\b\b\b\b\b\b\b\b\b\b\b\b\b\b\b\b\b\b\b\b\b\b\b\b\b\b\b\b\b\b\b\b\b\b\b\b\b\b\b\b\b\b\b\b\b\b\b\b\b\b\b\b\b\b\b\b\b\b\b\b\b\b\b\b\b\b\b\b\b\b\b\b\b\b\b\b\b\b\b\b\b\b\b\b\b\b\b\b\b\b\b\b\b\b\b\b\b\b\b\b\b\b\b\b\b\b\b\b\b\r47/47 [==============================] - 2s 32ms/step - loss: 2.2230 - Note_loss: 1.1229 - Offset_loss: 0.0347 - Volume_loss: 0.4728 - Duration_loss: 0.5926\n",
            "Epoch 64/400\n",
            "47/47 [==============================] - ETA: 0s - loss: 2.1656 - Note_loss: 1.0643 - Offset_loss: 0.0359 - Volume_loss: 0.4728 - Duration_loss: 0.5926"
          ]
        },
        {
          "output_type": "stream",
          "name": "stderr",
          "text": [
            "WARNING:tensorflow:Can save best model only with val_loss available, skipping.\n"
          ]
        },
        {
          "output_type": "stream",
          "name": "stdout",
          "text": [
            "\b\b\b\b\b\b\b\b\b\b\b\b\b\b\b\b\b\b\b\b\b\b\b\b\b\b\b\b\b\b\b\b\b\b\b\b\b\b\b\b\b\b\b\b\b\b\b\b\b\b\b\b\b\b\b\b\b\b\b\b\b\b\b\b\b\b\b\b\b\b\b\b\b\b\b\b\b\b\b\b\b\b\b\b\b\b\b\b\b\b\b\b\b\b\b\b\b\b\b\b\b\b\b\b\b\b\b\b\b\b\b\b\b\b\b\b\b\b\b\b\b\b\b\b\b\b\b\b\b\b\b\b\b\b\b\b\b\b\b\b\b\b\b\b\b\b\b\b\b\b\b\r47/47 [==============================] - 2s 33ms/step - loss: 2.1656 - Note_loss: 1.0643 - Offset_loss: 0.0359 - Volume_loss: 0.4728 - Duration_loss: 0.5926\n",
            "Epoch 65/400\n",
            "47/47 [==============================] - ETA: 0s - loss: 2.1714 - Note_loss: 1.0720 - Offset_loss: 0.0340 - Volume_loss: 0.4728 - Duration_loss: 0.5926"
          ]
        },
        {
          "output_type": "stream",
          "name": "stderr",
          "text": [
            "WARNING:tensorflow:Can save best model only with val_loss available, skipping.\n"
          ]
        },
        {
          "output_type": "stream",
          "name": "stdout",
          "text": [
            "\b\b\b\b\b\b\b\b\b\b\b\b\b\b\b\b\b\b\b\b\b\b\b\b\b\b\b\b\b\b\b\b\b\b\b\b\b\b\b\b\b\b\b\b\b\b\b\b\b\b\b\b\b\b\b\b\b\b\b\b\b\b\b\b\b\b\b\b\b\b\b\b\b\b\b\b\b\b\b\b\b\b\b\b\b\b\b\b\b\b\b\b\b\b\b\b\b\b\b\b\b\b\b\b\b\b\b\b\b\b\b\b\b\b\b\b\b\b\b\b\b\b\b\b\b\b\b\b\b\b\b\b\b\b\b\b\b\b\b\b\b\b\b\b\b\b\b\b\b\b\b\r47/47 [==============================] - 2s 32ms/step - loss: 2.1714 - Note_loss: 1.0720 - Offset_loss: 0.0340 - Volume_loss: 0.4728 - Duration_loss: 0.5926\n",
            "Epoch 66/400\n",
            "47/47 [==============================] - ETA: 0s - loss: 2.1095 - Note_loss: 1.0109 - Offset_loss: 0.0332 - Volume_loss: 0.4728 - Duration_loss: 0.5926"
          ]
        },
        {
          "output_type": "stream",
          "name": "stderr",
          "text": [
            "WARNING:tensorflow:Can save best model only with val_loss available, skipping.\n"
          ]
        },
        {
          "output_type": "stream",
          "name": "stdout",
          "text": [
            "\b\b\b\b\b\b\b\b\b\b\b\b\b\b\b\b\b\b\b\b\b\b\b\b\b\b\b\b\b\b\b\b\b\b\b\b\b\b\b\b\b\b\b\b\b\b\b\b\b\b\b\b\b\b\b\b\b\b\b\b\b\b\b\b\b\b\b\b\b\b\b\b\b\b\b\b\b\b\b\b\b\b\b\b\b\b\b\b\b\b\b\b\b\b\b\b\b\b\b\b\b\b\b\b\b\b\b\b\b\b\b\b\b\b\b\b\b\b\b\b\b\b\b\b\b\b\b\b\b\b\b\b\b\b\b\b\b\b\b\b\b\b\b\b\b\b\b\b\b\b\b\r47/47 [==============================] - 1s 31ms/step - loss: 2.1095 - Note_loss: 1.0109 - Offset_loss: 0.0332 - Volume_loss: 0.4728 - Duration_loss: 0.5926\n",
            "Epoch 67/400\n",
            "47/47 [==============================] - ETA: 0s - loss: 2.1256 - Note_loss: 1.0250 - Offset_loss: 0.0352 - Volume_loss: 0.4728 - Duration_loss: 0.5926"
          ]
        },
        {
          "output_type": "stream",
          "name": "stderr",
          "text": [
            "WARNING:tensorflow:Can save best model only with val_loss available, skipping.\n"
          ]
        },
        {
          "output_type": "stream",
          "name": "stdout",
          "text": [
            "\b\b\b\b\b\b\b\b\b\b\b\b\b\b\b\b\b\b\b\b\b\b\b\b\b\b\b\b\b\b\b\b\b\b\b\b\b\b\b\b\b\b\b\b\b\b\b\b\b\b\b\b\b\b\b\b\b\b\b\b\b\b\b\b\b\b\b\b\b\b\b\b\b\b\b\b\b\b\b\b\b\b\b\b\b\b\b\b\b\b\b\b\b\b\b\b\b\b\b\b\b\b\b\b\b\b\b\b\b\b\b\b\b\b\b\b\b\b\b\b\b\b\b\b\b\b\b\b\b\b\b\b\b\b\b\b\b\b\b\b\b\b\b\b\b\b\b\b\b\b\b\r47/47 [==============================] - 1s 30ms/step - loss: 2.1256 - Note_loss: 1.0250 - Offset_loss: 0.0352 - Volume_loss: 0.4728 - Duration_loss: 0.5926\n",
            "Epoch 68/400\n",
            "47/47 [==============================] - ETA: 0s - loss: 2.1083 - Note_loss: 1.0088 - Offset_loss: 0.0341 - Volume_loss: 0.4728 - Duration_loss: 0.5926"
          ]
        },
        {
          "output_type": "stream",
          "name": "stderr",
          "text": [
            "WARNING:tensorflow:Can save best model only with val_loss available, skipping.\n"
          ]
        },
        {
          "output_type": "stream",
          "name": "stdout",
          "text": [
            "\b\b\b\b\b\b\b\b\b\b\b\b\b\b\b\b\b\b\b\b\b\b\b\b\b\b\b\b\b\b\b\b\b\b\b\b\b\b\b\b\b\b\b\b\b\b\b\b\b\b\b\b\b\b\b\b\b\b\b\b\b\b\b\b\b\b\b\b\b\b\b\b\b\b\b\b\b\b\b\b\b\b\b\b\b\b\b\b\b\b\b\b\b\b\b\b\b\b\b\b\b\b\b\b\b\b\b\b\b\b\b\b\b\b\b\b\b\b\b\b\b\b\b\b\b\b\b\b\b\b\b\b\b\b\b\b\b\b\b\b\b\b\b\b\b\b\b\b\b\b\b\r47/47 [==============================] - 2s 33ms/step - loss: 2.1083 - Note_loss: 1.0088 - Offset_loss: 0.0341 - Volume_loss: 0.4728 - Duration_loss: 0.5926\n",
            "Epoch 69/400\n",
            "47/47 [==============================] - ETA: 0s - loss: 2.0761 - Note_loss: 0.9768 - Offset_loss: 0.0339 - Volume_loss: 0.4728 - Duration_loss: 0.5926"
          ]
        },
        {
          "output_type": "stream",
          "name": "stderr",
          "text": [
            "WARNING:tensorflow:Can save best model only with val_loss available, skipping.\n"
          ]
        },
        {
          "output_type": "stream",
          "name": "stdout",
          "text": [
            "\b\b\b\b\b\b\b\b\b\b\b\b\b\b\b\b\b\b\b\b\b\b\b\b\b\b\b\b\b\b\b\b\b\b\b\b\b\b\b\b\b\b\b\b\b\b\b\b\b\b\b\b\b\b\b\b\b\b\b\b\b\b\b\b\b\b\b\b\b\b\b\b\b\b\b\b\b\b\b\b\b\b\b\b\b\b\b\b\b\b\b\b\b\b\b\b\b\b\b\b\b\b\b\b\b\b\b\b\b\b\b\b\b\b\b\b\b\b\b\b\b\b\b\b\b\b\b\b\b\b\b\b\b\b\b\b\b\b\b\b\b\b\b\b\b\b\b\b\b\b\b\r47/47 [==============================] - 3s 58ms/step - loss: 2.0761 - Note_loss: 0.9768 - Offset_loss: 0.0339 - Volume_loss: 0.4728 - Duration_loss: 0.5926\n",
            "Epoch 70/400\n",
            "47/47 [==============================] - ETA: 0s - loss: 2.0891 - Note_loss: 0.9869 - Offset_loss: 0.0367 - Volume_loss: 0.4728 - Duration_loss: 0.5926"
          ]
        },
        {
          "output_type": "stream",
          "name": "stderr",
          "text": [
            "WARNING:tensorflow:Can save best model only with val_loss available, skipping.\n"
          ]
        },
        {
          "output_type": "stream",
          "name": "stdout",
          "text": [
            "\b\b\b\b\b\b\b\b\b\b\b\b\b\b\b\b\b\b\b\b\b\b\b\b\b\b\b\b\b\b\b\b\b\b\b\b\b\b\b\b\b\b\b\b\b\b\b\b\b\b\b\b\b\b\b\b\b\b\b\b\b\b\b\b\b\b\b\b\b\b\b\b\b\b\b\b\b\b\b\b\b\b\b\b\b\b\b\b\b\b\b\b\b\b\b\b\b\b\b\b\b\b\b\b\b\b\b\b\b\b\b\b\b\b\b\b\b\b\b\b\b\b\b\b\b\b\b\b\b\b\b\b\b\b\b\b\b\b\b\b\b\b\b\b\b\b\b\b\b\b\b\r47/47 [==============================] - 2s 40ms/step - loss: 2.0891 - Note_loss: 0.9869 - Offset_loss: 0.0367 - Volume_loss: 0.4728 - Duration_loss: 0.5926\n",
            "Epoch 71/400\n",
            "47/47 [==============================] - ETA: 0s - loss: 2.0397 - Note_loss: 0.9413 - Offset_loss: 0.0330 - Volume_loss: 0.4728 - Duration_loss: 0.5926"
          ]
        },
        {
          "output_type": "stream",
          "name": "stderr",
          "text": [
            "WARNING:tensorflow:Can save best model only with val_loss available, skipping.\n"
          ]
        },
        {
          "output_type": "stream",
          "name": "stdout",
          "text": [
            "\b\b\b\b\b\b\b\b\b\b\b\b\b\b\b\b\b\b\b\b\b\b\b\b\b\b\b\b\b\b\b\b\b\b\b\b\b\b\b\b\b\b\b\b\b\b\b\b\b\b\b\b\b\b\b\b\b\b\b\b\b\b\b\b\b\b\b\b\b\b\b\b\b\b\b\b\b\b\b\b\b\b\b\b\b\b\b\b\b\b\b\b\b\b\b\b\b\b\b\b\b\b\b\b\b\b\b\b\b\b\b\b\b\b\b\b\b\b\b\b\b\b\b\b\b\b\b\b\b\b\b\b\b\b\b\b\b\b\b\b\b\b\b\b\b\b\b\b\b\b\b\r47/47 [==============================] - 2s 33ms/step - loss: 2.0397 - Note_loss: 0.9413 - Offset_loss: 0.0330 - Volume_loss: 0.4728 - Duration_loss: 0.5926\n",
            "Epoch 72/400\n",
            "47/47 [==============================] - ETA: 0s - loss: 2.0042 - Note_loss: 0.9029 - Offset_loss: 0.0359 - Volume_loss: 0.4728 - Duration_loss: 0.5926"
          ]
        },
        {
          "output_type": "stream",
          "name": "stderr",
          "text": [
            "WARNING:tensorflow:Can save best model only with val_loss available, skipping.\n"
          ]
        },
        {
          "output_type": "stream",
          "name": "stdout",
          "text": [
            "\b\b\b\b\b\b\b\b\b\b\b\b\b\b\b\b\b\b\b\b\b\b\b\b\b\b\b\b\b\b\b\b\b\b\b\b\b\b\b\b\b\b\b\b\b\b\b\b\b\b\b\b\b\b\b\b\b\b\b\b\b\b\b\b\b\b\b\b\b\b\b\b\b\b\b\b\b\b\b\b\b\b\b\b\b\b\b\b\b\b\b\b\b\b\b\b\b\b\b\b\b\b\b\b\b\b\b\b\b\b\b\b\b\b\b\b\b\b\b\b\b\b\b\b\b\b\b\b\b\b\b\b\b\b\b\b\b\b\b\b\b\b\b\b\b\b\b\b\b\b\b\r47/47 [==============================] - 1s 31ms/step - loss: 2.0042 - Note_loss: 0.9029 - Offset_loss: 0.0359 - Volume_loss: 0.4728 - Duration_loss: 0.5926\n",
            "Epoch 73/400\n",
            "47/47 [==============================] - ETA: 0s - loss: 2.0114 - Note_loss: 0.9143 - Offset_loss: 0.0317 - Volume_loss: 0.4728 - Duration_loss: 0.5926"
          ]
        },
        {
          "output_type": "stream",
          "name": "stderr",
          "text": [
            "WARNING:tensorflow:Can save best model only with val_loss available, skipping.\n"
          ]
        },
        {
          "output_type": "stream",
          "name": "stdout",
          "text": [
            "\b\b\b\b\b\b\b\b\b\b\b\b\b\b\b\b\b\b\b\b\b\b\b\b\b\b\b\b\b\b\b\b\b\b\b\b\b\b\b\b\b\b\b\b\b\b\b\b\b\b\b\b\b\b\b\b\b\b\b\b\b\b\b\b\b\b\b\b\b\b\b\b\b\b\b\b\b\b\b\b\b\b\b\b\b\b\b\b\b\b\b\b\b\b\b\b\b\b\b\b\b\b\b\b\b\b\b\b\b\b\b\b\b\b\b\b\b\b\b\b\b\b\b\b\b\b\b\b\b\b\b\b\b\b\b\b\b\b\b\b\b\b\b\b\b\b\b\b\b\b\b\r47/47 [==============================] - 1s 31ms/step - loss: 2.0114 - Note_loss: 0.9143 - Offset_loss: 0.0317 - Volume_loss: 0.4728 - Duration_loss: 0.5926\n",
            "Epoch 74/400\n",
            "47/47 [==============================] - ETA: 0s - loss: 2.0045 - Note_loss: 0.9046 - Offset_loss: 0.0345 - Volume_loss: 0.4728 - Duration_loss: 0.5926"
          ]
        },
        {
          "output_type": "stream",
          "name": "stderr",
          "text": [
            "WARNING:tensorflow:Can save best model only with val_loss available, skipping.\n"
          ]
        },
        {
          "output_type": "stream",
          "name": "stdout",
          "text": [
            "\b\b\b\b\b\b\b\b\b\b\b\b\b\b\b\b\b\b\b\b\b\b\b\b\b\b\b\b\b\b\b\b\b\b\b\b\b\b\b\b\b\b\b\b\b\b\b\b\b\b\b\b\b\b\b\b\b\b\b\b\b\b\b\b\b\b\b\b\b\b\b\b\b\b\b\b\b\b\b\b\b\b\b\b\b\b\b\b\b\b\b\b\b\b\b\b\b\b\b\b\b\b\b\b\b\b\b\b\b\b\b\b\b\b\b\b\b\b\b\b\b\b\b\b\b\b\b\b\b\b\b\b\b\b\b\b\b\b\b\b\b\b\b\b\b\b\b\b\b\b\b\r47/47 [==============================] - 1s 31ms/step - loss: 2.0045 - Note_loss: 0.9046 - Offset_loss: 0.0345 - Volume_loss: 0.4728 - Duration_loss: 0.5926\n",
            "Epoch 75/400\n",
            "47/47 [==============================] - ETA: 0s - loss: 2.0042 - Note_loss: 0.9046 - Offset_loss: 0.0341 - Volume_loss: 0.4728 - Duration_loss: 0.5926"
          ]
        },
        {
          "output_type": "stream",
          "name": "stderr",
          "text": [
            "WARNING:tensorflow:Can save best model only with val_loss available, skipping.\n"
          ]
        },
        {
          "output_type": "stream",
          "name": "stdout",
          "text": [
            "\b\b\b\b\b\b\b\b\b\b\b\b\b\b\b\b\b\b\b\b\b\b\b\b\b\b\b\b\b\b\b\b\b\b\b\b\b\b\b\b\b\b\b\b\b\b\b\b\b\b\b\b\b\b\b\b\b\b\b\b\b\b\b\b\b\b\b\b\b\b\b\b\b\b\b\b\b\b\b\b\b\b\b\b\b\b\b\b\b\b\b\b\b\b\b\b\b\b\b\b\b\b\b\b\b\b\b\b\b\b\b\b\b\b\b\b\b\b\b\b\b\b\b\b\b\b\b\b\b\b\b\b\b\b\b\b\b\b\b\b\b\b\b\b\b\b\b\b\b\b\b\r47/47 [==============================] - 1s 32ms/step - loss: 2.0042 - Note_loss: 0.9046 - Offset_loss: 0.0341 - Volume_loss: 0.4728 - Duration_loss: 0.5926\n",
            "Epoch 76/400\n",
            "47/47 [==============================] - ETA: 0s - loss: 2.0230 - Note_loss: 0.9216 - Offset_loss: 0.0360 - Volume_loss: 0.4728 - Duration_loss: 0.5926"
          ]
        },
        {
          "output_type": "stream",
          "name": "stderr",
          "text": [
            "WARNING:tensorflow:Can save best model only with val_loss available, skipping.\n"
          ]
        },
        {
          "output_type": "stream",
          "name": "stdout",
          "text": [
            "\b\b\b\b\b\b\b\b\b\b\b\b\b\b\b\b\b\b\b\b\b\b\b\b\b\b\b\b\b\b\b\b\b\b\b\b\b\b\b\b\b\b\b\b\b\b\b\b\b\b\b\b\b\b\b\b\b\b\b\b\b\b\b\b\b\b\b\b\b\b\b\b\b\b\b\b\b\b\b\b\b\b\b\b\b\b\b\b\b\b\b\b\b\b\b\b\b\b\b\b\b\b\b\b\b\b\b\b\b\b\b\b\b\b\b\b\b\b\b\b\b\b\b\b\b\b\b\b\b\b\b\b\b\b\b\b\b\b\b\b\b\b\b\b\b\b\b\b\b\b\b\r47/47 [==============================] - 1s 30ms/step - loss: 2.0230 - Note_loss: 0.9216 - Offset_loss: 0.0360 - Volume_loss: 0.4728 - Duration_loss: 0.5926\n",
            "Epoch 77/400\n",
            "47/47 [==============================] - ETA: 0s - loss: 1.9621 - Note_loss: 0.8619 - Offset_loss: 0.0348 - Volume_loss: 0.4728 - Duration_loss: 0.5926"
          ]
        },
        {
          "output_type": "stream",
          "name": "stderr",
          "text": [
            "WARNING:tensorflow:Can save best model only with val_loss available, skipping.\n"
          ]
        },
        {
          "output_type": "stream",
          "name": "stdout",
          "text": [
            "\b\b\b\b\b\b\b\b\b\b\b\b\b\b\b\b\b\b\b\b\b\b\b\b\b\b\b\b\b\b\b\b\b\b\b\b\b\b\b\b\b\b\b\b\b\b\b\b\b\b\b\b\b\b\b\b\b\b\b\b\b\b\b\b\b\b\b\b\b\b\b\b\b\b\b\b\b\b\b\b\b\b\b\b\b\b\b\b\b\b\b\b\b\b\b\b\b\b\b\b\b\b\b\b\b\b\b\b\b\b\b\b\b\b\b\b\b\b\b\b\b\b\b\b\b\b\b\b\b\b\b\b\b\b\b\b\b\b\b\b\b\b\b\b\b\b\b\b\b\b\b\r47/47 [==============================] - 2s 42ms/step - loss: 1.9621 - Note_loss: 0.8619 - Offset_loss: 0.0348 - Volume_loss: 0.4728 - Duration_loss: 0.5926\n",
            "Epoch 78/400\n",
            "47/47 [==============================] - ETA: 0s - loss: 1.9588 - Note_loss: 0.8584 - Offset_loss: 0.0350 - Volume_loss: 0.4728 - Duration_loss: 0.5926"
          ]
        },
        {
          "output_type": "stream",
          "name": "stderr",
          "text": [
            "WARNING:tensorflow:Can save best model only with val_loss available, skipping.\n"
          ]
        },
        {
          "output_type": "stream",
          "name": "stdout",
          "text": [
            "\b\b\b\b\b\b\b\b\b\b\b\b\b\b\b\b\b\b\b\b\b\b\b\b\b\b\b\b\b\b\b\b\b\b\b\b\b\b\b\b\b\b\b\b\b\b\b\b\b\b\b\b\b\b\b\b\b\b\b\b\b\b\b\b\b\b\b\b\b\b\b\b\b\b\b\b\b\b\b\b\b\b\b\b\b\b\b\b\b\b\b\b\b\b\b\b\b\b\b\b\b\b\b\b\b\b\b\b\b\b\b\b\b\b\b\b\b\b\b\b\b\b\b\b\b\b\b\b\b\b\b\b\b\b\b\b\b\b\b\b\b\b\b\b\b\b\b\b\b\b\b\r47/47 [==============================] - 2s 38ms/step - loss: 1.9588 - Note_loss: 0.8584 - Offset_loss: 0.0350 - Volume_loss: 0.4728 - Duration_loss: 0.5926\n",
            "Epoch 79/400\n",
            "47/47 [==============================] - ETA: 0s - loss: 1.9553 - Note_loss: 0.8560 - Offset_loss: 0.0339 - Volume_loss: 0.4728 - Duration_loss: 0.5926"
          ]
        },
        {
          "output_type": "stream",
          "name": "stderr",
          "text": [
            "WARNING:tensorflow:Can save best model only with val_loss available, skipping.\n"
          ]
        },
        {
          "output_type": "stream",
          "name": "stdout",
          "text": [
            "\b\b\b\b\b\b\b\b\b\b\b\b\b\b\b\b\b\b\b\b\b\b\b\b\b\b\b\b\b\b\b\b\b\b\b\b\b\b\b\b\b\b\b\b\b\b\b\b\b\b\b\b\b\b\b\b\b\b\b\b\b\b\b\b\b\b\b\b\b\b\b\b\b\b\b\b\b\b\b\b\b\b\b\b\b\b\b\b\b\b\b\b\b\b\b\b\b\b\b\b\b\b\b\b\b\b\b\b\b\b\b\b\b\b\b\b\b\b\b\b\b\b\b\b\b\b\b\b\b\b\b\b\b\b\b\b\b\b\b\b\b\b\b\b\b\b\b\b\b\b\b\r47/47 [==============================] - 1s 32ms/step - loss: 1.9553 - Note_loss: 0.8560 - Offset_loss: 0.0339 - Volume_loss: 0.4728 - Duration_loss: 0.5926\n",
            "Epoch 80/400\n",
            "47/47 [==============================] - ETA: 0s - loss: 1.9081 - Note_loss: 0.8106 - Offset_loss: 0.0320 - Volume_loss: 0.4728 - Duration_loss: 0.5926"
          ]
        },
        {
          "output_type": "stream",
          "name": "stderr",
          "text": [
            "WARNING:tensorflow:Can save best model only with val_loss available, skipping.\n"
          ]
        },
        {
          "output_type": "stream",
          "name": "stdout",
          "text": [
            "\b\b\b\b\b\b\b\b\b\b\b\b\b\b\b\b\b\b\b\b\b\b\b\b\b\b\b\b\b\b\b\b\b\b\b\b\b\b\b\b\b\b\b\b\b\b\b\b\b\b\b\b\b\b\b\b\b\b\b\b\b\b\b\b\b\b\b\b\b\b\b\b\b\b\b\b\b\b\b\b\b\b\b\b\b\b\b\b\b\b\b\b\b\b\b\b\b\b\b\b\b\b\b\b\b\b\b\b\b\b\b\b\b\b\b\b\b\b\b\b\b\b\b\b\b\b\b\b\b\b\b\b\b\b\b\b\b\b\b\b\b\b\b\b\b\b\b\b\b\b\b\r47/47 [==============================] - 1s 31ms/step - loss: 1.9081 - Note_loss: 0.8106 - Offset_loss: 0.0320 - Volume_loss: 0.4728 - Duration_loss: 0.5926\n",
            "Epoch 81/400\n",
            "47/47 [==============================] - ETA: 0s - loss: 1.8909 - Note_loss: 0.7912 - Offset_loss: 0.0343 - Volume_loss: 0.4728 - Duration_loss: 0.5926"
          ]
        },
        {
          "output_type": "stream",
          "name": "stderr",
          "text": [
            "WARNING:tensorflow:Can save best model only with val_loss available, skipping.\n"
          ]
        },
        {
          "output_type": "stream",
          "name": "stdout",
          "text": [
            "\b\b\b\b\b\b\b\b\b\b\b\b\b\b\b\b\b\b\b\b\b\b\b\b\b\b\b\b\b\b\b\b\b\b\b\b\b\b\b\b\b\b\b\b\b\b\b\b\b\b\b\b\b\b\b\b\b\b\b\b\b\b\b\b\b\b\b\b\b\b\b\b\b\b\b\b\b\b\b\b\b\b\b\b\b\b\b\b\b\b\b\b\b\b\b\b\b\b\b\b\b\b\b\b\b\b\b\b\b\b\b\b\b\b\b\b\b\b\b\b\b\b\b\b\b\b\b\b\b\b\b\b\b\b\b\b\b\b\b\b\b\b\b\b\b\b\b\b\b\b\b\r47/47 [==============================] - 1s 31ms/step - loss: 1.8909 - Note_loss: 0.7912 - Offset_loss: 0.0343 - Volume_loss: 0.4728 - Duration_loss: 0.5926\n",
            "Epoch 82/400\n",
            "47/47 [==============================] - ETA: 0s - loss: 1.8880 - Note_loss: 0.7880 - Offset_loss: 0.0346 - Volume_loss: 0.4728 - Duration_loss: 0.5926"
          ]
        },
        {
          "output_type": "stream",
          "name": "stderr",
          "text": [
            "WARNING:tensorflow:Can save best model only with val_loss available, skipping.\n"
          ]
        },
        {
          "output_type": "stream",
          "name": "stdout",
          "text": [
            "\b\b\b\b\b\b\b\b\b\b\b\b\b\b\b\b\b\b\b\b\b\b\b\b\b\b\b\b\b\b\b\b\b\b\b\b\b\b\b\b\b\b\b\b\b\b\b\b\b\b\b\b\b\b\b\b\b\b\b\b\b\b\b\b\b\b\b\b\b\b\b\b\b\b\b\b\b\b\b\b\b\b\b\b\b\b\b\b\b\b\b\b\b\b\b\b\b\b\b\b\b\b\b\b\b\b\b\b\b\b\b\b\b\b\b\b\b\b\b\b\b\b\b\b\b\b\b\b\b\b\b\b\b\b\b\b\b\b\b\b\b\b\b\b\b\b\b\b\b\b\b\r47/47 [==============================] - 2s 32ms/step - loss: 1.8880 - Note_loss: 0.7880 - Offset_loss: 0.0346 - Volume_loss: 0.4728 - Duration_loss: 0.5926\n",
            "Epoch 83/400\n",
            "47/47 [==============================] - ETA: 0s - loss: 1.9073 - Note_loss: 0.8071 - Offset_loss: 0.0348 - Volume_loss: 0.4728 - Duration_loss: 0.5926"
          ]
        },
        {
          "output_type": "stream",
          "name": "stderr",
          "text": [
            "WARNING:tensorflow:Can save best model only with val_loss available, skipping.\n"
          ]
        },
        {
          "output_type": "stream",
          "name": "stdout",
          "text": [
            "\b\b\b\b\b\b\b\b\b\b\b\b\b\b\b\b\b\b\b\b\b\b\b\b\b\b\b\b\b\b\b\b\b\b\b\b\b\b\b\b\b\b\b\b\b\b\b\b\b\b\b\b\b\b\b\b\b\b\b\b\b\b\b\b\b\b\b\b\b\b\b\b\b\b\b\b\b\b\b\b\b\b\b\b\b\b\b\b\b\b\b\b\b\b\b\b\b\b\b\b\b\b\b\b\b\b\b\b\b\b\b\b\b\b\b\b\b\b\b\b\b\b\b\b\b\b\b\b\b\b\b\b\b\b\b\b\b\b\b\b\b\b\b\b\b\b\b\b\b\b\b\r47/47 [==============================] - 2s 33ms/step - loss: 1.9073 - Note_loss: 0.8071 - Offset_loss: 0.0348 - Volume_loss: 0.4728 - Duration_loss: 0.5926\n",
            "Epoch 84/400\n",
            "47/47 [==============================] - ETA: 0s - loss: 1.8689 - Note_loss: 0.7701 - Offset_loss: 0.0334 - Volume_loss: 0.4728 - Duration_loss: 0.5926"
          ]
        },
        {
          "output_type": "stream",
          "name": "stderr",
          "text": [
            "WARNING:tensorflow:Can save best model only with val_loss available, skipping.\n"
          ]
        },
        {
          "output_type": "stream",
          "name": "stdout",
          "text": [
            "\b\b\b\b\b\b\b\b\b\b\b\b\b\b\b\b\b\b\b\b\b\b\b\b\b\b\b\b\b\b\b\b\b\b\b\b\b\b\b\b\b\b\b\b\b\b\b\b\b\b\b\b\b\b\b\b\b\b\b\b\b\b\b\b\b\b\b\b\b\b\b\b\b\b\b\b\b\b\b\b\b\b\b\b\b\b\b\b\b\b\b\b\b\b\b\b\b\b\b\b\b\b\b\b\b\b\b\b\b\b\b\b\b\b\b\b\b\b\b\b\b\b\b\b\b\b\b\b\b\b\b\b\b\b\b\b\b\b\b\b\b\b\b\b\b\b\b\b\b\b\b\r47/47 [==============================] - 2s 34ms/step - loss: 1.8689 - Note_loss: 0.7701 - Offset_loss: 0.0334 - Volume_loss: 0.4728 - Duration_loss: 0.5926\n",
            "Epoch 85/400\n",
            "46/47 [============================>.] - ETA: 0s - loss: 1.8557 - Note_loss: 0.7573 - Offset_loss: 0.0328 - Volume_loss: 0.4727 - Duration_loss: 0.5928"
          ]
        },
        {
          "output_type": "stream",
          "name": "stderr",
          "text": [
            "WARNING:tensorflow:Can save best model only with val_loss available, skipping.\n"
          ]
        },
        {
          "output_type": "stream",
          "name": "stdout",
          "text": [
            "\b\b\b\b\b\b\b\b\b\b\b\b\b\b\b\b\b\b\b\b\b\b\b\b\b\b\b\b\b\b\b\b\b\b\b\b\b\b\b\b\b\b\b\b\b\b\b\b\b\b\b\b\b\b\b\b\b\b\b\b\b\b\b\b\b\b\b\b\b\b\b\b\b\b\b\b\b\b\b\b\b\b\b\b\b\b\b\b\b\b\b\b\b\b\b\b\b\b\b\b\b\b\b\b\b\b\b\b\b\b\b\b\b\b\b\b\b\b\b\b\b\b\b\b\b\b\b\b\b\b\b\b\b\b\b\b\b\b\b\b\b\b\b\b\b\b\b\b\b\b\b\r47/47 [==============================] - 2s 44ms/step - loss: 1.8545 - Note_loss: 0.7560 - Offset_loss: 0.0331 - Volume_loss: 0.4728 - Duration_loss: 0.5926\n",
            "Epoch 86/400\n",
            "47/47 [==============================] - ETA: 0s - loss: 1.8765 - Note_loss: 0.7751 - Offset_loss: 0.0360 - Volume_loss: 0.4728 - Duration_loss: 0.5926"
          ]
        },
        {
          "output_type": "stream",
          "name": "stderr",
          "text": [
            "WARNING:tensorflow:Can save best model only with val_loss available, skipping.\n"
          ]
        },
        {
          "output_type": "stream",
          "name": "stdout",
          "text": [
            "\b\b\b\b\b\b\b\b\b\b\b\b\b\b\b\b\b\b\b\b\b\b\b\b\b\b\b\b\b\b\b\b\b\b\b\b\b\b\b\b\b\b\b\b\b\b\b\b\b\b\b\b\b\b\b\b\b\b\b\b\b\b\b\b\b\b\b\b\b\b\b\b\b\b\b\b\b\b\b\b\b\b\b\b\b\b\b\b\b\b\b\b\b\b\b\b\b\b\b\b\b\b\b\b\b\b\b\b\b\b\b\b\b\b\b\b\b\b\b\b\b\b\b\b\b\b\b\b\b\b\b\b\b\b\b\b\b\b\b\b\b\b\b\b\b\b\b\b\b\b\b\r47/47 [==============================] - 2s 34ms/step - loss: 1.8765 - Note_loss: 0.7751 - Offset_loss: 0.0360 - Volume_loss: 0.4728 - Duration_loss: 0.5926\n",
            "Epoch 87/400\n",
            "47/47 [==============================] - ETA: 0s - loss: 1.8471 - Note_loss: 0.7464 - Offset_loss: 0.0353 - Volume_loss: 0.4728 - Duration_loss: 0.5926"
          ]
        },
        {
          "output_type": "stream",
          "name": "stderr",
          "text": [
            "WARNING:tensorflow:Can save best model only with val_loss available, skipping.\n"
          ]
        },
        {
          "output_type": "stream",
          "name": "stdout",
          "text": [
            "\b\b\b\b\b\b\b\b\b\b\b\b\b\b\b\b\b\b\b\b\b\b\b\b\b\b\b\b\b\b\b\b\b\b\b\b\b\b\b\b\b\b\b\b\b\b\b\b\b\b\b\b\b\b\b\b\b\b\b\b\b\b\b\b\b\b\b\b\b\b\b\b\b\b\b\b\b\b\b\b\b\b\b\b\b\b\b\b\b\b\b\b\b\b\b\b\b\b\b\b\b\b\b\b\b\b\b\b\b\b\b\b\b\b\b\b\b\b\b\b\b\b\b\b\b\b\b\b\b\b\b\b\b\b\b\b\b\b\b\b\b\b\b\b\b\b\b\b\b\b\b\r47/47 [==============================] - 2s 32ms/step - loss: 1.8471 - Note_loss: 0.7464 - Offset_loss: 0.0353 - Volume_loss: 0.4728 - Duration_loss: 0.5926\n",
            "Epoch 88/400\n",
            "47/47 [==============================] - ETA: 0s - loss: 1.8606 - Note_loss: 0.7618 - Offset_loss: 0.0334 - Volume_loss: 0.4728 - Duration_loss: 0.5926"
          ]
        },
        {
          "output_type": "stream",
          "name": "stderr",
          "text": [
            "WARNING:tensorflow:Can save best model only with val_loss available, skipping.\n"
          ]
        },
        {
          "output_type": "stream",
          "name": "stdout",
          "text": [
            "\b\b\b\b\b\b\b\b\b\b\b\b\b\b\b\b\b\b\b\b\b\b\b\b\b\b\b\b\b\b\b\b\b\b\b\b\b\b\b\b\b\b\b\b\b\b\b\b\b\b\b\b\b\b\b\b\b\b\b\b\b\b\b\b\b\b\b\b\b\b\b\b\b\b\b\b\b\b\b\b\b\b\b\b\b\b\b\b\b\b\b\b\b\b\b\b\b\b\b\b\b\b\b\b\b\b\b\b\b\b\b\b\b\b\b\b\b\b\b\b\b\b\b\b\b\b\b\b\b\b\b\b\b\b\b\b\b\b\b\b\b\b\b\b\b\b\b\b\b\b\b\r47/47 [==============================] - 2s 34ms/step - loss: 1.8606 - Note_loss: 0.7618 - Offset_loss: 0.0334 - Volume_loss: 0.4728 - Duration_loss: 0.5926\n",
            "Epoch 89/400\n",
            "47/47 [==============================] - ETA: 0s - loss: 1.8332 - Note_loss: 0.7312 - Offset_loss: 0.0367 - Volume_loss: 0.4728 - Duration_loss: 0.5926"
          ]
        },
        {
          "output_type": "stream",
          "name": "stderr",
          "text": [
            "WARNING:tensorflow:Can save best model only with val_loss available, skipping.\n"
          ]
        },
        {
          "output_type": "stream",
          "name": "stdout",
          "text": [
            "\b\b\b\b\b\b\b\b\b\b\b\b\b\b\b\b\b\b\b\b\b\b\b\b\b\b\b\b\b\b\b\b\b\b\b\b\b\b\b\b\b\b\b\b\b\b\b\b\b\b\b\b\b\b\b\b\b\b\b\b\b\b\b\b\b\b\b\b\b\b\b\b\b\b\b\b\b\b\b\b\b\b\b\b\b\b\b\b\b\b\b\b\b\b\b\b\b\b\b\b\b\b\b\b\b\b\b\b\b\b\b\b\b\b\b\b\b\b\b\b\b\b\b\b\b\b\b\b\b\b\b\b\b\b\b\b\b\b\b\b\b\b\b\b\b\b\b\b\b\b\b\r47/47 [==============================] - 2s 33ms/step - loss: 1.8332 - Note_loss: 0.7312 - Offset_loss: 0.0367 - Volume_loss: 0.4728 - Duration_loss: 0.5926\n",
            "Epoch 90/400\n",
            "47/47 [==============================] - ETA: 0s - loss: 1.8152 - Note_loss: 0.7157 - Offset_loss: 0.0341 - Volume_loss: 0.4728 - Duration_loss: 0.5926"
          ]
        },
        {
          "output_type": "stream",
          "name": "stderr",
          "text": [
            "WARNING:tensorflow:Can save best model only with val_loss available, skipping.\n"
          ]
        },
        {
          "output_type": "stream",
          "name": "stdout",
          "text": [
            "\b\b\b\b\b\b\b\b\b\b\b\b\b\b\b\b\b\b\b\b\b\b\b\b\b\b\b\b\b\b\b\b\b\b\b\b\b\b\b\b\b\b\b\b\b\b\b\b\b\b\b\b\b\b\b\b\b\b\b\b\b\b\b\b\b\b\b\b\b\b\b\b\b\b\b\b\b\b\b\b\b\b\b\b\b\b\b\b\b\b\b\b\b\b\b\b\b\b\b\b\b\b\b\b\b\b\b\b\b\b\b\b\b\b\b\b\b\b\b\b\b\b\b\b\b\b\b\b\b\b\b\b\b\b\b\b\b\b\b\b\b\b\b\b\b\b\b\b\b\b\b\r47/47 [==============================] - 1s 32ms/step - loss: 1.8152 - Note_loss: 0.7157 - Offset_loss: 0.0341 - Volume_loss: 0.4728 - Duration_loss: 0.5926\n",
            "Epoch 91/400\n",
            "47/47 [==============================] - ETA: 0s - loss: 1.8028 - Note_loss: 0.7025 - Offset_loss: 0.0348 - Volume_loss: 0.4728 - Duration_loss: 0.5926"
          ]
        },
        {
          "output_type": "stream",
          "name": "stderr",
          "text": [
            "WARNING:tensorflow:Can save best model only with val_loss available, skipping.\n"
          ]
        },
        {
          "output_type": "stream",
          "name": "stdout",
          "text": [
            "\b\b\b\b\b\b\b\b\b\b\b\b\b\b\b\b\b\b\b\b\b\b\b\b\b\b\b\b\b\b\b\b\b\b\b\b\b\b\b\b\b\b\b\b\b\b\b\b\b\b\b\b\b\b\b\b\b\b\b\b\b\b\b\b\b\b\b\b\b\b\b\b\b\b\b\b\b\b\b\b\b\b\b\b\b\b\b\b\b\b\b\b\b\b\b\b\b\b\b\b\b\b\b\b\b\b\b\b\b\b\b\b\b\b\b\b\b\b\b\b\b\b\b\b\b\b\b\b\b\b\b\b\b\b\b\b\b\b\b\b\b\b\b\b\b\b\b\b\b\b\b\r47/47 [==============================] - 1s 31ms/step - loss: 1.8028 - Note_loss: 0.7025 - Offset_loss: 0.0348 - Volume_loss: 0.4728 - Duration_loss: 0.5926\n",
            "Epoch 92/400\n",
            "47/47 [==============================] - ETA: 0s - loss: 1.7992 - Note_loss: 0.7002 - Offset_loss: 0.0336 - Volume_loss: 0.4728 - Duration_loss: 0.5926"
          ]
        },
        {
          "output_type": "stream",
          "name": "stderr",
          "text": [
            "WARNING:tensorflow:Can save best model only with val_loss available, skipping.\n"
          ]
        },
        {
          "output_type": "stream",
          "name": "stdout",
          "text": [
            "\b\b\b\b\b\b\b\b\b\b\b\b\b\b\b\b\b\b\b\b\b\b\b\b\b\b\b\b\b\b\b\b\b\b\b\b\b\b\b\b\b\b\b\b\b\b\b\b\b\b\b\b\b\b\b\b\b\b\b\b\b\b\b\b\b\b\b\b\b\b\b\b\b\b\b\b\b\b\b\b\b\b\b\b\b\b\b\b\b\b\b\b\b\b\b\b\b\b\b\b\b\b\b\b\b\b\b\b\b\b\b\b\b\b\b\b\b\b\b\b\b\b\b\b\b\b\b\b\b\b\b\b\b\b\b\b\b\b\b\b\b\b\b\b\b\b\b\b\b\b\b\r47/47 [==============================] - 2s 35ms/step - loss: 1.7992 - Note_loss: 0.7002 - Offset_loss: 0.0336 - Volume_loss: 0.4728 - Duration_loss: 0.5926\n",
            "Epoch 93/400\n",
            "47/47 [==============================] - ETA: 0s - loss: 1.7860 - Note_loss: 0.6873 - Offset_loss: 0.0332 - Volume_loss: 0.4728 - Duration_loss: 0.5926"
          ]
        },
        {
          "output_type": "stream",
          "name": "stderr",
          "text": [
            "WARNING:tensorflow:Can save best model only with val_loss available, skipping.\n"
          ]
        },
        {
          "output_type": "stream",
          "name": "stdout",
          "text": [
            "\b\b\b\b\b\b\b\b\b\b\b\b\b\b\b\b\b\b\b\b\b\b\b\b\b\b\b\b\b\b\b\b\b\b\b\b\b\b\b\b\b\b\b\b\b\b\b\b\b\b\b\b\b\b\b\b\b\b\b\b\b\b\b\b\b\b\b\b\b\b\b\b\b\b\b\b\b\b\b\b\b\b\b\b\b\b\b\b\b\b\b\b\b\b\b\b\b\b\b\b\b\b\b\b\b\b\b\b\b\b\b\b\b\b\b\b\b\b\b\b\b\b\b\b\b\b\b\b\b\b\b\b\b\b\b\b\b\b\b\b\b\b\b\b\b\b\b\b\b\b\b\r47/47 [==============================] - 2s 45ms/step - loss: 1.7860 - Note_loss: 0.6873 - Offset_loss: 0.0332 - Volume_loss: 0.4728 - Duration_loss: 0.5926\n",
            "Epoch 94/400\n",
            "47/47 [==============================] - ETA: 0s - loss: 1.7546 - Note_loss: 0.6546 - Offset_loss: 0.0347 - Volume_loss: 0.4728 - Duration_loss: 0.5926"
          ]
        },
        {
          "output_type": "stream",
          "name": "stderr",
          "text": [
            "WARNING:tensorflow:Can save best model only with val_loss available, skipping.\n"
          ]
        },
        {
          "output_type": "stream",
          "name": "stdout",
          "text": [
            "\b\b\b\b\b\b\b\b\b\b\b\b\b\b\b\b\b\b\b\b\b\b\b\b\b\b\b\b\b\b\b\b\b\b\b\b\b\b\b\b\b\b\b\b\b\b\b\b\b\b\b\b\b\b\b\b\b\b\b\b\b\b\b\b\b\b\b\b\b\b\b\b\b\b\b\b\b\b\b\b\b\b\b\b\b\b\b\b\b\b\b\b\b\b\b\b\b\b\b\b\b\b\b\b\b\b\b\b\b\b\b\b\b\b\b\b\b\b\b\b\b\b\b\b\b\b\b\b\b\b\b\b\b\b\b\b\b\b\b\b\b\b\b\b\b\b\b\b\b\b\b\r47/47 [==============================] - 2s 35ms/step - loss: 1.7546 - Note_loss: 0.6546 - Offset_loss: 0.0347 - Volume_loss: 0.4728 - Duration_loss: 0.5926\n",
            "Epoch 95/400\n",
            "47/47 [==============================] - ETA: 0s - loss: 1.7592 - Note_loss: 0.6612 - Offset_loss: 0.0326 - Volume_loss: 0.4728 - Duration_loss: 0.5926"
          ]
        },
        {
          "output_type": "stream",
          "name": "stderr",
          "text": [
            "WARNING:tensorflow:Can save best model only with val_loss available, skipping.\n"
          ]
        },
        {
          "output_type": "stream",
          "name": "stdout",
          "text": [
            "\b\b\b\b\b\b\b\b\b\b\b\b\b\b\b\b\b\b\b\b\b\b\b\b\b\b\b\b\b\b\b\b\b\b\b\b\b\b\b\b\b\b\b\b\b\b\b\b\b\b\b\b\b\b\b\b\b\b\b\b\b\b\b\b\b\b\b\b\b\b\b\b\b\b\b\b\b\b\b\b\b\b\b\b\b\b\b\b\b\b\b\b\b\b\b\b\b\b\b\b\b\b\b\b\b\b\b\b\b\b\b\b\b\b\b\b\b\b\b\b\b\b\b\b\b\b\b\b\b\b\b\b\b\b\b\b\b\b\b\b\b\b\b\b\b\b\b\b\b\b\b\r47/47 [==============================] - 2s 32ms/step - loss: 1.7592 - Note_loss: 0.6612 - Offset_loss: 0.0326 - Volume_loss: 0.4728 - Duration_loss: 0.5926\n",
            "Epoch 96/400\n",
            "47/47 [==============================] - ETA: 0s - loss: 1.7537 - Note_loss: 0.6535 - Offset_loss: 0.0348 - Volume_loss: 0.4728 - Duration_loss: 0.5926"
          ]
        },
        {
          "output_type": "stream",
          "name": "stderr",
          "text": [
            "WARNING:tensorflow:Can save best model only with val_loss available, skipping.\n"
          ]
        },
        {
          "output_type": "stream",
          "name": "stdout",
          "text": [
            "\b\b\b\b\b\b\b\b\b\b\b\b\b\b\b\b\b\b\b\b\b\b\b\b\b\b\b\b\b\b\b\b\b\b\b\b\b\b\b\b\b\b\b\b\b\b\b\b\b\b\b\b\b\b\b\b\b\b\b\b\b\b\b\b\b\b\b\b\b\b\b\b\b\b\b\b\b\b\b\b\b\b\b\b\b\b\b\b\b\b\b\b\b\b\b\b\b\b\b\b\b\b\b\b\b\b\b\b\b\b\b\b\b\b\b\b\b\b\b\b\b\b\b\b\b\b\b\b\b\b\b\b\b\b\b\b\b\b\b\b\b\b\b\b\b\b\b\b\b\b\b\r47/47 [==============================] - 1s 31ms/step - loss: 1.7537 - Note_loss: 0.6535 - Offset_loss: 0.0348 - Volume_loss: 0.4728 - Duration_loss: 0.5926\n",
            "Epoch 97/400\n",
            "47/47 [==============================] - ETA: 0s - loss: 1.7831 - Note_loss: 0.6869 - Offset_loss: 0.0309 - Volume_loss: 0.4728 - Duration_loss: 0.5926"
          ]
        },
        {
          "output_type": "stream",
          "name": "stderr",
          "text": [
            "WARNING:tensorflow:Can save best model only with val_loss available, skipping.\n"
          ]
        },
        {
          "output_type": "stream",
          "name": "stdout",
          "text": [
            "\b\b\b\b\b\b\b\b\b\b\b\b\b\b\b\b\b\b\b\b\b\b\b\b\b\b\b\b\b\b\b\b\b\b\b\b\b\b\b\b\b\b\b\b\b\b\b\b\b\b\b\b\b\b\b\b\b\b\b\b\b\b\b\b\b\b\b\b\b\b\b\b\b\b\b\b\b\b\b\b\b\b\b\b\b\b\b\b\b\b\b\b\b\b\b\b\b\b\b\b\b\b\b\b\b\b\b\b\b\b\b\b\b\b\b\b\b\b\b\b\b\b\b\b\b\b\b\b\b\b\b\b\b\b\b\b\b\b\b\b\b\b\b\b\b\b\b\b\b\b\b\r47/47 [==============================] - 1s 32ms/step - loss: 1.7831 - Note_loss: 0.6869 - Offset_loss: 0.0309 - Volume_loss: 0.4728 - Duration_loss: 0.5926\n",
            "Epoch 98/400\n",
            "46/47 [============================>.] - ETA: 0s - loss: 1.7515 - Note_loss: 0.6530 - Offset_loss: 0.0329 - Volume_loss: 0.4728 - Duration_loss: 0.5928"
          ]
        },
        {
          "output_type": "stream",
          "name": "stderr",
          "text": [
            "WARNING:tensorflow:Can save best model only with val_loss available, skipping.\n"
          ]
        },
        {
          "output_type": "stream",
          "name": "stdout",
          "text": [
            "\b\b\b\b\b\b\b\b\b\b\b\b\b\b\b\b\b\b\b\b\b\b\b\b\b\b\b\b\b\b\b\b\b\b\b\b\b\b\b\b\b\b\b\b\b\b\b\b\b\b\b\b\b\b\b\b\b\b\b\b\b\b\b\b\b\b\b\b\b\b\b\b\b\b\b\b\b\b\b\b\b\b\b\b\b\b\b\b\b\b\b\b\b\b\b\b\b\b\b\b\b\b\b\b\b\b\b\b\b\b\b\b\b\b\b\b\b\b\b\b\b\b\b\b\b\b\b\b\b\b\b\b\b\b\b\b\b\b\b\b\b\b\b\b\b\b\b\b\b\b\b\r47/47 [==============================] - 2s 33ms/step - loss: 1.7530 - Note_loss: 0.6545 - Offset_loss: 0.0331 - Volume_loss: 0.4728 - Duration_loss: 0.5926\n",
            "Epoch 99/400\n",
            "46/47 [============================>.] - ETA: 0s - loss: 1.7323 - Note_loss: 0.6330 - Offset_loss: 0.0329 - Volume_loss: 0.4737 - Duration_loss: 0.5927"
          ]
        },
        {
          "output_type": "stream",
          "name": "stderr",
          "text": [
            "WARNING:tensorflow:Can save best model only with val_loss available, skipping.\n"
          ]
        },
        {
          "output_type": "stream",
          "name": "stdout",
          "text": [
            "\b\b\b\b\b\b\b\b\b\b\b\b\b\b\b\b\b\b\b\b\b\b\b\b\b\b\b\b\b\b\b\b\b\b\b\b\b\b\b\b\b\b\b\b\b\b\b\b\b\b\b\b\b\b\b\b\b\b\b\b\b\b\b\b\b\b\b\b\b\b\b\b\b\b\b\b\b\b\b\b\b\b\b\b\b\b\b\b\b\b\b\b\b\b\b\b\b\b\b\b\b\b\b\b\b\b\b\b\b\b\b\b\b\b\b\b\b\b\b\b\b\b\b\b\b\b\b\b\b\b\b\b\b\b\b\b\b\b\b\b\b\b\b\b\b\b\b\b\b\b\b\r47/47 [==============================] - 2s 33ms/step - loss: 1.7326 - Note_loss: 0.6343 - Offset_loss: 0.0329 - Volume_loss: 0.4728 - Duration_loss: 0.5926\n",
            "Epoch 100/400\n",
            "46/47 [============================>.] - ETA: 0s - loss: 1.7458 - Note_loss: 0.6490 - Offset_loss: 0.0322 - Volume_loss: 0.4726 - Duration_loss: 0.5919"
          ]
        },
        {
          "output_type": "stream",
          "name": "stderr",
          "text": [
            "WARNING:tensorflow:Can save best model only with val_loss available, skipping.\n"
          ]
        },
        {
          "output_type": "stream",
          "name": "stdout",
          "text": [
            "\b\b\b\b\b\b\b\b\b\b\b\b\b\b\b\b\b\b\b\b\b\b\b\b\b\b\b\b\b\b\b\b\b\b\b\b\b\b\b\b\b\b\b\b\b\b\b\b\b\b\b\b\b\b\b\b\b\b\b\b\b\b\b\b\b\b\b\b\b\b\b\b\b\b\b\b\b\b\b\b\b\b\b\b\b\b\b\b\b\b\b\b\b\b\b\b\b\b\b\b\b\b\b\b\b\b\b\b\b\b\b\b\b\b\b\b\b\b\b\b\b\b\b\b\b\b\b\b\b\b\b\b\b\b\b\b\b\b\b\b\b\b\b\b\b\b\b\b\b\b\b\r47/47 [==============================] - 2s 40ms/step - loss: 1.7480 - Note_loss: 0.6502 - Offset_loss: 0.0323 - Volume_loss: 0.4728 - Duration_loss: 0.5926\n",
            "Epoch 101/400\n",
            "47/47 [==============================] - ETA: 0s - loss: 1.7067 - Note_loss: 0.6084 - Offset_loss: 0.0330 - Volume_loss: 0.4728 - Duration_loss: 0.5926"
          ]
        },
        {
          "output_type": "stream",
          "name": "stderr",
          "text": [
            "WARNING:tensorflow:Can save best model only with val_loss available, skipping.\n"
          ]
        },
        {
          "output_type": "stream",
          "name": "stdout",
          "text": [
            "\b\b\b\b\b\b\b\b\b\b\b\b\b\b\b\b\b\b\b\b\b\b\b\b\b\b\b\b\b\b\b\b\b\b\b\b\b\b\b\b\b\b\b\b\b\b\b\b\b\b\b\b\b\b\b\b\b\b\b\b\b\b\b\b\b\b\b\b\b\b\b\b\b\b\b\b\b\b\b\b\b\b\b\b\b\b\b\b\b\b\b\b\b\b\b\b\b\b\b\b\b\b\b\b\b\b\b\b\b\b\b\b\b\b\b\b\b\b\b\b\b\b\b\b\b\b\b\b\b\b\b\b\b\b\b\b\b\b\b\b\b\b\b\b\b\b\b\b\b\b\b\r47/47 [==============================] - 2s 40ms/step - loss: 1.7067 - Note_loss: 0.6084 - Offset_loss: 0.0330 - Volume_loss: 0.4728 - Duration_loss: 0.5926\n",
            "Epoch 102/400\n",
            "47/47 [==============================] - ETA: 0s - loss: 1.6995 - Note_loss: 0.5993 - Offset_loss: 0.0348 - Volume_loss: 0.4728 - Duration_loss: 0.5926"
          ]
        },
        {
          "output_type": "stream",
          "name": "stderr",
          "text": [
            "WARNING:tensorflow:Can save best model only with val_loss available, skipping.\n"
          ]
        },
        {
          "output_type": "stream",
          "name": "stdout",
          "text": [
            "\b\b\b\b\b\b\b\b\b\b\b\b\b\b\b\b\b\b\b\b\b\b\b\b\b\b\b\b\b\b\b\b\b\b\b\b\b\b\b\b\b\b\b\b\b\b\b\b\b\b\b\b\b\b\b\b\b\b\b\b\b\b\b\b\b\b\b\b\b\b\b\b\b\b\b\b\b\b\b\b\b\b\b\b\b\b\b\b\b\b\b\b\b\b\b\b\b\b\b\b\b\b\b\b\b\b\b\b\b\b\b\b\b\b\b\b\b\b\b\b\b\b\b\b\b\b\b\b\b\b\b\b\b\b\b\b\b\b\b\b\b\b\b\b\b\b\b\b\b\b\b\r47/47 [==============================] - 2s 32ms/step - loss: 1.6995 - Note_loss: 0.5993 - Offset_loss: 0.0348 - Volume_loss: 0.4728 - Duration_loss: 0.5926\n",
            "Epoch 103/400\n",
            "47/47 [==============================] - ETA: 0s - loss: 1.6905 - Note_loss: 0.5937 - Offset_loss: 0.0314 - Volume_loss: 0.4728 - Duration_loss: 0.5926"
          ]
        },
        {
          "output_type": "stream",
          "name": "stderr",
          "text": [
            "WARNING:tensorflow:Can save best model only with val_loss available, skipping.\n"
          ]
        },
        {
          "output_type": "stream",
          "name": "stdout",
          "text": [
            "\b\b\b\b\b\b\b\b\b\b\b\b\b\b\b\b\b\b\b\b\b\b\b\b\b\b\b\b\b\b\b\b\b\b\b\b\b\b\b\b\b\b\b\b\b\b\b\b\b\b\b\b\b\b\b\b\b\b\b\b\b\b\b\b\b\b\b\b\b\b\b\b\b\b\b\b\b\b\b\b\b\b\b\b\b\b\b\b\b\b\b\b\b\b\b\b\b\b\b\b\b\b\b\b\b\b\b\b\b\b\b\b\b\b\b\b\b\b\b\b\b\b\b\b\b\b\b\b\b\b\b\b\b\b\b\b\b\b\b\b\b\b\b\b\b\b\b\b\b\b\b\r47/47 [==============================] - 1s 32ms/step - loss: 1.6905 - Note_loss: 0.5937 - Offset_loss: 0.0314 - Volume_loss: 0.4728 - Duration_loss: 0.5926\n",
            "Epoch 104/400\n",
            "47/47 [==============================] - ETA: 0s - loss: 1.7172 - Note_loss: 0.6217 - Offset_loss: 0.0301 - Volume_loss: 0.4728 - Duration_loss: 0.5926"
          ]
        },
        {
          "output_type": "stream",
          "name": "stderr",
          "text": [
            "WARNING:tensorflow:Can save best model only with val_loss available, skipping.\n"
          ]
        },
        {
          "output_type": "stream",
          "name": "stdout",
          "text": [
            "\b\b\b\b\b\b\b\b\b\b\b\b\b\b\b\b\b\b\b\b\b\b\b\b\b\b\b\b\b\b\b\b\b\b\b\b\b\b\b\b\b\b\b\b\b\b\b\b\b\b\b\b\b\b\b\b\b\b\b\b\b\b\b\b\b\b\b\b\b\b\b\b\b\b\b\b\b\b\b\b\b\b\b\b\b\b\b\b\b\b\b\b\b\b\b\b\b\b\b\b\b\b\b\b\b\b\b\b\b\b\b\b\b\b\b\b\b\b\b\b\b\b\b\b\b\b\b\b\b\b\b\b\b\b\b\b\b\b\b\b\b\b\b\b\b\b\b\b\b\b\b\r47/47 [==============================] - 2s 32ms/step - loss: 1.7172 - Note_loss: 0.6217 - Offset_loss: 0.0301 - Volume_loss: 0.4728 - Duration_loss: 0.5926\n",
            "Epoch 105/400\n",
            "47/47 [==============================] - ETA: 0s - loss: 1.6949 - Note_loss: 0.5957 - Offset_loss: 0.0338 - Volume_loss: 0.4728 - Duration_loss: 0.5926"
          ]
        },
        {
          "output_type": "stream",
          "name": "stderr",
          "text": [
            "WARNING:tensorflow:Can save best model only with val_loss available, skipping.\n"
          ]
        },
        {
          "output_type": "stream",
          "name": "stdout",
          "text": [
            "\b\b\b\b\b\b\b\b\b\b\b\b\b\b\b\b\b\b\b\b\b\b\b\b\b\b\b\b\b\b\b\b\b\b\b\b\b\b\b\b\b\b\b\b\b\b\b\b\b\b\b\b\b\b\b\b\b\b\b\b\b\b\b\b\b\b\b\b\b\b\b\b\b\b\b\b\b\b\b\b\b\b\b\b\b\b\b\b\b\b\b\b\b\b\b\b\b\b\b\b\b\b\b\b\b\b\b\b\b\b\b\b\b\b\b\b\b\b\b\b\b\b\b\b\b\b\b\b\b\b\b\b\b\b\b\b\b\b\b\b\b\b\b\b\b\b\b\b\b\b\b\r47/47 [==============================] - 2s 32ms/step - loss: 1.6949 - Note_loss: 0.5957 - Offset_loss: 0.0338 - Volume_loss: 0.4728 - Duration_loss: 0.5926\n",
            "Epoch 106/400\n",
            "47/47 [==============================] - ETA: 0s - loss: 1.6798 - Note_loss: 0.5825 - Offset_loss: 0.0319 - Volume_loss: 0.4728 - Duration_loss: 0.5926"
          ]
        },
        {
          "output_type": "stream",
          "name": "stderr",
          "text": [
            "WARNING:tensorflow:Can save best model only with val_loss available, skipping.\n"
          ]
        },
        {
          "output_type": "stream",
          "name": "stdout",
          "text": [
            "\b\b\b\b\b\b\b\b\b\b\b\b\b\b\b\b\b\b\b\b\b\b\b\b\b\b\b\b\b\b\b\b\b\b\b\b\b\b\b\b\b\b\b\b\b\b\b\b\b\b\b\b\b\b\b\b\b\b\b\b\b\b\b\b\b\b\b\b\b\b\b\b\b\b\b\b\b\b\b\b\b\b\b\b\b\b\b\b\b\b\b\b\b\b\b\b\b\b\b\b\b\b\b\b\b\b\b\b\b\b\b\b\b\b\b\b\b\b\b\b\b\b\b\b\b\b\b\b\b\b\b\b\b\b\b\b\b\b\b\b\b\b\b\b\b\b\b\b\b\b\b\r47/47 [==============================] - 1s 32ms/step - loss: 1.6798 - Note_loss: 0.5825 - Offset_loss: 0.0319 - Volume_loss: 0.4728 - Duration_loss: 0.5926\n",
            "Epoch 107/400\n",
            "47/47 [==============================] - ETA: 0s - loss: 1.6828 - Note_loss: 0.5855 - Offset_loss: 0.0319 - Volume_loss: 0.4728 - Duration_loss: 0.5926"
          ]
        },
        {
          "output_type": "stream",
          "name": "stderr",
          "text": [
            "WARNING:tensorflow:Can save best model only with val_loss available, skipping.\n"
          ]
        },
        {
          "output_type": "stream",
          "name": "stdout",
          "text": [
            "\b\b\b\b\b\b\b\b\b\b\b\b\b\b\b\b\b\b\b\b\b\b\b\b\b\b\b\b\b\b\b\b\b\b\b\b\b\b\b\b\b\b\b\b\b\b\b\b\b\b\b\b\b\b\b\b\b\b\b\b\b\b\b\b\b\b\b\b\b\b\b\b\b\b\b\b\b\b\b\b\b\b\b\b\b\b\b\b\b\b\b\b\b\b\b\b\b\b\b\b\b\b\b\b\b\b\b\b\b\b\b\b\b\b\b\b\b\b\b\b\b\b\b\b\b\b\b\b\b\b\b\b\b\b\b\b\b\b\b\b\b\b\b\b\b\b\b\b\b\b\b\r47/47 [==============================] - 1s 31ms/step - loss: 1.6828 - Note_loss: 0.5855 - Offset_loss: 0.0319 - Volume_loss: 0.4728 - Duration_loss: 0.5926\n",
            "Epoch 108/400\n",
            "46/47 [============================>.] - ETA: 0s - loss: 1.6725 - Note_loss: 0.5713 - Offset_loss: 0.0357 - Volume_loss: 0.4729 - Duration_loss: 0.5926"
          ]
        },
        {
          "output_type": "stream",
          "name": "stderr",
          "text": [
            "WARNING:tensorflow:Can save best model only with val_loss available, skipping.\n"
          ]
        },
        {
          "output_type": "stream",
          "name": "stdout",
          "text": [
            "\b\b\b\b\b\b\b\b\b\b\b\b\b\b\b\b\b\b\b\b\b\b\b\b\b\b\b\b\b\b\b\b\b\b\b\b\b\b\b\b\b\b\b\b\b\b\b\b\b\b\b\b\b\b\b\b\b\b\b\b\b\b\b\b\b\b\b\b\b\b\b\b\b\b\b\b\b\b\b\b\b\b\b\b\b\b\b\b\b\b\b\b\b\b\b\b\b\b\b\b\b\b\b\b\b\b\b\b\b\b\b\b\b\b\b\b\b\b\b\b\b\b\b\b\b\b\b\b\b\b\b\b\b\b\b\b\b\b\b\b\b\b\b\b\b\b\b\b\b\b\b\r47/47 [==============================] - 2s 42ms/step - loss: 1.6727 - Note_loss: 0.5718 - Offset_loss: 0.0354 - Volume_loss: 0.4728 - Duration_loss: 0.5926\n",
            "Epoch 109/400\n",
            "47/47 [==============================] - ETA: 0s - loss: 1.6346 - Note_loss: 0.5372 - Offset_loss: 0.0320 - Volume_loss: 0.4728 - Duration_loss: 0.5926"
          ]
        },
        {
          "output_type": "stream",
          "name": "stderr",
          "text": [
            "WARNING:tensorflow:Can save best model only with val_loss available, skipping.\n"
          ]
        },
        {
          "output_type": "stream",
          "name": "stdout",
          "text": [
            "\b\b\b\b\b\b\b\b\b\b\b\b\b\b\b\b\b\b\b\b\b\b\b\b\b\b\b\b\b\b\b\b\b\b\b\b\b\b\b\b\b\b\b\b\b\b\b\b\b\b\b\b\b\b\b\b\b\b\b\b\b\b\b\b\b\b\b\b\b\b\b\b\b\b\b\b\b\b\b\b\b\b\b\b\b\b\b\b\b\b\b\b\b\b\b\b\b\b\b\b\b\b\b\b\b\b\b\b\b\b\b\b\b\b\b\b\b\b\b\b\b\b\b\b\b\b\b\b\b\b\b\b\b\b\b\b\b\b\b\b\b\b\b\b\b\b\b\b\b\b\b\r47/47 [==============================] - 2s 36ms/step - loss: 1.6346 - Note_loss: 0.5372 - Offset_loss: 0.0320 - Volume_loss: 0.4728 - Duration_loss: 0.5926\n",
            "Epoch 110/400\n",
            "47/47 [==============================] - ETA: 0s - loss: 1.6391 - Note_loss: 0.5432 - Offset_loss: 0.0305 - Volume_loss: 0.4728 - Duration_loss: 0.5926"
          ]
        },
        {
          "output_type": "stream",
          "name": "stderr",
          "text": [
            "WARNING:tensorflow:Can save best model only with val_loss available, skipping.\n"
          ]
        },
        {
          "output_type": "stream",
          "name": "stdout",
          "text": [
            "\b\b\b\b\b\b\b\b\b\b\b\b\b\b\b\b\b\b\b\b\b\b\b\b\b\b\b\b\b\b\b\b\b\b\b\b\b\b\b\b\b\b\b\b\b\b\b\b\b\b\b\b\b\b\b\b\b\b\b\b\b\b\b\b\b\b\b\b\b\b\b\b\b\b\b\b\b\b\b\b\b\b\b\b\b\b\b\b\b\b\b\b\b\b\b\b\b\b\b\b\b\b\b\b\b\b\b\b\b\b\b\b\b\b\b\b\b\b\b\b\b\b\b\b\b\b\b\b\b\b\b\b\b\b\b\b\b\b\b\b\b\b\b\b\b\b\b\b\b\b\b\r47/47 [==============================] - 1s 31ms/step - loss: 1.6391 - Note_loss: 0.5432 - Offset_loss: 0.0305 - Volume_loss: 0.4728 - Duration_loss: 0.5926\n",
            "Epoch 111/400\n",
            "47/47 [==============================] - ETA: 0s - loss: 1.6775 - Note_loss: 0.5783 - Offset_loss: 0.0337 - Volume_loss: 0.4728 - Duration_loss: 0.5926"
          ]
        },
        {
          "output_type": "stream",
          "name": "stderr",
          "text": [
            "WARNING:tensorflow:Can save best model only with val_loss available, skipping.\n"
          ]
        },
        {
          "output_type": "stream",
          "name": "stdout",
          "text": [
            "\b\b\b\b\b\b\b\b\b\b\b\b\b\b\b\b\b\b\b\b\b\b\b\b\b\b\b\b\b\b\b\b\b\b\b\b\b\b\b\b\b\b\b\b\b\b\b\b\b\b\b\b\b\b\b\b\b\b\b\b\b\b\b\b\b\b\b\b\b\b\b\b\b\b\b\b\b\b\b\b\b\b\b\b\b\b\b\b\b\b\b\b\b\b\b\b\b\b\b\b\b\b\b\b\b\b\b\b\b\b\b\b\b\b\b\b\b\b\b\b\b\b\b\b\b\b\b\b\b\b\b\b\b\b\b\b\b\b\b\b\b\b\b\b\b\b\b\b\b\b\b\r47/47 [==============================] - 2s 32ms/step - loss: 1.6775 - Note_loss: 0.5783 - Offset_loss: 0.0337 - Volume_loss: 0.4728 - Duration_loss: 0.5926\n",
            "Epoch 112/400\n",
            "47/47 [==============================] - ETA: 0s - loss: 1.6561 - Note_loss: 0.5594 - Offset_loss: 0.0313 - Volume_loss: 0.4728 - Duration_loss: 0.5926"
          ]
        },
        {
          "output_type": "stream",
          "name": "stderr",
          "text": [
            "WARNING:tensorflow:Can save best model only with val_loss available, skipping.\n"
          ]
        },
        {
          "output_type": "stream",
          "name": "stdout",
          "text": [
            "\b\b\b\b\b\b\b\b\b\b\b\b\b\b\b\b\b\b\b\b\b\b\b\b\b\b\b\b\b\b\b\b\b\b\b\b\b\b\b\b\b\b\b\b\b\b\b\b\b\b\b\b\b\b\b\b\b\b\b\b\b\b\b\b\b\b\b\b\b\b\b\b\b\b\b\b\b\b\b\b\b\b\b\b\b\b\b\b\b\b\b\b\b\b\b\b\b\b\b\b\b\b\b\b\b\b\b\b\b\b\b\b\b\b\b\b\b\b\b\b\b\b\b\b\b\b\b\b\b\b\b\b\b\b\b\b\b\b\b\b\b\b\b\b\b\b\b\b\b\b\b\r47/47 [==============================] - 2s 32ms/step - loss: 1.6561 - Note_loss: 0.5594 - Offset_loss: 0.0313 - Volume_loss: 0.4728 - Duration_loss: 0.5926\n",
            "Epoch 113/400\n",
            "47/47 [==============================] - ETA: 0s - loss: 1.6476 - Note_loss: 0.5484 - Offset_loss: 0.0339 - Volume_loss: 0.4728 - Duration_loss: 0.5926"
          ]
        },
        {
          "output_type": "stream",
          "name": "stderr",
          "text": [
            "WARNING:tensorflow:Can save best model only with val_loss available, skipping.\n"
          ]
        },
        {
          "output_type": "stream",
          "name": "stdout",
          "text": [
            "\b\b\b\b\b\b\b\b\b\b\b\b\b\b\b\b\b\b\b\b\b\b\b\b\b\b\b\b\b\b\b\b\b\b\b\b\b\b\b\b\b\b\b\b\b\b\b\b\b\b\b\b\b\b\b\b\b\b\b\b\b\b\b\b\b\b\b\b\b\b\b\b\b\b\b\b\b\b\b\b\b\b\b\b\b\b\b\b\b\b\b\b\b\b\b\b\b\b\b\b\b\b\b\b\b\b\b\b\b\b\b\b\b\b\b\b\b\b\b\b\b\b\b\b\b\b\b\b\b\b\b\b\b\b\b\b\b\b\b\b\b\b\b\b\b\b\b\b\b\b\b\r47/47 [==============================] - 1s 31ms/step - loss: 1.6476 - Note_loss: 0.5484 - Offset_loss: 0.0339 - Volume_loss: 0.4728 - Duration_loss: 0.5926\n",
            "Epoch 114/400\n",
            "47/47 [==============================] - ETA: 0s - loss: 1.6587 - Note_loss: 0.5596 - Offset_loss: 0.0336 - Volume_loss: 0.4728 - Duration_loss: 0.5926"
          ]
        },
        {
          "output_type": "stream",
          "name": "stderr",
          "text": [
            "WARNING:tensorflow:Can save best model only with val_loss available, skipping.\n"
          ]
        },
        {
          "output_type": "stream",
          "name": "stdout",
          "text": [
            "\b\b\b\b\b\b\b\b\b\b\b\b\b\b\b\b\b\b\b\b\b\b\b\b\b\b\b\b\b\b\b\b\b\b\b\b\b\b\b\b\b\b\b\b\b\b\b\b\b\b\b\b\b\b\b\b\b\b\b\b\b\b\b\b\b\b\b\b\b\b\b\b\b\b\b\b\b\b\b\b\b\b\b\b\b\b\b\b\b\b\b\b\b\b\b\b\b\b\b\b\b\b\b\b\b\b\b\b\b\b\b\b\b\b\b\b\b\b\b\b\b\b\b\b\b\b\b\b\b\b\b\b\b\b\b\b\b\b\b\b\b\b\b\b\b\b\b\b\b\b\b\r47/47 [==============================] - 1s 31ms/step - loss: 1.6587 - Note_loss: 0.5596 - Offset_loss: 0.0336 - Volume_loss: 0.4728 - Duration_loss: 0.5926\n",
            "Epoch 115/400\n",
            "47/47 [==============================] - ETA: 0s - loss: 1.6279 - Note_loss: 0.5313 - Offset_loss: 0.0312 - Volume_loss: 0.4728 - Duration_loss: 0.5926"
          ]
        },
        {
          "output_type": "stream",
          "name": "stderr",
          "text": [
            "WARNING:tensorflow:Can save best model only with val_loss available, skipping.\n"
          ]
        },
        {
          "output_type": "stream",
          "name": "stdout",
          "text": [
            "\b\b\b\b\b\b\b\b\b\b\b\b\b\b\b\b\b\b\b\b\b\b\b\b\b\b\b\b\b\b\b\b\b\b\b\b\b\b\b\b\b\b\b\b\b\b\b\b\b\b\b\b\b\b\b\b\b\b\b\b\b\b\b\b\b\b\b\b\b\b\b\b\b\b\b\b\b\b\b\b\b\b\b\b\b\b\b\b\b\b\b\b\b\b\b\b\b\b\b\b\b\b\b\b\b\b\b\b\b\b\b\b\b\b\b\b\b\b\b\b\b\b\b\b\b\b\b\b\b\b\b\b\b\b\b\b\b\b\b\b\b\b\b\b\b\b\b\b\b\b\b\r47/47 [==============================] - 1s 31ms/step - loss: 1.6279 - Note_loss: 0.5313 - Offset_loss: 0.0312 - Volume_loss: 0.4728 - Duration_loss: 0.5926\n",
            "Epoch 116/400\n",
            "47/47 [==============================] - ETA: 0s - loss: 1.6393 - Note_loss: 0.5426 - Offset_loss: 0.0313 - Volume_loss: 0.4728 - Duration_loss: 0.5926"
          ]
        },
        {
          "output_type": "stream",
          "name": "stderr",
          "text": [
            "WARNING:tensorflow:Can save best model only with val_loss available, skipping.\n"
          ]
        },
        {
          "output_type": "stream",
          "name": "stdout",
          "text": [
            "\b\b\b\b\b\b\b\b\b\b\b\b\b\b\b\b\b\b\b\b\b\b\b\b\b\b\b\b\b\b\b\b\b\b\b\b\b\b\b\b\b\b\b\b\b\b\b\b\b\b\b\b\b\b\b\b\b\b\b\b\b\b\b\b\b\b\b\b\b\b\b\b\b\b\b\b\b\b\b\b\b\b\b\b\b\b\b\b\b\b\b\b\b\b\b\b\b\b\b\b\b\b\b\b\b\b\b\b\b\b\b\b\b\b\b\b\b\b\b\b\b\b\b\b\b\b\b\b\b\b\b\b\b\b\b\b\b\b\b\b\b\b\b\b\b\b\b\b\b\b\b\r47/47 [==============================] - 2s 45ms/step - loss: 1.6393 - Note_loss: 0.5426 - Offset_loss: 0.0313 - Volume_loss: 0.4728 - Duration_loss: 0.5926\n",
            "Epoch 117/400\n",
            "46/47 [============================>.] - ETA: 0s - loss: 1.6218 - Note_loss: 0.5232 - Offset_loss: 0.0336 - Volume_loss: 0.4723 - Duration_loss: 0.5926"
          ]
        },
        {
          "output_type": "stream",
          "name": "stderr",
          "text": [
            "WARNING:tensorflow:Can save best model only with val_loss available, skipping.\n"
          ]
        },
        {
          "output_type": "stream",
          "name": "stdout",
          "text": [
            "\b\b\b\b\b\b\b\b\b\b\b\b\b\b\b\b\b\b\b\b\b\b\b\b\b\b\b\b\b\b\b\b\b\b\b\b\b\b\b\b\b\b\b\b\b\b\b\b\b\b\b\b\b\b\b\b\b\b\b\b\b\b\b\b\b\b\b\b\b\b\b\b\b\b\b\b\b\b\b\b\b\b\b\b\b\b\b\b\b\b\b\b\b\b\b\b\b\b\b\b\b\b\b\b\b\b\b\b\b\b\b\b\b\b\b\b\b\b\b\b\b\b\b\b\b\b\b\b\b\b\b\b\b\b\b\b\b\b\b\b\b\b\b\b\b\b\b\b\b\b\b\r47/47 [==============================] - 2s 34ms/step - loss: 1.6208 - Note_loss: 0.5218 - Offset_loss: 0.0336 - Volume_loss: 0.4728 - Duration_loss: 0.5926\n",
            "Epoch 118/400\n",
            "47/47 [==============================] - ETA: 0s - loss: 1.6246 - Note_loss: 0.5253 - Offset_loss: 0.0339 - Volume_loss: 0.4728 - Duration_loss: 0.5926"
          ]
        },
        {
          "output_type": "stream",
          "name": "stderr",
          "text": [
            "WARNING:tensorflow:Can save best model only with val_loss available, skipping.\n"
          ]
        },
        {
          "output_type": "stream",
          "name": "stdout",
          "text": [
            "\b\b\b\b\b\b\b\b\b\b\b\b\b\b\b\b\b\b\b\b\b\b\b\b\b\b\b\b\b\b\b\b\b\b\b\b\b\b\b\b\b\b\b\b\b\b\b\b\b\b\b\b\b\b\b\b\b\b\b\b\b\b\b\b\b\b\b\b\b\b\b\b\b\b\b\b\b\b\b\b\b\b\b\b\b\b\b\b\b\b\b\b\b\b\b\b\b\b\b\b\b\b\b\b\b\b\b\b\b\b\b\b\b\b\b\b\b\b\b\b\b\b\b\b\b\b\b\b\b\b\b\b\b\b\b\b\b\b\b\b\b\b\b\b\b\b\b\b\b\b\b\r47/47 [==============================] - 1s 31ms/step - loss: 1.6246 - Note_loss: 0.5253 - Offset_loss: 0.0339 - Volume_loss: 0.4728 - Duration_loss: 0.5926\n",
            "Epoch 119/400\n",
            "47/47 [==============================] - ETA: 0s - loss: 1.6387 - Note_loss: 0.5410 - Offset_loss: 0.0323 - Volume_loss: 0.4728 - Duration_loss: 0.5926"
          ]
        },
        {
          "output_type": "stream",
          "name": "stderr",
          "text": [
            "WARNING:tensorflow:Can save best model only with val_loss available, skipping.\n"
          ]
        },
        {
          "output_type": "stream",
          "name": "stdout",
          "text": [
            "\b\b\b\b\b\b\b\b\b\b\b\b\b\b\b\b\b\b\b\b\b\b\b\b\b\b\b\b\b\b\b\b\b\b\b\b\b\b\b\b\b\b\b\b\b\b\b\b\b\b\b\b\b\b\b\b\b\b\b\b\b\b\b\b\b\b\b\b\b\b\b\b\b\b\b\b\b\b\b\b\b\b\b\b\b\b\b\b\b\b\b\b\b\b\b\b\b\b\b\b\b\b\b\b\b\b\b\b\b\b\b\b\b\b\b\b\b\b\b\b\b\b\b\b\b\b\b\b\b\b\b\b\b\b\b\b\b\b\b\b\b\b\b\b\b\b\b\b\b\b\b\r47/47 [==============================] - 1s 31ms/step - loss: 1.6387 - Note_loss: 0.5410 - Offset_loss: 0.0323 - Volume_loss: 0.4728 - Duration_loss: 0.5926\n",
            "Epoch 120/400\n",
            "47/47 [==============================] - ETA: 0s - loss: 1.6293 - Note_loss: 0.5339 - Offset_loss: 0.0301 - Volume_loss: 0.4728 - Duration_loss: 0.5926"
          ]
        },
        {
          "output_type": "stream",
          "name": "stderr",
          "text": [
            "WARNING:tensorflow:Can save best model only with val_loss available, skipping.\n"
          ]
        },
        {
          "output_type": "stream",
          "name": "stdout",
          "text": [
            "\b\b\b\b\b\b\b\b\b\b\b\b\b\b\b\b\b\b\b\b\b\b\b\b\b\b\b\b\b\b\b\b\b\b\b\b\b\b\b\b\b\b\b\b\b\b\b\b\b\b\b\b\b\b\b\b\b\b\b\b\b\b\b\b\b\b\b\b\b\b\b\b\b\b\b\b\b\b\b\b\b\b\b\b\b\b\b\b\b\b\b\b\b\b\b\b\b\b\b\b\b\b\b\b\b\b\b\b\b\b\b\b\b\b\b\b\b\b\b\b\b\b\b\b\b\b\b\b\b\b\b\b\b\b\b\b\b\b\b\b\b\b\b\b\b\b\b\b\b\b\b\r47/47 [==============================] - 1s 31ms/step - loss: 1.6293 - Note_loss: 0.5339 - Offset_loss: 0.0301 - Volume_loss: 0.4728 - Duration_loss: 0.5926\n",
            "Epoch 121/400\n",
            "47/47 [==============================] - ETA: 0s - loss: 1.6226 - Note_loss: 0.5268 - Offset_loss: 0.0303 - Volume_loss: 0.4728 - Duration_loss: 0.5926"
          ]
        },
        {
          "output_type": "stream",
          "name": "stderr",
          "text": [
            "WARNING:tensorflow:Can save best model only with val_loss available, skipping.\n"
          ]
        },
        {
          "output_type": "stream",
          "name": "stdout",
          "text": [
            "\b\b\b\b\b\b\b\b\b\b\b\b\b\b\b\b\b\b\b\b\b\b\b\b\b\b\b\b\b\b\b\b\b\b\b\b\b\b\b\b\b\b\b\b\b\b\b\b\b\b\b\b\b\b\b\b\b\b\b\b\b\b\b\b\b\b\b\b\b\b\b\b\b\b\b\b\b\b\b\b\b\b\b\b\b\b\b\b\b\b\b\b\b\b\b\b\b\b\b\b\b\b\b\b\b\b\b\b\b\b\b\b\b\b\b\b\b\b\b\b\b\b\b\b\b\b\b\b\b\b\b\b\b\b\b\b\b\b\b\b\b\b\b\b\b\b\b\b\b\b\b\r47/47 [==============================] - 1s 31ms/step - loss: 1.6226 - Note_loss: 0.5268 - Offset_loss: 0.0303 - Volume_loss: 0.4728 - Duration_loss: 0.5926\n",
            "Epoch 122/400\n",
            "47/47 [==============================] - ETA: 0s - loss: 1.6076 - Note_loss: 0.5067 - Offset_loss: 0.0355 - Volume_loss: 0.4728 - Duration_loss: 0.5926"
          ]
        },
        {
          "output_type": "stream",
          "name": "stderr",
          "text": [
            "WARNING:tensorflow:Can save best model only with val_loss available, skipping.\n"
          ]
        },
        {
          "output_type": "stream",
          "name": "stdout",
          "text": [
            "\b\b\b\b\b\b\b\b\b\b\b\b\b\b\b\b\b\b\b\b\b\b\b\b\b\b\b\b\b\b\b\b\b\b\b\b\b\b\b\b\b\b\b\b\b\b\b\b\b\b\b\b\b\b\b\b\b\b\b\b\b\b\b\b\b\b\b\b\b\b\b\b\b\b\b\b\b\b\b\b\b\b\b\b\b\b\b\b\b\b\b\b\b\b\b\b\b\b\b\b\b\b\b\b\b\b\b\b\b\b\b\b\b\b\b\b\b\b\b\b\b\b\b\b\b\b\b\b\b\b\b\b\b\b\b\b\b\b\b\b\b\b\b\b\b\b\b\b\b\b\b\r47/47 [==============================] - 1s 32ms/step - loss: 1.6076 - Note_loss: 0.5067 - Offset_loss: 0.0355 - Volume_loss: 0.4728 - Duration_loss: 0.5926\n",
            "Epoch 123/400\n",
            "47/47 [==============================] - ETA: 0s - loss: 1.5907 - Note_loss: 0.4932 - Offset_loss: 0.0321 - Volume_loss: 0.4728 - Duration_loss: 0.5926"
          ]
        },
        {
          "output_type": "stream",
          "name": "stderr",
          "text": [
            "WARNING:tensorflow:Can save best model only with val_loss available, skipping.\n"
          ]
        },
        {
          "output_type": "stream",
          "name": "stdout",
          "text": [
            "\b\b\b\b\b\b\b\b\b\b\b\b\b\b\b\b\b\b\b\b\b\b\b\b\b\b\b\b\b\b\b\b\b\b\b\b\b\b\b\b\b\b\b\b\b\b\b\b\b\b\b\b\b\b\b\b\b\b\b\b\b\b\b\b\b\b\b\b\b\b\b\b\b\b\b\b\b\b\b\b\b\b\b\b\b\b\b\b\b\b\b\b\b\b\b\b\b\b\b\b\b\b\b\b\b\b\b\b\b\b\b\b\b\b\b\b\b\b\b\b\b\b\b\b\b\b\b\b\b\b\b\b\b\b\b\b\b\b\b\b\b\b\b\b\b\b\b\b\b\b\b\r47/47 [==============================] - 2s 37ms/step - loss: 1.5907 - Note_loss: 0.4932 - Offset_loss: 0.0321 - Volume_loss: 0.4728 - Duration_loss: 0.5926\n",
            "Epoch 124/400\n",
            "47/47 [==============================] - ETA: 0s - loss: 1.6190 - Note_loss: 0.5211 - Offset_loss: 0.0325 - Volume_loss: 0.4728 - Duration_loss: 0.5926"
          ]
        },
        {
          "output_type": "stream",
          "name": "stderr",
          "text": [
            "WARNING:tensorflow:Can save best model only with val_loss available, skipping.\n"
          ]
        },
        {
          "output_type": "stream",
          "name": "stdout",
          "text": [
            "\b\b\b\b\b\b\b\b\b\b\b\b\b\b\b\b\b\b\b\b\b\b\b\b\b\b\b\b\b\b\b\b\b\b\b\b\b\b\b\b\b\b\b\b\b\b\b\b\b\b\b\b\b\b\b\b\b\b\b\b\b\b\b\b\b\b\b\b\b\b\b\b\b\b\b\b\b\b\b\b\b\b\b\b\b\b\b\b\b\b\b\b\b\b\b\b\b\b\b\b\b\b\b\b\b\b\b\b\b\b\b\b\b\b\b\b\b\b\b\b\b\b\b\b\b\b\b\b\b\b\b\b\b\b\b\b\b\b\b\b\b\b\b\b\b\b\b\b\b\b\b\r47/47 [==============================] - 2s 46ms/step - loss: 1.6190 - Note_loss: 0.5211 - Offset_loss: 0.0325 - Volume_loss: 0.4728 - Duration_loss: 0.5926\n",
            "Epoch 125/400\n",
            "46/47 [============================>.] - ETA: 0s - loss: 1.5954 - Note_loss: 0.4961 - Offset_loss: 0.0331 - Volume_loss: 0.4731 - Duration_loss: 0.5930"
          ]
        },
        {
          "output_type": "stream",
          "name": "stderr",
          "text": [
            "WARNING:tensorflow:Can save best model only with val_loss available, skipping.\n"
          ]
        },
        {
          "output_type": "stream",
          "name": "stdout",
          "text": [
            "\b\b\b\b\b\b\b\b\b\b\b\b\b\b\b\b\b\b\b\b\b\b\b\b\b\b\b\b\b\b\b\b\b\b\b\b\b\b\b\b\b\b\b\b\b\b\b\b\b\b\b\b\b\b\b\b\b\b\b\b\b\b\b\b\b\b\b\b\b\b\b\b\b\b\b\b\b\b\b\b\b\b\b\b\b\b\b\b\b\b\b\b\b\b\b\b\b\b\b\b\b\b\b\b\b\b\b\b\b\b\b\b\b\b\b\b\b\b\b\b\b\b\b\b\b\b\b\b\b\b\b\b\b\b\b\b\b\b\b\b\b\b\b\b\b\b\b\b\b\b\b\r47/47 [==============================] - 2s 32ms/step - loss: 1.5957 - Note_loss: 0.4973 - Offset_loss: 0.0331 - Volume_loss: 0.4728 - Duration_loss: 0.5926\n",
            "Epoch 126/400\n",
            "47/47 [==============================] - ETA: 0s - loss: 1.5710 - Note_loss: 0.4710 - Offset_loss: 0.0346 - Volume_loss: 0.4728 - Duration_loss: 0.5926"
          ]
        },
        {
          "output_type": "stream",
          "name": "stderr",
          "text": [
            "WARNING:tensorflow:Can save best model only with val_loss available, skipping.\n"
          ]
        },
        {
          "output_type": "stream",
          "name": "stdout",
          "text": [
            "\b\b\b\b\b\b\b\b\b\b\b\b\b\b\b\b\b\b\b\b\b\b\b\b\b\b\b\b\b\b\b\b\b\b\b\b\b\b\b\b\b\b\b\b\b\b\b\b\b\b\b\b\b\b\b\b\b\b\b\b\b\b\b\b\b\b\b\b\b\b\b\b\b\b\b\b\b\b\b\b\b\b\b\b\b\b\b\b\b\b\b\b\b\b\b\b\b\b\b\b\b\b\b\b\b\b\b\b\b\b\b\b\b\b\b\b\b\b\b\b\b\b\b\b\b\b\b\b\b\b\b\b\b\b\b\b\b\b\b\b\b\b\b\b\b\b\b\b\b\b\b\r47/47 [==============================] - 1s 32ms/step - loss: 1.5710 - Note_loss: 0.4710 - Offset_loss: 0.0346 - Volume_loss: 0.4728 - Duration_loss: 0.5926\n",
            "Epoch 127/400\n",
            "47/47 [==============================] - ETA: 0s - loss: 1.5872 - Note_loss: 0.4880 - Offset_loss: 0.0338 - Volume_loss: 0.4728 - Duration_loss: 0.5926"
          ]
        },
        {
          "output_type": "stream",
          "name": "stderr",
          "text": [
            "WARNING:tensorflow:Can save best model only with val_loss available, skipping.\n"
          ]
        },
        {
          "output_type": "stream",
          "name": "stdout",
          "text": [
            "\b\b\b\b\b\b\b\b\b\b\b\b\b\b\b\b\b\b\b\b\b\b\b\b\b\b\b\b\b\b\b\b\b\b\b\b\b\b\b\b\b\b\b\b\b\b\b\b\b\b\b\b\b\b\b\b\b\b\b\b\b\b\b\b\b\b\b\b\b\b\b\b\b\b\b\b\b\b\b\b\b\b\b\b\b\b\b\b\b\b\b\b\b\b\b\b\b\b\b\b\b\b\b\b\b\b\b\b\b\b\b\b\b\b\b\b\b\b\b\b\b\b\b\b\b\b\b\b\b\b\b\b\b\b\b\b\b\b\b\b\b\b\b\b\b\b\b\b\b\b\b\r47/47 [==============================] - 2s 33ms/step - loss: 1.5872 - Note_loss: 0.4880 - Offset_loss: 0.0338 - Volume_loss: 0.4728 - Duration_loss: 0.5926\n",
            "Epoch 128/400\n",
            "47/47 [==============================] - ETA: 0s - loss: 1.5899 - Note_loss: 0.4944 - Offset_loss: 0.0301 - Volume_loss: 0.4728 - Duration_loss: 0.5926"
          ]
        },
        {
          "output_type": "stream",
          "name": "stderr",
          "text": [
            "WARNING:tensorflow:Can save best model only with val_loss available, skipping.\n"
          ]
        },
        {
          "output_type": "stream",
          "name": "stdout",
          "text": [
            "\b\b\b\b\b\b\b\b\b\b\b\b\b\b\b\b\b\b\b\b\b\b\b\b\b\b\b\b\b\b\b\b\b\b\b\b\b\b\b\b\b\b\b\b\b\b\b\b\b\b\b\b\b\b\b\b\b\b\b\b\b\b\b\b\b\b\b\b\b\b\b\b\b\b\b\b\b\b\b\b\b\b\b\b\b\b\b\b\b\b\b\b\b\b\b\b\b\b\b\b\b\b\b\b\b\b\b\b\b\b\b\b\b\b\b\b\b\b\b\b\b\b\b\b\b\b\b\b\b\b\b\b\b\b\b\b\b\b\b\b\b\b\b\b\b\b\b\b\b\b\b\r47/47 [==============================] - 2s 33ms/step - loss: 1.5899 - Note_loss: 0.4944 - Offset_loss: 0.0301 - Volume_loss: 0.4728 - Duration_loss: 0.5926\n",
            "Epoch 129/400\n",
            "47/47 [==============================] - ETA: 0s - loss: 1.5934 - Note_loss: 0.4974 - Offset_loss: 0.0306 - Volume_loss: 0.4728 - Duration_loss: 0.5926"
          ]
        },
        {
          "output_type": "stream",
          "name": "stderr",
          "text": [
            "WARNING:tensorflow:Can save best model only with val_loss available, skipping.\n"
          ]
        },
        {
          "output_type": "stream",
          "name": "stdout",
          "text": [
            "\b\b\b\b\b\b\b\b\b\b\b\b\b\b\b\b\b\b\b\b\b\b\b\b\b\b\b\b\b\b\b\b\b\b\b\b\b\b\b\b\b\b\b\b\b\b\b\b\b\b\b\b\b\b\b\b\b\b\b\b\b\b\b\b\b\b\b\b\b\b\b\b\b\b\b\b\b\b\b\b\b\b\b\b\b\b\b\b\b\b\b\b\b\b\b\b\b\b\b\b\b\b\b\b\b\b\b\b\b\b\b\b\b\b\b\b\b\b\b\b\b\b\b\b\b\b\b\b\b\b\b\b\b\b\b\b\b\b\b\b\b\b\b\b\b\b\b\b\b\b\b\r47/47 [==============================] - 2s 32ms/step - loss: 1.5934 - Note_loss: 0.4974 - Offset_loss: 0.0306 - Volume_loss: 0.4728 - Duration_loss: 0.5926\n",
            "Epoch 130/400\n",
            "47/47 [==============================] - ETA: 0s - loss: 1.5885 - Note_loss: 0.4905 - Offset_loss: 0.0325 - Volume_loss: 0.4728 - Duration_loss: 0.5926"
          ]
        },
        {
          "output_type": "stream",
          "name": "stderr",
          "text": [
            "WARNING:tensorflow:Can save best model only with val_loss available, skipping.\n"
          ]
        },
        {
          "output_type": "stream",
          "name": "stdout",
          "text": [
            "\b\b\b\b\b\b\b\b\b\b\b\b\b\b\b\b\b\b\b\b\b\b\b\b\b\b\b\b\b\b\b\b\b\b\b\b\b\b\b\b\b\b\b\b\b\b\b\b\b\b\b\b\b\b\b\b\b\b\b\b\b\b\b\b\b\b\b\b\b\b\b\b\b\b\b\b\b\b\b\b\b\b\b\b\b\b\b\b\b\b\b\b\b\b\b\b\b\b\b\b\b\b\b\b\b\b\b\b\b\b\b\b\b\b\b\b\b\b\b\b\b\b\b\b\b\b\b\b\b\b\b\b\b\b\b\b\b\b\b\b\b\b\b\b\b\b\b\b\b\b\b\r47/47 [==============================] - 2s 32ms/step - loss: 1.5885 - Note_loss: 0.4905 - Offset_loss: 0.0325 - Volume_loss: 0.4728 - Duration_loss: 0.5926\n",
            "Epoch 131/400\n",
            "47/47 [==============================] - ETA: 0s - loss: 1.5729 - Note_loss: 0.4744 - Offset_loss: 0.0331 - Volume_loss: 0.4728 - Duration_loss: 0.5926"
          ]
        },
        {
          "output_type": "stream",
          "name": "stderr",
          "text": [
            "WARNING:tensorflow:Can save best model only with val_loss available, skipping.\n"
          ]
        },
        {
          "output_type": "stream",
          "name": "stdout",
          "text": [
            "\b\b\b\b\b\b\b\b\b\b\b\b\b\b\b\b\b\b\b\b\b\b\b\b\b\b\b\b\b\b\b\b\b\b\b\b\b\b\b\b\b\b\b\b\b\b\b\b\b\b\b\b\b\b\b\b\b\b\b\b\b\b\b\b\b\b\b\b\b\b\b\b\b\b\b\b\b\b\b\b\b\b\b\b\b\b\b\b\b\b\b\b\b\b\b\b\b\b\b\b\b\b\b\b\b\b\b\b\b\b\b\b\b\b\b\b\b\b\b\b\b\b\b\b\b\b\b\b\b\b\b\b\b\b\b\b\b\b\b\b\b\b\b\b\b\b\b\b\b\b\b\r47/47 [==============================] - 2s 37ms/step - loss: 1.5729 - Note_loss: 0.4744 - Offset_loss: 0.0331 - Volume_loss: 0.4728 - Duration_loss: 0.5926\n",
            "Epoch 132/400\n",
            "46/47 [============================>.] - ETA: 0s - loss: 1.5441 - Note_loss: 0.4444 - Offset_loss: 0.0344 - Volume_loss: 0.4725 - Duration_loss: 0.5928"
          ]
        },
        {
          "output_type": "stream",
          "name": "stderr",
          "text": [
            "WARNING:tensorflow:Can save best model only with val_loss available, skipping.\n"
          ]
        },
        {
          "output_type": "stream",
          "name": "stdout",
          "text": [
            "\b\b\b\b\b\b\b\b\b\b\b\b\b\b\b\b\b\b\b\b\b\b\b\b\b\b\b\b\b\b\b\b\b\b\b\b\b\b\b\b\b\b\b\b\b\b\b\b\b\b\b\b\b\b\b\b\b\b\b\b\b\b\b\b\b\b\b\b\b\b\b\b\b\b\b\b\b\b\b\b\b\b\b\b\b\b\b\b\b\b\b\b\b\b\b\b\b\b\b\b\b\b\b\b\b\b\b\b\b\b\b\b\b\b\b\b\b\b\b\b\b\b\b\b\b\b\b\b\b\b\b\b\b\b\b\b\b\b\b\b\b\b\b\b\b\b\b\b\b\b\b\r47/47 [==============================] - 2s 42ms/step - loss: 1.5431 - Note_loss: 0.4434 - Offset_loss: 0.0344 - Volume_loss: 0.4728 - Duration_loss: 0.5926\n",
            "Epoch 133/400\n",
            "47/47 [==============================] - ETA: 0s - loss: 1.5494 - Note_loss: 0.4535 - Offset_loss: 0.0305 - Volume_loss: 0.4728 - Duration_loss: 0.5926"
          ]
        },
        {
          "output_type": "stream",
          "name": "stderr",
          "text": [
            "WARNING:tensorflow:Can save best model only with val_loss available, skipping.\n"
          ]
        },
        {
          "output_type": "stream",
          "name": "stdout",
          "text": [
            "\b\b\b\b\b\b\b\b\b\b\b\b\b\b\b\b\b\b\b\b\b\b\b\b\b\b\b\b\b\b\b\b\b\b\b\b\b\b\b\b\b\b\b\b\b\b\b\b\b\b\b\b\b\b\b\b\b\b\b\b\b\b\b\b\b\b\b\b\b\b\b\b\b\b\b\b\b\b\b\b\b\b\b\b\b\b\b\b\b\b\b\b\b\b\b\b\b\b\b\b\b\b\b\b\b\b\b\b\b\b\b\b\b\b\b\b\b\b\b\b\b\b\b\b\b\b\b\b\b\b\b\b\b\b\b\b\b\b\b\b\b\b\b\b\b\b\b\b\b\b\b\r47/47 [==============================] - 2s 33ms/step - loss: 1.5494 - Note_loss: 0.4535 - Offset_loss: 0.0305 - Volume_loss: 0.4728 - Duration_loss: 0.5926\n",
            "Epoch 134/400\n",
            "47/47 [==============================] - ETA: 0s - loss: 1.5218 - Note_loss: 0.4239 - Offset_loss: 0.0325 - Volume_loss: 0.4728 - Duration_loss: 0.5926"
          ]
        },
        {
          "output_type": "stream",
          "name": "stderr",
          "text": [
            "WARNING:tensorflow:Can save best model only with val_loss available, skipping.\n"
          ]
        },
        {
          "output_type": "stream",
          "name": "stdout",
          "text": [
            "\b\b\b\b\b\b\b\b\b\b\b\b\b\b\b\b\b\b\b\b\b\b\b\b\b\b\b\b\b\b\b\b\b\b\b\b\b\b\b\b\b\b\b\b\b\b\b\b\b\b\b\b\b\b\b\b\b\b\b\b\b\b\b\b\b\b\b\b\b\b\b\b\b\b\b\b\b\b\b\b\b\b\b\b\b\b\b\b\b\b\b\b\b\b\b\b\b\b\b\b\b\b\b\b\b\b\b\b\b\b\b\b\b\b\b\b\b\b\b\b\b\b\b\b\b\b\b\b\b\b\b\b\b\b\b\b\b\b\b\b\b\b\b\b\b\b\b\b\b\b\b\r47/47 [==============================] - 2s 32ms/step - loss: 1.5218 - Note_loss: 0.4239 - Offset_loss: 0.0325 - Volume_loss: 0.4728 - Duration_loss: 0.5926\n",
            "Epoch 135/400\n",
            "47/47 [==============================] - ETA: 0s - loss: 1.5285 - Note_loss: 0.4313 - Offset_loss: 0.0318 - Volume_loss: 0.4728 - Duration_loss: 0.5926"
          ]
        },
        {
          "output_type": "stream",
          "name": "stderr",
          "text": [
            "WARNING:tensorflow:Can save best model only with val_loss available, skipping.\n"
          ]
        },
        {
          "output_type": "stream",
          "name": "stdout",
          "text": [
            "\b\b\b\b\b\b\b\b\b\b\b\b\b\b\b\b\b\b\b\b\b\b\b\b\b\b\b\b\b\b\b\b\b\b\b\b\b\b\b\b\b\b\b\b\b\b\b\b\b\b\b\b\b\b\b\b\b\b\b\b\b\b\b\b\b\b\b\b\b\b\b\b\b\b\b\b\b\b\b\b\b\b\b\b\b\b\b\b\b\b\b\b\b\b\b\b\b\b\b\b\b\b\b\b\b\b\b\b\b\b\b\b\b\b\b\b\b\b\b\b\b\b\b\b\b\b\b\b\b\b\b\b\b\b\b\b\b\b\b\b\b\b\b\b\b\b\b\b\b\b\b\r47/47 [==============================] - 2s 32ms/step - loss: 1.5285 - Note_loss: 0.4313 - Offset_loss: 0.0318 - Volume_loss: 0.4728 - Duration_loss: 0.5926\n",
            "Epoch 136/400\n",
            "46/47 [============================>.] - ETA: 0s - loss: 1.5525 - Note_loss: 0.4556 - Offset_loss: 0.0318 - Volume_loss: 0.4722 - Duration_loss: 0.5928"
          ]
        },
        {
          "output_type": "stream",
          "name": "stderr",
          "text": [
            "WARNING:tensorflow:Can save best model only with val_loss available, skipping.\n"
          ]
        },
        {
          "output_type": "stream",
          "name": "stdout",
          "text": [
            "\b\b\b\b\b\b\b\b\b\b\b\b\b\b\b\b\b\b\b\b\b\b\b\b\b\b\b\b\b\b\b\b\b\b\b\b\b\b\b\b\b\b\b\b\b\b\b\b\b\b\b\b\b\b\b\b\b\b\b\b\b\b\b\b\b\b\b\b\b\b\b\b\b\b\b\b\b\b\b\b\b\b\b\b\b\b\b\b\b\b\b\b\b\b\b\b\b\b\b\b\b\b\b\b\b\b\b\b\b\b\b\b\b\b\b\b\b\b\b\b\b\b\b\b\b\b\b\b\b\b\b\b\b\b\b\b\b\b\b\b\b\b\b\b\b\b\b\b\b\b\b\r47/47 [==============================] - 2s 33ms/step - loss: 1.5514 - Note_loss: 0.4543 - Offset_loss: 0.0317 - Volume_loss: 0.4728 - Duration_loss: 0.5926\n",
            "Epoch 137/400\n",
            "47/47 [==============================] - ETA: 0s - loss: 1.5532 - Note_loss: 0.4551 - Offset_loss: 0.0327 - Volume_loss: 0.4728 - Duration_loss: 0.5926"
          ]
        },
        {
          "output_type": "stream",
          "name": "stderr",
          "text": [
            "WARNING:tensorflow:Can save best model only with val_loss available, skipping.\n"
          ]
        },
        {
          "output_type": "stream",
          "name": "stdout",
          "text": [
            "\b\b\b\b\b\b\b\b\b\b\b\b\b\b\b\b\b\b\b\b\b\b\b\b\b\b\b\b\b\b\b\b\b\b\b\b\b\b\b\b\b\b\b\b\b\b\b\b\b\b\b\b\b\b\b\b\b\b\b\b\b\b\b\b\b\b\b\b\b\b\b\b\b\b\b\b\b\b\b\b\b\b\b\b\b\b\b\b\b\b\b\b\b\b\b\b\b\b\b\b\b\b\b\b\b\b\b\b\b\b\b\b\b\b\b\b\b\b\b\b\b\b\b\b\b\b\b\b\b\b\b\b\b\b\b\b\b\b\b\b\b\b\b\b\b\b\b\b\b\b\b\r47/47 [==============================] - 1s 31ms/step - loss: 1.5532 - Note_loss: 0.4551 - Offset_loss: 0.0327 - Volume_loss: 0.4728 - Duration_loss: 0.5926\n",
            "Epoch 138/400\n",
            "47/47 [==============================] - ETA: 0s - loss: 1.5313 - Note_loss: 0.4341 - Offset_loss: 0.0318 - Volume_loss: 0.4728 - Duration_loss: 0.5926"
          ]
        },
        {
          "output_type": "stream",
          "name": "stderr",
          "text": [
            "WARNING:tensorflow:Can save best model only with val_loss available, skipping.\n"
          ]
        },
        {
          "output_type": "stream",
          "name": "stdout",
          "text": [
            "\b\b\b\b\b\b\b\b\b\b\b\b\b\b\b\b\b\b\b\b\b\b\b\b\b\b\b\b\b\b\b\b\b\b\b\b\b\b\b\b\b\b\b\b\b\b\b\b\b\b\b\b\b\b\b\b\b\b\b\b\b\b\b\b\b\b\b\b\b\b\b\b\b\b\b\b\b\b\b\b\b\b\b\b\b\b\b\b\b\b\b\b\b\b\b\b\b\b\b\b\b\b\b\b\b\b\b\b\b\b\b\b\b\b\b\b\b\b\b\b\b\b\b\b\b\b\b\b\b\b\b\b\b\b\b\b\b\b\b\b\b\b\b\b\b\b\b\b\b\b\b\r47/47 [==============================] - 1s 31ms/step - loss: 1.5313 - Note_loss: 0.4341 - Offset_loss: 0.0318 - Volume_loss: 0.4728 - Duration_loss: 0.5926\n",
            "Epoch 139/400\n",
            "47/47 [==============================] - ETA: 0s - loss: 1.5224 - Note_loss: 0.4277 - Offset_loss: 0.0293 - Volume_loss: 0.4728 - Duration_loss: 0.5926"
          ]
        },
        {
          "output_type": "stream",
          "name": "stderr",
          "text": [
            "WARNING:tensorflow:Can save best model only with val_loss available, skipping.\n"
          ]
        },
        {
          "output_type": "stream",
          "name": "stdout",
          "text": [
            "\b\b\b\b\b\b\b\b\b\b\b\b\b\b\b\b\b\b\b\b\b\b\b\b\b\b\b\b\b\b\b\b\b\b\b\b\b\b\b\b\b\b\b\b\b\b\b\b\b\b\b\b\b\b\b\b\b\b\b\b\b\b\b\b\b\b\b\b\b\b\b\b\b\b\b\b\b\b\b\b\b\b\b\b\b\b\b\b\b\b\b\b\b\b\b\b\b\b\b\b\b\b\b\b\b\b\b\b\b\b\b\b\b\b\b\b\b\b\b\b\b\b\b\b\b\b\b\b\b\b\b\b\b\b\b\b\b\b\b\b\b\b\b\b\b\b\b\b\b\b\b\r47/47 [==============================] - 2s 40ms/step - loss: 1.5224 - Note_loss: 0.4277 - Offset_loss: 0.0293 - Volume_loss: 0.4728 - Duration_loss: 0.5926\n",
            "Epoch 140/400\n",
            "46/47 [============================>.] - ETA: 0s - loss: 1.5299 - Note_loss: 0.4339 - Offset_loss: 0.0300 - Volume_loss: 0.4732 - Duration_loss: 0.5928"
          ]
        },
        {
          "output_type": "stream",
          "name": "stderr",
          "text": [
            "WARNING:tensorflow:Can save best model only with val_loss available, skipping.\n"
          ]
        },
        {
          "output_type": "stream",
          "name": "stdout",
          "text": [
            "\b\b\b\b\b\b\b\b\b\b\b\b\b\b\b\b\b\b\b\b\b\b\b\b\b\b\b\b\b\b\b\b\b\b\b\b\b\b\b\b\b\b\b\b\b\b\b\b\b\b\b\b\b\b\b\b\b\b\b\b\b\b\b\b\b\b\b\b\b\b\b\b\b\b\b\b\b\b\b\b\b\b\b\b\b\b\b\b\b\b\b\b\b\b\b\b\b\b\b\b\b\b\b\b\b\b\b\b\b\b\b\b\b\b\b\b\b\b\b\b\b\b\b\b\b\b\b\b\b\b\b\b\b\b\b\b\b\b\b\b\b\b\b\b\b\b\b\b\b\b\b\r47/47 [==============================] - 2s 37ms/step - loss: 1.5291 - Note_loss: 0.4337 - Offset_loss: 0.0300 - Volume_loss: 0.4728 - Duration_loss: 0.5926\n",
            "Epoch 141/400\n",
            "47/47 [==============================] - ETA: 0s - loss: 1.5149 - Note_loss: 0.4178 - Offset_loss: 0.0316 - Volume_loss: 0.4728 - Duration_loss: 0.5926"
          ]
        },
        {
          "output_type": "stream",
          "name": "stderr",
          "text": [
            "WARNING:tensorflow:Can save best model only with val_loss available, skipping.\n"
          ]
        },
        {
          "output_type": "stream",
          "name": "stdout",
          "text": [
            "\b\b\b\b\b\b\b\b\b\b\b\b\b\b\b\b\b\b\b\b\b\b\b\b\b\b\b\b\b\b\b\b\b\b\b\b\b\b\b\b\b\b\b\b\b\b\b\b\b\b\b\b\b\b\b\b\b\b\b\b\b\b\b\b\b\b\b\b\b\b\b\b\b\b\b\b\b\b\b\b\b\b\b\b\b\b\b\b\b\b\b\b\b\b\b\b\b\b\b\b\b\b\b\b\b\b\b\b\b\b\b\b\b\b\b\b\b\b\b\b\b\b\b\b\b\b\b\b\b\b\b\b\b\b\b\b\b\b\b\b\b\b\b\b\b\b\b\b\b\b\b\r47/47 [==============================] - 1s 31ms/step - loss: 1.5149 - Note_loss: 0.4178 - Offset_loss: 0.0316 - Volume_loss: 0.4728 - Duration_loss: 0.5926\n",
            "Epoch 142/400\n",
            "47/47 [==============================] - ETA: 0s - loss: 1.5284 - Note_loss: 0.4295 - Offset_loss: 0.0335 - Volume_loss: 0.4728 - Duration_loss: 0.5926"
          ]
        },
        {
          "output_type": "stream",
          "name": "stderr",
          "text": [
            "WARNING:tensorflow:Can save best model only with val_loss available, skipping.\n"
          ]
        },
        {
          "output_type": "stream",
          "name": "stdout",
          "text": [
            "\b\b\b\b\b\b\b\b\b\b\b\b\b\b\b\b\b\b\b\b\b\b\b\b\b\b\b\b\b\b\b\b\b\b\b\b\b\b\b\b\b\b\b\b\b\b\b\b\b\b\b\b\b\b\b\b\b\b\b\b\b\b\b\b\b\b\b\b\b\b\b\b\b\b\b\b\b\b\b\b\b\b\b\b\b\b\b\b\b\b\b\b\b\b\b\b\b\b\b\b\b\b\b\b\b\b\b\b\b\b\b\b\b\b\b\b\b\b\b\b\b\b\b\b\b\b\b\b\b\b\b\b\b\b\b\b\b\b\b\b\b\b\b\b\b\b\b\b\b\b\b\r47/47 [==============================] - 1s 31ms/step - loss: 1.5284 - Note_loss: 0.4295 - Offset_loss: 0.0335 - Volume_loss: 0.4728 - Duration_loss: 0.5926\n",
            "Epoch 143/400\n",
            "47/47 [==============================] - ETA: 0s - loss: 1.5252 - Note_loss: 0.4263 - Offset_loss: 0.0334 - Volume_loss: 0.4728 - Duration_loss: 0.5926"
          ]
        },
        {
          "output_type": "stream",
          "name": "stderr",
          "text": [
            "WARNING:tensorflow:Can save best model only with val_loss available, skipping.\n"
          ]
        },
        {
          "output_type": "stream",
          "name": "stdout",
          "text": [
            "\b\b\b\b\b\b\b\b\b\b\b\b\b\b\b\b\b\b\b\b\b\b\b\b\b\b\b\b\b\b\b\b\b\b\b\b\b\b\b\b\b\b\b\b\b\b\b\b\b\b\b\b\b\b\b\b\b\b\b\b\b\b\b\b\b\b\b\b\b\b\b\b\b\b\b\b\b\b\b\b\b\b\b\b\b\b\b\b\b\b\b\b\b\b\b\b\b\b\b\b\b\b\b\b\b\b\b\b\b\b\b\b\b\b\b\b\b\b\b\b\b\b\b\b\b\b\b\b\b\b\b\b\b\b\b\b\b\b\b\b\b\b\b\b\b\b\b\b\b\b\b\r47/47 [==============================] - 1s 31ms/step - loss: 1.5252 - Note_loss: 0.4263 - Offset_loss: 0.0334 - Volume_loss: 0.4728 - Duration_loss: 0.5926\n",
            "Epoch 144/400\n",
            "47/47 [==============================] - ETA: 0s - loss: 1.5061 - Note_loss: 0.4111 - Offset_loss: 0.0297 - Volume_loss: 0.4728 - Duration_loss: 0.5926"
          ]
        },
        {
          "output_type": "stream",
          "name": "stderr",
          "text": [
            "WARNING:tensorflow:Can save best model only with val_loss available, skipping.\n"
          ]
        },
        {
          "output_type": "stream",
          "name": "stdout",
          "text": [
            "\b\b\b\b\b\b\b\b\b\b\b\b\b\b\b\b\b\b\b\b\b\b\b\b\b\b\b\b\b\b\b\b\b\b\b\b\b\b\b\b\b\b\b\b\b\b\b\b\b\b\b\b\b\b\b\b\b\b\b\b\b\b\b\b\b\b\b\b\b\b\b\b\b\b\b\b\b\b\b\b\b\b\b\b\b\b\b\b\b\b\b\b\b\b\b\b\b\b\b\b\b\b\b\b\b\b\b\b\b\b\b\b\b\b\b\b\b\b\b\b\b\b\b\b\b\b\b\b\b\b\b\b\b\b\b\b\b\b\b\b\b\b\b\b\b\b\b\b\b\b\b\r47/47 [==============================] - 1s 30ms/step - loss: 1.5061 - Note_loss: 0.4111 - Offset_loss: 0.0297 - Volume_loss: 0.4728 - Duration_loss: 0.5926\n",
            "Epoch 145/400\n",
            "47/47 [==============================] - ETA: 0s - loss: 1.5150 - Note_loss: 0.4157 - Offset_loss: 0.0339 - Volume_loss: 0.4728 - Duration_loss: 0.5926"
          ]
        },
        {
          "output_type": "stream",
          "name": "stderr",
          "text": [
            "WARNING:tensorflow:Can save best model only with val_loss available, skipping.\n"
          ]
        },
        {
          "output_type": "stream",
          "name": "stdout",
          "text": [
            "\b\b\b\b\b\b\b\b\b\b\b\b\b\b\b\b\b\b\b\b\b\b\b\b\b\b\b\b\b\b\b\b\b\b\b\b\b\b\b\b\b\b\b\b\b\b\b\b\b\b\b\b\b\b\b\b\b\b\b\b\b\b\b\b\b\b\b\b\b\b\b\b\b\b\b\b\b\b\b\b\b\b\b\b\b\b\b\b\b\b\b\b\b\b\b\b\b\b\b\b\b\b\b\b\b\b\b\b\b\b\b\b\b\b\b\b\b\b\b\b\b\b\b\b\b\b\b\b\b\b\b\b\b\b\b\b\b\b\b\b\b\b\b\b\b\b\b\b\b\b\b\r47/47 [==============================] - 2s 33ms/step - loss: 1.5150 - Note_loss: 0.4157 - Offset_loss: 0.0339 - Volume_loss: 0.4728 - Duration_loss: 0.5926\n",
            "Epoch 146/400\n",
            "46/47 [============================>.] - ETA: 0s - loss: 1.5225 - Note_loss: 0.4257 - Offset_loss: 0.0322 - Volume_loss: 0.4722 - Duration_loss: 0.5924"
          ]
        },
        {
          "output_type": "stream",
          "name": "stderr",
          "text": [
            "WARNING:tensorflow:Can save best model only with val_loss available, skipping.\n"
          ]
        },
        {
          "output_type": "stream",
          "name": "stdout",
          "text": [
            "\b\b\b\b\b\b\b\b\b\b\b\b\b\b\b\b\b\b\b\b\b\b\b\b\b\b\b\b\b\b\b\b\b\b\b\b\b\b\b\b\b\b\b\b\b\b\b\b\b\b\b\b\b\b\b\b\b\b\b\b\b\b\b\b\b\b\b\b\b\b\b\b\b\b\b\b\b\b\b\b\b\b\b\b\b\b\b\b\b\b\b\b\b\b\b\b\b\b\b\b\b\b\b\b\b\b\b\b\b\b\b\b\b\b\b\b\b\b\b\b\b\b\b\b\b\b\b\b\b\b\b\b\b\b\b\b\b\b\b\b\b\b\b\b\b\b\b\b\b\b\b\r47/47 [==============================] - 2s 34ms/step - loss: 1.5242 - Note_loss: 0.4268 - Offset_loss: 0.0320 - Volume_loss: 0.4728 - Duration_loss: 0.5926\n",
            "Epoch 147/400\n",
            "47/47 [==============================] - ETA: 0s - loss: 1.5180 - Note_loss: 0.4188 - Offset_loss: 0.0338 - Volume_loss: 0.4728 - Duration_loss: 0.5926"
          ]
        },
        {
          "output_type": "stream",
          "name": "stderr",
          "text": [
            "WARNING:tensorflow:Can save best model only with val_loss available, skipping.\n"
          ]
        },
        {
          "output_type": "stream",
          "name": "stdout",
          "text": [
            "\b\b\b\b\b\b\b\b\b\b\b\b\b\b\b\b\b\b\b\b\b\b\b\b\b\b\b\b\b\b\b\b\b\b\b\b\b\b\b\b\b\b\b\b\b\b\b\b\b\b\b\b\b\b\b\b\b\b\b\b\b\b\b\b\b\b\b\b\b\b\b\b\b\b\b\b\b\b\b\b\b\b\b\b\b\b\b\b\b\b\b\b\b\b\b\b\b\b\b\b\b\b\b\b\b\b\b\b\b\b\b\b\b\b\b\b\b\b\b\b\b\b\b\b\b\b\b\b\b\b\b\b\b\b\b\b\b\b\b\b\b\b\b\b\b\b\b\b\b\b\b\r47/47 [==============================] - 2s 43ms/step - loss: 1.5180 - Note_loss: 0.4188 - Offset_loss: 0.0338 - Volume_loss: 0.4728 - Duration_loss: 0.5926\n",
            "Epoch 148/400\n",
            "47/47 [==============================] - ETA: 0s - loss: 1.5094 - Note_loss: 0.4123 - Offset_loss: 0.0316 - Volume_loss: 0.4728 - Duration_loss: 0.5926"
          ]
        },
        {
          "output_type": "stream",
          "name": "stderr",
          "text": [
            "WARNING:tensorflow:Can save best model only with val_loss available, skipping.\n"
          ]
        },
        {
          "output_type": "stream",
          "name": "stdout",
          "text": [
            "\b\b\b\b\b\b\b\b\b\b\b\b\b\b\b\b\b\b\b\b\b\b\b\b\b\b\b\b\b\b\b\b\b\b\b\b\b\b\b\b\b\b\b\b\b\b\b\b\b\b\b\b\b\b\b\b\b\b\b\b\b\b\b\b\b\b\b\b\b\b\b\b\b\b\b\b\b\b\b\b\b\b\b\b\b\b\b\b\b\b\b\b\b\b\b\b\b\b\b\b\b\b\b\b\b\b\b\b\b\b\b\b\b\b\b\b\b\b\b\b\b\b\b\b\b\b\b\b\b\b\b\b\b\b\b\b\b\b\b\b\b\b\b\b\b\b\b\b\b\b\b\r47/47 [==============================] - 2s 40ms/step - loss: 1.5094 - Note_loss: 0.4123 - Offset_loss: 0.0316 - Volume_loss: 0.4728 - Duration_loss: 0.5926\n",
            "Epoch 149/400\n",
            "47/47 [==============================] - ETA: 0s - loss: 1.4901 - Note_loss: 0.3948 - Offset_loss: 0.0299 - Volume_loss: 0.4728 - Duration_loss: 0.5926"
          ]
        },
        {
          "output_type": "stream",
          "name": "stderr",
          "text": [
            "WARNING:tensorflow:Can save best model only with val_loss available, skipping.\n"
          ]
        },
        {
          "output_type": "stream",
          "name": "stdout",
          "text": [
            "\b\b\b\b\b\b\b\b\b\b\b\b\b\b\b\b\b\b\b\b\b\b\b\b\b\b\b\b\b\b\b\b\b\b\b\b\b\b\b\b\b\b\b\b\b\b\b\b\b\b\b\b\b\b\b\b\b\b\b\b\b\b\b\b\b\b\b\b\b\b\b\b\b\b\b\b\b\b\b\b\b\b\b\b\b\b\b\b\b\b\b\b\b\b\b\b\b\b\b\b\b\b\b\b\b\b\b\b\b\b\b\b\b\b\b\b\b\b\b\b\b\b\b\b\b\b\b\b\b\b\b\b\b\b\b\b\b\b\b\b\b\b\b\b\b\b\b\b\b\b\b\r47/47 [==============================] - 2s 34ms/step - loss: 1.4901 - Note_loss: 0.3948 - Offset_loss: 0.0299 - Volume_loss: 0.4728 - Duration_loss: 0.5926\n",
            "Epoch 150/400\n",
            "45/47 [===========================>..] - ETA: 0s - loss: 1.5063 - Note_loss: 0.4065 - Offset_loss: 0.0343 - Volume_loss: 0.4726 - Duration_loss: 0.5929"
          ]
        },
        {
          "output_type": "error",
          "ename": "KeyboardInterrupt",
          "evalue": "ignored",
          "traceback": [
            "\u001b[0;31m---------------------------------------------------------------------------\u001b[0m",
            "\u001b[0;31mKeyboardInterrupt\u001b[0m                         Traceback (most recent call last)",
            "\u001b[0;32m<ipython-input-29-fc454adbcff6>\u001b[0m in \u001b[0;36m<cell line: 1>\u001b[0;34m()\u001b[0m\n\u001b[0;32m----> 1\u001b[0;31m \u001b[0mmodel\u001b[0m\u001b[0;34m.\u001b[0m\u001b[0mfit\u001b[0m\u001b[0;34m(\u001b[0m\u001b[0;34m[\u001b[0m\u001b[0minput_note_reshaped\u001b[0m\u001b[0;34m,\u001b[0m \u001b[0minput_step_reshaped\u001b[0m\u001b[0;34m,\u001b[0m \u001b[0minput_volume_reshaped\u001b[0m\u001b[0;34m,\u001b[0m \u001b[0minput_duration_reshaped\u001b[0m\u001b[0;34m]\u001b[0m\u001b[0;34m,\u001b[0m \u001b[0;34m[\u001b[0m\u001b[0moutput_note_reshaped\u001b[0m\u001b[0;34m,\u001b[0m \u001b[0moutput_step_reshaped\u001b[0m\u001b[0;34m,\u001b[0m \u001b[0moutput_volume_reshaped\u001b[0m\u001b[0;34m,\u001b[0m \u001b[0moutput_duration_reshaped\u001b[0m\u001b[0;34m]\u001b[0m\u001b[0;34m,\u001b[0m \u001b[0mepochs\u001b[0m\u001b[0;34m=\u001b[0m\u001b[0;36m400\u001b[0m\u001b[0;34m,\u001b[0m \u001b[0mcallbacks\u001b[0m\u001b[0;34m=\u001b[0m\u001b[0;34m[\u001b[0m\u001b[0mcp_callback\u001b[0m\u001b[0;34m]\u001b[0m\u001b[0;34m,\u001b[0m \u001b[0mbatch_size\u001b[0m\u001b[0;34m=\u001b[0m\u001b[0;36m128\u001b[0m\u001b[0;34m)\u001b[0m\u001b[0;34m\u001b[0m\u001b[0;34m\u001b[0m\u001b[0m\n\u001b[0m",
            "\u001b[0;32m/usr/local/lib/python3.10/dist-packages/keras/src/utils/traceback_utils.py\u001b[0m in \u001b[0;36merror_handler\u001b[0;34m(*args, **kwargs)\u001b[0m\n\u001b[1;32m     63\u001b[0m         \u001b[0mfiltered_tb\u001b[0m \u001b[0;34m=\u001b[0m \u001b[0;32mNone\u001b[0m\u001b[0;34m\u001b[0m\u001b[0;34m\u001b[0m\u001b[0m\n\u001b[1;32m     64\u001b[0m         \u001b[0;32mtry\u001b[0m\u001b[0;34m:\u001b[0m\u001b[0;34m\u001b[0m\u001b[0;34m\u001b[0m\u001b[0m\n\u001b[0;32m---> 65\u001b[0;31m             \u001b[0;32mreturn\u001b[0m \u001b[0mfn\u001b[0m\u001b[0;34m(\u001b[0m\u001b[0;34m*\u001b[0m\u001b[0margs\u001b[0m\u001b[0;34m,\u001b[0m \u001b[0;34m**\u001b[0m\u001b[0mkwargs\u001b[0m\u001b[0;34m)\u001b[0m\u001b[0;34m\u001b[0m\u001b[0;34m\u001b[0m\u001b[0m\n\u001b[0m\u001b[1;32m     66\u001b[0m         \u001b[0;32mexcept\u001b[0m \u001b[0mException\u001b[0m \u001b[0;32mas\u001b[0m \u001b[0me\u001b[0m\u001b[0;34m:\u001b[0m\u001b[0;34m\u001b[0m\u001b[0;34m\u001b[0m\u001b[0m\n\u001b[1;32m     67\u001b[0m             \u001b[0mfiltered_tb\u001b[0m \u001b[0;34m=\u001b[0m \u001b[0m_process_traceback_frames\u001b[0m\u001b[0;34m(\u001b[0m\u001b[0me\u001b[0m\u001b[0;34m.\u001b[0m\u001b[0m__traceback__\u001b[0m\u001b[0;34m)\u001b[0m\u001b[0;34m\u001b[0m\u001b[0;34m\u001b[0m\u001b[0m\n",
            "\u001b[0;32m/usr/local/lib/python3.10/dist-packages/keras/src/engine/training.py\u001b[0m in \u001b[0;36mfit\u001b[0;34m(self, x, y, batch_size, epochs, verbose, callbacks, validation_split, validation_data, shuffle, class_weight, sample_weight, initial_epoch, steps_per_epoch, validation_steps, validation_batch_size, validation_freq, max_queue_size, workers, use_multiprocessing)\u001b[0m\n\u001b[1;32m   1781\u001b[0m                         ):\n\u001b[1;32m   1782\u001b[0m                             \u001b[0mcallbacks\u001b[0m\u001b[0;34m.\u001b[0m\u001b[0mon_train_batch_begin\u001b[0m\u001b[0;34m(\u001b[0m\u001b[0mstep\u001b[0m\u001b[0;34m)\u001b[0m\u001b[0;34m\u001b[0m\u001b[0;34m\u001b[0m\u001b[0m\n\u001b[0;32m-> 1783\u001b[0;31m                             \u001b[0mtmp_logs\u001b[0m \u001b[0;34m=\u001b[0m \u001b[0mself\u001b[0m\u001b[0;34m.\u001b[0m\u001b[0mtrain_function\u001b[0m\u001b[0;34m(\u001b[0m\u001b[0miterator\u001b[0m\u001b[0;34m)\u001b[0m\u001b[0;34m\u001b[0m\u001b[0;34m\u001b[0m\u001b[0m\n\u001b[0m\u001b[1;32m   1784\u001b[0m                             \u001b[0;32mif\u001b[0m \u001b[0mdata_handler\u001b[0m\u001b[0;34m.\u001b[0m\u001b[0mshould_sync\u001b[0m\u001b[0;34m:\u001b[0m\u001b[0;34m\u001b[0m\u001b[0;34m\u001b[0m\u001b[0m\n\u001b[1;32m   1785\u001b[0m                                 \u001b[0mcontext\u001b[0m\u001b[0;34m.\u001b[0m\u001b[0masync_wait\u001b[0m\u001b[0;34m(\u001b[0m\u001b[0;34m)\u001b[0m\u001b[0;34m\u001b[0m\u001b[0;34m\u001b[0m\u001b[0m\n",
            "\u001b[0;32m/usr/local/lib/python3.10/dist-packages/tensorflow/python/util/traceback_utils.py\u001b[0m in \u001b[0;36merror_handler\u001b[0;34m(*args, **kwargs)\u001b[0m\n\u001b[1;32m    148\u001b[0m     \u001b[0mfiltered_tb\u001b[0m \u001b[0;34m=\u001b[0m \u001b[0;32mNone\u001b[0m\u001b[0;34m\u001b[0m\u001b[0;34m\u001b[0m\u001b[0m\n\u001b[1;32m    149\u001b[0m     \u001b[0;32mtry\u001b[0m\u001b[0;34m:\u001b[0m\u001b[0;34m\u001b[0m\u001b[0;34m\u001b[0m\u001b[0m\n\u001b[0;32m--> 150\u001b[0;31m       \u001b[0;32mreturn\u001b[0m \u001b[0mfn\u001b[0m\u001b[0;34m(\u001b[0m\u001b[0;34m*\u001b[0m\u001b[0margs\u001b[0m\u001b[0;34m,\u001b[0m \u001b[0;34m**\u001b[0m\u001b[0mkwargs\u001b[0m\u001b[0;34m)\u001b[0m\u001b[0;34m\u001b[0m\u001b[0;34m\u001b[0m\u001b[0m\n\u001b[0m\u001b[1;32m    151\u001b[0m     \u001b[0;32mexcept\u001b[0m \u001b[0mException\u001b[0m \u001b[0;32mas\u001b[0m \u001b[0me\u001b[0m\u001b[0;34m:\u001b[0m\u001b[0;34m\u001b[0m\u001b[0;34m\u001b[0m\u001b[0m\n\u001b[1;32m    152\u001b[0m       \u001b[0mfiltered_tb\u001b[0m \u001b[0;34m=\u001b[0m \u001b[0m_process_traceback_frames\u001b[0m\u001b[0;34m(\u001b[0m\u001b[0me\u001b[0m\u001b[0;34m.\u001b[0m\u001b[0m__traceback__\u001b[0m\u001b[0;34m)\u001b[0m\u001b[0;34m\u001b[0m\u001b[0;34m\u001b[0m\u001b[0m\n",
            "\u001b[0;32m/usr/local/lib/python3.10/dist-packages/tensorflow/python/eager/polymorphic_function/polymorphic_function.py\u001b[0m in \u001b[0;36m__call__\u001b[0;34m(self, *args, **kwds)\u001b[0m\n\u001b[1;32m    829\u001b[0m \u001b[0;34m\u001b[0m\u001b[0m\n\u001b[1;32m    830\u001b[0m       \u001b[0;32mwith\u001b[0m \u001b[0mOptionalXlaContext\u001b[0m\u001b[0;34m(\u001b[0m\u001b[0mself\u001b[0m\u001b[0;34m.\u001b[0m\u001b[0m_jit_compile\u001b[0m\u001b[0;34m)\u001b[0m\u001b[0;34m:\u001b[0m\u001b[0;34m\u001b[0m\u001b[0;34m\u001b[0m\u001b[0m\n\u001b[0;32m--> 831\u001b[0;31m         \u001b[0mresult\u001b[0m \u001b[0;34m=\u001b[0m \u001b[0mself\u001b[0m\u001b[0;34m.\u001b[0m\u001b[0m_call\u001b[0m\u001b[0;34m(\u001b[0m\u001b[0;34m*\u001b[0m\u001b[0margs\u001b[0m\u001b[0;34m,\u001b[0m \u001b[0;34m**\u001b[0m\u001b[0mkwds\u001b[0m\u001b[0;34m)\u001b[0m\u001b[0;34m\u001b[0m\u001b[0;34m\u001b[0m\u001b[0m\n\u001b[0m\u001b[1;32m    832\u001b[0m \u001b[0;34m\u001b[0m\u001b[0m\n\u001b[1;32m    833\u001b[0m       \u001b[0mnew_tracing_count\u001b[0m \u001b[0;34m=\u001b[0m \u001b[0mself\u001b[0m\u001b[0;34m.\u001b[0m\u001b[0mexperimental_get_tracing_count\u001b[0m\u001b[0;34m(\u001b[0m\u001b[0;34m)\u001b[0m\u001b[0;34m\u001b[0m\u001b[0;34m\u001b[0m\u001b[0m\n",
            "\u001b[0;32m/usr/local/lib/python3.10/dist-packages/tensorflow/python/eager/polymorphic_function/polymorphic_function.py\u001b[0m in \u001b[0;36m_call\u001b[0;34m(self, *args, **kwds)\u001b[0m\n\u001b[1;32m    865\u001b[0m       \u001b[0;31m# In this case we have created variables on the first call, so we run the\u001b[0m\u001b[0;34m\u001b[0m\u001b[0;34m\u001b[0m\u001b[0m\n\u001b[1;32m    866\u001b[0m       \u001b[0;31m# defunned version which is guaranteed to never create variables.\u001b[0m\u001b[0;34m\u001b[0m\u001b[0;34m\u001b[0m\u001b[0m\n\u001b[0;32m--> 867\u001b[0;31m       return tracing_compilation.call_function(\n\u001b[0m\u001b[1;32m    868\u001b[0m           \u001b[0margs\u001b[0m\u001b[0;34m,\u001b[0m \u001b[0mkwds\u001b[0m\u001b[0;34m,\u001b[0m \u001b[0mself\u001b[0m\u001b[0;34m.\u001b[0m\u001b[0m_no_variable_creation_config\u001b[0m\u001b[0;34m\u001b[0m\u001b[0;34m\u001b[0m\u001b[0m\n\u001b[1;32m    869\u001b[0m       )\n",
            "\u001b[0;32m/usr/local/lib/python3.10/dist-packages/tensorflow/python/eager/polymorphic_function/tracing_compilation.py\u001b[0m in \u001b[0;36mcall_function\u001b[0;34m(args, kwargs, tracing_options)\u001b[0m\n\u001b[1;32m    137\u001b[0m   \u001b[0mbound_args\u001b[0m \u001b[0;34m=\u001b[0m \u001b[0mfunction\u001b[0m\u001b[0;34m.\u001b[0m\u001b[0mfunction_type\u001b[0m\u001b[0;34m.\u001b[0m\u001b[0mbind\u001b[0m\u001b[0;34m(\u001b[0m\u001b[0;34m*\u001b[0m\u001b[0margs\u001b[0m\u001b[0;34m,\u001b[0m \u001b[0;34m**\u001b[0m\u001b[0mkwargs\u001b[0m\u001b[0;34m)\u001b[0m\u001b[0;34m\u001b[0m\u001b[0;34m\u001b[0m\u001b[0m\n\u001b[1;32m    138\u001b[0m   \u001b[0mflat_inputs\u001b[0m \u001b[0;34m=\u001b[0m \u001b[0mfunction\u001b[0m\u001b[0;34m.\u001b[0m\u001b[0mfunction_type\u001b[0m\u001b[0;34m.\u001b[0m\u001b[0munpack_inputs\u001b[0m\u001b[0;34m(\u001b[0m\u001b[0mbound_args\u001b[0m\u001b[0;34m)\u001b[0m\u001b[0;34m\u001b[0m\u001b[0;34m\u001b[0m\u001b[0m\n\u001b[0;32m--> 139\u001b[0;31m   return function._call_flat(  # pylint: disable=protected-access\n\u001b[0m\u001b[1;32m    140\u001b[0m       \u001b[0mflat_inputs\u001b[0m\u001b[0;34m,\u001b[0m \u001b[0mcaptured_inputs\u001b[0m\u001b[0;34m=\u001b[0m\u001b[0mfunction\u001b[0m\u001b[0;34m.\u001b[0m\u001b[0mcaptured_inputs\u001b[0m\u001b[0;34m\u001b[0m\u001b[0;34m\u001b[0m\u001b[0m\n\u001b[1;32m    141\u001b[0m   )\n",
            "\u001b[0;32m/usr/local/lib/python3.10/dist-packages/tensorflow/python/eager/polymorphic_function/concrete_function.py\u001b[0m in \u001b[0;36m_call_flat\u001b[0;34m(self, tensor_inputs, captured_inputs)\u001b[0m\n\u001b[1;32m   1262\u001b[0m         and executing_eagerly):\n\u001b[1;32m   1263\u001b[0m       \u001b[0;31m# No tape is watching; skip to running the function.\u001b[0m\u001b[0;34m\u001b[0m\u001b[0;34m\u001b[0m\u001b[0m\n\u001b[0;32m-> 1264\u001b[0;31m       \u001b[0;32mreturn\u001b[0m \u001b[0mself\u001b[0m\u001b[0;34m.\u001b[0m\u001b[0m_inference_function\u001b[0m\u001b[0;34m.\u001b[0m\u001b[0mflat_call\u001b[0m\u001b[0;34m(\u001b[0m\u001b[0margs\u001b[0m\u001b[0;34m)\u001b[0m\u001b[0;34m\u001b[0m\u001b[0;34m\u001b[0m\u001b[0m\n\u001b[0m\u001b[1;32m   1265\u001b[0m     forward_backward = self._select_forward_and_backward_functions(\n\u001b[1;32m   1266\u001b[0m         \u001b[0margs\u001b[0m\u001b[0;34m,\u001b[0m\u001b[0;34m\u001b[0m\u001b[0;34m\u001b[0m\u001b[0m\n",
            "\u001b[0;32m/usr/local/lib/python3.10/dist-packages/tensorflow/python/eager/polymorphic_function/atomic_function.py\u001b[0m in \u001b[0;36mflat_call\u001b[0;34m(self, args)\u001b[0m\n\u001b[1;32m    215\u001b[0m   \u001b[0;32mdef\u001b[0m \u001b[0mflat_call\u001b[0m\u001b[0;34m(\u001b[0m\u001b[0mself\u001b[0m\u001b[0;34m,\u001b[0m \u001b[0margs\u001b[0m\u001b[0;34m:\u001b[0m \u001b[0mSequence\u001b[0m\u001b[0;34m[\u001b[0m\u001b[0mcore\u001b[0m\u001b[0;34m.\u001b[0m\u001b[0mTensor\u001b[0m\u001b[0;34m]\u001b[0m\u001b[0;34m)\u001b[0m \u001b[0;34m->\u001b[0m \u001b[0mAny\u001b[0m\u001b[0;34m:\u001b[0m\u001b[0;34m\u001b[0m\u001b[0;34m\u001b[0m\u001b[0m\n\u001b[1;32m    216\u001b[0m     \u001b[0;34m\"\"\"Calls with tensor inputs and returns the structured output.\"\"\"\u001b[0m\u001b[0;34m\u001b[0m\u001b[0;34m\u001b[0m\u001b[0m\n\u001b[0;32m--> 217\u001b[0;31m     \u001b[0mflat_outputs\u001b[0m \u001b[0;34m=\u001b[0m \u001b[0mself\u001b[0m\u001b[0;34m(\u001b[0m\u001b[0;34m*\u001b[0m\u001b[0margs\u001b[0m\u001b[0;34m)\u001b[0m\u001b[0;34m\u001b[0m\u001b[0;34m\u001b[0m\u001b[0m\n\u001b[0m\u001b[1;32m    218\u001b[0m     \u001b[0;32mreturn\u001b[0m \u001b[0mself\u001b[0m\u001b[0;34m.\u001b[0m\u001b[0mfunction_type\u001b[0m\u001b[0;34m.\u001b[0m\u001b[0mpack_output\u001b[0m\u001b[0;34m(\u001b[0m\u001b[0mflat_outputs\u001b[0m\u001b[0;34m)\u001b[0m\u001b[0;34m\u001b[0m\u001b[0;34m\u001b[0m\u001b[0m\n\u001b[1;32m    219\u001b[0m \u001b[0;34m\u001b[0m\u001b[0m\n",
            "\u001b[0;32m/usr/local/lib/python3.10/dist-packages/tensorflow/python/eager/polymorphic_function/atomic_function.py\u001b[0m in \u001b[0;36m__call__\u001b[0;34m(self, *args)\u001b[0m\n\u001b[1;32m    250\u001b[0m         \u001b[0;32mwith\u001b[0m \u001b[0mrecord\u001b[0m\u001b[0;34m.\u001b[0m\u001b[0mstop_recording\u001b[0m\u001b[0;34m(\u001b[0m\u001b[0;34m)\u001b[0m\u001b[0;34m:\u001b[0m\u001b[0;34m\u001b[0m\u001b[0;34m\u001b[0m\u001b[0m\n\u001b[1;32m    251\u001b[0m           \u001b[0;32mif\u001b[0m \u001b[0mself\u001b[0m\u001b[0;34m.\u001b[0m\u001b[0m_bound_context\u001b[0m\u001b[0;34m.\u001b[0m\u001b[0mexecuting_eagerly\u001b[0m\u001b[0;34m(\u001b[0m\u001b[0;34m)\u001b[0m\u001b[0;34m:\u001b[0m\u001b[0;34m\u001b[0m\u001b[0;34m\u001b[0m\u001b[0m\n\u001b[0;32m--> 252\u001b[0;31m             outputs = self._bound_context.call_function(\n\u001b[0m\u001b[1;32m    253\u001b[0m                 \u001b[0mself\u001b[0m\u001b[0;34m.\u001b[0m\u001b[0mname\u001b[0m\u001b[0;34m,\u001b[0m\u001b[0;34m\u001b[0m\u001b[0;34m\u001b[0m\u001b[0m\n\u001b[1;32m    254\u001b[0m                 \u001b[0mlist\u001b[0m\u001b[0;34m(\u001b[0m\u001b[0margs\u001b[0m\u001b[0;34m)\u001b[0m\u001b[0;34m,\u001b[0m\u001b[0;34m\u001b[0m\u001b[0;34m\u001b[0m\u001b[0m\n",
            "\u001b[0;32m/usr/local/lib/python3.10/dist-packages/tensorflow/python/eager/context.py\u001b[0m in \u001b[0;36mcall_function\u001b[0;34m(self, name, tensor_inputs, num_outputs)\u001b[0m\n\u001b[1;32m   1477\u001b[0m     \u001b[0mcancellation_context\u001b[0m \u001b[0;34m=\u001b[0m \u001b[0mcancellation\u001b[0m\u001b[0;34m.\u001b[0m\u001b[0mcontext\u001b[0m\u001b[0;34m(\u001b[0m\u001b[0;34m)\u001b[0m\u001b[0;34m\u001b[0m\u001b[0;34m\u001b[0m\u001b[0m\n\u001b[1;32m   1478\u001b[0m     \u001b[0;32mif\u001b[0m \u001b[0mcancellation_context\u001b[0m \u001b[0;32mis\u001b[0m \u001b[0;32mNone\u001b[0m\u001b[0;34m:\u001b[0m\u001b[0;34m\u001b[0m\u001b[0;34m\u001b[0m\u001b[0m\n\u001b[0;32m-> 1479\u001b[0;31m       outputs = execute.execute(\n\u001b[0m\u001b[1;32m   1480\u001b[0m           \u001b[0mname\u001b[0m\u001b[0;34m.\u001b[0m\u001b[0mdecode\u001b[0m\u001b[0;34m(\u001b[0m\u001b[0;34m\"utf-8\"\u001b[0m\u001b[0;34m)\u001b[0m\u001b[0;34m,\u001b[0m\u001b[0;34m\u001b[0m\u001b[0;34m\u001b[0m\u001b[0m\n\u001b[1;32m   1481\u001b[0m           \u001b[0mnum_outputs\u001b[0m\u001b[0;34m=\u001b[0m\u001b[0mnum_outputs\u001b[0m\u001b[0;34m,\u001b[0m\u001b[0;34m\u001b[0m\u001b[0;34m\u001b[0m\u001b[0m\n",
            "\u001b[0;32m/usr/local/lib/python3.10/dist-packages/tensorflow/python/eager/execute.py\u001b[0m in \u001b[0;36mquick_execute\u001b[0;34m(op_name, num_outputs, inputs, attrs, ctx, name)\u001b[0m\n\u001b[1;32m     58\u001b[0m         \u001b[0;32mfor\u001b[0m \u001b[0mt\u001b[0m \u001b[0;32min\u001b[0m \u001b[0minputs\u001b[0m\u001b[0;34m\u001b[0m\u001b[0;34m\u001b[0m\u001b[0m\n\u001b[1;32m     59\u001b[0m     ]\n\u001b[0;32m---> 60\u001b[0;31m     tensors = pywrap_tfe.TFE_Py_Execute(ctx._handle, device_name, op_name,\n\u001b[0m\u001b[1;32m     61\u001b[0m                                         inputs, attrs, num_outputs)\n\u001b[1;32m     62\u001b[0m   \u001b[0;32mexcept\u001b[0m \u001b[0mcore\u001b[0m\u001b[0;34m.\u001b[0m\u001b[0m_NotOkStatusException\u001b[0m \u001b[0;32mas\u001b[0m \u001b[0me\u001b[0m\u001b[0;34m:\u001b[0m\u001b[0;34m\u001b[0m\u001b[0;34m\u001b[0m\u001b[0m\n",
            "\u001b[0;31mKeyboardInterrupt\u001b[0m: "
          ]
        }
      ]
    },
    {
      "cell_type": "code",
      "source": [
        "#prend une séquence de notes, volume, durées\n",
        "pattern_note = input_note[0]\n",
        "pattern_offset = input_offset[0]\n",
        "pattern_volume = input_volume[0]\n",
        "pattern_duration = input_duration[0]\n",
        "pattern_step = input_step[0]"
      ],
      "metadata": {
        "id": "S7L6Fyy1pFBa"
      },
      "execution_count": 30,
      "outputs": []
    },
    {
      "cell_type": "code",
      "source": [
        "pattern_volume"
      ],
      "metadata": {
        "colab": {
          "base_uri": "https://localhost:8080/"
        },
        "id": "eGzZVJsX2-0J",
        "outputId": "4a910c7b-ed3a-4fde-f82d-2b8ceb087111"
      },
      "execution_count": 31,
      "outputs": [
        {
          "output_type": "execute_result",
          "data": {
            "text/plain": [
              "array([90., 90., 65., 65., 44.,  0., 38., 51.,  0.,  0., 42.,  0.,  0.,\n",
              "       42.,  0.,  0., 46.,  0., 47., 53.,  0., 44., 39., 49.,  0., 42.,\n",
              "        0., 46.,  0., 44., 36., 48.,  0.,  0., 43.,  0., 44.,  0., 51.,\n",
              "        0., 39., 39., 39., 35.,  0.,  0., 37., 37., 37., 33., 46., 46.,\n",
              "       46., 40.,  0.,  0., 37., 37., 37., 33.,  0.,  0., 37., 37., 37.,\n",
              "       33.,  0.,  0., 39., 39., 39., 46.,  0.,  0., 42., 42., 42., 47.,\n",
              "       49., 49., 53.,  0.,  0., 53.,  0., 39., 39., 39., 43., 35., 35.,\n",
              "       35., 49.,  0.,  0., 44., 44., 44., 45.,  0.])"
            ]
          },
          "metadata": {},
          "execution_count": 31
        }
      ]
    },
    {
      "cell_type": "code",
      "source": [
        "# prediction time\n",
        "prediction_output = []\n",
        "\n",
        "for i in tqdm(range(200)):\n",
        "\n",
        "    #on reshape les input à prédire\n",
        "    note_prediction_input = numpy.reshape(pattern_note, (1, len(pattern_note), -1))\n",
        "    volume_prediction_input = numpy.reshape(pattern_volume, (1, len(pattern_volume), -1))\n",
        "    duration_prediction_input = numpy.reshape(pattern_duration, (1, len(pattern_duration), -1))\n",
        "    offset_prediction_input = numpy.reshape(pattern_offset, (1, len(pattern_offset), 1))\n",
        "    step_prediction_input = numpy.reshape(pattern_step, (1, len(pattern_step), 1))\n",
        "\n",
        "    #prédit ici\n",
        "    prediction = model.predict([note_prediction_input, offset_prediction_input, volume_prediction_input, duration_prediction_input], verbose=0)\n",
        "\n",
        "    # prédis la note en récupérant l'index max du softmax et en faisant la transofr inverse\n",
        "    # à partir du one hot train sur les notes\n",
        "\n",
        "    temperature = 1.0\n",
        "\n",
        "    note_softmax = prediction[0]\n",
        "    adjusted_softmax = note_softmax / temperature\n",
        "    adjusted_softmax = adjusted_softmax / np.sum(adjusted_softmax)\n",
        "    note_soft = tf.random.categorical(note_softmax, num_samples=1)[0][0]\n",
        "    notes_pred = np.zeros(len(pattern_note[0]))\n",
        "    #notes_pred[np.argmax(adjusted_softmax)] = 1\n",
        "    notes_pred[np.argmax(prediction[0])] = 1\n",
        "    #notes_pred[note_soft] = 1\n",
        "    result_note = oh_notes.inverse_transform(notes_pred.reshape(1, -1))\n",
        "    pattern_note = numpy.concatenate([pattern_note, [notes_pred]])\n",
        "    pattern_note = pattern_note[1:]\n",
        "\n",
        "    \"\"\"\n",
        "    offset_predict = prediction[1][0][0]\n",
        "    pattern_offset = numpy.concatenate([pattern_offset, prediction[1][0]])\n",
        "    pattern_offset = pattern_offset[1:]\n",
        "    \"\"\"\n",
        "    step_predict = prediction[1][0][0]\n",
        "    pattern_step = numpy.concatenate([pattern_step, prediction[1][0]])\n",
        "    pattern_step = pattern_step[1:]\n",
        "\n",
        "    # la même avec le volume\n",
        "    volume_pred = prediction[2][0]\n",
        "    pattern_volume = numpy.concatenate([pattern_volume, volume_pred])\n",
        "    pattern_volume = pattern_volume[1:]\n",
        "\n",
        "    # la même avec la durée\n",
        "    duration_pred = prediction[3][0]\n",
        "    pattern_duration = numpy.concatenate([pattern_duration, duration_pred])\n",
        "    pattern_duration = pattern_duration[1:]\n",
        "\n",
        "\n",
        "    #on ajoute la note, le volyme et la durée\n",
        "    prediction_output.append([result_note[0][0], step_predict, volume_pred[0], duration_pred[0]])\n"
      ],
      "metadata": {
        "colab": {
          "base_uri": "https://localhost:8080/"
        },
        "id": "1C2Vt-MH0nm_",
        "outputId": "19e04d23-2c25-4d45-8a32-bf522bcce066"
      },
      "execution_count": 32,
      "outputs": [
        {
          "output_type": "stream",
          "name": "stderr",
          "text": [
            "100%|██████████| 200/200 [01:17<00:00,  2.57it/s]\n"
          ]
        }
      ]
    },
    {
      "cell_type": "code",
      "source": [
        "prediction_output"
      ],
      "metadata": {
        "colab": {
          "base_uri": "https://localhost:8080/"
        },
        "id": "PD7StEvwxzXl",
        "outputId": "065a401d-f106-41ea-9b9b-72215e20519a"
      },
      "execution_count": 33,
      "outputs": [
        {
          "output_type": "execute_result",
          "data": {
            "text/plain": [
              "[['REST', 0.22386637, 1.0, 1.0],\n",
              " ['G#3', 0.66811013, 1.0, 1.0],\n",
              " ['B-3', 1.776645, 1.0, 1.0],\n",
              " ['B-3', 1.6350513, 1.0, 1.0],\n",
              " ['D5', 0.943339, 1.0, 1.0],\n",
              " ['B-3', 2.162192, 1.0, 1.0],\n",
              " ['B-2', 2.1089406, 1.0, 1.0],\n",
              " ['B-3', 1.5930723, 1.0, 1.0],\n",
              " ['B-3', 1.3491198, 1.0, 1.0],\n",
              " ['B-3', 1.5359036, 1.0, 1.0],\n",
              " ['B-4', 1.0302701, 1.0, 1.0],\n",
              " ['D5', 1.8756928, 1.0, 1.0],\n",
              " ['B-3', 1.3154297, 1.0, 1.0],\n",
              " ['A3', 1.2519398, 1.0, 1.0],\n",
              " ['B-3', 1.0387037, 1.0, 1.0],\n",
              " ['B-3', 1.1741891, 1.0, 1.0],\n",
              " ['B-3', 1.0284901, 1.0, 1.0],\n",
              " ['B-3', 0.8946203, 1.0, 1.0],\n",
              " ['B-4', 0.65488887, 1.0, 1.0],\n",
              " ['D5', 1.4257023, 1.0, 1.0],\n",
              " ['B-3', 0.84317386, 1.0, 1.0],\n",
              " ['B-3', 1.0127001, 1.0, 1.0],\n",
              " ['B-3', 0.66628873, 1.0, 1.0],\n",
              " ['B-3', 0.83090985, 1.0, 1.0],\n",
              " ['B-3', 0.86165154, 1.0, 1.0],\n",
              " ['B-3', 0.845479, 1.0, 1.0],\n",
              " ['B-4', 0.78490984, 1.0, 1.0],\n",
              " ['E-5', 1.44296, 1.0, 1.0],\n",
              " ['B-3', 1.299225, 1.0, 1.0],\n",
              " ['B-3', 1.0615107, 1.0, 1.0],\n",
              " ['B-4', 0.66621137, 1.0, 1.0],\n",
              " ['D5', 1.2412536, 1.0, 1.0],\n",
              " ['B-3', 0.8002142, 1.0, 1.0],\n",
              " ['B-3', 1.2742503, 1.0, 1.0],\n",
              " ['B-3', 0.8847693, 1.0, 1.0],\n",
              " ['B-3', 1.0106096, 1.0, 1.0],\n",
              " ['B-3', 0.99763167, 1.0, 1.0],\n",
              " ['B-3', 0.99960494, 1.0, 1.0],\n",
              " ['B-3', 0.96416795, 1.0, 1.0],\n",
              " ['B-3', 1.0660316, 1.0, 1.0],\n",
              " ['B-4', 0.9337045, 1.0, 1.0],\n",
              " ['E-5', 1.4428322, 1.0, 1.0],\n",
              " ['B-3', 1.182102, 1.0, 1.0],\n",
              " ['B-3', 1.1522586, 1.0, 1.0],\n",
              " ['B-3', 0.7663045, 1.0, 1.0],\n",
              " ['B-3', 0.8551595, 1.0, 1.0],\n",
              " ['B-4', 0.9833385, 1.0, 1.0],\n",
              " ['E-5', 1.4101932, 1.0, 1.0],\n",
              " ['B-3', 0.864954, 1.0, 1.0],\n",
              " ['B-3', 1.1620446, 1.0, 1.0],\n",
              " ['B-3', 0.7453451, 1.0, 1.0],\n",
              " ['B-3', 0.79224, 1.0, 1.0],\n",
              " ['B-3', 0.9672121, 1.0, 1.0],\n",
              " ['B-3', 1.1345984, 1.0, 1.0],\n",
              " ['B-4', 0.9285563, 1.0, 1.0],\n",
              " ['E-5', 1.4423954, 1.0, 1.0],\n",
              " ['B-3', 1.0003923, 1.0, 1.0],\n",
              " ['B-3', 1.1038522, 1.0, 1.0],\n",
              " ['B-3', 0.6897932, 1.0, 1.0],\n",
              " ['B-3', 0.85608494, 1.0, 1.0],\n",
              " ['B-3', 0.9863944, 1.0, 1.0],\n",
              " ['B-3', 1.119319, 1.0, 1.0],\n",
              " ['B-4', 0.92436016, 1.0, 1.0],\n",
              " ['E-5', 1.4424057, 1.0, 1.0],\n",
              " ['B-3', 0.97105515, 1.0, 1.0],\n",
              " ['B-3', 1.0990983, 1.0, 1.0],\n",
              " ['B-3', 0.6929493, 1.0, 1.0],\n",
              " ['B-3', 0.8529998, 1.0, 1.0],\n",
              " ['B-3', 0.9862257, 1.0, 1.0],\n",
              " ['B-3', 1.1190948, 1.0, 1.0],\n",
              " ['B-4', 0.9231367, 1.0, 1.0],\n",
              " ['E-5', 1.4407457, 1.0, 1.0],\n",
              " ['B-3', 0.9635345, 1.0, 1.0],\n",
              " ['B-3', 1.0956233, 1.0, 1.0],\n",
              " ['B-3', 0.69113934, 1.0, 1.0],\n",
              " ['B-3', 0.8519403, 1.0, 1.0],\n",
              " ['B-3', 0.9851452, 1.0, 1.0],\n",
              " ['B-3', 1.1180618, 1.0, 1.0],\n",
              " ['B-4', 0.92216957, 1.0, 1.0],\n",
              " ['E-5', 1.4412462, 1.0, 1.0],\n",
              " ['B-3', 0.96231234, 1.0, 1.0],\n",
              " ['B-3', 1.0953737, 1.0, 1.0],\n",
              " ['B-3', 0.6891639, 1.0, 1.0],\n",
              " ['B-3', 0.8523743, 1.0, 1.0],\n",
              " ['B-3', 0.9850595, 1.0, 1.0],\n",
              " ['B-3', 1.1180272, 1.0, 1.0],\n",
              " ['B-4', 0.92189443, 1.0, 1.0],\n",
              " ['E-5', 1.4418544, 1.0, 1.0],\n",
              " ['B-3', 0.9624995, 1.0, 1.0],\n",
              " ['B-3', 1.0953958, 1.0, 1.0],\n",
              " ['B-3', 0.68798184, 1.0, 1.0],\n",
              " ['B-3', 0.85341907, 1.0, 1.0],\n",
              " ['B-3', 0.9840003, 1.0, 1.0],\n",
              " ['B-3', 1.1179048, 1.0, 1.0],\n",
              " ['B-4', 0.92130756, 1.0, 1.0],\n",
              " ['E-5', 1.4421648, 1.0, 1.0],\n",
              " ['B-3', 0.9625373, 1.0, 1.0],\n",
              " ['B-3', 1.095394, 1.0, 1.0],\n",
              " ['B-3', 0.68817556, 1.0, 1.0],\n",
              " ['B-3', 0.72670317, 1.0, 1.0],\n",
              " ['B-3', 1.0994008, 1.0, 1.0],\n",
              " ['B-3', 1.1180764, 1.0, 1.0],\n",
              " ['B-4', 1.0080061, 1.0, 1.0],\n",
              " ['E-5', 1.44267, 1.0, 1.0],\n",
              " ['B-3', 1.039132, 1.0, 1.0],\n",
              " ['B-3', 1.0955096, 1.0, 1.0],\n",
              " ['B-3', 0.7992984, 1.0, 1.0],\n",
              " ['B-3', 0.85449183, 1.0, 1.0],\n",
              " ['B-3', 1.0994079, 1.0, 1.0],\n",
              " ['B-3', 1.1180589, 1.0, 1.0],\n",
              " ['B-4', 1.0079491, 1.0, 1.0],\n",
              " ['E-5', 1.4426912, 1.0, 1.0],\n",
              " ['B-3', 1.0391477, 1.0, 1.0],\n",
              " ['B-3', 1.0954902, 1.0, 1.0],\n",
              " ['B-3', 0.79932344, 1.0, 1.0],\n",
              " ['B-3', 0.8544861, 1.0, 1.0],\n",
              " ['B-3', 1.0994072, 1.0, 1.0],\n",
              " ['B-3', 1.1180476, 1.0, 1.0],\n",
              " ['B-4', 1.0079266, 1.0, 1.0],\n",
              " ['E-5', 1.4426794, 1.0, 1.0],\n",
              " ['B-3', 1.0391508, 1.0, 1.0],\n",
              " ['B-3', 1.0954858, 1.0, 1.0],\n",
              " ['B-3', 0.79932666, 1.0, 1.0],\n",
              " ['B-3', 0.8544847, 1.0, 1.0],\n",
              " ['B-3', 1.0993898, 1.0, 1.0],\n",
              " ['B-3', 1.1180296, 1.0, 1.0],\n",
              " ['B-4', 1.0079191, 1.0, 1.0],\n",
              " ['E-5', 1.44268, 1.0, 1.0],\n",
              " ['B-3', 1.0391574, 1.0, 1.0],\n",
              " ['B-3', 1.0954927, 1.0, 1.0],\n",
              " ['B-3', 0.7992852, 1.0, 1.0],\n",
              " ['B-3', 0.8544909, 1.0, 1.0],\n",
              " ['B-3', 1.0994064, 1.0, 1.0],\n",
              " ['B-3', 1.1180722, 1.0, 1.0],\n",
              " ['B-4', 1.0080205, 1.0, 1.0],\n",
              " ['E-5', 1.4426898, 1.0, 1.0],\n",
              " ['B-3', 1.039141, 1.0, 1.0],\n",
              " ['B-3', 1.0954934, 1.0, 1.0],\n",
              " ['B-3', 0.79931545, 1.0, 1.0],\n",
              " ['B-3', 0.85445976, 1.0, 1.0],\n",
              " ['B-3', 1.0993537, 1.0, 1.0],\n",
              " ['B-3', 1.1180516, 1.0, 1.0],\n",
              " ['B-4', 1.0080085, 1.0, 1.0],\n",
              " ['E-5', 1.4426781, 1.0, 1.0],\n",
              " ['B-3', 1.039137, 1.0, 1.0],\n",
              " ['B-3', 1.0955114, 1.0, 1.0],\n",
              " ['B-3', 0.7992773, 1.0, 1.0],\n",
              " ['B-3', 0.85448456, 1.0, 1.0],\n",
              " ['B-3', 1.0994076, 1.0, 1.0],\n",
              " ['B-3', 1.1180682, 1.0, 1.0],\n",
              " ['B-4', 1.0080085, 1.0, 1.0],\n",
              " ['E-5', 1.4426781, 1.0, 1.0],\n",
              " ['B-3', 1.039137, 1.0, 1.0],\n",
              " ['B-3', 1.0955114, 1.0, 1.0],\n",
              " ['B-3', 0.7992773, 1.0, 1.0],\n",
              " ['B-3', 0.85448456, 1.0, 1.0],\n",
              " ['B-3', 1.0994076, 1.0, 1.0],\n",
              " ['B-3', 1.1180682, 1.0, 1.0],\n",
              " ['B-4', 1.0080085, 1.0, 1.0],\n",
              " ['E-5', 1.4426781, 1.0, 1.0],\n",
              " ['B-3', 1.039137, 1.0, 1.0],\n",
              " ['B-3', 1.0955114, 1.0, 1.0],\n",
              " ['B-3', 0.7992773, 1.0, 1.0],\n",
              " ['B-3', 0.85448456, 1.0, 1.0],\n",
              " ['B-3', 1.0994076, 1.0, 1.0],\n",
              " ['B-3', 1.1180682, 1.0, 1.0],\n",
              " ['B-4', 1.0080085, 1.0, 1.0],\n",
              " ['E-5', 1.4426781, 1.0, 1.0],\n",
              " ['B-3', 1.039137, 1.0, 1.0],\n",
              " ['B-3', 1.0955114, 1.0, 1.0],\n",
              " ['B-3', 0.7992773, 1.0, 1.0],\n",
              " ['B-3', 0.85448456, 1.0, 1.0],\n",
              " ['B-3', 1.0994076, 1.0, 1.0],\n",
              " ['B-3', 1.1180682, 1.0, 1.0],\n",
              " ['B-4', 1.0080085, 1.0, 1.0],\n",
              " ['E-5', 1.4426781, 1.0, 1.0],\n",
              " ['B-3', 1.039137, 1.0, 1.0],\n",
              " ['B-3', 1.0955114, 1.0, 1.0],\n",
              " ['B-3', 0.7992773, 1.0, 1.0],\n",
              " ['B-3', 0.85448456, 1.0, 1.0],\n",
              " ['B-3', 1.0994076, 1.0, 1.0],\n",
              " ['B-3', 1.1180682, 1.0, 1.0],\n",
              " ['B-4', 1.0080085, 1.0, 1.0],\n",
              " ['E-5', 1.4426781, 1.0, 1.0],\n",
              " ['B-3', 1.039137, 1.0, 1.0],\n",
              " ['B-3', 1.0955114, 1.0, 1.0],\n",
              " ['B-3', 0.7992773, 1.0, 1.0],\n",
              " ['B-3', 0.85448456, 1.0, 1.0],\n",
              " ['B-3', 1.0994076, 1.0, 1.0],\n",
              " ['B-3', 1.1180682, 1.0, 1.0],\n",
              " ['B-4', 1.0080085, 1.0, 1.0],\n",
              " ['E-5', 1.4426781, 1.0, 1.0],\n",
              " ['B-3', 1.039137, 1.0, 1.0],\n",
              " ['B-3', 1.0955114, 1.0, 1.0],\n",
              " ['B-3', 0.7992773, 1.0, 1.0],\n",
              " ['B-3', 0.85448456, 1.0, 1.0],\n",
              " ['B-3', 1.0994076, 1.0, 1.0],\n",
              " ['B-3', 1.1180682, 1.0, 1.0],\n",
              " ['B-4', 1.0080085, 1.0, 1.0],\n",
              " ['E-5', 1.4426781, 1.0, 1.0]]"
            ]
          },
          "metadata": {},
          "execution_count": 33
        }
      ]
    },
    {
      "cell_type": "code",
      "source": [
        "from music21.duration import Duration\n"
      ],
      "metadata": {
        "id": "91w43lwl5urg"
      },
      "execution_count": null,
      "outputs": []
    },
    {
      "cell_type": "code",
      "source": [
        "offset = 0\n",
        "output_notes = []\n",
        "# on passes des prédicitons à un format écoutable à l'oreille\n",
        "\n",
        "prev_start = 0\n",
        "# pour chaque note prédite\n",
        "for note_p in prediction_output:\n",
        "    pattern = note_p[0]\n",
        "    # si note = chord\n",
        "    if ('+' in pattern) or pattern.isdigit():\n",
        "        notes_in_chord = pattern.split('+')\n",
        "        notes = []\n",
        "        for current_note in notes_in_chord:\n",
        "            new_note = note.Note(int(current_note))\n",
        "            new_note.storedInstrument = instrument.Piano()\n",
        "            notes.append(new_note)\n",
        "        new_chord = chord.Chord(notes)\n",
        "        new_chord.offset = prev_start + note_p[1]\n",
        "        # met le volume associé\n",
        "        new_chord.volume.velocity = note_p[2]\n",
        "        # met la durée associée\n",
        "        new_chord.duration = Duration(note_p[3])\n",
        "        output_notes.append(new_chord)\n",
        "    # si note est un rest\n",
        "    elif('REST'in pattern):\n",
        "      note_rest = note.Rest()\n",
        "      note_rest.offset = prev_start + note_p[1]\n",
        "      # durée associée (pas de volume car silencieux)\n",
        "      note_rest.duration = Duration(note_p[3])\n",
        "      output_notes.append(note_rest)\n",
        "    else:\n",
        "        new_note = note.Note(pattern)\n",
        "        new_note.offset = prev_start + note_p[1]\n",
        "        new_note.volume.velocity = note_p[2]\n",
        "        new_note.duration = Duration(note_p[3])\n",
        "        new_note.storedInstrument = instrument.Piano()\n",
        "        output_notes.append(new_note)\n",
        "    prev_start = prev_start + note_p[1]\n",
        "    # increase offset each iteration so that notes do not stack\n",
        "    #offset += 0.5"
      ],
      "metadata": {
        "id": "BxktumUV0H22"
      },
      "execution_count": null,
      "outputs": []
    },
    {
      "cell_type": "code",
      "source": [
        "#into midi\n",
        "midi_stream = stream.Stream(output_notes)\n",
        "midi_stream.write('midi', fp='test_outputminecraft6.mid')"
      ],
      "metadata": {
        "colab": {
          "base_uri": "https://localhost:8080/",
          "height": 36
        },
        "id": "I5W_QMyyn7BA",
        "outputId": "9efcffc9-72dd-4a0b-df93-e9d6600f7889"
      },
      "execution_count": null,
      "outputs": [
        {
          "output_type": "execute_result",
          "data": {
            "text/plain": [
              "'test_outputminecraft6.mid'"
            ],
            "application/vnd.google.colaboratory.intrinsic+json": {
              "type": "string"
            }
          },
          "metadata": {},
          "execution_count": 32
        }
      ]
    }
  ]
}